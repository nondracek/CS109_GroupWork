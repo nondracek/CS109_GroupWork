{
 "cells": [
  {
   "cell_type": "code",
   "execution_count": null,
   "metadata": {
    "collapsed": true
   },
   "outputs": [],
   "source": [
    "%matplotlib inline\n",
    "import functools\n",
    "import numpy as np\n",
    "import scipy as sp\n",
    "import matplotlib as mpl\n",
    "import matplotlib.cm as cm\n",
    "import matplotlib.pyplot as plt\n",
    "import pandas as pd\n",
    "import time\n",
    "pd.set_option('display.width', 500)\n",
    "pd.set_option('display.max_columns', 100)\n",
    "pd.set_option('display.notebook_repr_html', True)\n",
    "import seaborn as sns\n",
    "sns.set_style(\"whitegrid\")\n",
    "sns.set_context(\"poster\")\n",
    "import requests\n",
    "from bs4 import BeautifulSoup\n",
    "from IPython.display import IFrame, HTML\n",
    "import time"
   ]
  },
  {
   "cell_type": "code",
   "execution_count": null,
   "metadata": {
    "collapsed": true
   },
   "outputs": [],
   "source": [
    "with open(\"data/artistinfo.json\") as json_file:\n",
    "    urlcache = json.load(json_file)"
   ]
  },
  {
   "cell_type": "code",
   "execution_count": null,
   "metadata": {
    "collapsed": true
   },
   "outputs": [],
   "source": [
    "def singer_band_info (url, page_text):\n",
    "    soup = BeautifulSoup(page_text, 'html.parser')\n",
    "    # Find the table with class-types 'sortable' and 'wikitable'\n",
    "    dfinder = lambda tag: tag.name=='table' and tag.get('class') == ['wikitable', 'sortable']\n",
    "    table_songs = soup.find_all(dfinder)\n",
    "    # Extract rows from table_demographics\n",
    "    rows = [row for row in table_songs[0].find_all(\"tr\")]"
   ]
  },
  {
   "cell_type": "code",
   "execution_count": null,
   "metadata": {
    "collapsed": true
   },
   "outputs": [],
   "source": [
    "page_text = urlcache['/wiki/Celine_Dion']\n",
    "soup = BeautifulSoup(page_text, 'html.parser')\n",
    "# Find the table with class-types 'sortable' and 'wikitable'\n",
    "dfinder = lambda tag: tag.name=='span' and tag.get('class') == ['bday']\n",
    "table_songs = soup.find_all(dfinder)\n",
    "# Extract rows from table_demographics\n",
    "#rows = [ table_songs[0].find_all(lambda tag: tag.name=='span' and tag.get('class') == ['bday'])]\n",
    "#rows.find(lambda tag: tag.name=='span' and tag.get('class') == ['bday'])\n",
    "table_songs"
   ]
  },
  {
   "cell_type": "code",
   "execution_count": null,
   "metadata": {
    "collapsed": true
   },
   "outputs": [],
   "source": [
    "page_text = urlcache['/wiki/Journey_(band)']\n",
    "soup = BeautifulSoup(page_text, 'html.parser')\n",
    "dfinder = lambda tag: tag.name=='table' and tag.get('class') == ['infobox', 'vcard', 'plainlist']\n",
    "table_songs = soup.find_all(dfinder)\n",
    "rows = [row.find('td').text for row in table_songs[0].find_all(lambda tag: tag.name=='tr' and 'Years active' in tag.text)][0]\n",
    "rows"
   ]
  }
 ],
 "metadata": {
  "kernelspec": {
   "display_name": "Python 3",
   "language": "python",
   "name": "python3"
  },
  "language_info": {
   "codemirror_mode": {
    "name": "ipython",
    "version": 3
   },
   "file_extension": ".py",
   "mimetype": "text/x-python",
   "name": "python",
   "nbconvert_exporter": "python",
   "pygments_lexer": "ipython3",
   "version": "3.6.1"
  }
 },
 "nbformat": 4,
 "nbformat_minor": 2
}
