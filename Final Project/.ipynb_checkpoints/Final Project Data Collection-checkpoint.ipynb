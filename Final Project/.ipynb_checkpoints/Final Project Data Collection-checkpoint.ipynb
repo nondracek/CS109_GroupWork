{
 "cells": [
  {
   "cell_type": "code",
   "execution_count": 1,
   "metadata": {},
   "outputs": [
    {
     "name": "stderr",
     "output_type": "stream",
     "text": [
      "/Users/nondracek/anaconda/envs/py3/lib/python3.6/site-packages/statsmodels/compat/pandas.py:56: FutureWarning: The pandas.core.datetools module is deprecated and will be removed in a future version. Please use the pandas.tseries module instead.\n",
      "  from pandas.core import datetools\n"
     ]
    }
   ],
   "source": [
    "import numpy as np\n",
    "import pandas as pd\n",
    "import matplotlib\n",
    "import matplotlib.pyplot as plt\n",
    "import sklearn.metrics as metrics\n",
    "from sklearn.model_selection import cross_val_score\n",
    "from sklearn import tree\n",
    "from sklearn.tree import DecisionTreeClassifier\n",
    "from sklearn.ensemble import RandomForestClassifier\n",
    "from sklearn.ensemble import AdaBoostClassifier\n",
    "from sklearn.linear_model import LogisticRegressionCV\n",
    "from sklearn.model_selection import GridSearchCV\n",
    "from sklearn.ensemble import VotingClassifier\n",
    "from sklearn.metrics import accuracy_score\n",
    "from sklearn.model_selection import ParameterGrid\n",
    "from sklearn.model_selection import KFold\n",
    "from sklearn.model_selection import cross_val_score\n",
    "from sklearn.model_selection import train_test_split\n",
    "from sklearn.ensemble import RandomForestRegressor\n",
    "from sklearn.metrics import r2_score\n",
    "import sys\n",
    "import spotipy\n",
    "import spotipy.util as util\n",
    "import pandas as pd\n",
    "from itertools import chain\n",
    "import statsmodels.api as sm\n",
    "from statsmodels.api import OLS\n",
    "from statsmodels.graphics import utils\n",
    "from statsmodels.tools import add_constant\n",
    "from sklearn.preprocessing import PolynomialFeatures\n",
    "from sklearn.linear_model import Ridge\n",
    "from sklearn.linear_model import Lasso\n",
    "from sklearn.linear_model import RidgeCV\n",
    "from sklearn.linear_model import LassoCV\n",
    "from sklearn.model_selection import KFold\n",
    "%matplotlib inline"
   ]
  },
  {
   "cell_type": "code",
   "execution_count": 3,
   "metadata": {},
   "outputs": [],
   "source": [
    "scope = 'user-library-read'\n",
    "\n",
    "if len(sys.argv) > 1:\n",
    "    username = sys.argv[1]\n",
    "else:\n",
    "    print (\"Usage: %s username\" % (sys.argv[0],))\n",
    "    sys.exit()\n",
    "token = util.prompt_for_user_token(username, scope, client_id='6a407cdc1f8240648308aab314888764',client_secret='0146b62fa54c4f8d97e593e42adcf7c1',redirect_uri='SpotifyData://returntoapp')\n",
    "sp = spotipy.Spotify(auth = token)"
   ]
  },
  {
   "cell_type": "code",
   "execution_count": null,
   "metadata": {
    "collapsed": true
   },
   "outputs": [],
   "source": [
    "categories = {}\n",
    "for category in sp._get('browse/categories')['categories']['items']:\n",
    "    categories[category['name']] = sp._get(category['href']+'/playlists')\n",
    "playlists = {}\n",
    "playlist = None\n",
    "for category in categories:  \n",
    "    for playlist in categories[category]['playlists']['items']:\n",
    "        playlists[playlist['name']] = sp.user_playlist(playlist['owner']['id'], playlist['id'])\n",
    "        playlists[playlist['name']]['category'] = category\n",
    "tracks = []\n",
    "exceptions = 0 \n",
    "for playlist in playlists:\n",
    "    category = playlists[playlist]['category']\n",
    "    followers = playlists[playlist]['followers']['total']\n",
    "    for track in playlists[playlist]['tracks']['items']:\n",
    "        artists = []\n",
    "        for artist in track['track']['artists']:\n",
    "            artists.append(artist['id'])\n",
    "        explicit = track['track']['explicit']\n",
    "        ID = track['track']['id']\n",
    "        name = track['track']['name']\n",
    "        popularity = track['track']['popularity']\n",
    "        info = {'name': name, 'playlist': playlist, 'followers': followers, 'category': category, 'artists': artists, 'explicit': explicit, 'id': ID, \"popularity\":popularity }\n",
    "        tracks.append(info)\n",
    "tracks = pd.DataFrame(tracks)\n",
    "tracks = tracks.dropna()"
   ]
  },
  {
   "cell_type": "code",
   "execution_count": null,
   "metadata": {},
   "outputs": [],
   "source": [
    "all_tracks = list(tracks['id'].dropna().unique())\n",
    "all_tracks_features = []\n",
    "for i in range(divmod(len(all_tracks),100)[0]):\n",
    "    all_tracks_features += sp._get('audio-features/?ids=' + ','.join(all_tracks[0 + 100*i: 100 + 100*i]))['audio_features']\n",
    "all_tracks_features += sp._get('audio-features/?ids=' + ','.join(all_tracks[-divmod(len(all_tracks),100)[1]:]))['audio_features']\n",
    "all_tracks_features = pd.DataFrame(list(filter(None.__ne__, all_tracks_features)))\n",
    "all_tracks_features = all_tracks_features.set_index('id')\n",
    "del all_tracks_features['analysis_url']\n",
    "del all_tracks_features['track_href']\n",
    "del all_tracks_features['type']\n",
    "del all_tracks_features['uri']"
   ]
  },
  {
   "cell_type": "code",
   "execution_count": null,
   "metadata": {
    "collapsed": true
   },
   "outputs": [],
   "source": [
    "all_artists = list(filter(None.__ne__, list(set(list(chain.from_iterable(tracks['artists'].values))))))\n",
    "all_artists_features = []\n",
    "for i in range(divmod(len(all_artists),50)[0]):\n",
    "    all_artists_features += sp._get('artists/?ids=' + ','.join(all_artists[0 + 50*i: 50 + 50*i]))['artists']\n",
    "all_artists_features += sp._get('artists/?ids=' + ','.join(all_artists[-divmod(len(all_artists),50)[1]:]))['artists']\n",
    "all_artists_features = pd.DataFrame(list(filter(None.__ne__, all_artists_features)))\n",
    "all_artists_features = all_artists_features.set_index('id')\n",
    "all_artists_features = all_artists_features[['followers', 'popularity']]\n",
    "all_artists_features['followers'] = all_artists_features['followers'].map(lambda x: x['total'])\n",
    "tracks = tracks.set_index('id')\n",
    "means = []\n",
    "for index, artists in enumerate(tracks['artists']):\n",
    "    mean = all_artists_features.loc[artists].mean().to_dict()\n",
    "    mean.update({'id' :tracks.index[index]})\n",
    "    means.append(mean)\n",
    "artists_info = pd.DataFrame(means)\n",
    "artists_info = artists_info.set_index('id')\n",
    "artists_info = artists_info.rename(index=str, columns={\"followers\": \"mean_artists_followers\", \"popularity\": \"mean_artists_popularity\"})"
   ]
  },
  {
   "cell_type": "code",
   "execution_count": null,
   "metadata": {
    "collapsed": true
   },
   "outputs": [],
   "source": [
    "tracks= tracks.merge( all_tracks_features, how ='left' ,left_index = True, right_index= True)\n",
    "tracks= tracks.merge(artists_info[~artists_info.index.duplicated()], how ='left' ,left_index = True, right_index= True)"
   ]
  },
  {
   "cell_type": "code",
   "execution_count": null,
   "metadata": {
    "collapsed": true
   },
   "outputs": [],
   "source": [
    "tracks_cleaned = tracks.copy()\n",
    "del tracks_cleaned['name']\n",
    "del tracks_cleaned['artists']\n",
    "tracks_cleaned['explicit'] = tracks_cleaned['explicit'].astype('int')\n",
    "tracks_cleaned = pd.get_dummies(tracks_cleaned, columns=['category', 'key', 'time_signature'])"
   ]
  },
  {
   "cell_type": "code",
   "execution_count": 8,
   "metadata": {
    "collapsed": true
   },
   "outputs": [],
   "source": [
    "playlists = tracks_cleaned.groupby('playlist').mean()\n",
    "playlists.to_csv('playlist_data.csv')\n",
    "playlists[['loudness', \"popularity\", \"followers\", \"duration_ms\", \"tempo\", \"mean_artists_followers\", \"mean_artists_popularity\"]] = (playlists[['loudness', \"popularity\", \"followers\", \"duration_ms\", \"tempo\", \"mean_artists_followers\", \"mean_artists_popularity\"]] - playlists[['loudness', \"popularity\", \"followers\", \"duration_ms\", \"tempo\", \"mean_artists_followers\", \"mean_artists_popularity\"]].min()) / (playlists[[\"loudness\", \"popularity\", \"followers\", \"duration_ms\", \"tempo\", \"mean_artists_followers\", \"mean_artists_popularity\"]].max() - playlists[['loudness',\"popularity\", \"followers\", \"duration_ms\", \"tempo\", \"mean_artists_followers\", \"mean_artists_popularity\"]].min())"
   ]
  },
  {
   "cell_type": "code",
   "execution_count": 72,
   "metadata": {
    "collapsed": true
   },
   "outputs": [],
   "source": [
    "playlists.to_csv('playlist_data_normalized.csv')"
   ]
  },
  {
   "cell_type": "code",
   "execution_count": null,
   "metadata": {
    "collapsed": true
   },
   "outputs": [],
   "source": []
  }
 ],
 "metadata": {
  "kernelspec": {
   "display_name": "Python 3",
   "language": "python",
   "name": "python3"
  },
  "language_info": {
   "codemirror_mode": {
    "name": "ipython",
    "version": 3
   },
   "file_extension": ".py",
   "mimetype": "text/x-python",
   "name": "python",
   "nbconvert_exporter": "python",
   "pygments_lexer": "ipython3",
   "version": "3.6.1"
  }
 },
 "nbformat": 4,
 "nbformat_minor": 2
}
