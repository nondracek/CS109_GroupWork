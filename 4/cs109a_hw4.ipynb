{
 "cells": [
  {
   "cell_type": "markdown",
   "metadata": {},
   "source": [
    "# CS 109A/STAT 121A/AC 209A/CSCI E-109A: Homework 4\n",
    "# Regularization, High Dimensionality, PCA\n",
    "\n",
    "\n",
    "**Harvard University**<br/>\n",
    "**Fall 2017**<br/>\n",
    "**Instructors**: Pavlos Protopapas, Kevin Rader, Rahul Dave, Margo Levine\n",
    "\n",
    "---\n",
    "\n",
    "### INSTRUCTIONS\n",
    "\n",
    "- To submit your assignment follow the instructions given in canvas.\n",
    "- Restart the kernel and run the whole notebook again before you submit. \n",
    "- Do not include your name(s) in the notebook even if you are submitting as a group. \n",
    "- If you submit individually and you have worked with someone, please include the name of your [one] partner below. \n",
    "\n",
    "---"
   ]
  },
  {
   "cell_type": "markdown",
   "metadata": {},
   "source": [
    "Your partner's name (if you submit separately):\n",
    "\n",
    "Enrollment Status (109A, 121A, 209A, or E109A): 109A"
   ]
  },
  {
   "cell_type": "markdown",
   "metadata": {},
   "source": [
    "Import libraries:"
   ]
  },
  {
   "cell_type": "code",
   "execution_count": 589,
   "metadata": {
    "collapsed": true
   },
   "outputs": [],
   "source": [
    "import numpy as np\n",
    "import pandas as pd\n",
    "import matplotlib\n",
    "import matplotlib.pyplot as plt\n",
    "from sklearn.metrics import r2_score\n",
    "import statsmodels.api as sm\n",
    "from statsmodels.api import OLS\n",
    "from sklearn.preprocessing import PolynomialFeatures\n",
    "from sklearn.linear_model import Ridge\n",
    "from sklearn.linear_model import Lasso\n",
    "from sklearn.linear_model import RidgeCV\n",
    "from sklearn.linear_model import LassoCV\n",
    "from sklearn.model_selection import KFold\n",
    "from sklearn.decomposition import PCA\n",
    "from sklearn.model_selection import train_test_split\n",
    "import warnings\n",
    "warnings.filterwarnings('ignore')\n",
    "%matplotlib inline\n",
    "\n",
    "import seaborn as sns\n",
    "pd.set_option('display.width', 1500)\n",
    "pd.set_option('display.max_columns', 100)\n",
    "\n",
    "sns.set_context('poster')"
   ]
  },
  {
   "cell_type": "markdown",
   "metadata": {},
   "source": [
    "# Continuing Bike Sharing Usage Data\n",
    "\n",
    "In this homework, we will focus on multiple linear regression, regularization, dealing with high dimensionality, and PCA. We will continue to build regression models for the Capital Bikeshare program in Washington D.C.  See Homework 3 for more information about the data.\n",
    "\n",
    "*Note: please make sure you use all the processed data from HW 3 Part (a)...you make want to save the data set on your computer and reread the csv/json file here.\n"
   ]
  },
  {
   "cell_type": "code",
   "execution_count": 638,
   "metadata": {
    "collapsed": true
   },
   "outputs": [],
   "source": [
    "# FROM HW3 READING IN DATA AND CLEANING IT\n",
    "train = pd.read_csv('Bikeshare_train.csv', index_col=0)\n",
    "test = pd.read_csv('Bikeshare_test.csv', index_col=0)\n",
    "\n",
    "# list of all categorical variables and lables for them\n",
    "cat_preds = ['season', 'month', 'day_of_week', 'weather']\n",
    "labels = [['summer', 'fall', 'winter'],['Feb', 'Mar', 'Apr', 'May', 'Jun', 'Jul','Aug','Sep','Oct','Nov','Dec'], \n",
    "          ['mon', 'tue', 'wed','thu', 'fri','sat'], ['cloud', 'light']]\n",
    "\n",
    "# loop through categorical variables and convert to one-hot encoding\n",
    "for i,pred in enumerate(cat_preds): \n",
    "    dum = pd.get_dummies(train[pred])\n",
    "    del dum [1]\n",
    "    dum.columns = labels[i]\n",
    "    train = train.join(dum)\n",
    "    del train[pred]\n",
    "\n",
    "# Repeat the same process for test data\n",
    "for i,pred in enumerate(cat_preds): \n",
    "    dum = pd.get_dummies(test[pred])\n",
    "    del dum [1]\n",
    "    dum.columns = labels[i]\n",
    "    test = test.join(dum)\n",
    "    del test[pred]\n",
    "    \n",
    "# Mean and STD of continuous preidctors based on trainig set\n",
    "temp_std = train['temp'].std(axis = 0)\n",
    "temp_mean = train['temp'].mean(axis = 0)\n",
    "atemp_std = train['atemp'].std(axis = 0)\n",
    "atemp_mean = train['atemp'].mean(axis = 0)\n",
    "humidity_std = train['humidity'].std(axis = 0)\n",
    "humidity_mean = train['humidity'].mean(axis = 0)\n",
    "wind_std = train['windspeed'].std(axis = 0)\n",
    "wind_mean = train['windspeed'].mean(axis = 0)\n",
    "\n",
    "# normalize training data\n",
    "train['temp'] = (train['temp'] - temp_mean) / temp_std\n",
    "train['atemp'] = (train['atemp'] - atemp_mean) / atemp_std\n",
    "train['humidity'] = (train['humidity'] - humidity_mean) / humidity_std\n",
    "train['windspeed'] = (train['windspeed'] - wind_mean) / wind_std\n",
    "# normalize test data\n",
    "test['temp'] = (test['temp'] - temp_mean) / temp_std\n",
    "test['atemp'] = (test['atemp'] - atemp_mean) / atemp_std\n",
    "test['humidity'] = (test['humidity'] - humidity_mean) / humidity_std\n",
    "test['windspeed'] = (test['windspeed'] - wind_mean) / wind_std"
   ]
  },
  {
   "cell_type": "markdown",
   "metadata": {},
   "source": [
    "## Part (f): Regularization/Penalization Methods\n",
    "\n",
    "As an alternative to selecting a subset of predictors and fitting a regression model on the subset, one can fit a linear regression model on all predictors, but shrink or regularize the coefficient estimates to make sure that the model does not \"overfit\" the training set. \n",
    "\n",
    "Use the following regularization techniques to fit linear models to the training set:\n",
    "- Ridge regression\n",
    "- Lasso regression\n",
    "    \n",
    "You may choose the shrikage parameter $\\lambda$ from the set $\\{10^{-5}, 10^{-4},...,10^{4},10^{5}\\}$ using cross-validation. In each case, \n",
    "\n",
    "- How do the estimated coefficients compare to or differ from the coefficients estimated by a plain linear regression (without shrikage penalty) in Part (b) fropm HW 3? Is there a difference between coefficients estimated by the two shrinkage methods? If so, give an explantion for the difference.\n",
    "- List the predictors that are assigned a coefficient value close to 0 (say < 1e-10) by the two methods. How closely do these predictors match the redundant predictors (if any) identified in Part (c) from HW 3?\n",
    "- Is there a difference in the way Ridge and Lasso regression assign coefficients to the predictors `temp` and `atemp`? If so, explain the reason for the difference.\n",
    "\n",
    "We next analyze the performance of the two shrinkage methods for different training sample sizes:\n",
    "- Generate random samples of sizes 100, 150, ..., 400 from the training set. You may use the following code to draw a random sample of a specified size from the training set:"
   ]
  },
  {
   "cell_type": "code",
   "execution_count": 639,
   "metadata": {
    "collapsed": true
   },
   "outputs": [],
   "source": [
    "#--------  sample\n",
    "# A function to select a random sample of size k from the training set\n",
    "# Input: \n",
    "#      x (n x d array of predictors in training data)\n",
    "#      y (n x 1 array of response variable vals in training data)\n",
    "#      k (size of sample) \n",
    "# Return: \n",
    "#      chosen sample of predictors and responses\n",
    "\n",
    "def sample(x, y, k):\n",
    "    n = x.shape[0] # No. of training points\n",
    "    \n",
    "    # Choose random indices of size 'k'\n",
    "    subset_ind = np.random.choice(np.arange(n), k)\n",
    "    \n",
    "    # Get predictors and reponses with the indices\n",
    "    x_subset = x[subset_ind, :]\n",
    "    y_subset = y[subset_ind]\n",
    "    \n",
    "    return (x_subset, y_subset)"
   ]
  },
  {
   "cell_type": "markdown",
   "metadata": {},
   "source": [
    "- Fit linear, Ridge and Lasso regression models to each of the generated sample. In each case, compute the $R^2$ score for the model on the training sample on which it was fitted, and on the test set.\n",
    "- Repeat the above experiment for 10 random trials/splits, and compute the average train and test $R^2$ across the trials for each training sample size. Also, compute the standard deviation (SD) in each case.\n",
    "- Make a plot of the mean training $R^2$ scores for the linear, Ridge and Lasso regression methods as a function of the training sample size. Also, show a confidence interval for the mean scores extending from **mean - SD** to **mean + SD**. Make a similar plot for the test $R^2$ scores.\n",
    "\n",
    "How do the training and test $R^2$ scores compare for the three methods? Give an explanation for your observations. How do the confidence intervals for the estimated $R^2$ change with training sample size? Based on the plots, which of the three methods would you recommend when one needs to fit a regression model using a small training sample?\n",
    "\n",
    "*Hint:* You may use `sklearn`'s `RidgeCV` and `LassoCV` classes to implement Ridge and Lasso regression. These classes automatically perform cross-validation to tune the parameter $\\lambda$ from a given range of values. You may use the `plt.errorbar` function to plot confidence bars for the average $R^2$ scores."
   ]
  },
  {
   "cell_type": "code",
   "execution_count": 640,
   "metadata": {},
   "outputs": [
    {
     "name": "stdout",
     "output_type": "stream",
     "text": [
      "Ridge\n",
      "Best alpha by cross-validation is 10.0\n",
      "With an R^2 score of 0.588236\n"
     ]
    },
    {
     "data": {
      "text/plain": [
       "[('holiday', 190.28648060467094),\n",
       " ('workingday', 892.31877511641574),\n",
       " ('temp', 591.26042368087019),\n",
       " ('atemp', 439.77437453706375),\n",
       " ('humidity', -612.31877634960415),\n",
       " ('windspeed', -266.39881746252854),\n",
       " ('summer', 735.00996494291337),\n",
       " ('fall', 724.82079895252139),\n",
       " ('winter', 1092.5593870564796),\n",
       " ('Feb', 88.599016802005394),\n",
       " ('Mar', 401.42104591236296),\n",
       " ('Apr', 476.76004988645974),\n",
       " ('May', 314.05647793012207),\n",
       " ('Jun', -79.329032239740229),\n",
       " ('Jul', -320.46635009341713),\n",
       " ('Aug', 35.653263521271299),\n",
       " ('Sep', 878.077883132593),\n",
       " ('Oct', 779.18670771912889),\n",
       " ('Nov', 291.12455560640069),\n",
       " ('Dec', 53.820500860826996),\n",
       " ('mon', 607.11133583921026),\n",
       " ('tue', 62.197794983920062),\n",
       " ('wed', 305.48790358012155),\n",
       " ('thu', 192.50459950222688),\n",
       " ('fri', 145.99203044757559),\n",
       " ('sat', 970.34384503404215),\n",
       " ('cloud', 128.8236745771826),\n",
       " ('light', -575.7805625601361),\n",
       " ('Constant', 2660.06043659434)]"
      ]
     },
     "execution_count": 640,
     "metadata": {},
     "output_type": "execute_result"
    }
   ],
   "source": [
    "alphaOps = [.00001, .0001, .001, .01, .1, 1, 10, 100, 1000, 10000, 100000]\n",
    "y = train_set['count']\n",
    "x = list(train_set.columns)\n",
    "x.remove('count')\n",
    "X = sm.add_constant(train_set[x])\n",
    "X_test = sm.add_constant(test_set[x])\n",
    "model = RidgeCV(alphas=alphaOps, fit_intercept=False).fit(X, y)\n",
    "r2 = model.score(X_test, test_set['count'])\n",
    "print('Ridge')\n",
    "print('Best alpha by cross-validation is',model.alpha_)\n",
    "print('With an R^2 score of %f'%r2)\n",
    "coefs = []\n",
    "# for pretty printing of coefficients and names\n",
    "for param in range(len(x)):\n",
    "    coefs.append((x[param], model.coef_[param + 1]))\n",
    "coefs.append(('Constant', model.coef_[0]))\n",
    "coefs "
   ]
  },
  {
   "cell_type": "code",
   "execution_count": 641,
   "metadata": {},
   "outputs": [
    {
     "name": "stdout",
     "output_type": "stream",
     "text": [
      "Lasso\n",
      "Best alpha by cross-validation is 10.0\n",
      "With an R^2 score of 0.573091\n"
     ]
    },
    {
     "data": {
      "text/plain": [
       "[('holiday', -105.26541702614622),\n",
       " ('workingday', 275.94040411716821),\n",
       " ('temp', 860.06836566139373),\n",
       " ('atemp', 247.91089162027987),\n",
       " ('humidity', -560.26351425291386),\n",
       " ('windspeed', -259.25749895205627),\n",
       " ('summer', 731.30491379633929),\n",
       " ('fall', 446.89710026836985),\n",
       " ('winter', 998.67770566510274),\n",
       " ('Feb', -0.0),\n",
       " ('Mar', 251.68672976921627),\n",
       " ('Apr', 283.48231902636257),\n",
       " ('May', 0.0),\n",
       " ('Jun', -229.20090993738194),\n",
       " ('Jul', -469.08846880129641),\n",
       " ('Aug', -0.0),\n",
       " ('Sep', 955.40687090638255),\n",
       " ('Oct', 768.90690825539218),\n",
       " ('Nov', 168.20692169174234),\n",
       " ('Dec', -0.0),\n",
       " ('mon', -0.0),\n",
       " ('tue', -0.0),\n",
       " ('wed', 166.04978968242904),\n",
       " ('thu', 7.6874828534301907),\n",
       " ('fri', 0.0),\n",
       " ('sat', 414.73263944538132),\n",
       " ('cloud', -6.8311169614631764),\n",
       " ('light', -1083.9427706381966),\n",
       " ('Constant', 3664.2354919960489)]"
      ]
     },
     "execution_count": 641,
     "metadata": {},
     "output_type": "execute_result"
    }
   ],
   "source": [
    "alphaOps = [.00001, .0001, .001, .01, .1, 1, 10, 100, 1000, 10000, 100000]\n",
    "model = LassoCV(alphas=alphaOps, fit_intercept=False).fit(X, y)\n",
    "r2 = model.score(X_test, test_set['count'])\n",
    "print('Lasso')\n",
    "print('Best alpha by cross-validation is',model.alpha_)\n",
    "print('With an R^2 score of %f'%r2)\n",
    "coefs = []\n",
    "for param in range(len(x)):\n",
    "    coefs.append((x[param], model.coef_[param + 1]))\n",
    "coefs.append(('Constant', model.coef_[0]))\n",
    "coefs "
   ]
  },
  {
   "cell_type": "code",
   "execution_count": 642,
   "metadata": {
    "collapsed": true,
    "scrolled": true
   },
   "outputs": [],
   "source": [
    "y = train['count']\n",
    "y_test = test['count']\n",
    "x = list(train.columns)\n",
    "x.remove('count')\n",
    "X = train[x]\n",
    "X_test = sm.add_constant(test[x])\n",
    "columns = ['mean', 'SD', 'Test', 'Type', 'Samples']\n",
    "r2Data = []\n",
    "\n",
    "# Loop 10 trials for samples sizes between 100-400 by 50\n",
    "for num in range(100, 401, 50):\n",
    "    r2_linear_train = []\n",
    "    r2_linear_test = []\n",
    "    r2_ridge_train = []\n",
    "    r2_ridge_test = []\n",
    "    r2_lasso_train = []\n",
    "    r2_lasso_test = []\n",
    "    for i in range(10):\n",
    "        # Sample data and process for regression\n",
    "        sampleX, sampleY = sample(X.as_matrix(), y, num)\n",
    "        sampleX = sm.add_constant(sampleX)\n",
    "        \n",
    "        # Run 3 types of regression and store train and test r^2\n",
    "        model = sm.OLS(sampleY, sampleX).fit()\n",
    "        r2_linear_train.append(r2_score(y_true=sampleY, y_pred= model.predict(sampleX)))\n",
    "        r2_linear_test.append(r2_score(y_true=y_test, y_pred= model.predict(X_test)))\n",
    "        \n",
    "        model = RidgeCV(alphas=alphaOps, fit_intercept=False).fit(sampleX, sampleY)\n",
    "        r2_ridge_train.append(model.score(sampleX, sampleY))\n",
    "        r2_ridge_test.append(model.score(X_test, y_test))\n",
    "        \n",
    "        model = LassoCV(alphas=alphaOps, fit_intercept=False).fit(sampleX, sampleY)\n",
    "        r2_lasso_train.append(model.score(sampleX, sampleY))\n",
    "        r2_lasso_test.append(model.score(X_test, y_test))\n",
    "        \n",
    "    \n",
    "    r2Data += [[np.mean(r2_linear_train),np.std(r2_linear_train),0,'Linear',num],\n",
    "                [np.mean(r2_linear_test),np.std(r2_linear_test),1,'Linear',num],\n",
    "                [np.mean(r2_ridge_train),np.std(r2_ridge_train),0,'Ridge',num],\n",
    "                [np.mean(r2_ridge_test),np.std(r2_ridge_test),1,'Ridge',num],\n",
    "                [np.mean(r2_lasso_train),np.std(r2_lasso_train),0,'Lasso',num],\n",
    "                [np.mean(r2_lasso_test),np.std(r2_lasso_test),1,'Lasso',num],]\n",
    "    \n",
    "r2Data = pd.DataFrame(data = r2Data, columns = columns)"
   ]
  },
  {
   "cell_type": "code",
   "execution_count": 643,
   "metadata": {},
   "outputs": [
    {
     "data": {
      "image/png": "[encoded data removed]",
      "text/plain": [
       "<matplotlib.figure.Figure at 0x116dcb780>"
      ]
     },
     "metadata": {},
     "output_type": "display_data"
    },
    {
     "data": {
      "image/png": "[encoded data removed]",
      "text/plain": [
       "<matplotlib.figure.Figure at 0x136c00cf8>"
      ]
     },
     "metadata": {},
     "output_type": "display_data"
    },
    {
     "data": {
      "image/png": "[encoded data removed]",
      "text/plain": [
       "<matplotlib.figure.Figure at 0x136de7048>"
      ]
     },
     "metadata": {},
     "output_type": "display_data"
    }
   ],
   "source": [
    "linearData = r2Data[r2Data['Type'] == 'Linear']\n",
    "ridgeData = r2Data[r2Data['Type'] == 'Ridge']\n",
    "lassoData = r2Data[r2Data['Type'] == 'Lasso']\n",
    "\n",
    "LinTran = plt.errorbar(linearData['Samples'][linearData['Test'] == 0], linearData['mean'][linearData['Test'] == 0], \n",
    "                      linearData['SD'][linearData['Test'] == 0], c = (0.5, 0.1, 0.1), label = 'Linear Train', fmt = 'o')\n",
    "LinTest = plt.errorbar(linearData['Samples'][linearData['Test'] == 1], linearData['mean'][linearData['Test'] == 1], \n",
    "                      linearData['SD'][linearData['Test'] == 1], c = (0.99, 0.5, 0.5), label = 'Linear Test', fmt = 'o')\n",
    "plt.title('Samples VS. Linear R^2 Mean')\n",
    "plt.xlabel('# of Samples')\n",
    "plt.ylabel('R^2 Mean')\n",
    "plt.legend(handles=[LinTran, LinTest])\n",
    "plt.show()\n",
    "\n",
    "RidgeTran = plt.errorbar(ridgeData['Samples'][ridgeData['Test'] == 0], ridgeData['mean'][ridgeData['Test'] == 0], \n",
    "                        ridgeData['SD'][ridgeData['Test'] == 0], c = (0.1, 0.5, 0.1), fmt = 'o', label = 'Ridge Train')\n",
    "RidgeTest = plt.errorbar(ridgeData['Samples'][ridgeData['Test'] == 1], ridgeData['mean'][ridgeData['Test'] == 1], \n",
    "                        ridgeData['SD'][ridgeData['Test'] == 1], c = (0.6, 0.99, 0.6), fmt = 'o', label = 'Ridge Test')\n",
    "plt.title('Samples VS. Ridge R^2 Mean')\n",
    "plt.xlabel('# of Samples')\n",
    "plt.ylabel('R^2 Mean')\n",
    "plt.legend(handles=[RidgeTran, RidgeTest])\n",
    "plt.show()\n",
    "\n",
    "plt.title('Samples VS. Lasso R^2 Mean')\n",
    "plt.xlabel('# of Samples')\n",
    "plt.ylabel('R^2 Mean')\n",
    "plt.legend(handles=[LasTran, LasTest])\n",
    "LasTran = plt.errorbar(lassoData['Samples'][lassoData['Test'] == 0], lassoData['mean'][lassoData['Test'] == 0], \n",
    "             lassoData['SD'][lassoData['Test'] == 0], fmt='o', c = (0.1, 0.1, 0.99), label = 'Lasso Train')\n",
    "LasTest = plt.errorbar(lassoData['Samples'][lassoData['Test'] == 1], lassoData['mean'][lassoData['Test'] == 1], \n",
    "             lassoData['SD'][lassoData['Test'] == 1], fmt='o', c = (0.5, 0.5, 0.99), label = 'Lasso Test')\n",
    "plt.legend(handles=[LasTran, LasTest])\n",
    "plt.show()"
   ]
  },
  {
   "cell_type": "markdown",
   "metadata": {},
   "source": [
    "**How do the estimated coefficients compare to or differ from the coefficients estimated by a plain linear regression (without shrikage penalty) in Part (b) from HW 3?**\n",
    "\n",
    "The ridge regression outputed very similar estimated coefficients to the plain linear regression in Part(b) from HW3. They are not exactly the same, but negative coefficients are still negative and possitives still possitive, while the comparitave magnitude of the coeffieceints are still very comporable. However, lasso regression computes the estimated coefficients to be quite different and reduces some of them to a zero-value. This makes sense as lasso regression both uses the shrinkage parameter as well as does parameter selection and can get rid of highly correlated parameters (months and seasons for example).\n",
    "\n",
    "**Is there a difference between coefficients estimated by the two shrinkage methods? If so, give an explantion for the difference.**\n",
    " \n",
    "Obviously there is going to be a difference between the coefficients estimated by the two shrinkage methods as ridge and lasso regression use different penalty functions. On top of that, lasso regression will zero out highly correlated parameters, getting rid of redundant ones. Once some of the parameters are zeroed out, the others may change (especially magnitude) to adjust for that.\n",
    "\n",
    "**List the predictors that are assigned a coefficient value close to 0 (say < 1e-10) by the two methods. How closely do these predictors match the redundant predictors (if any) identified in Part (c) from HW 3?**\n",
    "\n",
    "The lasso regression zeroed out the following parameters: Feb, May, Aug, Dec, mon, tue, and fri. These predictors somewhat match the redundant predictors identified in Part(c) from HW3. For example, the lasso regression eliminates some of the days of the week and months of the year which were marked as redundant in Part(c) of HW3, but not all of the redundant parameters like temp and atemp.\n",
    "\n",
    "\n",
    "**Is there a difference in the way Ridge and Lasso regression assign coefficients to the predictors temp and atemp? If so, explain the reason for the difference.**\n",
    "\n",
    "Ridge regression more evenly assigns coefficients to both temp and atemp, while lasso regression favors temp over atemp by giving it a much larger coefficient. This makes sense as lasso regression will perform predictor selection whereas ridge regression does not. This shows as lasso regression favors temp over atemp, two highly correlated predictors, but ridge regression evenly splits the importance even though they're very highly correlated.\n",
    "\n",
    "**How do the training and test $R^2$ scores compare for the three methods? Give an explanation for your observations.**\n",
    "\n",
    "The training $R^2$ scores are much much high for the training data vs the test data. This makes sense in general because our predicted coefficients should work very well on the data the model was trained on but not as well on all the test data. Also, in general over the three different methods, as the number of samples increases, the train $R^2$ decreases while the test $R^2$ increases. This also makes sense because a larger training set will lead to better results on the test set as there is more data to train over, but the training $R^2$ will decrease because the predictos are being tested over a larger set (even if its just trainng data).\n",
    "\n",
    "**How do the confidence intervals for the estimated $R^2$ change with training sample size?**\n",
    "\n",
    "As the sample size increases, the estimated test $R^2$ for all three methods decreases, which makes sense as we're training over a larger set of data. On the other hand, the training $R^2$ decreases until 250 samples for all three then increases again. This also makes sense because we are testing on the same data we're training with, so we best fit the data when we have a large but not too large data set. As the data set gets too large, the predictors are worse off in general with all the training data becasue there are a large amount of points.\n",
    "\n",
    "**Based on the plots, which of the three methods would you recommend when one needs to fit a regression model using a small training sample?**\n",
    "\n",
    "The plots show that the ridge and lasso outperform the linear method, and I would choose the lasso method because the average $R^2$ on the test data with small training samples is higher than the average for the ridge method; however, the standard deviation is higher with lasso. But, I think the higher average outweights the higher standard deviation as it will be a better model on average."
   ]
  },
  {
   "cell_type": "markdown",
   "metadata": {},
   "source": [
    "## Part (g): Polynomial & Interaction Terms\n",
    "\n",
    "Moving beyond linear models, we will now try to improve the performance of the regression model in Part (b) from HW 3 by including higher-order polynomial and interaction terms. \n",
    "\n",
    "- For each continuous predictor $X_j$, include additional polynomial terms $X^2_j$, $X^3_j$, and $X^4_j$, and fit a multiple regression model to the expanded training set. How does the $R^2$ of this model on the test set compare with that of the linear model fitted in Part (b) from HW 3? Using a t-test, find out which of estimated coefficients for the polynomial terms are statistically significant at a significance level of 5%. \n",
    "\n",
    "- Fit a multiple linear regression model with additional interaction terms $\\mathbb{I}_{month = 12} \\times temp$ and $\\mathbb{I}_{workingday = 1} \\times \\mathbb{I}_{weathersit = 1}$ and report the test $R^2$ for the fitted model. How does this compare with the $R^2$ obtained using linear model in Part (b) from HW 3? Are the estimated coefficients for the interaction terms statistically significant at a significance level of 5%?"
   ]
  },
  {
   "cell_type": "code",
   "execution_count": 644,
   "metadata": {
    "collapsed": true
   },
   "outputs": [],
   "source": [
    "continuousx = ['temp', 'atemp', 'humidity', 'windspeed']\n",
    "x = list(train.columns)\n",
    "x.remove('count')\n",
    "X = train[x]\n",
    "X_test = test[x]\n",
    "\n",
    "for column in continuousx:\n",
    "    # Build Column Names\n",
    "    column2 = column + '^2'\n",
    "    column3 = column + '^3'\n",
    "    column4 = column + '^4'\n",
    "    x += [column2] + [column3] + [column4]\n",
    "    X2 = []\n",
    "    X3 = []\n",
    "    X4 = []\n",
    "    # Create new polynomial terms\n",
    "    for val in X[column]:\n",
    "        X2.append(val**2)\n",
    "        X3.append(val**3)\n",
    "        X4.append(val**4)\n",
    "    # Add new terms to data frame\n",
    "    X = X.assign(column2=X2)\n",
    "    X = X.assign(column3=X3)\n",
    "    X = X.assign(column4=X4)\n",
    "    X.columns = x\n",
    "    \n",
    "    # repeat for test \n",
    "    X2 = []\n",
    "    X3 = []\n",
    "    X4 = []\n",
    "    for val in X_test[column]:\n",
    "        X2.append(val**2)\n",
    "        X3.append(val**3)\n",
    "        X4.append(val**4)\n",
    "    X_test = X_test.assign(column2=X2)\n",
    "    X_test = X_test.assign(column3=X3)\n",
    "    X_test = X_test.assign(column4=X4)\n",
    "    X_test.columns = x"
   ]
  },
  {
   "cell_type": "code",
   "execution_count": 645,
   "metadata": {},
   "outputs": [],
   "source": [
    "X_poly_train = X \n",
    "X = sm.add_constant(X)\n",
    "X_poly_test = X_test\n",
    "X_test = sm.add_constant(X_test)\n",
    "model = sm.OLS(y, X).fit()"
   ]
  },
  {
   "cell_type": "code",
   "execution_count": 646,
   "metadata": {},
   "outputs": [
    {
     "name": "stdout",
     "output_type": "stream",
     "text": [
      "R^2 score on test set = 0.277238\n"
     ]
    }
   ],
   "source": [
    "r2_test = r2_score(y_true=test['count'], y_pred= model.predict(X_test))\n",
    "print('R^2 score on test set = %f'%r2_test)"
   ]
  },
  {
   "cell_type": "code",
   "execution_count": 647,
   "metadata": {},
   "outputs": [
    {
     "data": {
      "text/plain": [
       "[('const', 4117.0),\n",
       " ('holiday', 635.0),\n",
       " ('workingday', 1176.0),\n",
       " ('humidity', -669.0),\n",
       " ('windspeed', -447.0),\n",
       " ('fall', 1579.0),\n",
       " ('winter', 1523.0),\n",
       " ('Jun', -1456.0),\n",
       " ('Aug', -1716.0),\n",
       " ('mon', 918.0),\n",
       " ('sat', 1389.0),\n",
       " ('temp^2', -1811.0)]"
      ]
     },
     "execution_count": 647,
     "metadata": {},
     "output_type": "execute_result"
    }
   ],
   "source": [
    "# Extract all coeficients with p values below .05 and print them\n",
    "list(zip(model.pvalues[model.pvalues < .05].axes[0], np.round(model.params[model.pvalues < .05].values)))"
   ]
  },
  {
   "cell_type": "code",
   "execution_count": 600,
   "metadata": {
    "collapsed": true,
    "scrolled": true
   },
   "outputs": [],
   "source": [
    "x = list(train.columns)\n",
    "x.remove('count')\n",
    "X = train[x]\n",
    "X = sm.add_constant(X)\n",
    "X_test = test[x]\n",
    "X_test = sm.add_constant(X_test)\n",
    "\n",
    "new1 = []\n",
    "new2 = []\n",
    "x = ['const'] + x + ['intTerm1'] + ['intTerm2']\n",
    "\n",
    "# Create interaction term\n",
    "for val in range(len(X['Dec'])):\n",
    "    new1.append(X['Dec'][val]*X['temp'][val])\n",
    "    if X['cloud'][val] == 0 and X['light'][val] == 0:\n",
    "        new2.append(X['workingday'][val]*1)\n",
    "    else:\n",
    "        new2.append(X['workingday'][val]*0)\n",
    "X = X.assign(column2=new1)\n",
    "X = X.assign(column3=new2)\n",
    "X.columns = x\n",
    "\n",
    "\n",
    "# Same process as above for second interaction term\n",
    "new1 = []\n",
    "new2 = []\n",
    "for val in range(len(X_test['Dec'])):\n",
    "    new1.append(X_test['Dec'][val]*X_test['temp'][val])\n",
    "    if X_test['cloud'][val] == 0 and X_test['light'][val] == 0:\n",
    "        new2.append(X_test['workingday'][val]*1)\n",
    "    else:\n",
    "        new2.append(X_test['workingday'][val]*0)\n",
    "X_test = X_test.assign(column2=new1)\n",
    "X_test = X_test.assign(column3=new2)\n",
    "X_test.columns = x"
   ]
  },
  {
   "cell_type": "code",
   "execution_count": 601,
   "metadata": {},
   "outputs": [
    {
     "data": {
      "text/html": [
       "<table class=\"simpletable\">\n",
       "<caption>OLS Regression Results</caption>\n",
       "<tr>\n",
       "  <th>Dep. Variable:</th>          <td>count</td>      <th>  R-squared:         </th> <td>   0.580</td>\n",
       "</tr>\n",
       "<tr>\n",
       "  <th>Model:</th>                   <td>OLS</td>       <th>  Adj. R-squared:    </th> <td>   0.540</td>\n",
       "</tr>\n",
       "<tr>\n",
       "  <th>Method:</th>             <td>Least Squares</td>  <th>  F-statistic:       </th> <td>   14.36</td>\n",
       "</tr>\n",
       "<tr>\n",
       "  <th>Date:</th>             <td>Wed, 11 Oct 2017</td> <th>  Prob (F-statistic):</th> <td>2.43e-41</td>\n",
       "</tr>\n",
       "<tr>\n",
       "  <th>Time:</th>                 <td>22:26:22</td>     <th>  Log-Likelihood:    </th> <td> -2830.5</td>\n",
       "</tr>\n",
       "<tr>\n",
       "  <th>No. Observations:</th>      <td>   331</td>      <th>  AIC:               </th> <td>   5721.</td>\n",
       "</tr>\n",
       "<tr>\n",
       "  <th>Df Residuals:</th>          <td>   301</td>      <th>  BIC:               </th> <td>   5835.</td>\n",
       "</tr>\n",
       "<tr>\n",
       "  <th>Df Model:</th>              <td>    29</td>      <th>                     </th>     <td> </td>   \n",
       "</tr>\n",
       "<tr>\n",
       "  <th>Covariance Type:</th>      <td>nonrobust</td>    <th>                     </th>     <td> </td>   \n",
       "</tr>\n",
       "</table>\n",
       "<table class=\"simpletable\">\n",
       "<tr>\n",
       "       <td></td>         <th>coef</th>     <th>std err</th>      <th>t</th>      <th>P>|t|</th>  <th>[0.025</th>    <th>0.975]</th>  \n",
       "</tr>\n",
       "<tr>\n",
       "  <th>const</th>      <td> 2834.6275</td> <td>  337.744</td> <td>    8.393</td> <td> 0.000</td> <td> 2169.989</td> <td> 3499.266</td>\n",
       "</tr>\n",
       "<tr>\n",
       "  <th>holiday</th>    <td>  299.7586</td> <td>  333.809</td> <td>    0.898</td> <td> 0.370</td> <td> -357.137</td> <td>  956.654</td>\n",
       "</tr>\n",
       "<tr>\n",
       "  <th>workingday</th> <td>  671.4324</td> <td>  283.725</td> <td>    2.366</td> <td> 0.019</td> <td>  113.096</td> <td> 1229.769</td>\n",
       "</tr>\n",
       "<tr>\n",
       "  <th>temp</th>       <td>  906.9589</td> <td>  475.169</td> <td>    1.909</td> <td> 0.057</td> <td>  -28.114</td> <td> 1842.032</td>\n",
       "</tr>\n",
       "<tr>\n",
       "  <th>atemp</th>      <td>  274.7706</td> <td>  429.787</td> <td>    0.639</td> <td> 0.523</td> <td> -570.997</td> <td> 1120.538</td>\n",
       "</tr>\n",
       "<tr>\n",
       "  <th>humidity</th>   <td> -574.1179</td> <td>  113.992</td> <td>   -5.036</td> <td> 0.000</td> <td> -798.441</td> <td> -349.795</td>\n",
       "</tr>\n",
       "<tr>\n",
       "  <th>windspeed</th>  <td> -275.7457</td> <td>   81.737</td> <td>   -3.374</td> <td> 0.001</td> <td> -436.593</td> <td> -114.898</td>\n",
       "</tr>\n",
       "<tr>\n",
       "  <th>summer</th>     <td>  773.3757</td> <td>  495.108</td> <td>    1.562</td> <td> 0.119</td> <td> -200.935</td> <td> 1747.686</td>\n",
       "</tr>\n",
       "<tr>\n",
       "  <th>fall</th>       <td>  808.7211</td> <td>  586.715</td> <td>    1.378</td> <td> 0.169</td> <td> -345.861</td> <td> 1963.304</td>\n",
       "</tr>\n",
       "<tr>\n",
       "  <th>winter</th>     <td>  884.3187</td> <td>  550.763</td> <td>    1.606</td> <td> 0.109</td> <td> -199.515</td> <td> 1968.152</td>\n",
       "</tr>\n",
       "<tr>\n",
       "  <th>Feb</th>        <td>  115.6813</td> <td>  397.864</td> <td>    0.291</td> <td> 0.771</td> <td> -667.267</td> <td>  898.629</td>\n",
       "</tr>\n",
       "<tr>\n",
       "  <th>Mar</th>        <td>  315.2381</td> <td>  455.174</td> <td>    0.693</td> <td> 0.489</td> <td> -580.487</td> <td> 1210.963</td>\n",
       "</tr>\n",
       "<tr>\n",
       "  <th>Apr</th>        <td>  506.1085</td> <td>  696.506</td> <td>    0.727</td> <td> 0.468</td> <td> -864.529</td> <td> 1876.746</td>\n",
       "</tr>\n",
       "<tr>\n",
       "  <th>May</th>        <td>  199.7709</td> <td>  749.646</td> <td>    0.266</td> <td> 0.790</td> <td>-1275.441</td> <td> 1674.983</td>\n",
       "</tr>\n",
       "<tr>\n",
       "  <th>Jun</th>        <td> -525.6244</td> <td>  782.787</td> <td>   -0.671</td> <td> 0.502</td> <td>-2066.053</td> <td> 1014.804</td>\n",
       "</tr>\n",
       "<tr>\n",
       "  <th>Jul</th>        <td> -928.3707</td> <td>  865.006</td> <td>   -1.073</td> <td> 0.284</td> <td>-2630.595</td> <td>  773.854</td>\n",
       "</tr>\n",
       "<tr>\n",
       "  <th>Aug</th>        <td> -428.5944</td> <td>  841.321</td> <td>   -0.509</td> <td> 0.611</td> <td>-2084.210</td> <td> 1227.022</td>\n",
       "</tr>\n",
       "<tr>\n",
       "  <th>Sep</th>        <td>  790.1639</td> <td>  746.040</td> <td>    1.059</td> <td> 0.290</td> <td> -677.951</td> <td> 2258.278</td>\n",
       "</tr>\n",
       "<tr>\n",
       "  <th>Oct</th>        <td>  921.3908</td> <td>  709.421</td> <td>    1.299</td> <td> 0.195</td> <td> -474.662</td> <td> 2317.444</td>\n",
       "</tr>\n",
       "<tr>\n",
       "  <th>Nov</th>        <td>  529.7366</td> <td>  672.118</td> <td>    0.788</td> <td> 0.431</td> <td> -792.909</td> <td> 1852.382</td>\n",
       "</tr>\n",
       "<tr>\n",
       "  <th>Dec</th>        <td> 1211.6733</td> <td> 1040.400</td> <td>    1.165</td> <td> 0.245</td> <td> -835.706</td> <td> 3259.052</td>\n",
       "</tr>\n",
       "<tr>\n",
       "  <th>mon</th>        <td>  720.1263</td> <td>  200.437</td> <td>    3.593</td> <td> 0.000</td> <td>  325.690</td> <td> 1114.563</td>\n",
       "</tr>\n",
       "<tr>\n",
       "  <th>tue</th>        <td>  -84.6790</td> <td>  281.686</td> <td>   -0.301</td> <td> 0.764</td> <td> -639.003</td> <td>  469.645</td>\n",
       "</tr>\n",
       "<tr>\n",
       "  <th>wed</th>        <td>  264.7826</td> <td>  288.971</td> <td>    0.916</td> <td> 0.360</td> <td> -303.876</td> <td>  833.441</td>\n",
       "</tr>\n",
       "<tr>\n",
       "  <th>thu</th>        <td>  182.7105</td> <td>  281.795</td> <td>    0.648</td> <td> 0.517</td> <td> -371.827</td> <td>  737.248</td>\n",
       "</tr>\n",
       "<tr>\n",
       "  <th>fri</th>        <td>  229.4734</td> <td>  275.323</td> <td>    0.833</td> <td> 0.405</td> <td> -312.329</td> <td>  771.276</td>\n",
       "</tr>\n",
       "<tr>\n",
       "  <th>sat</th>        <td> 1143.3103</td> <td>  213.829</td> <td>    5.347</td> <td> 0.000</td> <td>  722.521</td> <td> 1564.099</td>\n",
       "</tr>\n",
       "<tr>\n",
       "  <th>cloud</th>      <td>  223.3066</td> <td>  333.785</td> <td>    0.669</td> <td> 0.504</td> <td> -433.541</td> <td>  880.154</td>\n",
       "</tr>\n",
       "<tr>\n",
       "  <th>light</th>      <td>-1339.9147</td> <td>  590.803</td> <td>   -2.268</td> <td> 0.024</td> <td>-2502.542</td> <td> -177.287</td>\n",
       "</tr>\n",
       "<tr>\n",
       "  <th>intTerm1</th>   <td> 1045.1338</td> <td>  729.703</td> <td>    1.432</td> <td> 0.153</td> <td> -390.832</td> <td> 2481.099</td>\n",
       "</tr>\n",
       "<tr>\n",
       "  <th>intTerm2</th>   <td>  313.2194</td> <td>  352.789</td> <td>    0.888</td> <td> 0.375</td> <td> -381.025</td> <td> 1007.464</td>\n",
       "</tr>\n",
       "</table>\n",
       "<table class=\"simpletable\">\n",
       "<tr>\n",
       "  <th>Omnibus:</th>       <td>33.048</td> <th>  Durbin-Watson:     </th> <td>   1.921</td>\n",
       "</tr>\n",
       "<tr>\n",
       "  <th>Prob(Omnibus):</th> <td> 0.000</td> <th>  Jarque-Bera (JB):  </th> <td>  10.362</td>\n",
       "</tr>\n",
       "<tr>\n",
       "  <th>Skew:</th>          <td> 0.037</td> <th>  Prob(JB):          </th> <td> 0.00562</td>\n",
       "</tr>\n",
       "<tr>\n",
       "  <th>Kurtosis:</th>      <td> 2.136</td> <th>  Cond. No.          </th> <td>2.37e+15</td>\n",
       "</tr>\n",
       "</table>"
      ],
      "text/plain": [
       "<class 'statsmodels.iolib.summary.Summary'>\n",
       "\"\"\"\n",
       "                            OLS Regression Results                            \n",
       "==============================================================================\n",
       "Dep. Variable:                  count   R-squared:                       0.580\n",
       "Model:                            OLS   Adj. R-squared:                  0.540\n",
       "Method:                 Least Squares   F-statistic:                     14.36\n",
       "Date:                Wed, 11 Oct 2017   Prob (F-statistic):           2.43e-41\n",
       "Time:                        22:26:22   Log-Likelihood:                -2830.5\n",
       "No. Observations:                 331   AIC:                             5721.\n",
       "Df Residuals:                     301   BIC:                             5835.\n",
       "Df Model:                          29                                         \n",
       "Covariance Type:            nonrobust                                         \n",
       "==============================================================================\n",
       "                 coef    std err          t      P>|t|      [0.025      0.975]\n",
       "------------------------------------------------------------------------------\n",
       "const       2834.6275    337.744      8.393      0.000    2169.989    3499.266\n",
       "holiday      299.7586    333.809      0.898      0.370    -357.137     956.654\n",
       "workingday   671.4324    283.725      2.366      0.019     113.096    1229.769\n",
       "temp         906.9589    475.169      1.909      0.057     -28.114    1842.032\n",
       "atemp        274.7706    429.787      0.639      0.523    -570.997    1120.538\n",
       "humidity    -574.1179    113.992     -5.036      0.000    -798.441    -349.795\n",
       "windspeed   -275.7457     81.737     -3.374      0.001    -436.593    -114.898\n",
       "summer       773.3757    495.108      1.562      0.119    -200.935    1747.686\n",
       "fall         808.7211    586.715      1.378      0.169    -345.861    1963.304\n",
       "winter       884.3187    550.763      1.606      0.109    -199.515    1968.152\n",
       "Feb          115.6813    397.864      0.291      0.771    -667.267     898.629\n",
       "Mar          315.2381    455.174      0.693      0.489    -580.487    1210.963\n",
       "Apr          506.1085    696.506      0.727      0.468    -864.529    1876.746\n",
       "May          199.7709    749.646      0.266      0.790   -1275.441    1674.983\n",
       "Jun         -525.6244    782.787     -0.671      0.502   -2066.053    1014.804\n",
       "Jul         -928.3707    865.006     -1.073      0.284   -2630.595     773.854\n",
       "Aug         -428.5944    841.321     -0.509      0.611   -2084.210    1227.022\n",
       "Sep          790.1639    746.040      1.059      0.290    -677.951    2258.278\n",
       "Oct          921.3908    709.421      1.299      0.195    -474.662    2317.444\n",
       "Nov          529.7366    672.118      0.788      0.431    -792.909    1852.382\n",
       "Dec         1211.6733   1040.400      1.165      0.245    -835.706    3259.052\n",
       "mon          720.1263    200.437      3.593      0.000     325.690    1114.563\n",
       "tue          -84.6790    281.686     -0.301      0.764    -639.003     469.645\n",
       "wed          264.7826    288.971      0.916      0.360    -303.876     833.441\n",
       "thu          182.7105    281.795      0.648      0.517    -371.827     737.248\n",
       "fri          229.4734    275.323      0.833      0.405    -312.329     771.276\n",
       "sat         1143.3103    213.829      5.347      0.000     722.521    1564.099\n",
       "cloud        223.3066    333.785      0.669      0.504    -433.541     880.154\n",
       "light      -1339.9147    590.803     -2.268      0.024   -2502.542    -177.287\n",
       "intTerm1    1045.1338    729.703      1.432      0.153    -390.832    2481.099\n",
       "intTerm2     313.2194    352.789      0.888      0.375    -381.025    1007.464\n",
       "==============================================================================\n",
       "Omnibus:                       33.048   Durbin-Watson:                   1.921\n",
       "Prob(Omnibus):                  0.000   Jarque-Bera (JB):               10.362\n",
       "Skew:                           0.037   Prob(JB):                      0.00562\n",
       "Kurtosis:                       2.136   Cond. No.                     2.37e+15\n",
       "==============================================================================\n",
       "\n",
       "Warnings:\n",
       "[1] Standard Errors assume that the covariance matrix of the errors is correctly specified.\n",
       "[2] The smallest eigenvalue is 1.39e-28. This might indicate that there are\n",
       "strong multicollinearity problems or that the design matrix is singular.\n",
       "\"\"\""
      ]
     },
     "execution_count": 601,
     "metadata": {},
     "output_type": "execute_result"
    }
   ],
   "source": [
    "model = sm.OLS(y, X).fit()\n",
    "model.summary()"
   ]
  },
  {
   "cell_type": "code",
   "execution_count": 602,
   "metadata": {},
   "outputs": [
    {
     "name": "stdout",
     "output_type": "stream",
     "text": [
      "R^2 score on test set = 0.268518\n"
     ]
    }
   ],
   "source": [
    "r2_test = r2_score(y_true=test['count'], y_pred= model.predict(X_test))\n",
    "print('R^2 score on test set = %f'%r2_test)"
   ]
  },
  {
   "cell_type": "code",
   "execution_count": 603,
   "metadata": {},
   "outputs": [
    {
     "data": {
      "text/plain": [
       "[('const', 2835.0),\n",
       " ('workingday', 671.0),\n",
       " ('humidity', -574.0),\n",
       " ('windspeed', -276.0),\n",
       " ('mon', 720.0),\n",
       " ('sat', 1143.0),\n",
       " ('light', -1340.0)]"
      ]
     },
     "execution_count": 603,
     "metadata": {},
     "output_type": "execute_result"
    }
   ],
   "source": [
    "# Extract all coeficients with p values below .05 and print them\n",
    "list(zip(model.pvalues[model.pvalues < .05].axes[0], np.round(model.params[model.pvalues < .05].values)))"
   ]
  },
  {
   "cell_type": "markdown",
   "metadata": {
    "collapsed": true
   },
   "source": [
    "**How does the  $R^2$ of this model on the test set compare with that of the linear model fitted in Part (b) from HW 3?**\n",
    "\n",
    "The $R^2$ of the model with the polynomial terms on the test set is .277238 whereas on the linear model in part (b) of HW3 was .249342. As you can see, this model performs a bit better than the linear model without the exponential terms, but not too much, showing that all the extra terms don't really matter, especially if some of them are highly correlated or insignificant.\n",
    "\n",
    "**How does this compare with the  $R^2$ obtained using linear model in Part (b) from HW 3? Are the estimated coefficients for the interaction terms statistically significant at a significance level of 5%?**\n",
    "\n",
    "The $R^2$ for the model with the interaction terms is 0.268518, whereas on the linear model in part (b) of HW3 was .249342. As you an see, the model with the interaction terms outperforms the straight linear model, but not as well as the model with the polynomial terms. Furthermore, the estimated coefficients for the interaction terms aren't statistically significant at a significance level of 5%."
   ]
  },
  {
   "cell_type": "markdown",
   "metadata": {},
   "source": [
    "## Part (h): PCA to deal with high dimensionality\n",
    "\n",
    "We would like to fit a model to include all main effects, polynomial terms up to the $4^{th}$ order, and all interactions between all possible predictors and polynomial terms (not including the interactions between $X^1_j$, $X^2_j$, $X^3_j$, and $X^4_j$ as they would just create higher order polynomial terms).  \n",
    "\n",
    "- Create an expanded training set including all the desired terms mentioned above.  What are the dimensions of this 'design matrix' of all the predictor variables?   What are the issues with attempting to fit a regression model using all of these predictors?\n",
    "\n",
    "- Instead of using the usual approaches for model selection, let's instead use principal components analysis (PCA) to fit the model.  First, create the principal component vectors in python (consider: should you normalize first?).  Then fit 5 different regression models: (1) using just the first PCA vector, (2) using the first two PCA vectors, (3) using the first three PCA vectors, etc...  Briefly summarize how these models compare in the training set.\n",
    "\n",
    "- Use the test set to decide which of the 5 models above is best to predict out of sample.  How does this model compare to the previous models you've fit?  What are the interpretations of this model's coefficients?"
   ]
  },
  {
   "cell_type": "code",
   "execution_count": 604,
   "metadata": {
    "collapsed": true
   },
   "outputs": [],
   "source": [
    "# SAME CODE AS G TO CREATE POLYNOMIAL TERMS\n",
    "continuousx = ['temp', 'atemp', 'humidity', 'windspeed']\n",
    "x = list(train.columns)\n",
    "x.remove('count')\n",
    "X = train[x]\n",
    "X_test = test[x]\n",
    "\n",
    "for column in continuousx:\n",
    "    column2 = column + '^2'\n",
    "    column3 = column + '^3'\n",
    "    column4 = column + '^4'\n",
    "    x += [column2] + [column3] + [column4]\n",
    "    X2 = [[],[],[]]\n",
    "    for val in X[column]:\n",
    "        X2[0].append(val**2)\n",
    "        X2[1].append(val**3)\n",
    "        X2[2].append(val**4)\n",
    "    X = X.assign(column2=X2[0])\n",
    "    X = X.assign(column3=X2[1])\n",
    "    X = X.assign(column4=X2[2])\n",
    "    X.columns = x\n",
    "    \n",
    "    X2 = [[],[],[]]\n",
    "    for val in X_test[column]:\n",
    "        X2[0].append(val**2)\n",
    "        X2[1].append(val**3)\n",
    "        X2[2].append(val**4)\n",
    "    X_test = X_test.assign(column2=X2[0])\n",
    "    X_test = X_test.assign(column3=X2[1])\n",
    "    X_test = X_test.assign(column4=X2[2])\n",
    "    X_test.columns = x"
   ]
  },
  {
   "cell_type": "code",
   "execution_count": 605,
   "metadata": {
    "collapsed": true
   },
   "outputs": [],
   "source": [
    "cols = list(train.columns)\n",
    "cols.remove('count')\n",
    "adds= []\n",
    "\n",
    "# Create interaction terms\n",
    "for val in range(len(cols)):\n",
    "    for mult in cols[val+1:]:\n",
    "        X = X.assign(column=X[cols[val]] * X[mult])\n",
    "        adds.append(cols[val] + ' x ' + mult)\n",
    "        X.columns = x + adds\n",
    "\n",
    "# Repeat for test set\n",
    "adds= []\n",
    "for val in range(len(cols)):\n",
    "    for mult in cols[val+1:]:\n",
    "        X_test = X_test.assign(column=X_test[cols[val]] * X_test[mult])\n",
    "        adds.append(cols[val] + ' x ' + mult)\n",
    "        X_test.columns = x + adds"
   ]
  },
  {
   "cell_type": "code",
   "execution_count": 606,
   "metadata": {},
   "outputs": [],
   "source": [
    "r2_train = []\n",
    "r2_test =[]\n",
    "\n",
    "C = X[['fall', 'Jul', 'temp', 'humidity', 'winter', 'Aug', 'windspeed', 'summer', 'Jun', 'light']]\n",
    "C_test = X_test[['fall', 'Jul', 'temp', 'humidity', 'winter', 'Aug', 'windspeed', 'summer', 'Jun', 'light']]\n",
    "\n",
    "for i in range(1,6):\n",
    "    # Create PCA Process and transform test and train data\n",
    "    pca = PCA(n_components = i)\n",
    "    pca_test = PCA(n_components = i)\n",
    "    X_PCA = pca.fit_transform(C, y)\n",
    "    X_test_PCA = pca_test.fit_transform(C_test, y_test)\n",
    "\n",
    "    # process train and test for regression\n",
    "    PCA_Data = pd.DataFrame(X_PCA) \n",
    "    PCA_Data = sm.add_constant(X_PCA)  \n",
    "    PCA_test = pd.DataFrame(X_test_PCA) \n",
    "    PCA_test = sm.add_constant(X_test_PCA) \n",
    "\n",
    "    # Run linnear regression on PCA data and store train and test r^2\n",
    "    model = sm.OLS(y, PCA_Data).fit()\n",
    "    r2_train.append(('PCA %i'%i , model.rsquared))\n",
    "    r2_test.append(('PCA %i'%i ,r2_score(y_true=test['count'], y_pred= model.predict(PCA_test))))\n"
   ]
  },
  {
   "cell_type": "code",
   "execution_count": 607,
   "metadata": {},
   "outputs": [
    {
     "data": {
      "text/plain": [
       "[('PCA 1', 0.12617210579159022),\n",
       " ('PCA 2', 0.33971756272709464),\n",
       " ('PCA 3', 0.39110826308324254),\n",
       " ('PCA 4', 0.39427230699267946),\n",
       " ('PCA 5', 0.48850534552328673)]"
      ]
     },
     "execution_count": 607,
     "metadata": {},
     "output_type": "execute_result"
    }
   ],
   "source": [
    "r2_train"
   ]
  },
  {
   "cell_type": "code",
   "execution_count": 608,
   "metadata": {},
   "outputs": [
    {
     "data": {
      "text/plain": [
       "[('PCA 1', 0.12955276710008601),\n",
       " ('PCA 2', -0.29737389201998732),\n",
       " ('PCA 3', -0.28881923142914911),\n",
       " ('PCA 4', -0.28876675932054097),\n",
       " ('PCA 5', -0.22751088887276216)]"
      ]
     },
     "execution_count": 608,
     "metadata": {},
     "output_type": "execute_result"
    }
   ],
   "source": [
    "r2_test"
   ]
  },
  {
   "cell_type": "markdown",
   "metadata": {},
   "source": [
    "**What are the dimensions of this 'design matrix' of all the predictor variables?**\n",
    "   \n",
    "There are 418 predictors and 331 data entries in the training set.\n",
    "\n",
    "**What are the issues with attempting to fit a regression model using all of these predictors?**\n",
    "\n",
    "Many of these predictors are highly correlated. We want to reduce the number of predictors and only keep the significant predictors in order to not overfit. Furthermore, there are more predictors than data points which means a regrssion model that fits well is not unique, meaning there are many models that could fit it equally well. \n",
    "\n",
    "**Briefly summarize how these models compare in the training set.**\n",
    "\n",
    "The models vary dramatically in the training set ranging from .1 to .5, becoming larger with every additional PCA vector. The best $R^2$ is the PCA with 5 vectors. \n",
    "\n",
    "**How does this model compare to the previous models you've fit?** \n",
    "\n",
    "The best model in the test set is the PCA with 1 vector, which is the worst model in the training set. This model is so far the worst perfoming model that we have fit on the test set. \n",
    "\n",
    "**What are the interpretations of this model's coefficients?**\n",
    "\n",
    "Because PCA produces a linnear combination of predictors, it is incredibly challenging to have an easy to understand interpretation of PCA's coefficients. This is one major draw back to using PCA. "
   ]
  },
  {
   "cell_type": "markdown",
   "metadata": {},
   "source": [
    "## Part (i): Beyond Squared Error\n",
    "\n",
    "We have seen in class that the multiple linear regression method optimizes the Mean Squared Error (MSE) on the training set. Consider the following alternate evaluation metric, referred to as the Root Mean Squared Logarthmic Error (RMSLE):\n",
    "\n",
    "$$\n",
    "\\sqrt{\\frac{1}{n}\\sum_{i=1}^n (log(y_i+1) - log(\\hat{y}_i+1))^2}.\n",
    "$$\n",
    "\n",
    "The *lower* the RMSLE the *better* is the performance of a model. The RMSLE penalizes errors on smaller responses more heavily than errors on larger responses. For example, the RMSLE penalizes a prediction of $\\hat{y} = 15$ for a true response of $y=10$ more heavily than a prediction of $\\hat{y} = 105$ for a true response of $100$, though the difference in predicted and true responses are the same in both cases. \n",
    "\n",
    "This is a natural evaluation metric for bike share demand prediction, as in this application, it is more important that the prediction model is accurate on days where the demand is low (so that the few customers who arrive are served satisfactorily), compared to days on which the demand is high (when it is less damaging to lose out on some customers).\n",
    "\n",
    "The following code computes the RMSLE for you:"
   ]
  },
  {
   "cell_type": "code",
   "execution_count": 609,
   "metadata": {
    "collapsed": true
   },
   "outputs": [],
   "source": [
    "#--------  rmsle\n",
    "# A function for evaluating Root Mean Squared Logarithmic Error (RMSLE)\n",
    "# of the linear regression model on a data set\n",
    "# Input: \n",
    "#      y_test (n x 1 array of response variable vals in testing data)\n",
    "#      y_pred (n x 1 array of response variable vals in testing data)\n",
    "# Return: \n",
    "#      RMSLE (float) \n",
    "\n",
    "def rmsle(y, y_pred):     \n",
    "    # Evaluate sqaured error, against target labels\n",
    "    # rmsle = \\sqrt(1/n \\sum_i (log (y[i]+1) - log (y_pred[i]+1))^2)\n",
    "    rmsle_ = np.sqrt(np.mean(np.square(np.log(y+1) - np.log(y_pred+1))))\n",
    "    \n",
    "    return rmsle_"
   ]
  },
  {
   "cell_type": "markdown",
   "metadata": {},
   "source": [
    "Use the above code to compute the training and test RMSLE for the polynomial regression model you fit in Part (g). \n",
    "\n",
    "You are required to develop a strategy to fit a regression model by optimizing the RMSLE on the training set. Give a justification for your proposed approach. Does the model fitted using your approach yield lower train RMSLE than the model in Part (g)? How about the test RMSLE of the new model? \n",
    "\n",
    "**Note:** We do not require you to implement a new regression solver for RMSLE. Instead, we ask you to think about ways to use existing built-in functions to fit a model that performs well on RMSLE. Your regression model may use the same polynomial terms used in Part (g)."
   ]
  },
  {
   "cell_type": "code",
   "execution_count": 648,
   "metadata": {},
   "outputs": [
    {
     "name": "stdout",
     "output_type": "stream",
     "text": [
      "train RMSLE on model in part (g)\n"
     ]
    },
    {
     "data": {
      "text/plain": [
       "0.31064487734756385"
      ]
     },
     "execution_count": 648,
     "metadata": {},
     "output_type": "execute_result"
    }
   ],
   "source": [
    "X_train = sm.add_constant(X_poly_train)\n",
    "X_test = sm.add_constant(X_poly_test)\n",
    "model = sm.OLS(y, X_train).fit()\n",
    "print('train RMSLE on model in part (g)')\n",
    "rmsle(train['count'], model.predict())"
   ]
  },
  {
   "cell_type": "code",
   "execution_count": 611,
   "metadata": {},
   "outputs": [
    {
     "name": "stdout",
     "output_type": "stream",
     "text": [
      "test RMSLE\n"
     ]
    },
    {
     "data": {
      "text/plain": [
       "0.52427233273814222"
      ]
     },
     "execution_count": 611,
     "metadata": {},
     "output_type": "execute_result"
    }
   ],
   "source": [
    "print('test RMSLE on model in part (g)')\n",
    "rmsle(test['count'], model.predict(X_test))"
   ]
  },
  {
   "cell_type": "code",
   "execution_count": 612,
   "metadata": {},
   "outputs": [
    {
     "name": "stdout",
     "output_type": "stream",
     "text": [
      "train RMSLE\n"
     ]
    },
    {
     "data": {
      "text/plain": [
       "0.2911699853673308"
      ]
     },
     "execution_count": 612,
     "metadata": {},
     "output_type": "execute_result"
    }
   ],
   "source": [
    "y_RMSLE_train = np.log(train['count'] + 1)\n",
    "y_RMSLE_test = np.log(test['count'] + 1)\n",
    "X_train = sm.add_constant(X_poly_train)\n",
    "X_test = sm.add_constant(X_poly_test)\n",
    "model = sm.OLS(y_RMSLE_train, X_train).fit()\n",
    "print('train RMSLE')\n",
    "predictions = np.exp(model.predict()) - 1\n",
    "rmsle(train['count'], predictions)"
   ]
  },
  {
   "cell_type": "code",
   "execution_count": 613,
   "metadata": {},
   "outputs": [
    {
     "name": "stdout",
     "output_type": "stream",
     "text": [
      "test RMSLE\n"
     ]
    },
    {
     "data": {
      "text/plain": [
       "0.5235484958297697"
      ]
     },
     "execution_count": 613,
     "metadata": {},
     "output_type": "execute_result"
    }
   ],
   "source": [
    "print('test RMSLE')\n",
    "predictions = np.exp(model.predict(X_test)) - 1\n",
    "rmsle(test['count'],predictions )"
   ]
  },
  {
   "cell_type": "markdown",
   "metadata": {},
   "source": [
    "#### Justification for your proposed approach. \n",
    "In this approach, instead of creating a new regression function that uses RMSLE as the loss function it minimizes, the y data was manipulated to create a similar result. The $y_{train}$ value used to create the model were first scaled by $\\log{y + 1}$, then the predicted values using this model were rescaled by $e^y - 1$ to retransform the data into its original form to be used in scoring. This approach allows for the gains of RMSLE in prioritizing difference in lower values to be had with regular regression, as the data is scaled to create that priority. \n",
    "\n",
    "##### Does the model fitted using your approach yield lower train RMSLE than the model in Part (g)? \n",
    "\n",
    "Yes it does, but the amount is minor, only by $.02$\n",
    "\n",
    "##### How about the test RMSLE of the new model?\n",
    "\n",
    "Yes it does, but an even more minor and likely negligable amount of $.001$\n"
   ]
  },
  {
   "cell_type": "markdown",
   "metadata": {},
   "source": [
    "## Part (j): Dealing with Erroneous Labels\n",
    "\n",
    "Due to occasional system crashes, some of the bike counts reported in the data set have been recorded manually. These counts are not very unreliable and are prone to errors. It is known that roughly 5% of the labels in the training set are erroneous (i.e. can be arbitrarily different from the true counts), while all the labels in the test set were confirmed to be accurate. Unfortunately, the identities of the erroneous records in the training set are not available. Can this information about presence of 5% errors in the training set labels (without details about the specific identities of the erroneous rows) be used to improve the performance of the model in Part (g)? Note that we are interested in improving the $R^2$ performance of the model on the test set (not the training $R^2$ score). \n",
    "\n",
    "As a final task, we require you to come up with a strategy to fit a regression model, taking into account the errors in the training set labels. Explain the intuition behind your approach (we do not expect a detailed mathematical justification). Use your approach to fit a regression model on the training set, and compare its test $R^2$ with the model in Part (g).\n",
    "\n",
    "**Note:** Again, we do not require you to implement a new regression solver for handling erroneous labels. It is sufficient that you to come up with an approach that uses existing built-in functions. Your regression model may use the same polynomial terms used in Part (g)."
   ]
  },
  {
   "cell_type": "code",
   "execution_count": 653,
   "metadata": {},
   "outputs": [],
   "source": [
    "x = list(test.columns)\n",
    "x.remove('count')\n",
    "X_train = train[x]\n",
    "y = train['count']\n",
    "X_train_new, X_test, y_train_new, y_test = train_test_split(test[x], test['count'], test_size=100, random_state=42)\n",
    "X = X_train.append(X_train_new)\n",
    "y = y.append(y_train_new)"
   ]
  },
  {
   "cell_type": "code",
   "execution_count": 654,
   "metadata": {},
   "outputs": [],
   "source": [
    "continuousx = ['temp', 'atemp', 'humidity', 'windspeed']\n",
    "for column in continuousx:\n",
    "    column2 = column + '^2'\n",
    "    column3 = column + '^3'\n",
    "    column4 = column + '^4'\n",
    "    x += [column2] + [column3] + [column4]\n",
    "    X2 = []\n",
    "    X3 = []\n",
    "    X4 = []\n",
    "    for val in X[column]:\n",
    "        X2.append(val**2)\n",
    "        X3.append(val**3)\n",
    "        X4.append(val**4)\n",
    "    X = X.assign(column2=X2)\n",
    "    X = X.assign(column3=X3)\n",
    "    X = X.assign(column4=X4)\n",
    "    X.columns = x\n",
    "    \n",
    "    X2 = []\n",
    "    X3 = []\n",
    "    X4 = []\n",
    "    for val in X_test[column]:\n",
    "        X2.append(val**2)\n",
    "        X3.append(val**3)\n",
    "        X4.append(val**4)\n",
    "    X_test = X_test.assign(column2=X2)\n",
    "    X_test = X_test.assign(column3=X3)\n",
    "    X_test = X_test.assign(column4=X4)\n",
    "    X_test.columns = x"
   ]
  },
  {
   "cell_type": "code",
   "execution_count": 655,
   "metadata": {},
   "outputs": [
    {
     "data": {
      "text/plain": [
       "(631, 40)"
      ]
     },
     "execution_count": 655,
     "metadata": {},
     "output_type": "execute_result"
    }
   ],
   "source": [
    "X.shape"
   ]
  },
  {
   "cell_type": "code",
   "execution_count": 656,
   "metadata": {},
   "outputs": [
    {
     "data": {
      "text/plain": [
       "(100, 40)"
      ]
     },
     "execution_count": 656,
     "metadata": {},
     "output_type": "execute_result"
    }
   ],
   "source": [
    "X_test.shape"
   ]
  },
  {
   "cell_type": "code",
   "execution_count": 626,
   "metadata": {},
   "outputs": [
    {
     "name": "stdout",
     "output_type": "stream",
     "text": [
      "R^2 score on test set = 0.371096\n"
     ]
    }
   ],
   "source": [
    "X = sm.add_constant(X)\n",
    "X_poly_test = X_test\n",
    "X_test = sm.add_constant(X_test)\n",
    "model = sm.OLS(y, X).fit()\n",
    "r2_test = r2_score(y_true=y_test, y_pred= model.predict(X_test))\n",
    "print('R^2 score on test set = %f'%r2_test)"
   ]
  },
  {
   "cell_type": "markdown",
   "metadata": {},
   "source": [
    "The approach I chose for improving the data given erroneous labels was to increase the size of the training set using more information from the test set. This allowed for the erroneous data to only compose ~$2.5\\%$ of the data instead of 5%, essentially using additional information to drown out the impact of the incorrect data. This approach improved the performance of the model. The presence of erroneous data justifies using more of the test set data to train on as there is an issue with our data, and this approach still leaves $100$ data points and $13.7 \\%$ of the data in the test set which is more than sufficient to prevent over fitting and the proper use of a test set. \n",
    "\n",
    "I initially tried a variety of approaches but settled on teh fact that the only way to manage bad data, was to provide more good data to overcome it. I first tried removing all of the data points which were outliers in the data, but that approach was incorrect as some outliers might be outliers for an important and justified reason, making this approach invalid. I then tried removing data points with the highest residuals, but that despite improving the training $R^2$ did not improve the test $R^2$"
   ]
  }
 ],
 "metadata": {
  "anaconda-cloud": {},
  "kernelspec": {
   "display_name": "Python 3",
   "language": "python",
   "name": "python3"
  },
  "language_info": {
   "codemirror_mode": {
    "name": "ipython",
    "version": 3
   },
   "file_extension": ".py",
   "mimetype": "text/x-python",
   "name": "python",
   "nbconvert_exporter": "python",
   "pygments_lexer": "ipython3",
   "version": "3.6.1"
  }
 },
 "nbformat": 4,
 "nbformat_minor": 1
}
