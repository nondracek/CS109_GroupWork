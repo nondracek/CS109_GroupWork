{
 "cells": [
  {
   "cell_type": "markdown",
   "metadata": {},
   "source": [
    "# CS 109A/STAT 121A/AC 209A/CSCI E-109A: Homework 4\n",
    "# Regularization, High Dimensionality, PCA\n",
    "\n",
    "\n",
    "**Harvard University**<br/>\n",
    "**Fall 2017**<br/>\n",
    "**Instructors**: Pavlos Protopapas, Kevin Rader, Rahul Dave, Margo Levine\n",
    "\n",
    "---\n",
    "\n",
    "### INSTRUCTIONS\n",
    "\n",
    "- To submit your assignment follow the instructions given in canvas.\n",
    "- Restart the kernel and run the whole notebook again before you submit. \n",
    "- Do not include your name(s) in the notebook even if you are submitting as a group. \n",
    "- If you submit individually and you have worked with someone, please include the name of your [one] partner below. \n",
    "\n",
    "---"
   ]
  },
  {
   "cell_type": "markdown",
   "metadata": {},
   "source": [
    "Your partner's name (if you submit separately):\n",
    "\n",
    "Enrollment Status (109A, 121A, 209A, or E109A): 109A"
   ]
  },
  {
   "cell_type": "markdown",
   "metadata": {},
   "source": [
    "Import libraries:"
   ]
  },
  {
   "cell_type": "code",
   "execution_count": 184,
   "metadata": {},
   "outputs": [],
   "source": [
    "import numpy as np\n",
    "import pandas as pd\n",
    "import matplotlib\n",
    "import matplotlib.pyplot as plt\n",
    "from sklearn.metrics import r2_score\n",
    "import statsmodels.api as sm\n",
    "from statsmodels.api import OLS\n",
    "from sklearn.preprocessing import PolynomialFeatures\n",
    "from sklearn.linear_model import Ridge\n",
    "from sklearn.linear_model import Lasso\n",
    "from sklearn.linear_model import RidgeCV\n",
    "from sklearn.linear_model import LassoCV\n",
    "from sklearn.model_selection import KFold\n",
    "import warnings\n",
    "warnings.filterwarnings('ignore')\n",
    "%matplotlib inline\n",
    "\n",
    "import seaborn as sns\n",
    "pd.set_option('display.width', 1500)\n",
    "pd.set_option('display.max_columns', 100)\n",
    "\n",
    "sns.set_context('poster')"
   ]
  },
  {
   "cell_type": "markdown",
   "metadata": {},
   "source": [
    "# Continuing Bike Sharing Usage Data\n",
    "\n",
    "In this homework, we will focus on multiple linear regression, regularization, dealing with high dimensionality, and PCA. We will continue to build regression models for the Capital Bikeshare program in Washington D.C.  See Homework 3 for more information about the data.\n",
    "\n",
    "*Note: please make sure you use all the processed data from HW 3 Part (a)...you make want to save the data set on your computer and reread the csv/json file here.\n"
   ]
  },
  {
   "cell_type": "code",
   "execution_count": 38,
   "metadata": {},
   "outputs": [],
   "source": [
    "train = pd.read_csv('Bikeshare_train.csv', index_col=0)\n",
    "test = pd.read_csv('Bikeshare_test.csv', index_col=0)\n",
    "\n",
    "# list of all categorical variables and lables for them\n",
    "cat_preds = ['season', 'month', 'day_of_week', 'weather']\n",
    "labels = [['summer', 'fall', 'winter'],['Feb', 'Mar', 'Apr', 'May', 'Jun', 'Jul','Aug','Sep','Oct','Nov','Dec'], \n",
    "          ['mon', 'tue', 'wed','thu', 'fri','sat'], ['cloud', 'light']]\n",
    "\n",
    "# loop through categorical variables and convert to one-hot encoding\n",
    "for i,pred in enumerate(cat_preds): \n",
    "    dum = pd.get_dummies(train[pred])\n",
    "    del dum [1]\n",
    "    dum.columns = labels[i]\n",
    "    train = train.join(dum)\n",
    "    del train[pred]\n",
    "\n",
    "# Repeat the same process for test data\n",
    "for i,pred in enumerate(cat_preds): \n",
    "    dum = pd.get_dummies(test[pred])\n",
    "    del dum [1]\n",
    "    dum.columns = labels[i]\n",
    "    test = test.join(dum)\n",
    "    del test[pred]\n",
    "    \n",
    "# Mean and STD of continuous preidctors based on trainig set\n",
    "temp_std = train['temp'].std(axis = 0)\n",
    "temp_mean = train['temp'].mean(axis = 0)\n",
    "atemp_std = train['atemp'].std(axis = 0)\n",
    "atemp_mean = train['atemp'].mean(axis = 0)\n",
    "humidity_std = train['humidity'].std(axis = 0)\n",
    "humidity_mean = train['humidity'].mean(axis = 0)\n",
    "wind_std = train['windspeed'].std(axis = 0)\n",
    "wind_mean = train['windspeed'].mean(axis = 0)\n",
    "\n",
    "# normalize training data\n",
    "train['temp'] = (train['temp'] - temp_mean) / temp_std\n",
    "train['atemp'] = (train['atemp'] - atemp_mean) / atemp_std\n",
    "train['humidity'] = (train['humidity'] - humidity_mean) / humidity_std\n",
    "train['windspeed'] = (train['windspeed'] - wind_mean) / wind_std\n",
    "# normalize test data\n",
    "test['temp'] = (test['temp'] - temp_mean) / temp_std\n",
    "test['atemp'] = (test['atemp'] - atemp_mean) / atemp_std\n",
    "test['humidity'] = (test['humidity'] - humidity_mean) / humidity_std\n",
    "test['windspeed'] = (test['windspeed'] - wind_mean) / wind_std"
   ]
  },
  {
   "cell_type": "markdown",
   "metadata": {},
   "source": [
    "## Part (f): Regularization/Penalization Methods\n",
    "\n",
    "As an alternative to selecting a subset of predictors and fitting a regression model on the subset, one can fit a linear regression model on all predictors, but shrink or regularize the coefficient estimates to make sure that the model does not \"overfit\" the training set. \n",
    "\n",
    "Use the following regularization techniques to fit linear models to the training set:\n",
    "- Ridge regression\n",
    "- Lasso regression\n",
    "    \n",
    "You may choose the shrikage parameter $\\lambda$ from the set $\\{10^{-5}, 10^{-4},...,10^{4},10^{5}\\}$ using cross-validation. In each case, \n",
    "\n",
    "- How do the estimated coefficients compare to or differ from the coefficients estimated by a plain linear regression (without shrikage penalty) in Part (b) fropm HW 3? Is there a difference between coefficients estimated by the two shrinkage methods? If so, give an explantion for the difference.\n",
    "- List the predictors that are assigned a coefficient value close to 0 (say < 1e-10) by the two methods. How closely do these predictors match the redundant predictors (if any) identified in Part (c) from HW 3?\n",
    "- Is there a difference in the way Ridge and Lasso regression assign coefficients to the predictors `temp` and `atemp`? If so, explain the reason for the difference.\n",
    "\n",
    "We next analyze the performance of the two shrinkage methods for different training sample sizes:\n",
    "- Generate random samples of sizes 100, 150, ..., 400 from the training set. You may use the following code to draw a random sample of a specified size from the training set:"
   ]
  },
  {
   "cell_type": "code",
   "execution_count": 47,
   "metadata": {
    "collapsed": true
   },
   "outputs": [],
   "source": [
    "#--------  sample\n",
    "# A function to select a random sample of size k from the training set\n",
    "# Input: \n",
    "#      x (n x d array of predictors in training data)\n",
    "#      y (n x 1 array of response variable vals in training data)\n",
    "#      k (size of sample) \n",
    "# Return: \n",
    "#      chosen sample of predictors and responses\n",
    "\n",
    "def sample(x, y, k):\n",
    "    n = x.shape[0] # No. of training points\n",
    "    \n",
    "    # Choose random indices of size 'k'\n",
    "    subset_ind = np.random.choice(np.arange(n), k)\n",
    "    \n",
    "    # Get predictors and reponses with the indices\n",
    "    x_subset = x[subset_ind, :]\n",
    "    y_subset = y[subset_ind]\n",
    "    \n",
    "    return (x_subset, y_subset)"
   ]
  },
  {
   "cell_type": "markdown",
   "metadata": {},
   "source": [
    "- Fit linear, Ridge and Lasso regression models to each of the generated sample. In each case, compute the $R^2$ score for the model on the training sample on which it was fitted, and on the test set.\n",
    "- Repeat the above experiment for 10 random trials/splits, and compute the average train and test $R^2$ across the trials for each training sample size. Also, compute the standard deviation (SD) in each case.\n",
    "- Make a plot of the mean training $R^2$ scores for the linear, Ridge and Lasso regression methods as a function of the training sample size. Also, show a confidence interval for the mean scores extending from **mean - SD** to **mean + SD**. Make a similar plot for the test $R^2$ scores.\n",
    "\n",
    "How do the training and test $R^2$ scores compare for the three methods? Give an explanation for your observations. How do the confidence intervals for the estimated $R^2$ change with training sample size? Based on the plots, which of the three methods would you recommend when one needs to fit a regression model using a small training sample?\n",
    "\n",
    "*Hint:* You may use `sklearn`'s `RidgeCV` and `LassoCV` classes to implement Ridge and Lasso regression. These classes automatically perform cross-validation to tune the parameter $\\lambda$ from a given range of values. You may use the `plt.errorbar` function to plot confidence bars for the average $R^2$ scores."
   ]
  },
  {
   "cell_type": "code",
   "execution_count": 100,
   "metadata": {},
   "outputs": [
    {
     "name": "stdout",
     "output_type": "stream",
     "text": [
      "Best alpha by cross-validation is 10.0\n"
     ]
    },
    {
     "data": {
      "text/plain": [
       "[('holiday', 190.28648060467356),\n",
       " ('workingday', 892.31877511642142),\n",
       " ('temp', 591.26042368087428),\n",
       " ('atemp', 439.77437453706625),\n",
       " ('humidity', -612.31877634957482),\n",
       " ('windspeed', -266.3988174625531),\n",
       " ('summer', 735.00996494290882),\n",
       " ('fall', 724.82079895252366),\n",
       " ('winter', 1092.5593870564771),\n",
       " ('Feb', 88.599016802004741),\n",
       " ('Mar', 401.42104591235778),\n",
       " ('Apr', 476.76004988645667),\n",
       " ('May', 314.05647793012002),\n",
       " ('Jun', -79.329032239738581),\n",
       " ('Jul', -320.46635009341776),\n",
       " ('Aug', 35.653263521271413),\n",
       " ('Sep', 878.07788313259448),\n",
       " ('Oct', 779.1867077191273),\n",
       " ('Nov', 291.12455560640035),\n",
       " ('Dec', 53.820500860828361),\n",
       " ('mon', 607.11133583920446),\n",
       " ('tue', 62.197794983915941),\n",
       " ('wed', 305.48790358012627),\n",
       " ('thu', 192.50459950222665),\n",
       " ('fri', 145.99203044757667),\n",
       " ('sat', 970.34384503403135),\n",
       " ('cloud', 128.82367457718135),\n",
       " ('light', -575.78056256013156),\n",
       " ('Constant', 2660.0604365943304)]"
      ]
     },
     "execution_count": 100,
     "metadata": {},
     "output_type": "execute_result"
    }
   ],
   "source": [
    "kf = KFold(n_splits=10)\n",
    "alphaOps = [.00001, .0001, .001, .01, .1, 1, 10, 100, 1000, 10000, 100000]\n",
    "\n",
    "r2_all_pred = []\n",
    "for train_index, test_index in kf.split(train):\n",
    "    train_set = train.loc[train_index]\n",
    "    test_set = train.loc[test_index]\n",
    "    y = train_set['count']\n",
    "    x = list(train_set.columns)\n",
    "    x.remove('count')\n",
    "    X = sm.add_constant(train_set[x])\n",
    "    X_test = sm.add_constant(test_set[x])\n",
    "    model = RidgeCV(alphas=alphaOps, fit_intercept=False).fit(X, y)\n",
    "    r2 = model.score(X_test, test_set['count'])\n",
    "#     r2 = r2_score(y_true=test_set['count'], y_pred=model.predict(X_test))\n",
    "    r2_all_pred.append(r2)\n",
    "\n",
    "coefs = []\n",
    "for param in range(len(x)):\n",
    "    coefs.append((x[param], model.coef_[param + 1]))\n",
    "coefs.append(('Constant', model.coef_[0]))\n",
    "\n",
    "print('Best alpha by cross-validation is',model.alpha_)\n",
    "coefs"
   ]
  },
  {
   "cell_type": "code",
   "execution_count": 140,
   "metadata": {},
   "outputs": [
    {
     "name": "stdout",
     "output_type": "stream",
     "text": [
      "Best alpha by cross-validation is 10.0\n"
     ]
    },
    {
     "data": {
      "text/plain": [
       "[('holiday', -105.26541702614796),\n",
       " ('workingday', 275.94040411716873),\n",
       " ('temp', 860.06836566139361),\n",
       " ('atemp', 247.91089162028013),\n",
       " ('humidity', -560.26351425291352),\n",
       " ('windspeed', -259.25749895205644),\n",
       " ('summer', 731.30491379633804),\n",
       " ('fall', 446.89710026836826),\n",
       " ('winter', 998.67770566510217),\n",
       " ('Feb', -0.0),\n",
       " ('Mar', 251.68672976921556),\n",
       " ('Apr', 283.48231902636536),\n",
       " ('May', 0.0),\n",
       " ('Jun', -229.20090993738194),\n",
       " ('Jul', -469.08846880129579),\n",
       " ('Aug', -0.0),\n",
       " ('Sep', 955.40687090638312),\n",
       " ('Oct', 768.9069082553907),\n",
       " ('Nov', 168.20692169174362),\n",
       " ('Dec', -0.0),\n",
       " ('mon', -0.0),\n",
       " ('tue', -0.0),\n",
       " ('wed', 166.04978968242844),\n",
       " ('thu', 7.6874828534299393),\n",
       " ('fri', 0.0),\n",
       " ('sat', 414.73263944538053),\n",
       " ('cloud', -6.8311169614631568),\n",
       " ('light', -1083.9427706381985),\n",
       " ('Constant', 3664.2354919960499)]"
      ]
     },
     "execution_count": 140,
     "metadata": {},
     "output_type": "execute_result"
    }
   ],
   "source": [
    "r2_all_pred = []\n",
    "for train_index, test_index in kf.split(train):\n",
    "    train_set = train.loc[train_index]\n",
    "    test_set = train.loc[test_index]\n",
    "    y = train_set['count']\n",
    "    x = list(train_set.columns)\n",
    "    x.remove('count')\n",
    "    X = sm.add_constant(train_set[x])\n",
    "    X_test = sm.add_constant(test_set[x])\n",
    "    model = LassoCV(alphas=alphaOps, fit_intercept=False).fit(X, y)\n",
    "    r2 = model.score(X_test, test_set['count'])\n",
    "#     r2 = r2_score(y_true=test_set['count'], y_pred=model.predict(X_test))\n",
    "    r2_all_pred.append(r2)\n",
    "\n",
    "coefs = []\n",
    "for param in range(len(x)):\n",
    "    coefs.append((x[param], model.coef_[param + 1]))\n",
    "coefs.append(('Constant', model.coef_[0]))\n",
    "\n",
    "print('Best alpha by cross-validation is',model.alpha_)\n",
    "coefs"
   ]
  },
  {
   "cell_type": "code",
   "execution_count": 187,
   "metadata": {
    "scrolled": true
   },
   "outputs": [],
   "source": [
    "y = train['count']\n",
    "y_test = test['count']\n",
    "x = list(train_set.columns)\n",
    "x.remove('count')\n",
    "X = train_set[x]\n",
    "X_test = sm.add_constant(test[x])\n",
    "columns = ['mean', 'SD', 'Test', 'Type', 'Samples']\n",
    "r2Data = []\n",
    "\n",
    "for num in range(100, 401, 50):\n",
    "    r2_linear_train = []\n",
    "    r2_linear_test = []\n",
    "    r2_ridge_train = []\n",
    "    r2_ridge_test = []\n",
    "    r2_lasso_train = []\n",
    "    r2_lasso_test = []\n",
    "    for i in range(10):\n",
    "        sampleX, sampleY = sample(X.as_matrix(), y, num)\n",
    "        sampleX = sm.add_constant(sampleX)\n",
    "        \n",
    "        model = sm.OLS(sampleY, sampleX).fit()\n",
    "        r2_linear_train.append(r2_score(y_true=sampleY, y_pred= model.predict(sampleX)))\n",
    "        r2_linear_test.append(r2_score(y_true=y_test, y_pred= model.predict(X_test)))\n",
    "        \n",
    "        model = RidgeCV(alphas=alphaOps, fit_intercept=False).fit(sampleX, sampleY)\n",
    "        r2_ridge_train.append(model.score(sampleX, sampleY))\n",
    "        r2_ridge_test.append(model.score(X_test, y_test))\n",
    "        \n",
    "        model = LassoCV(alphas=alphaOps, fit_intercept=False).fit(sampleX, sampleY)\n",
    "        r2_lasso_train.append(model.score(sampleX, sampleY))\n",
    "        r2_lasso_test.append(model.score(X_test, y_test))\n",
    "        \n",
    "    \n",
    "    r2Data += [[np.mean(r2_linear_train),np.std(r2_linear_train),0,'Linear',num],\n",
    "                [np.mean(r2_linear_test),np.std(r2_linear_test),1,'Linear',num],\n",
    "                [np.mean(r2_ridge_train),np.std(r2_ridge_train),0,'Ridge',num],\n",
    "                [np.mean(r2_ridge_test),np.std(r2_ridge_test),1,'Ridge',num],\n",
    "                [np.mean(r2_lasso_train),np.std(r2_lasso_train),0,'Lasso',num],\n",
    "                [np.mean(r2_lasso_test),np.std(r2_lasso_test),1,'Lasso',num],]\n",
    "    \n",
    "r2Data = pd.DataFrame(data = r2Data, columns = columns)"
   ]
  },
  {
   "cell_type": "code",
   "execution_count": 192,
   "metadata": {},
   "outputs": [
    {
     "data": {
      "image/png": "[encoded data removed]",
      "text/plain": [
       "<matplotlib.figure.Figure at 0x122de2978>"
      ]
     },
     "metadata": {},
     "output_type": "display_data"
    }
   ],
   "source": [
    "linearData = r2Data[r2Data['Type'] == 'Linear']\n",
    "ridgeData = r2Data[r2Data['Type'] == 'Ridge']\n",
    "lassoData = r2Data[r2Data['Type'] == 'Lasso']\n",
    "\n",
    "LinTran = plt.scatter(linearData['Samples'][linearData['Test'] == 0], linearData['mean'][linearData['Test'] == 0], c = (0.99, 0.1, 0.1), label = 'Linear Train')\n",
    "LinTest = plt.scatter(linearData['Samples'][linearData['Test'] == 1], linearData['mean'][linearData['Test'] == 1], c = (0.99, 0.5, 0.5), label = 'Linear Test')\n",
    "RidgeTran = plt.scatter(ridgeData['Samples'][ridgeData['Test'] == 0], ridgeData['mean'][ridgeData['Test'] == 0], c = (0.1, 0.99, 0.1), label = 'Ridge Train')\n",
    "RidgeTest = plt.scatter(ridgeData['Samples'][ridgeData['Test'] == 1], ridgeData['mean'][ridgeData['Test'] == 1], c = (0.5, 0.99, 0.5), label = 'Ridge Test')\n",
    "LasTran = plt.scatter(lassoData['Samples'][lassoData['Test'] == 0], lassoData['mean'][lassoData['Test'] == 0], c = (0.1, 0.1, 0.99), label= 'Lasso Train')\n",
    "LasTest = plt.scatter(lassoData['Samples'][lassoData['Test'] == 1], lassoData['mean'][lassoData['Test'] == 1], c = (0.5, 0.5, 0.99), label = 'Lasso Test')\n",
    "plt.title('Samples VS. R^2 Mean')\n",
    "plt.xlabel('# of Samples')\n",
    "plt.ylabel('R^2 Mean')\n",
    "plt.legend(handles=[LinTran, LinTest, RidgeTran, RidgeTest, LasTran, LasTest])\n",
    "plt.errorbar(linearData['Samples'][linearData['Test'] == 0], linearData['mean'][linearData['Test'] == 0], )\n",
    "plt.show()"
   ]
  },
  {
   "cell_type": "markdown",
   "metadata": {},
   "source": [
    "your answers here"
   ]
  },
  {
   "cell_type": "markdown",
   "metadata": {},
   "source": [
    "## Part (g): Polynomial & Interaction Terms\n",
    "\n",
    "Moving beyond linear models, we will now try to improve the performance of the regression model in Part (b) from HW 3 by including higher-order polynomial and interaction terms. \n",
    "\n",
    "- For each continuous predictor $X_j$, include additional polynomial terms $X^2_j$, $X^3_j$, and $X^4_j$, and fit a multiple regression model to the expanded training set. How does the $R^2$ of this model on the test set compare with that of the linear model fitted in Part (b) from HW 3? Using a t-test, find out which of estimated coefficients for the polynomial terms are statistically significant at a significance level of 5%. \n",
    "\n",
    "- Fit a multiple linear regression model with additional interaction terms $\\mathbb{I}_{month = 12} \\times temp$ and $\\mathbb{I}_{workingday = 1} \\times \\mathbb{I}_{weathersit = 1}$ and report the test $R^2$ for the fitted model. How does this compare with the $R^2$ obtained using linear model in Part (b) from HW 3? Are the estimated coefficients for the interaction terms statistically significant at a significance level of 5%?"
   ]
  },
  {
   "cell_type": "code",
   "execution_count": null,
   "metadata": {
    "collapsed": true
   },
   "outputs": [],
   "source": [
    "# your code here"
   ]
  },
  {
   "cell_type": "code",
   "execution_count": null,
   "metadata": {
    "collapsed": true
   },
   "outputs": [],
   "source": [
    "your answers here"
   ]
  },
  {
   "cell_type": "markdown",
   "metadata": {},
   "source": [
    "## Part (h): PCA to deal with high dimensionality\n",
    "\n",
    "We would like to fit a model to include all main effects, polynomial terms up to the $4^{th}$ order, and all interactions between all possible predictors and polynomial terms (not including the interactions between $X^1_j$, $X^2_j$, $X^3_j$, and $X^4_j$ as they would just create higher order polynomial terms).  \n",
    "\n",
    "- Create an expanded training set including all the desired terms mentioned above.  What are the dimensions of this 'design matrix' of all the predictor variables?   What are the issues with attempting to fit a regression model using all of these predictors?\n",
    "\n",
    "- Instead of using the usual approaches for model selection, let's instead use principal components analysis (PCA) to fit the model.  First, create the principal component vectors in python (consider: should you normalize first?).  Then fit 5 different regression models: (1) using just the first PCA vector, (2) using the first two PCA vectors, (3) using the first three PCA vectors, etc...  Briefly summarize how these models compare in the training set.\n",
    "\n",
    "- Use the test set to decide which of the 5 models above is best to predict out of sample.  How does this model compare to the previous models you've fit?  What are the interpretations of this model's coefficients?"
   ]
  },
  {
   "cell_type": "code",
   "execution_count": null,
   "metadata": {
    "collapsed": true
   },
   "outputs": [],
   "source": [
    "#your code here"
   ]
  },
  {
   "cell_type": "markdown",
   "metadata": {},
   "source": [
    "your answers here"
   ]
  },
  {
   "cell_type": "markdown",
   "metadata": {},
   "source": [
    "## Part (i): Beyond Squared Error\n",
    "\n",
    "We have seen in class that the multiple linear regression method optimizes the Mean Squared Error (MSE) on the training set. Consider the following alternate evaluation metric, referred to as the Root Mean Squared Logarthmic Error (RMSLE):\n",
    "\n",
    "$$\n",
    "\\sqrt{\\frac{1}{n}\\sum_{i=1}^n (log(y_i+1) - log(\\hat{y}_i+1))^2}.\n",
    "$$\n",
    "\n",
    "The *lower* the RMSLE the *better* is the performance of a model. The RMSLE penalizes errors on smaller responses more heavily than errors on larger responses. For example, the RMSLE penalizes a prediction of $\\hat{y} = 15$ for a true response of $y=10$ more heavily than a prediction of $\\hat{y} = 105$ for a true response of $100$, though the difference in predicted and true responses are the same in both cases. \n",
    "\n",
    "This is a natural evaluation metric for bike share demand prediction, as in this application, it is more important that the prediction model is accurate on days where the demand is low (so that the few customers who arrive are served satisfactorily), compared to days on which the demand is high (when it is less damaging to lose out on some customers).\n",
    "\n",
    "The following code computes the RMSLE for you:"
   ]
  },
  {
   "cell_type": "code",
   "execution_count": 2,
   "metadata": {
    "collapsed": true
   },
   "outputs": [],
   "source": [
    "#--------  rmsle\n",
    "# A function for evaluating Root Mean Squared Logarithmic Error (RMSLE)\n",
    "# of the linear regression model on a data set\n",
    "# Input: \n",
    "#      y_test (n x 1 array of response variable vals in testing data)\n",
    "#      y_pred (n x 1 array of response variable vals in testing data)\n",
    "# Return: \n",
    "#      RMSLE (float) \n",
    "\n",
    "def rmsle(y, y_pred):     \n",
    "    # Evaluate sqaured error, against target labels\n",
    "    # rmsle = \\sqrt(1/n \\sum_i (log (y[i]+1) - log (y_pred[i]+1))^2)\n",
    "    rmsle_ = np.sqrt(np.mean(np.square(np.log(y+1) - np.log(y_pred+1))))\n",
    "    \n",
    "    return rmsle_"
   ]
  },
  {
   "cell_type": "markdown",
   "metadata": {},
   "source": [
    "Use the above code to compute the training and test RMSLE for the polynomial regression model you fit in Part (g). \n",
    "\n",
    "You are required to develop a strategy to fit a regression model by optimizing the RMSLE on the training set. Give a justification for your proposed approach. Does the model fitted using your approach yield lower train RMSLE than the model in Part (g)? How about the test RMSLE of the new model? \n",
    "\n",
    "**Note:** We do not require you to implement a new regression solver for RMSLE. Instead, we ask you to think about ways to use existing built-in functions to fit a model that performs well on RMSLE. Your regression model may use the same polynomial terms used in Part (g)."
   ]
  },
  {
   "cell_type": "code",
   "execution_count": null,
   "metadata": {
    "collapsed": true
   },
   "outputs": [],
   "source": [
    "# your code here"
   ]
  },
  {
   "cell_type": "markdown",
   "metadata": {},
   "source": [
    "your answers here"
   ]
  },
  {
   "cell_type": "markdown",
   "metadata": {},
   "source": [
    "## Part (j): Dealing with Erroneous Labels\n",
    "\n",
    "Due to occasional system crashes, some of the bike counts reported in the data set have been recorded manually. These counts are not very unreliable and are prone to errors. It is known that roughly 5% of the labels in the training set are erroneous (i.e. can be arbitrarily different from the true counts), while all the labels in the test set were confirmed to be accurate. Unfortunately, the identities of the erroneous records in the training set are not available. Can this information about presence of 5% errors in the training set labels (without details about the specific identities of the erroneous rows) be used to improve the performance of the model in Part (g)? Note that we are interested in improving the $R^2$ performance of the model on the test set (not the training $R^2$ score). \n",
    "\n",
    "As a final task, we require you to come up with a strategy to fit a regression model, taking into account the errors in the training set labels. Explain the intuition behind your approach (we do not expect a detailed mathematical justification). Use your approach to fit a regression model on the training set, and compare its test $R^2$ with the model in Part (g).\n",
    "\n",
    "**Note:** Again, we do not require you to implement a new regression solver for handling erroneous labels. It is sufficient that you to come up with an approach that uses existing built-in functions. Your regression model may use the same polynomial terms used in Part (g)."
   ]
  },
  {
   "cell_type": "code",
   "execution_count": null,
   "metadata": {
    "collapsed": true
   },
   "outputs": [],
   "source": [
    "# your code here"
   ]
  },
  {
   "cell_type": "code",
   "execution_count": null,
   "metadata": {
    "collapsed": true
   },
   "outputs": [],
   "source": [
    "your answers here"
   ]
  },
  {
   "cell_type": "markdown",
   "metadata": {},
   "source": [
    "---\n",
    "--_"
   ]
  },
  {
   "cell_type": "markdown",
   "metadata": {},
   "source": [
    "# APCOMP209a - Homework Question"
   ]
  },
  {
   "cell_type": "markdown",
   "metadata": {},
   "source": [
    "\n",
    "\n",
    "##  Question 1: Student's t MLE\n",
    "\n",
    "Use Maximum Likelihood Estimation to generate a linear regression model on the data provided in ``beerdata.csv`` considering two statistical models for noise: a) iid Normal and b) iid Student's t-distribution with $\\nu=5$ and scale factor σ=0.5.  \n",
    "\n",
    "Compare the two models performances and comment why it is perhaps appropriate to use the Student's t-distribution instead of the Normal? \n",
    "\n",
    "\n",
    "\n",
    "\n",
    "\n",
    "HINTS:\n",
    "1. Use the probability density function for the Student's t distribution  with location μ and scale factor σ.\n",
    "2. If the MLE regressions coefficients can not be derived analytically consider numerical methods.\n",
    "3. You can use sklearn or statsmodel for the Normal case \n",
    "\n",
    "\n"
   ]
  },
  {
   "cell_type": "markdown",
   "metadata": {},
   "source": [
    "## Question 2 (continued from HW2) \n",
    "\n",
    "Read sections 1 and 2 of this [paper](https://www.researchgate.net/profile/Roberto_Togneri/publication/45094554_Linear_Regression_for_Face_Recognition/links/09e4150d243bd8b987000000/Linear-Regression-for-Face-Recognition.pdf). \n",
    "\n",
    "Briefly, the model leverages the concept that \"patterns from a single-object class lie on a linear subspace.\"   It also makes use of the idea of linear regression as a problem about projections.  In this case, given a vector $y$, the goal is to find the subspace induced by $\\mathrm{Col} \\, \\mathbf X$ that produced the 'closest' projection vector $\\widehat y$ to the original $y$.  \n",
    "\n",
    "### Question 2a\n",
    "\n",
    "As discussed in the paper, our face dataset contains cleaned images of faces belonging to different people. Assuming that patterns (faces) from one class (person) are elements of the same subspace, let's try to classify an unknown face using the method presented in the paper.  For each class $i$, we need to:\n",
    "\n",
    "1. construct the $\\mathbf H_i$ hat matrix from known faces, being careful to follow the column concatenation step described in the paper to convert an image into its vector representation;\n",
    "2. calculate the predicted $\\widehat y_i$, the closest vector in $\\mathrm{Col} \\, \\mathbf X_i$ to $y$; and\n",
    "3. calculate the magnitude of the difference vector between $y$ and $\\widehat y_i$.\n",
    "\n",
    "You should then be able to make a classification decision.\n",
    "\n",
    "**Notes:**\n",
    "- Use the provided code to download and re-sample the dataset.\n",
    "- Follow the normalisation step in the paper to ensure the \"maximum pixel value is 1\".\n",
    "- Your classifier should have approximately an 80% accuracy.\n",
    "- Use the image plotting library of matplotlib to display one (or two) correctly classified faces and the known faces.\n",
    "- Use the image plotting library of matplotlib to display one (or two) incorrectly classified faces and the known faces.\n",
    "    \n",
    "### Question 2b - Significant Faces\n",
    "Select an example of a correctly classified face. Use statsmodels to investigate the most predictive columns (faces) that the model used in this regression:\n",
    "\n",
    "(i) Which columns (i.e. faces) make the highest contribution to the projection?\n",
    "\n",
    "(ii) Which columns (i.e. faces) are the least useful in making this projection?\n",
    "\n",
    "Plot the correctly assigned face, and the two faces from the questions (i) and (ii). What do you notice about these faces?"
   ]
  },
  {
   "cell_type": "code",
   "execution_count": 6,
   "metadata": {
    "collapsed": true
   },
   "outputs": [],
   "source": [
    "from io import BytesIO\n",
    "from zipfile import ZipFile\n",
    "import urllib\n",
    "import os\n",
    "\n",
    "# Note that you may need to run the following command to install Python Image Library (PIL)\n",
    "#pip install Pillow\n",
    "from PIL import Image\n",
    "import numpy as np\n",
    "from sklearn.cross_validation import train_test_split\n",
    "\n",
    "import matplotlib\n",
    "import matplotlib.pyplot as plt\n",
    "\n",
    "%matplotlib inline"
   ]
  },
  {
   "cell_type": "code",
   "execution_count": 7,
   "metadata": {
    "collapsed": true
   },
   "outputs": [],
   "source": [
    "# starter functions provided to students\n",
    "def rgb2gray(rgb):\n",
    "    '''\n",
    "    function to convert RGB image to gray scale\n",
    "    accepts 3D numpy array and returns 2D array with same dimensions\n",
    "    as the first two dimensions of input\n",
    "    '''\n",
    "    \n",
    "    return np.dot(rgb[...,:3], [0.299, 0.587, 0.114])\n",
    "\n",
    "def fetch_and_read_data(shape=(50,30)):\n",
    "    \n",
    "    '''\n",
    "    Function to download image data, store in a local folder (note this is 18.4mb), only download the data when\n",
    "    the local folder is not present, read in the images, downsample them to the specified shape (default = (50x30) (rows x cols))\n",
    "    and finally split them into a four tuple return object.\n",
    "    \n",
    "    Returns:\n",
    "        - 1) training image data (i.e. images that should form the predictor matrix in your solution)\n",
    "        - 2) training image data labels (i.e. labels from 1 to 50 that identify which face (1) belongs to)\n",
    "        - 3) testing image data (i.e. data that you should use to try and classify - note this forms the predictor variable in your regression)\n",
    "        - 4) testing image data labels (i.e. the labels for (3) - this is to allow you to evaluate your model)\n",
    "    \n",
    "    ___________________\n",
    "    Aside:\n",
    "    If you want to change the sampling dimensions of your data, pass the shape = (x,y) argument to the method where\n",
    "    y is the number of columns and x is the number of rows in the image.\n",
    "    '''\n",
    "    \n",
    "    if not os.path.exists('./cropped_faces'):\n",
    "        url = urllib.request.urlopen(\"http://www.anefian.com/research/GTdb_crop.zip\")\n",
    "        \n",
    "        zipfile = ZipFile(BytesIO(url.read()))\n",
    "        zipfile.extractall()\n",
    "     \n",
    "    data = []\n",
    "    labels = []\n",
    "    \n",
    "    files = os.listdir('cropped_faces')\n",
    "    for f in files:\n",
    "        if '.jpg' in f:\n",
    "            image = Image.open('cropped_faces/' + f)\n",
    "            image = image.resize((shape[1], shape[0]))\n",
    "            data.append(rgb2gray(np.asarray(image)))\n",
    "            labels.append(int(f.split('_')[0][1:]) - 1)\n",
    "            \n",
    "    data = np.array(data)\n",
    "    \n",
    "    trainX, testX, trainY, testY = train_test_split(data, labels, test_size=0.2, stratify=labels)\n",
    "    return np.array(trainX), np.array(testX), np.array(trainY), np.array(testY)"
   ]
  },
  {
   "cell_type": "code",
   "execution_count": 8,
   "metadata": {},
   "outputs": [
    {
     "data": {
      "image/png": "[encoded data removed]",
      "text/plain": [
       "<matplotlib.figure.Figure at 0x10d663630>"
      ]
     },
     "metadata": {},
     "output_type": "display_data"
    }
   ],
   "source": [
    "# starter code for the students\n",
    "train_dataset, test_dataset, train_labels, test_labels = fetch_and_read_data()\n",
    "\n",
    "# code to plot some of the images\n",
    "fig, axes = plt.subplots(2,4,figsize=(10,5))\n",
    "axes = axes.flatten()\n",
    "[axes[i].imshow(train_dataset[i], cmap='gray') for i in range(len(axes))]\n",
    "plt.show()"
   ]
  },
  {
   "cell_type": "code",
   "execution_count": null,
   "metadata": {
    "collapsed": true
   },
   "outputs": [],
   "source": []
  }
 ],
 "metadata": {
  "anaconda-cloud": {},
  "kernelspec": {
   "display_name": "Python 3",
   "language": "python",
   "name": "python3"
  },
  "language_info": {
   "codemirror_mode": {
    "name": "ipython",
    "version": 3
   },
   "file_extension": ".py",
   "mimetype": "text/x-python",
   "name": "python",
   "nbconvert_exporter": "python",
   "pygments_lexer": "ipython3",
   "version": "3.6.1"
  }
 },
 "nbformat": 4,
 "nbformat_minor": 1
}
