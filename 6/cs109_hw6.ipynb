{
 "cells": [
  {
   "cell_type": "markdown",
   "metadata": {},
   "source": [
    "# CS 109A/STAT 121A/AC 209A/CSCI E-109A: Homework 6\n",
    "# Reg-Logistic Regression, ROC, and Data Imputation\n",
    "\n",
    "**Harvard University**<br/>\n",
    "**Fall 2017**<br/>\n",
    "**Instructors**: Pavlos Protopapas, Kevin Rader, Rahul Dave, Margo Levine\n",
    "\n",
    "---\n",
    "\n",
    "### INSTRUCTIONS\n",
    "\n",
    "- To submit your assignment follow the instructions given in canvas.\n",
    "- Restart the kernel and run the whole notebook again before you submit. \n",
    "- Do not include your name(s) in the notebook if you are submitting as a group. \n",
    "- If you submit individually and you have worked with someone, please include the name of your [one] partner below. \n",
    "\n",
    "---"
   ]
  },
  {
   "cell_type": "markdown",
   "metadata": {},
   "source": [
    "Your partner's name (if you submit separately):\n",
    "\n",
    "Enrollment Status (109A, 121A, 209A, or E109A):109A"
   ]
  },
  {
   "cell_type": "markdown",
   "metadata": {},
   "source": [
    "Import libraries:"
   ]
  },
  {
   "cell_type": "code",
   "execution_count": 1,
   "metadata": {
    "collapsed": true
   },
   "outputs": [],
   "source": [
    "import numpy as np\n",
    "import pandas as pd\n",
    "import matplotlib\n",
    "import matplotlib.pyplot as plt\n",
    "from sklearn.linear_model import LogisticRegressionCV\n",
    "import sklearn.metrics as metrics\n",
    "from sklearn.preprocessing import PolynomialFeatures\n",
    "from sklearn.discriminant_analysis import LinearDiscriminantAnalysis\n",
    "from sklearn.discriminant_analysis import QuadraticDiscriminantAnalysis\n",
    "from sklearn.neighbors import KNeighborsClassifier\n",
    "from sklearn.tree import DecisionTreeClassifier\n",
    "from sklearn.model_selection import cross_val_score\n",
    "from sklearn.metrics import accuracy_score\n",
    "from sklearn.metrics import roc_curve, auc\n",
    "from sklearn.metrics import roc_auc_score\n",
    "from math import isclose\n",
    "\n",
    "\n",
    "from sklearn.tree import export_graphviz\n",
    "from IPython.display import Image\n",
    "from IPython.display import display\n",
    "%matplotlib inline"
   ]
  },
  {
   "cell_type": "markdown",
   "metadata": {},
   "source": [
    "## Automated Breast Cancer Detection\n",
    "\n",
    "In this homework, we will consider the problem of early breast cancer detection from X-ray images. Specifically, given a candidate region of interest (ROI) from an X-ray image of a patient's breast, the goal is to predict if the region corresponds to a malignant tumor (label 1) or is normal (label 0). The training and test data sets for this problem is provided in the file `hw6_dataset.csv`. Each row in these files corresponds to a ROI in a patient's X-ray, with columns 1-117 containing features computed using standard image processing algorithms. The last column contains the class label, and is based on a radiologist's opinion or a biopsy. This data was obtained from the KDD Cup 2008 challenge.\n",
    "\n",
    "The data set contain a total of 69,098 candidate ROIs, of which only 409 are malignant, while the remaining are all normal. \n",
    "\n",
    "*Note*: be careful of reading/treating column names and row names in this data set."
   ]
  },
  {
   "cell_type": "code",
   "execution_count": 2,
   "metadata": {
    "collapsed": true
   },
   "outputs": [],
   "source": [
    "data = pd.read_csv('hw6_dataset.csv',header=None )"
   ]
  },
  {
   "cell_type": "code",
   "execution_count": 3,
   "metadata": {
    "collapsed": true
   },
   "outputs": [],
   "source": [
    "data.rename(columns={117:'class'}, inplace=True)"
   ]
  },
  {
   "cell_type": "code",
   "execution_count": 4,
   "metadata": {},
   "outputs": [
    {
     "data": {
      "text/html": [
       "<div>\n",
       "<style>\n",
       "    .dataframe thead tr:only-child th {\n",
       "        text-align: right;\n",
       "    }\n",
       "\n",
       "    .dataframe thead th {\n",
       "        text-align: left;\n",
       "    }\n",
       "\n",
       "    .dataframe tbody tr th {\n",
       "        vertical-align: top;\n",
       "    }\n",
       "</style>\n",
       "<table border=\"1\" class=\"dataframe\">\n",
       "  <thead>\n",
       "    <tr style=\"text-align: right;\">\n",
       "      <th></th>\n",
       "      <th>0</th>\n",
       "      <th>1</th>\n",
       "      <th>2</th>\n",
       "      <th>3</th>\n",
       "      <th>4</th>\n",
       "      <th>5</th>\n",
       "      <th>6</th>\n",
       "      <th>7</th>\n",
       "      <th>8</th>\n",
       "      <th>9</th>\n",
       "      <th>...</th>\n",
       "      <th>108</th>\n",
       "      <th>109</th>\n",
       "      <th>110</th>\n",
       "      <th>111</th>\n",
       "      <th>112</th>\n",
       "      <th>113</th>\n",
       "      <th>114</th>\n",
       "      <th>115</th>\n",
       "      <th>116</th>\n",
       "      <th>class</th>\n",
       "    </tr>\n",
       "  </thead>\n",
       "  <tbody>\n",
       "    <tr>\n",
       "      <th>0</th>\n",
       "      <td>-0.144</td>\n",
       "      <td>-0.143</td>\n",
       "      <td>-0.1160</td>\n",
       "      <td>-0.1030</td>\n",
       "      <td>0.226</td>\n",
       "      <td>0.210</td>\n",
       "      <td>-0.9800</td>\n",
       "      <td>-0.780</td>\n",
       "      <td>-0.474</td>\n",
       "      <td>-0.447</td>\n",
       "      <td>...</td>\n",
       "      <td>0.925</td>\n",
       "      <td>0.516</td>\n",
       "      <td>0.34400</td>\n",
       "      <td>0.906</td>\n",
       "      <td>-1.1300</td>\n",
       "      <td>-0.552</td>\n",
       "      <td>0.553</td>\n",
       "      <td>-0.417</td>\n",
       "      <td>0.2560</td>\n",
       "      <td>0.0</td>\n",
       "    </tr>\n",
       "    <tr>\n",
       "      <th>1</th>\n",
       "      <td>-0.011</td>\n",
       "      <td>0.138</td>\n",
       "      <td>-0.2230</td>\n",
       "      <td>-0.1730</td>\n",
       "      <td>0.188</td>\n",
       "      <td>0.284</td>\n",
       "      <td>-0.0522</td>\n",
       "      <td>-0.256</td>\n",
       "      <td>0.129</td>\n",
       "      <td>0.427</td>\n",
       "      <td>...</td>\n",
       "      <td>-0.593</td>\n",
       "      <td>0.452</td>\n",
       "      <td>0.00785</td>\n",
       "      <td>-0.533</td>\n",
       "      <td>-0.0789</td>\n",
       "      <td>0.705</td>\n",
       "      <td>0.906</td>\n",
       "      <td>0.216</td>\n",
       "      <td>-0.0723</td>\n",
       "      <td>0.0</td>\n",
       "    </tr>\n",
       "    <tr>\n",
       "      <th>2</th>\n",
       "      <td>0.212</td>\n",
       "      <td>-0.313</td>\n",
       "      <td>0.2660</td>\n",
       "      <td>0.2320</td>\n",
       "      <td>-1.190</td>\n",
       "      <td>-1.150</td>\n",
       "      <td>-1.8100</td>\n",
       "      <td>-1.560</td>\n",
       "      <td>-1.250</td>\n",
       "      <td>-1.200</td>\n",
       "      <td>...</td>\n",
       "      <td>-0.816</td>\n",
       "      <td>1.570</td>\n",
       "      <td>0.39400</td>\n",
       "      <td>1.340</td>\n",
       "      <td>-1.1800</td>\n",
       "      <td>-2.700</td>\n",
       "      <td>-0.926</td>\n",
       "      <td>-2.650</td>\n",
       "      <td>-0.0447</td>\n",
       "      <td>0.0</td>\n",
       "    </tr>\n",
       "    <tr>\n",
       "      <th>3</th>\n",
       "      <td>0.215</td>\n",
       "      <td>-0.184</td>\n",
       "      <td>0.0274</td>\n",
       "      <td>0.0494</td>\n",
       "      <td>0.443</td>\n",
       "      <td>0.463</td>\n",
       "      <td>-1.0500</td>\n",
       "      <td>-0.941</td>\n",
       "      <td>-0.531</td>\n",
       "      <td>-0.394</td>\n",
       "      <td>...</td>\n",
       "      <td>0.634</td>\n",
       "      <td>0.111</td>\n",
       "      <td>0.37100</td>\n",
       "      <td>0.859</td>\n",
       "      <td>-0.9930</td>\n",
       "      <td>-0.492</td>\n",
       "      <td>0.363</td>\n",
       "      <td>0.326</td>\n",
       "      <td>-0.0528</td>\n",
       "      <td>0.0</td>\n",
       "    </tr>\n",
       "    <tr>\n",
       "      <th>4</th>\n",
       "      <td>0.279</td>\n",
       "      <td>-0.197</td>\n",
       "      <td>0.1270</td>\n",
       "      <td>0.0973</td>\n",
       "      <td>-0.213</td>\n",
       "      <td>-0.150</td>\n",
       "      <td>-1.3200</td>\n",
       "      <td>-0.994</td>\n",
       "      <td>-1.110</td>\n",
       "      <td>-1.090</td>\n",
       "      <td>...</td>\n",
       "      <td>-0.640</td>\n",
       "      <td>0.485</td>\n",
       "      <td>0.29500</td>\n",
       "      <td>0.403</td>\n",
       "      <td>-1.1200</td>\n",
       "      <td>-0.343</td>\n",
       "      <td>0.468</td>\n",
       "      <td>-0.820</td>\n",
       "      <td>0.4350</td>\n",
       "      <td>0.0</td>\n",
       "    </tr>\n",
       "  </tbody>\n",
       "</table>\n",
       "<p>5 rows × 118 columns</p>\n",
       "</div>"
      ],
      "text/plain": [
       "       0      1       2       3      4      5       6      7      8      9  \\\n",
       "0 -0.144 -0.143 -0.1160 -0.1030  0.226  0.210 -0.9800 -0.780 -0.474 -0.447   \n",
       "1 -0.011  0.138 -0.2230 -0.1730  0.188  0.284 -0.0522 -0.256  0.129  0.427   \n",
       "2  0.212 -0.313  0.2660  0.2320 -1.190 -1.150 -1.8100 -1.560 -1.250 -1.200   \n",
       "3  0.215 -0.184  0.0274  0.0494  0.443  0.463 -1.0500 -0.941 -0.531 -0.394   \n",
       "4  0.279 -0.197  0.1270  0.0973 -0.213 -0.150 -1.3200 -0.994 -1.110 -1.090   \n",
       "\n",
       "   ...      108    109      110    111     112    113    114    115     116  \\\n",
       "0  ...    0.925  0.516  0.34400  0.906 -1.1300 -0.552  0.553 -0.417  0.2560   \n",
       "1  ...   -0.593  0.452  0.00785 -0.533 -0.0789  0.705  0.906  0.216 -0.0723   \n",
       "2  ...   -0.816  1.570  0.39400  1.340 -1.1800 -2.700 -0.926 -2.650 -0.0447   \n",
       "3  ...    0.634  0.111  0.37100  0.859 -0.9930 -0.492  0.363  0.326 -0.0528   \n",
       "4  ...   -0.640  0.485  0.29500  0.403 -1.1200 -0.343  0.468 -0.820  0.4350   \n",
       "\n",
       "   class  \n",
       "0    0.0  \n",
       "1    0.0  \n",
       "2    0.0  \n",
       "3    0.0  \n",
       "4    0.0  \n",
       "\n",
       "[5 rows x 118 columns]"
      ]
     },
     "execution_count": 4,
     "metadata": {},
     "output_type": "execute_result"
    }
   ],
   "source": [
    "data.head()"
   ]
  },
  {
   "cell_type": "code",
   "execution_count": 5,
   "metadata": {},
   "outputs": [
    {
     "data": {
      "text/html": [
       "<div>\n",
       "<style>\n",
       "    .dataframe thead tr:only-child th {\n",
       "        text-align: right;\n",
       "    }\n",
       "\n",
       "    .dataframe thead th {\n",
       "        text-align: left;\n",
       "    }\n",
       "\n",
       "    .dataframe tbody tr th {\n",
       "        vertical-align: top;\n",
       "    }\n",
       "</style>\n",
       "<table border=\"1\" class=\"dataframe\">\n",
       "  <thead>\n",
       "    <tr style=\"text-align: right;\">\n",
       "      <th></th>\n",
       "      <th>0</th>\n",
       "      <th>1</th>\n",
       "      <th>2</th>\n",
       "      <th>3</th>\n",
       "      <th>4</th>\n",
       "      <th>5</th>\n",
       "      <th>6</th>\n",
       "      <th>7</th>\n",
       "      <th>8</th>\n",
       "      <th>9</th>\n",
       "      <th>...</th>\n",
       "      <th>108</th>\n",
       "      <th>109</th>\n",
       "      <th>110</th>\n",
       "      <th>111</th>\n",
       "      <th>112</th>\n",
       "      <th>113</th>\n",
       "      <th>114</th>\n",
       "      <th>115</th>\n",
       "      <th>116</th>\n",
       "      <th>class</th>\n",
       "    </tr>\n",
       "  </thead>\n",
       "  <tbody>\n",
       "    <tr>\n",
       "      <th>count</th>\n",
       "      <td>69098.000000</td>\n",
       "      <td>69098.000000</td>\n",
       "      <td>69098.000000</td>\n",
       "      <td>69098.000000</td>\n",
       "      <td>69098.000000</td>\n",
       "      <td>69098.000000</td>\n",
       "      <td>69098.000000</td>\n",
       "      <td>69098.000000</td>\n",
       "      <td>69098.000000</td>\n",
       "      <td>69098.000000</td>\n",
       "      <td>...</td>\n",
       "      <td>69098.000000</td>\n",
       "      <td>69098.000000</td>\n",
       "      <td>69098.000000</td>\n",
       "      <td>69098.000000</td>\n",
       "      <td>69098.000000</td>\n",
       "      <td>6.909800e+04</td>\n",
       "      <td>69098.000000</td>\n",
       "      <td>69098.000000</td>\n",
       "      <td>69098.000000</td>\n",
       "      <td>69098.000000</td>\n",
       "    </tr>\n",
       "    <tr>\n",
       "      <th>mean</th>\n",
       "      <td>-0.001000</td>\n",
       "      <td>-0.001319</td>\n",
       "      <td>0.000782</td>\n",
       "      <td>0.000313</td>\n",
       "      <td>-0.003161</td>\n",
       "      <td>-0.002642</td>\n",
       "      <td>0.000845</td>\n",
       "      <td>-0.000382</td>\n",
       "      <td>0.002176</td>\n",
       "      <td>0.002582</td>\n",
       "      <td>...</td>\n",
       "      <td>0.002565</td>\n",
       "      <td>-0.001242</td>\n",
       "      <td>-0.001661</td>\n",
       "      <td>0.002460</td>\n",
       "      <td>-0.000910</td>\n",
       "      <td>-6.900981e-08</td>\n",
       "      <td>-0.001279</td>\n",
       "      <td>0.000268</td>\n",
       "      <td>0.000844</td>\n",
       "      <td>0.005919</td>\n",
       "    </tr>\n",
       "    <tr>\n",
       "      <th>std</th>\n",
       "      <td>1.211806</td>\n",
       "      <td>1.057307</td>\n",
       "      <td>1.025779</td>\n",
       "      <td>1.033022</td>\n",
       "      <td>0.983596</td>\n",
       "      <td>0.988935</td>\n",
       "      <td>0.999774</td>\n",
       "      <td>0.998935</td>\n",
       "      <td>1.005915</td>\n",
       "      <td>1.004493</td>\n",
       "      <td>...</td>\n",
       "      <td>1.003114</td>\n",
       "      <td>0.999678</td>\n",
       "      <td>0.998775</td>\n",
       "      <td>1.003224</td>\n",
       "      <td>1.000273</td>\n",
       "      <td>9.994056e-01</td>\n",
       "      <td>1.000918</td>\n",
       "      <td>0.999318</td>\n",
       "      <td>1.024488</td>\n",
       "      <td>0.076708</td>\n",
       "    </tr>\n",
       "    <tr>\n",
       "      <th>min</th>\n",
       "      <td>-316.000000</td>\n",
       "      <td>-147.000000</td>\n",
       "      <td>-71.400000</td>\n",
       "      <td>-81.400000</td>\n",
       "      <td>-3.080000</td>\n",
       "      <td>-9.120000</td>\n",
       "      <td>-2.070000</td>\n",
       "      <td>-1.910000</td>\n",
       "      <td>-1.570000</td>\n",
       "      <td>-1.500000</td>\n",
       "      <td>...</td>\n",
       "      <td>-15.200000</td>\n",
       "      <td>-7.460000</td>\n",
       "      <td>-32.900000</td>\n",
       "      <td>-7.780000</td>\n",
       "      <td>-1.220000</td>\n",
       "      <td>-4.710000e+00</td>\n",
       "      <td>-5.450000</td>\n",
       "      <td>-6.340000</td>\n",
       "      <td>-23.200000</td>\n",
       "      <td>0.000000</td>\n",
       "    </tr>\n",
       "    <tr>\n",
       "      <th>25%</th>\n",
       "      <td>-0.064700</td>\n",
       "      <td>-0.040900</td>\n",
       "      <td>-0.253000</td>\n",
       "      <td>-0.214000</td>\n",
       "      <td>-0.569000</td>\n",
       "      <td>-0.553000</td>\n",
       "      <td>-0.532000</td>\n",
       "      <td>-0.597000</td>\n",
       "      <td>-0.711000</td>\n",
       "      <td>-0.728000</td>\n",
       "      <td>...</td>\n",
       "      <td>-0.458000</td>\n",
       "      <td>-0.491000</td>\n",
       "      <td>-0.334000</td>\n",
       "      <td>-0.520000</td>\n",
       "      <td>-0.857000</td>\n",
       "      <td>-2.470000e-01</td>\n",
       "      <td>-0.606000</td>\n",
       "      <td>-0.097875</td>\n",
       "      <td>-0.259000</td>\n",
       "      <td>0.000000</td>\n",
       "    </tr>\n",
       "    <tr>\n",
       "      <th>50%</th>\n",
       "      <td>0.024400</td>\n",
       "      <td>0.103000</td>\n",
       "      <td>0.095600</td>\n",
       "      <td>0.085000</td>\n",
       "      <td>-0.099200</td>\n",
       "      <td>-0.098800</td>\n",
       "      <td>0.013700</td>\n",
       "      <td>-0.075300</td>\n",
       "      <td>-0.227000</td>\n",
       "      <td>-0.235000</td>\n",
       "      <td>...</td>\n",
       "      <td>-0.102000</td>\n",
       "      <td>0.161000</td>\n",
       "      <td>0.205000</td>\n",
       "      <td>-0.269000</td>\n",
       "      <td>-0.132000</td>\n",
       "      <td>3.210000e-01</td>\n",
       "      <td>0.269000</td>\n",
       "      <td>0.326000</td>\n",
       "      <td>-0.142000</td>\n",
       "      <td>0.000000</td>\n",
       "    </tr>\n",
       "    <tr>\n",
       "      <th>75%</th>\n",
       "      <td>0.094200</td>\n",
       "      <td>0.176000</td>\n",
       "      <td>0.360750</td>\n",
       "      <td>0.313000</td>\n",
       "      <td>0.450000</td>\n",
       "      <td>0.434000</td>\n",
       "      <td>0.582000</td>\n",
       "      <td>0.513000</td>\n",
       "      <td>0.488000</td>\n",
       "      <td>0.498000</td>\n",
       "      <td>...</td>\n",
       "      <td>0.322000</td>\n",
       "      <td>0.559000</td>\n",
       "      <td>0.399000</td>\n",
       "      <td>0.134000</td>\n",
       "      <td>0.645000</td>\n",
       "      <td>6.450000e-01</td>\n",
       "      <td>0.801000</td>\n",
       "      <td>0.583000</td>\n",
       "      <td>0.006707</td>\n",
       "      <td>0.000000</td>\n",
       "    </tr>\n",
       "    <tr>\n",
       "      <th>max</th>\n",
       "      <td>1.340000</td>\n",
       "      <td>3.750000</td>\n",
       "      <td>2.030000</td>\n",
       "      <td>1.750000</td>\n",
       "      <td>28.000000</td>\n",
       "      <td>26.900000</td>\n",
       "      <td>11.200000</td>\n",
       "      <td>22.200000</td>\n",
       "      <td>16.700000</td>\n",
       "      <td>22.500000</td>\n",
       "      <td>...</td>\n",
       "      <td>13.000000</td>\n",
       "      <td>6.310000</td>\n",
       "      <td>17.000000</td>\n",
       "      <td>10.600000</td>\n",
       "      <td>17.700000</td>\n",
       "      <td>1.410000e+00</td>\n",
       "      <td>1.440000</td>\n",
       "      <td>1.420000</td>\n",
       "      <td>40.600000</td>\n",
       "      <td>1.000000</td>\n",
       "    </tr>\n",
       "  </tbody>\n",
       "</table>\n",
       "<p>8 rows × 118 columns</p>\n",
       "</div>"
      ],
      "text/plain": [
       "                  0             1             2             3             4  \\\n",
       "count  69098.000000  69098.000000  69098.000000  69098.000000  69098.000000   \n",
       "mean      -0.001000     -0.001319      0.000782      0.000313     -0.003161   \n",
       "std        1.211806      1.057307      1.025779      1.033022      0.983596   \n",
       "min     -316.000000   -147.000000    -71.400000    -81.400000     -3.080000   \n",
       "25%       -0.064700     -0.040900     -0.253000     -0.214000     -0.569000   \n",
       "50%        0.024400      0.103000      0.095600      0.085000     -0.099200   \n",
       "75%        0.094200      0.176000      0.360750      0.313000      0.450000   \n",
       "max        1.340000      3.750000      2.030000      1.750000     28.000000   \n",
       "\n",
       "                  5             6             7             8             9  \\\n",
       "count  69098.000000  69098.000000  69098.000000  69098.000000  69098.000000   \n",
       "mean      -0.002642      0.000845     -0.000382      0.002176      0.002582   \n",
       "std        0.988935      0.999774      0.998935      1.005915      1.004493   \n",
       "min       -9.120000     -2.070000     -1.910000     -1.570000     -1.500000   \n",
       "25%       -0.553000     -0.532000     -0.597000     -0.711000     -0.728000   \n",
       "50%       -0.098800      0.013700     -0.075300     -0.227000     -0.235000   \n",
       "75%        0.434000      0.582000      0.513000      0.488000      0.498000   \n",
       "max       26.900000     11.200000     22.200000     16.700000     22.500000   \n",
       "\n",
       "           ...                108           109           110           111  \\\n",
       "count      ...       69098.000000  69098.000000  69098.000000  69098.000000   \n",
       "mean       ...           0.002565     -0.001242     -0.001661      0.002460   \n",
       "std        ...           1.003114      0.999678      0.998775      1.003224   \n",
       "min        ...         -15.200000     -7.460000    -32.900000     -7.780000   \n",
       "25%        ...          -0.458000     -0.491000     -0.334000     -0.520000   \n",
       "50%        ...          -0.102000      0.161000      0.205000     -0.269000   \n",
       "75%        ...           0.322000      0.559000      0.399000      0.134000   \n",
       "max        ...          13.000000      6.310000     17.000000     10.600000   \n",
       "\n",
       "                112           113           114           115           116  \\\n",
       "count  69098.000000  6.909800e+04  69098.000000  69098.000000  69098.000000   \n",
       "mean      -0.000910 -6.900981e-08     -0.001279      0.000268      0.000844   \n",
       "std        1.000273  9.994056e-01      1.000918      0.999318      1.024488   \n",
       "min       -1.220000 -4.710000e+00     -5.450000     -6.340000    -23.200000   \n",
       "25%       -0.857000 -2.470000e-01     -0.606000     -0.097875     -0.259000   \n",
       "50%       -0.132000  3.210000e-01      0.269000      0.326000     -0.142000   \n",
       "75%        0.645000  6.450000e-01      0.801000      0.583000      0.006707   \n",
       "max       17.700000  1.410000e+00      1.440000      1.420000     40.600000   \n",
       "\n",
       "              class  \n",
       "count  69098.000000  \n",
       "mean       0.005919  \n",
       "std        0.076708  \n",
       "min        0.000000  \n",
       "25%        0.000000  \n",
       "50%        0.000000  \n",
       "75%        0.000000  \n",
       "max        1.000000  \n",
       "\n",
       "[8 rows x 118 columns]"
      ]
     },
     "execution_count": 5,
     "metadata": {},
     "output_type": "execute_result"
    }
   ],
   "source": [
    "# observe data is already roughly normalized and does not include missing values so no processing needs to happen\n",
    "data.describe()"
   ]
  },
  {
   "cell_type": "markdown",
   "metadata": {},
   "source": [
    "## Question 1: Beyond Classification Accuracy\n",
    "\n",
    "\n",
    "0.  Split the data set into a training set and a testing set.  The training set should be 75% of the original data set, and the testing set 25%.  Use `np.random.seed(9001)`.\n",
    "\n",
    "1. Fit a logistic regression classifier to the training set and report the  accuracy of the classifier on the test set. You should use $L_2$ regularization in logistic regression, with the regularization parameter tuned using cross-validation. \n",
    "    1. How does the fitted model compare with a classifier that predicts 'normal' (label 0) on all patients? \n",
    "    2. Do you think the difference in the classification accuracies are large enough to declare logistic regression as a better classifier than the all 0's classifier? Why or why not?\n",
    "    \n",
    "For applications with imbalanced class labels, in this case when there are many more healthy subjects ($Y=0$) than those with cancer ($Y=1$), the classification accuracy may not be the best metric to evaluate a classifier's performance. As an alternative, we could analyze the confusion table for the classifier. \n",
    "\n",
    "<ol start=\"3\">\n",
    "<li> Compute the confusion table for both the fitted classifier and the classifier that predicts all 0's.</li>\n",
    "<li> Using the entries of the confusion table compute the *true positive rate* and the *true negative rate* for the two classifiers. Explain what these evaluation metrics mean for the specific task of cancer detection. Based on the observed metrics, comment on whether the fitted model is better than the all 0's classifier.</li>\n",
    "<li> What is the *false positive rate* of the fitted classifier, and how is it related to its true positive and true negative rate? Why is a classifier with high false positive rate undesirable for a cancer detection task?</li>\n",
    "</ol>\n",
    "*Hint:* You may use the `metrics.confusion_matrix` function to compute the confusion matrix for a classification model."
   ]
  },
  {
   "cell_type": "code",
   "execution_count": 42,
   "metadata": {
    "collapsed": true
   },
   "outputs": [],
   "source": [
    "np.random.seed(9001)\n",
    "msk = np.random.rand(len(data)) < 0.75\n",
    "data_train = data[msk]\n",
    "data_test = data[~msk]"
   ]
  },
  {
   "cell_type": "code",
   "execution_count": 50,
   "metadata": {
    "collapsed": true
   },
   "outputs": [],
   "source": [
    "# function for calculating accuracy of classification\n",
    "def accuracy (y, predict):\n",
    "    return 1 - np.sum((predict < .5) != (y == 0))/len(y)"
   ]
  },
  {
   "cell_type": "code",
   "execution_count": 46,
   "metadata": {
    "collapsed": true
   },
   "outputs": [],
   "source": [
    "# split data into X and y\n",
    "y = data_train['class']\n",
    "X = data_train[data_train.columns[data_train.columns != 'class']]\n",
    "y_test = data_test['class']\n",
    "X_test = data_test[data_train.columns[data_train.columns != 'class']]"
   ]
  },
  {
   "cell_type": "code",
   "execution_count": 47,
   "metadata": {},
   "outputs": [
    {
     "data": {
      "text/plain": [
       "LogisticRegressionCV(Cs=10, class_weight=None, cv=None, dual=False,\n",
       "           fit_intercept=True, intercept_scaling=1.0, max_iter=100,\n",
       "           multi_class='ovr', n_jobs=1, penalty='l2', random_state=None,\n",
       "           refit=True, scoring=None, solver='lbfgs', tol=0.0001, verbose=0)"
      ]
     },
     "execution_count": 47,
     "metadata": {},
     "output_type": "execute_result"
    }
   ],
   "source": [
    "# LogisticRegressionCV uses CV to select a regularization parameter. The function uses L2 by default. \n",
    "log = LogisticRegressionCV()\n",
    "log.fit(X, y)"
   ]
  },
  {
   "cell_type": "code",
   "execution_count": 61,
   "metadata": {},
   "outputs": [
    {
     "name": "stdout",
     "output_type": "stream",
     "text": [
      "Logistic Model\n",
      "Training Set Accuracy = 0.995597\n",
      "Test Set Accuracy = 0.995026\n"
     ]
    }
   ],
   "source": [
    "print('Logistic Model')\n",
    "print('Training Set Accuracy = %f' % accuracy(y, log.predict(X)))\n",
    "print('Test Set Accuracy = %f' % accuracy(y_test, log.predict(X_test)))"
   ]
  },
  {
   "cell_type": "code",
   "execution_count": 62,
   "metadata": {},
   "outputs": [
    {
     "name": "stdout",
     "output_type": "stream",
     "text": [
      "Label 0 on all patients\n",
      "Training Set Accuracy = 0.994039\n",
      "Test Set Accuracy = 0.994207\n"
     ]
    }
   ],
   "source": [
    "print('Label 0 on all patients')\n",
    "print('Training Set Accuracy = %f' % accuracy(y, np.zeros(len(X))))\n",
    "print('Test Set Accuracy = %f' % accuracy(y_test, np.zeros(len(X_test))))"
   ]
  },
  {
   "cell_type": "markdown",
   "metadata": {},
   "source": [
    "#### Answers to 2\n",
    "**How does the fitted model compare with a classifier that predicts 'normal' (label 0) on all patients?**\n",
    "\n",
    "The fitted model performs better (as far as classification accuracy is concerned) than the 'normal' model. \n",
    "\n",
    "Do you think the difference in the classification accuracies are large enough to declare logistic regression as a better classifier than the all 0's classifier? Why or why not?\n",
    "\n",
    "I do not think they are. The difference both in train and test sets is $< .001$ when comparing classification accuracy. That is incredibly small difference making it very hard to use as a metric for comparison. \n"
   ]
  },
  {
   "cell_type": "code",
   "execution_count": 68,
   "metadata": {},
   "outputs": [
    {
     "data": {
      "text/plain": [
       "array([[16984,     6],\n",
       "       [   79,    20]])"
      ]
     },
     "execution_count": 68,
     "metadata": {},
     "output_type": "execute_result"
    }
   ],
   "source": [
    "confusion_log = metrics.confusion_matrix(y_test, log.predict(X_test))\n",
    "confusion_log "
   ]
  },
  {
   "cell_type": "code",
   "execution_count": 155,
   "metadata": {},
   "outputs": [
    {
     "data": {
      "text/plain": [
       "array([[16990,     0],\n",
       "       [   99,     0]])"
      ]
     },
     "execution_count": 155,
     "metadata": {},
     "output_type": "execute_result"
    }
   ],
   "source": [
    "confusion_normal = metrics.confusion_matrix(y_test, np.zeros(len(X_test)))\n",
    "confusion_normal"
   ]
  },
  {
   "cell_type": "code",
   "execution_count": 153,
   "metadata": {},
   "outputs": [
    {
     "data": {
      "text/plain": [
       "array([16990,     0,    99,     0])"
      ]
     },
     "execution_count": 153,
     "metadata": {},
     "output_type": "execute_result"
    }
   ],
   "source": [
    "confusion_normal.ravel()"
   ]
  },
  {
   "cell_type": "code",
   "execution_count": 197,
   "metadata": {
    "scrolled": true
   },
   "outputs": [
    {
     "data": {
      "text/plain": [
       "0.20202020202020202"
      ]
     },
     "execution_count": 197,
     "metadata": {},
     "output_type": "execute_result"
    }
   ],
   "source": [
    "tn_log, fp_log, fn_log, tp_log = confusion_log.ravel()\n",
    "tn_norm, fp_norm, fn_norm, tp_norm = confusion_normal.ravel()\n",
    "tpr_log =  tp_log /(tp_log + fn_log)\n",
    "tpr_log"
   ]
  },
  {
   "cell_type": "code",
   "execution_count": 198,
   "metadata": {},
   "outputs": [
    {
     "data": {
      "text/plain": [
       "0.99964685108887585"
      ]
     },
     "execution_count": 198,
     "metadata": {},
     "output_type": "execute_result"
    }
   ],
   "source": [
    "tnr_log= tn_log/(tn_log + fp_log)\n",
    "tnr_log"
   ]
  },
  {
   "cell_type": "code",
   "execution_count": 199,
   "metadata": {},
   "outputs": [
    {
     "data": {
      "text/plain": [
       "0.0"
      ]
     },
     "execution_count": 199,
     "metadata": {},
     "output_type": "execute_result"
    }
   ],
   "source": [
    "tpr_norm =  tp_norm /(tp_norm + fn_norm)\n",
    "tpr_norm"
   ]
  },
  {
   "cell_type": "code",
   "execution_count": 200,
   "metadata": {},
   "outputs": [
    {
     "data": {
      "text/plain": [
       "1.0"
      ]
     },
     "execution_count": 200,
     "metadata": {},
     "output_type": "execute_result"
    }
   ],
   "source": [
    "tnr_norm= tn_norm/(tn_norm + fp_norm)\n",
    "tnr_norm"
   ]
  },
  {
   "cell_type": "markdown",
   "metadata": {},
   "source": [
    "#### Answer to 4\n",
    "\n",
    "The true positive rate means the rate by which the model identifies someone with cancer correctly as positive. The true negative rate means the rate by which the model identifies someone without cancer correctly as negative. We see that the fitted model has a much superior TPR (compared to 0 with the 0's classifier), but has a slightly lower TNR."
   ]
  },
  {
   "cell_type": "code",
   "execution_count": 205,
   "metadata": {},
   "outputs": [
    {
     "data": {
      "text/plain": [
       "0.0003531489111241907"
      ]
     },
     "execution_count": 205,
     "metadata": {},
     "output_type": "execute_result"
    }
   ],
   "source": [
    "fpr = fp_log/ (fp_log + tn_log)\n",
    "fpr"
   ]
  },
  {
   "cell_type": "markdown",
   "metadata": {},
   "source": [
    "#### Answer to 5\n",
    "\n",
    "FPR is related to the TNR in that FPR + TNR = 1, which makes sense becuase if the classifier doesn't correctly identify a negative person as negative, it by default has to falsley identify them as positive. The FPR and the TPR together represent the rate of the total population that are labled positive by the classifier. "
   ]
  },
  {
   "cell_type": "markdown",
   "metadata": {},
   "source": [
    "## Question 2: ROC Analysis\n",
    "\n",
    "Another powerful diagnostic tool for class-imbalanced classification tasks is the Receiver Operating Characteristic (ROC) curve. Notice that the default logistic regression classifier in `sklearn` classifies a data point by thresholding the predicted class probability $\\hat{P}(Y=1)$ at 0.5. By using a different threshold, we can adjust the trade-off between the true positive rate (TPR) and false positive rate (FPR) of the classifier. The ROC curve allows us to visualize this trade-off across all possible thresholds.\n",
    "\n",
    "\n",
    "1. Display the ROC curve for the fitted classifier on the *test set*. In the same plot, also display the ROC curve for the all 0's classifier. How do the two curves compare?\n",
    "\n",
    "2.  Compute the highest TPR that can be achieved by the classifier at each of the following FPR's, and the thresholds at which they are achieved. Based on your results, comment on how the threshold influences a classifier's FPR.\n",
    "    - FPR = 0\n",
    "    - FPR = 0.1\n",
    "    - FPR = 0.5\n",
    "    - FPR = 0.9\n",
    "- Suppose a clinician told you that diagnosing a cancer patient as normal is *twice* as critical an error as diagnosing a normal patient as having cancer. Based on this information, what threshold would you recommend the clinician to use? What is the TPR and FPR of the classifier at this threshold? \n",
    "\n",
    "- Compute the area under the ROC curve (AUC) for both the fitted classifier and the all 0's classifier. How does the difference in the AUCs of the two classifiers compare with the difference between their classification accuracies in Question 1, Part 2(A)? \n",
    "\n",
    "*Hint:* You may use the `metrics.roc_curve` function to compute the ROC curve for a classification model and the `metrics.roc_auc_score` function to compute the AUC for the model."
   ]
  },
  {
   "cell_type": "code",
   "execution_count": 92,
   "metadata": {
    "collapsed": true
   },
   "outputs": [],
   "source": [
    "# Code from CS109 Lab\n",
    "def make_roc(name, clf, ytest, xtest, ax=None, labe=5, proba=True, skip=0):\n",
    "    initial=False\n",
    "    if not ax:\n",
    "        ax=plt.gca()\n",
    "        initial=True\n",
    "    if proba:#for stuff like logistic regression\n",
    "        fpr, tpr, thresholds=roc_curve(ytest, clf.predict_proba(xtest)[:,1])\n",
    "    else:#for stuff like SVM\n",
    "        fpr, tpr, thresholds=roc_curve(ytest, clf.decision_function(xtest))\n",
    "    roc_auc = auc(fpr, tpr)\n",
    "    if skip:\n",
    "        l=fpr.shape[0]\n",
    "        ax.plot(fpr[0:l:skip], tpr[0:l:skip], '.-', alpha=0.3, label='ROC curve for %s (area = %0.2f)' % (name, roc_auc))\n",
    "    else:\n",
    "        ax.plot(fpr, tpr, '.-', alpha=0.3, label='ROC curve for %s (area = %0.2f)' % (name, roc_auc))\n",
    "    label_kwargs = {}\n",
    "    label_kwargs['bbox'] = dict(\n",
    "        boxstyle='round,pad=0.3', alpha=0.2,\n",
    "    )\n",
    "    if labe!=None:\n",
    "        for k in range(0, fpr.shape[0],labe):\n",
    "            #from https://gist.github.com/podshumok/c1d1c9394335d86255b8\n",
    "            threshold = str(np.round(thresholds[k], 3))\n",
    "            ax.annotate(threshold, (fpr[k], tpr[k]), **label_kwargs)\n",
    "    if initial:\n",
    "        ax.plot([0, 1], [0, 1], 'k--')\n",
    "        ax.set_xlim([0.0, 1.0])\n",
    "        ax.set_ylim([0.0, 1.05])\n",
    "        ax.set_xlabel('False Positive Rate')\n",
    "        ax.set_ylabel('True Positive Rate')\n",
    "        ax.set_title('ROC')\n",
    "    ax.legend(loc=\"lower right\")\n",
    "    return ax"
   ]
  },
  {
   "cell_type": "code",
   "execution_count": 195,
   "metadata": {},
   "outputs": [
    {
     "data": {
      "image/png": "[encoded data removed]",
      "text/plain": [
       "<matplotlib.figure.Figure at 0x112e0dcf8>"
      ]
     },
     "metadata": {},
     "output_type": "display_data"
    }
   ],
   "source": [
    "plt.figure(figsize=(12,12))\n",
    "make_roc(\"logistic\",log, y_test, X_test, labe=7, skip=2)\n",
    "plt.show()"
   ]
  },
  {
   "cell_type": "markdown",
   "metadata": {},
   "source": [
    "#### Answer to 1\n",
    "\n",
    "The ROC of the logisitic classifier performs muhc better than the all 0's classifier represented by the dotted line from 0,0 to 1,1 at all points except the extremes at 0 and 1 FPR where it peforms equally.\n"
   ]
  },
  {
   "cell_type": "code",
   "execution_count": 286,
   "metadata": {
    "collapsed": true
   },
   "outputs": [],
   "source": [
    "# get ROC curve information, store them in a dataframe\n",
    "fpr, tpr, thresholds=roc_curve(y_test, log.predict_proba(X_test)[:,1])\n",
    "df = pd.DataFrame({'fpr': fpr, 'tpr':tpr, 'threshold':thresholds})"
   ]
  },
  {
   "cell_type": "code",
   "execution_count": 287,
   "metadata": {},
   "outputs": [
    {
     "data": {
      "text/html": [
       "<div>\n",
       "<style>\n",
       "    .dataframe thead tr:only-child th {\n",
       "        text-align: right;\n",
       "    }\n",
       "\n",
       "    .dataframe thead th {\n",
       "        text-align: left;\n",
       "    }\n",
       "\n",
       "    .dataframe tbody tr th {\n",
       "        vertical-align: top;\n",
       "    }\n",
       "</style>\n",
       "<table border=\"1\" class=\"dataframe\">\n",
       "  <thead>\n",
       "    <tr style=\"text-align: right;\">\n",
       "      <th></th>\n",
       "      <th>fpr</th>\n",
       "      <th>threshold</th>\n",
       "      <th>tpr</th>\n",
       "    </tr>\n",
       "  </thead>\n",
       "  <tbody>\n",
       "    <tr>\n",
       "      <th>1</th>\n",
       "      <td>0.0</td>\n",
       "      <td>0.940257</td>\n",
       "      <td>0.080808</td>\n",
       "    </tr>\n",
       "  </tbody>\n",
       "</table>\n",
       "</div>"
      ],
      "text/plain": [
       "   fpr  threshold       tpr\n",
       "1  0.0   0.940257  0.080808"
      ]
     },
     "execution_count": 287,
     "metadata": {},
     "output_type": "execute_result"
    }
   ],
   "source": [
    "# 0 FPR \n",
    "df[df['fpr'] <= 0].sort_values('tpr').tail(1)"
   ]
  },
  {
   "cell_type": "code",
   "execution_count": 288,
   "metadata": {},
   "outputs": [
    {
     "data": {
      "text/html": [
       "<div>\n",
       "<style>\n",
       "    .dataframe thead tr:only-child th {\n",
       "        text-align: right;\n",
       "    }\n",
       "\n",
       "    .dataframe thead th {\n",
       "        text-align: left;\n",
       "    }\n",
       "\n",
       "    .dataframe tbody tr th {\n",
       "        vertical-align: top;\n",
       "    }\n",
       "</style>\n",
       "<table border=\"1\" class=\"dataframe\">\n",
       "  <thead>\n",
       "    <tr style=\"text-align: right;\">\n",
       "      <th></th>\n",
       "      <th>fpr</th>\n",
       "      <th>threshold</th>\n",
       "      <th>tpr</th>\n",
       "    </tr>\n",
       "  </thead>\n",
       "  <tbody>\n",
       "    <tr>\n",
       "      <th>113</th>\n",
       "      <td>0.089052</td>\n",
       "      <td>0.007237</td>\n",
       "      <td>0.838384</td>\n",
       "    </tr>\n",
       "  </tbody>\n",
       "</table>\n",
       "</div>"
      ],
      "text/plain": [
       "          fpr  threshold       tpr\n",
       "113  0.089052   0.007237  0.838384"
      ]
     },
     "execution_count": 288,
     "metadata": {},
     "output_type": "execute_result"
    }
   ],
   "source": [
    "# 0.1 FPR \n",
    "df[df['fpr'] <= 0.1].sort_values('tpr').tail(1)"
   ]
  },
  {
   "cell_type": "code",
   "execution_count": 289,
   "metadata": {},
   "outputs": [
    {
     "data": {
      "text/html": [
       "<div>\n",
       "<style>\n",
       "    .dataframe thead tr:only-child th {\n",
       "        text-align: right;\n",
       "    }\n",
       "\n",
       "    .dataframe thead th {\n",
       "        text-align: left;\n",
       "    }\n",
       "\n",
       "    .dataframe tbody tr th {\n",
       "        vertical-align: top;\n",
       "    }\n",
       "</style>\n",
       "<table border=\"1\" class=\"dataframe\">\n",
       "  <thead>\n",
       "    <tr style=\"text-align: right;\">\n",
       "      <th></th>\n",
       "      <th>fpr</th>\n",
       "      <th>threshold</th>\n",
       "      <th>tpr</th>\n",
       "    </tr>\n",
       "  </thead>\n",
       "  <tbody>\n",
       "    <tr>\n",
       "      <th>139</th>\n",
       "      <td>0.462507</td>\n",
       "      <td>0.000277</td>\n",
       "      <td>0.969697</td>\n",
       "    </tr>\n",
       "  </tbody>\n",
       "</table>\n",
       "</div>"
      ],
      "text/plain": [
       "          fpr  threshold       tpr\n",
       "139  0.462507   0.000277  0.969697"
      ]
     },
     "execution_count": 289,
     "metadata": {},
     "output_type": "execute_result"
    }
   ],
   "source": [
    "# 0.5 FPR \n",
    "df[df['fpr'] <= 0.5].sort_values('tpr').tail(1)"
   ]
  },
  {
   "cell_type": "code",
   "execution_count": 290,
   "metadata": {},
   "outputs": [
    {
     "data": {
      "text/html": [
       "<div>\n",
       "<style>\n",
       "    .dataframe thead tr:only-child th {\n",
       "        text-align: right;\n",
       "    }\n",
       "\n",
       "    .dataframe thead th {\n",
       "        text-align: left;\n",
       "    }\n",
       "\n",
       "    .dataframe tbody tr th {\n",
       "        vertical-align: top;\n",
       "    }\n",
       "</style>\n",
       "<table border=\"1\" class=\"dataframe\">\n",
       "  <thead>\n",
       "    <tr style=\"text-align: right;\">\n",
       "      <th></th>\n",
       "      <th>fpr</th>\n",
       "      <th>threshold</th>\n",
       "      <th>tpr</th>\n",
       "    </tr>\n",
       "  </thead>\n",
       "  <tbody>\n",
       "    <tr>\n",
       "      <th>145</th>\n",
       "      <td>0.673455</td>\n",
       "      <td>0.000056</td>\n",
       "      <td>1.0</td>\n",
       "    </tr>\n",
       "  </tbody>\n",
       "</table>\n",
       "</div>"
      ],
      "text/plain": [
       "          fpr  threshold  tpr\n",
       "145  0.673455   0.000056  1.0"
      ]
     },
     "execution_count": 290,
     "metadata": {},
     "output_type": "execute_result"
    }
   ],
   "source": [
    "# 0.9 FPR \n",
    "df[df['fpr'] <= 0.9].sort_values('tpr').tail(1)"
   ]
  },
  {
   "cell_type": "markdown",
   "metadata": {},
   "source": [
    "#### Answer to 2\n",
    "The FPR increases as the threshold decreases which makes sense as a lower threshold makes it more likely to classify something as positive. \n"
   ]
  },
  {
   "cell_type": "markdown",
   "metadata": {},
   "source": [
    "Suppose a clinician told you that diagnosing a cancer patient as normal is twice as critical an error as diagnosing a normal patient as having cancer. Based on this information, what threshold would you recommend the clinician to use? What is the TPR and FPR of the classifier at this threshold?\n",
    "Compute the area under the ROC curve (AUC) for both the fitted classifier and the all 0's classifier. How does the difference in the AUCs of the two classifiers compare with the difference between their classification accuracies in Question 1, Part 2(A)?"
   ]
  },
  {
   "cell_type": "code",
   "execution_count": 291,
   "metadata": {},
   "outputs": [
    {
     "data": {
      "text/html": [
       "<div>\n",
       "<style>\n",
       "    .dataframe thead tr:only-child th {\n",
       "        text-align: right;\n",
       "    }\n",
       "\n",
       "    .dataframe thead th {\n",
       "        text-align: left;\n",
       "    }\n",
       "\n",
       "    .dataframe tbody tr th {\n",
       "        vertical-align: top;\n",
       "    }\n",
       "</style>\n",
       "<table border=\"1\" class=\"dataframe\">\n",
       "  <thead>\n",
       "    <tr style=\"text-align: right;\">\n",
       "      <th></th>\n",
       "      <th>fpr</th>\n",
       "      <th>threshold</th>\n",
       "      <th>tpr</th>\n",
       "      <th>weighted false rate</th>\n",
       "    </tr>\n",
       "  </thead>\n",
       "  <tbody>\n",
       "    <tr>\n",
       "      <th>115</th>\n",
       "      <td>0.105827</td>\n",
       "      <td>0.005762</td>\n",
       "      <td>0.848485</td>\n",
       "      <td>0.408857</td>\n",
       "    </tr>\n",
       "  </tbody>\n",
       "</table>\n",
       "</div>"
      ],
      "text/plain": [
       "          fpr  threshold       tpr  weighted false rate\n",
       "115  0.105827   0.005762  0.848485             0.408857"
      ]
     },
     "execution_count": 291,
     "metadata": {},
     "output_type": "execute_result"
    }
   ],
   "source": [
    "# Create a weighted false rate column which is (FNR*2 + FPR), and sort to minimize\n",
    "df = pd.DataFrame({'fpr': fpr, 'tpr':tpr, 'threshold':thresholds, 'weighted false rate': (fpr + 2*(1-tpr))})\n",
    "df.sort_values('weighted false rate').head(1)"
   ]
  },
  {
   "cell_type": "markdown",
   "metadata": {},
   "source": [
    "#### Answer to 3 \n",
    "\n",
    "We would use threshold $.005$ giving an FPR of $.1$ and a TPR $.85$"
   ]
  },
  {
   "cell_type": "code",
   "execution_count": 292,
   "metadata": {},
   "outputs": [
    {
     "data": {
      "text/plain": [
       "0.93453784460258871"
      ]
     },
     "execution_count": 292,
     "metadata": {},
     "output_type": "execute_result"
    }
   ],
   "source": [
    "roc_auc_score(y_test, log.predict_proba(X_test)[:,1])"
   ]
  },
  {
   "cell_type": "code",
   "execution_count": 293,
   "metadata": {},
   "outputs": [
    {
     "data": {
      "text/plain": [
       "0.5"
      ]
     },
     "execution_count": 293,
     "metadata": {},
     "output_type": "execute_result"
    }
   ],
   "source": [
    "roc_auc_score(y_test, np.zeros(len(X_test)))"
   ]
  },
  {
   "cell_type": "markdown",
   "metadata": {},
   "source": [
    "#### Answer to 4 \n",
    "\n",
    "The difference in AUC is significant, with the logistic classifier model performing much better than the all 0's model. This was not the case with the classification accuracies which were essentially the same. "
   ]
  },
  {
   "cell_type": "markdown",
   "metadata": {
    "collapsed": true
   },
   "source": [
    "## Question 3: Missing data\n",
    "\n",
    "In this problem you are given a different data set, `hw6_dataset_missing.csv`, that is  similar to the one you used above (same column definitions and same conditions), however this data set contains missing values. \n",
    "\n",
    "*Note*: be careful of reading/treating column names and row names in this data set as well, it *may* be different than the first data set.\n",
    "\n",
    "\n",
    "1. Remove all observations that contain and missing values, split the dataset into a 75-25 train-test split, and fit the regularized logistic regression as in Question 1 (use `LogisticRegressionCV` again to retune).  Report the overall classification rate and TPR in the test set.\n",
    "2. Restart with a fresh copy of the data in `hw6_dataset_missing.csv` and impute the missing data via mean imputation.  Split the data 75-25 and fit the regularized logistic regression model.  Report the overall classification rate and TPR in the test set.  \n",
    "3. Again restart with a fresh copy of the data in `hw6_dataset_missing.csv` and impute the missing data via a model-based imputation method. Once again split the data 75-25 and fit the regularized logistic regression model.  Report the overall classification rate and TPR in the test set.  \n",
    "4. Compare the results in the 3 previous parts of this problem.  Prepare a paragraph (5-6 sentences) discussing the results, the computational complexity of the methods, and conjecture and explain why you get the results that you see.\n",
    "\n"
   ]
  }
 ],
 "metadata": {
  "anaconda-cloud": {},
  "kernelspec": {
   "display_name": "Python 3",
   "language": "python",
   "name": "python3"
  },
  "language_info": {
   "codemirror_mode": {
    "name": "ipython",
    "version": 3
   },
   "file_extension": ".py",
   "mimetype": "text/x-python",
   "name": "python",
   "nbconvert_exporter": "python",
   "pygments_lexer": "ipython3",
   "version": "3.6.1"
  }
 },
 "nbformat": 4,
 "nbformat_minor": 1
}
