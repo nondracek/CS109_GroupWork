{
 "cells": [
  {
   "cell_type": "markdown",
   "metadata": {},
   "source": [
    "# CS 109A/STAT 121A/AC 209A/CSCI E-109A: Homework 1\n",
    "\n",
    "\n",
    "\n",
    "**Harvard University**<br/>\n",
    "**Fall 2017**<br/>\n",
    "**Instructors**: Pavlos Protopapas, Kevin Rader, Rahul Dave, Margo Levine\n",
    "\n",
    "---\n",
    "\n",
    "### INSTRUCTIONS\n",
    "\n",
    "**WARNING**: There is web page scraping in this homework. It takes about 40 minutes. **Do not wait till the last minute** to do this homework.\n",
    "\n",
    "- To submit your assignment follow the instructions given in canvas.\n",
    "- Restart the kernel and run the whole notebook again before you submit. There is an important CAVEAT to this. DO NOT run the web-page fetching cells again. (We have provided hints like `# DO NOT RERUN THIS CELL WHEN SUBMITTING` on some of the cells where we provide the code). Instead load your data structures from the JSON files we will ask you to save below. Otherwise you will be waiting for a long time. (Another reason to not wait until the last moment to submit.)\n",
    "\n",
    "- Do not include your name in the notebook.\n",
    "\n",
    "---"
   ]
  },
  {
   "cell_type": "markdown",
   "metadata": {},
   "source": [
    "# Homework 1: Rihanna or Mariah?"
   ]
  },
  {
   "cell_type": "markdown",
   "metadata": {},
   "source": [
    "Billboard Magazine puts out a top 100 list of \"singles\" every week. Information from this list, as well as that from music sales, radio, and other sources is used to determine a top-100 \"singles\" of the year list. A **single** is typically one song, but sometimes can be two songs which are on one \"single\" record.\n",
    "\n",
    "In this homework you will: \n",
    "\n",
    "1. Scrape Wikipedia to obtain infprmation about the best singers and groups from each year (distinguishing between the two groups) as determined by the Billboard top 100 charts. You will have to clean this data. Along the way you will learn how to save data in json files to avoid repeated scraping. \n",
    "2. Scrape Wikipedia to obtain information on these singers. You will have to scrape the web pages, this time using a cache to guard against network timeouts (or your laptop going to sleep). You will again clean the data, and save it to a json file.\n",
    "3. Use pandas to represent these two datasets and merge them.\n",
    "4. Use the individual and merged datasets to visualize the performance of the artists and their songs. We have kept the amount of analysis limited here for reasons of time; but you might enjoy exploring music genres and other aspects of the music business you can find on these wikipedia pages at your own leisure."
   ]
  },
  {
   "cell_type": "markdown",
   "metadata": {},
   "source": [
    "You should have worked through Lab0 and Lab 1, and Lecture 2.  Lab 2 will help as well."
   ]
  },
  {
   "cell_type": "markdown",
   "metadata": {},
   "source": [
    "As usual, first we import the necessary libraries.  In particular, we use [Seaborn](http://stanford.edu/~mwaskom/software/seaborn/) to give us a nicer default color palette, with our plots being of large (`poster`) size and with a white-grid background. "
   ]
  },
  {
   "cell_type": "code",
   "execution_count": 30,
   "metadata": {
    "collapsed": true,
    "scrolled": false
   },
   "outputs": [],
   "source": [
    "%matplotlib inline\n",
    "import functools\n",
    "import numpy as np\n",
    "import scipy as sp\n",
    "import matplotlib as mpl\n",
    "import matplotlib.cm as cm\n",
    "import matplotlib.pyplot as plt\n",
    "import pandas as pd\n",
    "import time\n",
    "pd.set_option('display.width', 500)\n",
    "pd.set_option('display.max_columns', 100)\n",
    "pd.set_option('display.notebook_repr_html', True)\n",
    "import seaborn as sns\n",
    "sns.set_style(\"whitegrid\")\n",
    "sns.set_context(\"poster\")"
   ]
  },
  {
   "cell_type": "markdown",
   "metadata": {},
   "source": [
    "## Q1. Scraping Wikipedia for Billboard Top 100."
   ]
  },
  {
   "cell_type": "markdown",
   "metadata": {},
   "source": [
    "In this question you will scrape Wikipedia for the Billboard's top 100 singles."
   ]
  },
  {
   "cell_type": "markdown",
   "metadata": {},
   "source": [
    "### Scraping Wikipedia for Billboard singles"
   ]
  },
  {
   "cell_type": "markdown",
   "metadata": {},
   "source": [
    "We'll be using  [BeautifulSoup](http://www.crummy.com/software/BeautifulSoup/), and suggest that you use Python's built in `requests` library to fetch the web page."
   ]
  },
  {
   "cell_type": "markdown",
   "metadata": {},
   "source": [
    "#### 1.1 Parsing the Billboard Wikipedia page for 1970"
   ]
  },
  {
   "cell_type": "markdown",
   "metadata": {},
   "source": [
    "Obtain the web page at http://en.wikipedia.org/wiki/Billboard_Year-End_Hot_100_singles_of_1970 using a HTTP GET request. From this web page we'll extract the top 100 singles and their rankings. Create a list of dictionaries, 100 of them to be precise, with entries like \n",
    "\n",
    "`{'url': '/wiki/Sugarloaf_(band)', 'ranking': 30, 'band_singer': 'Sugarloaf', 'title': 'Green-Eyed Lady'}`. \n",
    "\n",
    "If you look at that web page, you'll see a link for every song, from which you can get the `url` of the singer or band. We will use these links later to scrape information about the singer or band. From the listing we can also get the band or singer name `band_singer`, and `title` of the song.\n",
    "\n",
    "*HINT: look for a table with class `wikitable`.*"
   ]
  },
  {
   "cell_type": "markdown",
   "metadata": {
    "scrolled": true
   },
   "source": [
    "You should get something similar to this (where songs is the aforementioned list):\n",
    "\n",
    "```\n",
    "songs[2:4]\n",
    "```\n",
    "\n",
    "```\n",
    "[{'band_singer': 'The Guess Who',\n",
    "  'ranking': 3,\n",
    "  'title': '\"American Woman\"',\n",
    "  'url': '/wiki/The_Guess_Who'},\n",
    " {'band_singer': 'B.J. Thomas',\n",
    "  'ranking': 4,\n",
    "  'title': '\"Raindrops Keep Fallin\\' on My Head\"',\n",
    "  'url': '/wiki/B.J._Thomas'}]\n",
    "```"
   ]
  },
  {
   "cell_type": "code",
   "execution_count": 3,
   "metadata": {
    "collapsed": true
   },
   "outputs": [],
   "source": [
    "import requests\n",
    "from bs4 import BeautifulSoup\n",
    "from IPython.display import IFrame, HTML\n",
    "import time"
   ]
  },
  {
   "cell_type": "code",
   "execution_count": 4,
   "metadata": {},
   "outputs": [],
   "source": [
    "# Get Wiki padge for 1970's top 100\n",
    "req = requests.get(\" http://en.wikipedia.org/wiki/Billboard_Year-End_Hot_100_singles_of_1970\")\n",
    "page = req.text\n",
    "# Use Beautiful Soup to convert the HTML\n",
    "soup = BeautifulSoup(page, 'html.parser')\n",
    "# The classes of all tables that have a class sttribute set on them\n",
    "[t[\"class\"] for t in soup.find_all(\"table\") if t.get(\"class\")]\n",
    "# Find the table with class-types 'sortable' and 'wikitable'\n",
    "dfinder = lambda tag: tag.name=='table' and tag.get('class') == ['wikitable', 'sortable']\n",
    "table_songs = soup.find_all(dfinder)"
   ]
  },
  {
   "cell_type": "code",
   "execution_count": 12,
   "metadata": {},
   "outputs": [
    {
     "data": {
      "text/plain": [
       "[{'band_singer': 'Simon & Garfunkel',\n",
       "  'ranking': 1,\n",
       "  'title': '\"Bridge over Troubled Water (song)\"',\n",
       "  'url': '/wiki/Simon_%26_Garfunkel'},\n",
       " {'band_singer': 'The Carpenters',\n",
       "  'ranking': 2,\n",
       "  'title': '\"(They Long to Be) Close to You\"',\n",
       "  'url': '/wiki/The_Carpenters'},\n",
       " {'band_singer': 'The Guess Who',\n",
       "  'ranking': 3,\n",
       "  'title': '\"American Woman\"',\n",
       "  'url': '/wiki/The_Guess_Who'},\n",
       " {'band_singer': 'B.J. Thomas',\n",
       "  'ranking': 4,\n",
       "  'title': '\"Raindrops Keep Fallin\\' on My Head\"',\n",
       "  'url': '/wiki/B.J._Thomas'},\n",
       " {'band_singer': 'Edwin Starr',\n",
       "  'ranking': 5,\n",
       "  'title': '\"War (The Temptations song)\"',\n",
       "  'url': '/wiki/Edwin_Starr'},\n",
       " {'band_singer': 'Diana Ross',\n",
       "  'ranking': 6,\n",
       "  'title': '\"Ain\\'t No Mountain High Enough\"',\n",
       "  'url': '/wiki/Diana_Ross'},\n",
       " {'band_singer': 'The Jackson 5',\n",
       "  'ranking': 7,\n",
       "  'title': '\"I\\'ll Be There (The Jackson 5 song)\"',\n",
       "  'url': '/wiki/The_Jackson_5'},\n",
       " {'band_singer': 'Rare Earth',\n",
       "  'ranking': 8,\n",
       "  'title': '\"Get Ready (The Temptations song)\"',\n",
       "  'url': '/wiki/Rare_Earth_(band)'},\n",
       " {'band_singer': 'The Beatles',\n",
       "  'ranking': 9,\n",
       "  'title': '\"Let It Be (song)\"',\n",
       "  'url': '/wiki/The_Beatles'},\n",
       " {'band_singer': 'Freda Payne',\n",
       "  'ranking': 10,\n",
       "  'title': '\"Band of Gold (Freda Payne song)\"',\n",
       "  'url': '/wiki/Freda_Payne'},\n",
       " {'band_singer': 'Three Dog Night',\n",
       "  'ranking': 11,\n",
       "  'title': '\"Mama Told Me Not to Come\"',\n",
       "  'url': '/wiki/Three_Dog_Night'},\n",
       " {'band_singer': 'Ray Stevens',\n",
       "  'ranking': 12,\n",
       "  'title': '\"Everything Is Beautiful\"',\n",
       "  'url': '/wiki/Ray_Stevens'},\n",
       " {'band_singer': 'Bread',\n",
       "  'ranking': 13,\n",
       "  'title': '\"Make It with You\"',\n",
       "  'url': '/wiki/Bread_(band)'},\n",
       " {'band_singer': 'Vanity Fare',\n",
       "  'ranking': 14,\n",
       "  'title': '\"Hitchin\\' a Ride (Vanity Fare song)\"',\n",
       "  'url': '/wiki/Vanity_Fare'},\n",
       " {'band_singer': 'The Jackson 5',\n",
       "  'ranking': 15,\n",
       "  'title': '\"ABC (The Jackson 5 song)\"',\n",
       "  'url': '/wiki/The_Jackson_5'},\n",
       " {'band_singer': 'The Jackson 5',\n",
       "  'ranking': 16,\n",
       "  'title': '\"The Love You Save\"',\n",
       "  'url': '/wiki/The_Jackson_5'},\n",
       " {'band_singer': 'Neil Diamond',\n",
       "  'ranking': 17,\n",
       "  'title': '\"Cracklin\\' Rosie\"',\n",
       "  'url': '/wiki/Neil_Diamond'},\n",
       " {'band_singer': 'Dawn',\n",
       "  'ranking': 18,\n",
       "  'title': '\"Candida (song)\"',\n",
       "  'url': '/wiki/Tony_Orlando_and_Dawn'},\n",
       " {'band_singer': 'Sly & the Family Stone',\n",
       "  'ranking': 19,\n",
       "  'title': '\"Thank You (Falettinme Be Mice Elf Agin)\"',\n",
       "  'url': '/wiki/Sly_%26_the_Family_Stone'},\n",
       " {'band_singer': 'Eric Burdon & War',\n",
       "  'ranking': 20,\n",
       "  'title': '\"Spill the Wine\"',\n",
       "  'url': '/wiki/Eric_Burdon'},\n",
       " {'band_singer': 'Five Stairsteps',\n",
       "  'ranking': 21,\n",
       "  'title': '\"O-o-h Child\"',\n",
       "  'url': '/wiki/Five_Stairsteps'},\n",
       " {'band_singer': 'Norman Greenbaum',\n",
       "  'ranking': 22,\n",
       "  'title': '\"Spirit in the Sky\"',\n",
       "  'url': '/wiki/Norman_Greenbaum'},\n",
       " {'band_singer': 'Melanie',\n",
       "  'ranking': 23,\n",
       "  'title': '\"Lay Down (Candles in the Rain)\"',\n",
       "  'url': '/wiki/Melanie_Safka'},\n",
       " {'band_singer': 'The Temptations',\n",
       "  'ranking': 24,\n",
       "  'title': '\"Ball of Confusion (That\\'s What the World Is Today)\"',\n",
       "  'url': '/wiki/The_Temptations'},\n",
       " {'band_singer': 'The Moments',\n",
       "  'ranking': 25,\n",
       "  'title': '\"Love on a Two-Way Street\"',\n",
       "  'url': '/wiki/Ray,_Goodman_%26_Brown'},\n",
       " {'band_singer': 'The Poppy Family',\n",
       "  'ranking': 26,\n",
       "  'title': '\"Which Way You Goin\\' Billy? (song)\"',\n",
       "  'url': '/wiki/The_Poppy_Family'},\n",
       " {'band_singer': 'Free',\n",
       "  'ranking': 27,\n",
       "  'title': '\"All Right Now\"',\n",
       "  'url': '/wiki/Free_(band)'},\n",
       " {'band_singer': 'The Jackson 5',\n",
       "  'ranking': 28,\n",
       "  'title': '\"I Want You Back\"',\n",
       "  'url': '/wiki/The_Jackson_5'},\n",
       " {'band_singer': 'Bobby Sherman',\n",
       "  'ranking': 29,\n",
       "  'title': '\"Julie, Do Ya Love Me\"',\n",
       "  'url': '/wiki/Bobby_Sherman'},\n",
       " {'band_singer': 'Sugarloaf',\n",
       "  'ranking': 30,\n",
       "  'title': '\"Green-Eyed Lady\"',\n",
       "  'url': '/wiki/Sugarloaf_(band)'},\n",
       " {'band_singer': 'Stevie Wonder',\n",
       "  'ranking': 31,\n",
       "  'title': '\"Signed, Sealed, Delivered I\\'m Yours\"',\n",
       "  'url': '/wiki/Stevie_Wonder'},\n",
       " {'band_singer': 'Blues Image',\n",
       "  'ranking': 32,\n",
       "  'title': '\"Ride Captain Ride\"',\n",
       "  'url': '/wiki/Blues_Image'},\n",
       " {'band_singer': 'Shocking Blue',\n",
       "  'ranking': 33,\n",
       "  'title': '\"Venus (Shocking Blue song)\"',\n",
       "  'url': '/wiki/Shocking_Blue'},\n",
       " {'band_singer': 'John Lennon',\n",
       "  'ranking': 34,\n",
       "  'title': '\"Instant Karma!\"',\n",
       "  'url': '/wiki/John_Lennon'},\n",
       " {'band_singer': 'Clarence Carter',\n",
       "  'ranking': 35,\n",
       "  'title': '\"Patches (Chairmen of the Board song)\"',\n",
       "  'url': '/wiki/Clarence_Carter'},\n",
       " {'band_singer': 'Creedence Clearwater Revival',\n",
       "  'ranking': 36,\n",
       "  'title': '\"Lookin\\' out My Back Door\"',\n",
       "  'url': '/wiki/Creedence_Clearwater_Revival'},\n",
       " {'band_singer': 'Brook Benton',\n",
       "  'ranking': 37,\n",
       "  'title': '\"Rainy Night in Georgia\"',\n",
       "  'url': '/wiki/Brook_Benton'},\n",
       " {'band_singer': 'Kenny Rogers & The First Edition',\n",
       "  'ranking': 38,\n",
       "  'title': '\\'\"Something\\'s Burning\"\\'',\n",
       "  'url': '/wiki/Kenny_Rogers'},\n",
       " {'band_singer': 'Chairmen of the Board',\n",
       "  'ranking': 39,\n",
       "  'title': '\"Give Me Just a Little More Time\"',\n",
       "  'url': '/wiki/Chairmen_of_the_Board'},\n",
       " {'band_singer': 'Edison Lighthouse',\n",
       "  'ranking': 40,\n",
       "  'title': '\"Love Grows (Where My Rosemary Goes)\"',\n",
       "  'url': '/wiki/Edison_Lighthouse'},\n",
       " {'band_singer': 'The Beatles',\n",
       "  'ranking': 41,\n",
       "  'title': '\"The Long and Winding Road\"',\n",
       "  'url': '/wiki/The_Beatles'},\n",
       " {'band_singer': 'Anne Murray',\n",
       "  'ranking': 42,\n",
       "  'title': '\"Snowbird (song)\"',\n",
       "  'url': '/wiki/Anne_Murray'},\n",
       " {'band_singer': 'Marmalade',\n",
       "  'ranking': 43,\n",
       "  'title': '\"Reflections of My Life\"',\n",
       "  'url': '/wiki/Marmalade_(band)'},\n",
       " {'band_singer': 'Eddie Holman',\n",
       "  'ranking': 44,\n",
       "  'title': '\"Hey There Lonely Girl\"',\n",
       "  'url': '/wiki/Eddie_Holman'},\n",
       " {'band_singer': 'The Jaggerz',\n",
       "  'ranking': 45,\n",
       "  'title': '\"The Rapper\"',\n",
       "  'url': '/wiki/The_Jaggerz'},\n",
       " {'band_singer': 'The Hollies',\n",
       "  'ranking': 46,\n",
       "  'title': '\"He Ain\\'t Heavy, He\\'s My Brother\"',\n",
       "  'url': '/wiki/The_Hollies'},\n",
       " {'band_singer': \"Alive N Kickin'\",\n",
       "  'ranking': 47,\n",
       "  'title': '\"Tighter, Tighter\"',\n",
       "  'url': '/wiki/Alive_N_Kickin%27'},\n",
       " {'band_singer': 'Badfinger',\n",
       "  'ranking': 48,\n",
       "  'title': '\"Come and Get It (Badfinger song)\"',\n",
       "  'url': '/wiki/Badfinger'},\n",
       " {'band_singer': 'Simon & Garfunkel',\n",
       "  'ranking': 49,\n",
       "  'title': '\"Cecilia (Simon & Garfunkel song)\"',\n",
       "  'url': '/wiki/Simon_%26_Garfunkel'},\n",
       " {'band_singer': 'Charles Wright & the Watts 103rd Street Rhythm Band',\n",
       "  'ranking': 50,\n",
       "  'title': '\"Love Land (song)\"',\n",
       "  'url': '/wiki/Charles_Wright_%26_the_Watts_103rd_Street_Rhythm_Band'},\n",
       " {'band_singer': 'Tyrone Davis',\n",
       "  'ranking': 51,\n",
       "  'title': '\"Turn Back the Hands of Time (song)\"',\n",
       "  'url': '/wiki/Tyrone_Davis'},\n",
       " {'band_singer': 'The Kinks',\n",
       "  'ranking': 52,\n",
       "  'title': '\"Lola (song)\"',\n",
       "  'url': '/wiki/The_Kinks'},\n",
       " {'band_singer': 'Mungo Jerry',\n",
       "  'ranking': 53,\n",
       "  'title': '\"In the Summertime (Mungo Jerry song)\"',\n",
       "  'url': '/wiki/Mungo_Jerry'},\n",
       " {'band_singer': 'R. Dean Taylor',\n",
       "  'ranking': 54,\n",
       "  'title': '\"Indiana Wants Me\"',\n",
       "  'url': '/wiki/R._Dean_Taylor'},\n",
       " {'band_singer': 'Rare Earth',\n",
       "  'ranking': 55,\n",
       "  'title': '\"(I Know) I\\'m Losing You\"',\n",
       "  'url': '/wiki/Rare_Earth_(band)'},\n",
       " {'band_singer': 'Bobby Sherman',\n",
       "  'ranking': 56,\n",
       "  'title': '\"Easy Come, Easy Go (Bobby Sherman song)\"',\n",
       "  'url': '/wiki/Bobby_Sherman'},\n",
       " {'band_singer': 'Charles Wright & the Watts 103rd Street Rhythm Band',\n",
       "  'ranking': 57,\n",
       "  'title': '\"Express Yourself (Charles Wright & the Watts 103rd Street Rhythm Band song)\"',\n",
       "  'url': '/wiki/Charles_Wright_%26_the_Watts_103rd_Street_Rhythm_Band'},\n",
       " {'band_singer': 'The Four Tops',\n",
       "  'ranking': 58,\n",
       "  'title': '\"Still Water (Love)\"',\n",
       "  'url': '/wiki/The_Four_Tops'},\n",
       " {'band_singer': 'Chicago',\n",
       "  'ranking': 59,\n",
       "  'title': '\"Make Me Smile\"',\n",
       "  'url': '/wiki/Chicago_(band)'},\n",
       " {'band_singer': 'Frijid Pink',\n",
       "  'ranking': 60,\n",
       "  'title': '\"The House of the Rising Sun\"',\n",
       "  'url': '/wiki/Frijid_Pink'},\n",
       " {'band_singer': 'Chicago',\n",
       "  'ranking': 61,\n",
       "  'title': '\"25 or 6 to 4\"',\n",
       "  'url': '/wiki/Chicago_(band)'},\n",
       " {'band_singer': 'White Plains',\n",
       "  'ranking': 62,\n",
       "  'title': '\"My Baby Loves Lovin\\'\"',\n",
       "  'url': '/wiki/White_Plains_(band)'},\n",
       " {'band_singer': 'The Friends of Distinction',\n",
       "  'ranking': 63,\n",
       "  'title': '\"Love or Let Me Be Lonely\"',\n",
       "  'url': '/wiki/The_Friends_of_Distinction'},\n",
       " {'band_singer': 'The Brotherhood of Man',\n",
       "  'ranking': 64,\n",
       "  'title': '\"United We Stand (song)\"',\n",
       "  'url': '/wiki/The_Brotherhood_of_Man'},\n",
       " {'band_singer': 'The Carpenters',\n",
       "  'ranking': 65,\n",
       "  'title': '\"We\\'ve Only Just Begun\"',\n",
       "  'url': '/wiki/The_Carpenters'},\n",
       " {'band_singer': 'Mark Lindsay',\n",
       "  'ranking': 66,\n",
       "  'title': '\"Arizona (song)\"',\n",
       "  'url': '/wiki/Mark_Lindsay'},\n",
       " {'band_singer': 'James Taylor',\n",
       "  'ranking': 67,\n",
       "  'title': '\"Fire and Rain (song)\"',\n",
       "  'url': '/wiki/James_Taylor'},\n",
       " {'band_singer': 'Gene Chandler',\n",
       "  'ranking': 68,\n",
       "  'title': '\"Groovy Situation\"',\n",
       "  'url': '/wiki/Gene_Chandler'},\n",
       " {'band_singer': 'Santana',\n",
       "  'ranking': 69,\n",
       "  'title': '\"Evil Ways\"',\n",
       "  'url': '/wiki/Santana_(band)'},\n",
       " {'band_singer': 'The Guess Who',\n",
       "  'ranking': 70,\n",
       "  'title': '\"No Time (The Guess Who song)\"',\n",
       "  'url': '/wiki/The_Guess_Who'},\n",
       " {'band_singer': 'The Delfonics',\n",
       "  'ranking': 71,\n",
       "  'title': '\"Didn\\'t I (Blow Your Mind This Time)\"',\n",
       "  'url': '/wiki/The_Delfonics'},\n",
       " {'band_singer': 'Elvis Presley',\n",
       "  'ranking': 72,\n",
       "  'title': '\"The Wonder of You\"',\n",
       "  'url': '/wiki/Elvis_Presley'},\n",
       " {'band_singer': 'Creedence Clearwater Revival',\n",
       "  'ranking': 73,\n",
       "  'title': '\"Up Around the Bend\"',\n",
       "  'url': '/wiki/Creedence_Clearwater_Revival'},\n",
       " {'band_singer': 'Ronnie Dyson',\n",
       "  'ranking': 74,\n",
       "  'title': '\"(If You Let Me Make Love To You Then) Why Can\\'t I Touch You?\"',\n",
       "  'url': '/wiki/Ronnie_Dyson'},\n",
       " {'band_singer': 'B.J. Thomas',\n",
       "  'ranking': 75,\n",
       "  'title': '\"I Just Can\\'t Help Believing\"',\n",
       "  'url': '/wiki/B.J._Thomas'},\n",
       " {'band_singer': 'The Spinners',\n",
       "  'ranking': 76,\n",
       "  'title': '\"It\\'s a Shame (The Spinners song)\"',\n",
       "  'url': '/wiki/The_Spinners_(American_band)'},\n",
       " {'band_singer': 'Bobbi Martin',\n",
       "  'ranking': 77,\n",
       "  'title': '\"For the Love of Him\"',\n",
       "  'url': '/wiki/Bobbi_Martin'},\n",
       " {'band_singer': 'Mountain',\n",
       "  'ranking': 78,\n",
       "  'title': '\"Mississippi Queen\"',\n",
       "  'url': '/wiki/Mountain_(band)'},\n",
       " {'band_singer': 'Ike & Tina Turner',\n",
       "  'ranking': 79,\n",
       "  'title': '\"I Want to Take You Higher\"',\n",
       "  'url': '/wiki/Ike_%26_Tina_Turner'},\n",
       " {'band_singer': 'Joe Cocker',\n",
       "  'ranking': 80,\n",
       "  'title': '\"The Letter (The Box Tops song)\"',\n",
       "  'url': '/wiki/Joe_Cocker'},\n",
       " {'band_singer': 'Tee Set',\n",
       "  'ranking': 81,\n",
       "  'title': '\"Ma Belle Amie\"',\n",
       "  'url': '/wiki/Tee_Set'},\n",
       " {'band_singer': 'The Originals',\n",
       "  'ranking': 82,\n",
       "  'title': '\"The Bells (The Originals song)\"',\n",
       "  'url': '/wiki/The_Originals_(band)'},\n",
       " {'band_singer': 'Christie',\n",
       "  'ranking': 83,\n",
       "  'title': '\"Yellow River (song)\"',\n",
       "  'url': '/wiki/Christie_(band)'},\n",
       " {'band_singer': '100 Proof (Aged in Soul)',\n",
       "  'ranking': 84,\n",
       "  'title': '\"Somebody\\'s Been Sleeping\"',\n",
       "  'url': '/wiki/100_Proof_(Aged_in_Soul)'},\n",
       " {'band_singer': 'The Ides of March',\n",
       "  'ranking': 85,\n",
       "  'title': '\"Vehicle (song)\"',\n",
       "  'url': '/wiki/The_Ides_of_March_(band)'},\n",
       " {'band_singer': 'The Pipkins',\n",
       "  'ranking': 86,\n",
       "  'title': '\"Gimme Dat Ding (song)\"',\n",
       "  'url': '/wiki/The_Pipkins'},\n",
       " {'band_singer': 'Robin McNamara',\n",
       "  'ranking': 87,\n",
       "  'title': '\"Lay a Little Lovin\\' on Me\"',\n",
       "  'url': '/wiki/Robin_McNamara'},\n",
       " {'band_singer': 'The Supremes',\n",
       "  'ranking': 88,\n",
       "  'title': '\"Up the Ladder to the Roof\"',\n",
       "  'url': '/wiki/The_Supremes'},\n",
       " {'band_singer': 'Creedence Clearwater Revival',\n",
       "  'ranking': 89,\n",
       "  'title': '\"Travelin\\' Band\"',\n",
       "  'url': '/wiki/Creedence_Clearwater_Revival'},\n",
       " {'band_singer': 'The Sandpipers',\n",
       "  'ranking': 90,\n",
       "  'title': '\"Come Saturday Morning (song)\"',\n",
       "  'url': '/wiki/The_Sandpipers'},\n",
       " {'band_singer': 'The Temptations',\n",
       "  'ranking': 91,\n",
       "  'title': '\"Psychedelic Shack (song)\"',\n",
       "  'url': '/wiki/The_Temptations'},\n",
       " {'band_singer': 'Tom Jones',\n",
       "  'ranking': 92,\n",
       "  'title': '\"Without Love (There Is Nothing)\"',\n",
       "  'url': '/wiki/Tom_Jones_(singer)'},\n",
       " {'band_singer': 'Pacific Gas & Electric',\n",
       "  'ranking': 93,\n",
       "  'title': '\"Are You Ready? (Pacific Gas & Electric song)\"',\n",
       "  'url': '/wiki/Pacific_Gas_%26_Electric_(band)'},\n",
       " {'band_singer': 'Crosby, Stills, Nash & Young',\n",
       "  'ranking': 94,\n",
       "  'title': '\"Woodstock (song)\"',\n",
       "  'url': '/wiki/Crosby,_Stills,_Nash_%26_Young'},\n",
       " {'band_singer': 'Dionne Warwick',\n",
       "  'ranking': 95,\n",
       "  'title': '\"I\\'ll Never Fall in Love Again\"',\n",
       "  'url': '/wiki/Dionne_Warwick'},\n",
       " {'band_singer': 'The New Seekers',\n",
       "  'ranking': 96,\n",
       "  'title': '\\'\"Look What They\\'ve Done to My Song Ma\"\\'',\n",
       "  'url': '/wiki/The_New_Seekers'},\n",
       " {'band_singer': 'Joe South',\n",
       "  'ranking': 97,\n",
       "  'title': '\"Walk A Mile In My Shoes\"',\n",
       "  'url': '/wiki/Joe_South'},\n",
       " {'band_singer': 'B.B. King',\n",
       "  'ranking': 98,\n",
       "  'title': '\"The Thrill Is Gone (1951 song)\"',\n",
       "  'url': '/wiki/B.B._King'},\n",
       " {'band_singer': 'Glen Campbell',\n",
       "  'ranking': 99,\n",
       "  'title': '\"It\\'s Only Make Believe\"',\n",
       "  'url': '/wiki/Glen_Campbell'},\n",
       " {'band_singer': 'Aretha Franklin',\n",
       "  'ranking': 100,\n",
       "  'title': '\"Call Me (Aretha Franklin song)\"',\n",
       "  'url': '/wiki/Aretha_Franklin'}]"
      ]
     },
     "execution_count": 12,
     "metadata": {},
     "output_type": "execute_result"
    }
   ],
   "source": [
    "# Extract rows from table_demographics\n",
    "rows = [row for row in table_songs[0].find_all(\"tr\")]\n",
    "\n",
    "# Insert table data into dictionary\n",
    "songs = []\n",
    "for row in rows[1:]:\n",
    "    entries = row.find_all(\"td\")\n",
    "    if entries[1].find(\"a\"): \n",
    "        songEntry = {'band_singer': entries[2].text, 'ranking': int(entries[0].text), \n",
    "                 'title': ('\"' + entries[1].find(\"a\").get(\"title\") + '\"'), 'url': entries[2].find(\"a\").get(\"href\")}\n",
    "    # if song doesn't have URL\n",
    "    else:\n",
    "        songEntry = {'band_singer': entries[2].text, 'ranking': int(entries[0].text), \n",
    "                 'title': (\"'\" + entries[1].text + \"'\"), 'url': entries[2].find(\"a\").get(\"href\")}\n",
    "    songs.append(songEntry)\n",
    "songs"
   ]
  },
  {
   "cell_type": "markdown",
   "metadata": {},
   "source": [
    "#### 1.2 Generalize the previous: scrape Wikipedia from 1992 to 2014"
   ]
  },
  {
   "cell_type": "markdown",
   "metadata": {},
   "source": [
    "By visiting the urls similar to the ones for 1970, we can obtain the billboard top 100 for the years 1992 to 2014. (We choose these later years rather than 1970 as you might find music from this era more interesting.) Download these using Python's `requests` module and store the text from those requests in a dictionary called `yearstext`. This dictionary ought to have as its keys the years (as integers from 1992 to 2014), and as values corresponding to these keys the text of the page being fetched.\n",
    "\n",
    "You ought to sleep a second (look up `time.sleep` in Python) at the very least in-between fetching each web page: you do not want Wikipedia to think you are a marauding bot attempting to mount a denial-of-service attack."
   ]
  },
  {
   "cell_type": "markdown",
   "metadata": {},
   "source": [
    "*HINT: you might find `range` and string-interpolation useful to construct the URLs *.\n"
   ]
  },
  {
   "cell_type": "code",
   "execution_count": 14,
   "metadata": {},
   "outputs": [],
   "source": [
    "years = range(1992, 2015)\n",
    "text = []\n",
    "for year in range(1992, 2015):\n",
    "    req = requests.get(\" http://en.wikipedia.org/wiki/Billboard_Year-End_Hot_100_singles_of_\" + str(year))\n",
    "    text.append(req.text)\n",
    "    time.sleep(1)\n",
    "yearstext = dict(zip(years,text))"
   ]
  },
  {
   "cell_type": "markdown",
   "metadata": {},
   "source": [
    "#### 1.3 Parse and Clean data "
   ]
  },
  {
   "cell_type": "markdown",
   "metadata": {},
   "source": [
    "Remember the code you wrote to get data from 1970 which produces a list of dictionaries, one corresponding to each single.  Now write a function `parse_year(the_year, yeartext_dict)` which takes the year, prints it out, gets the text for the year from the just created `yearstext` dictionary, and return a list of dictionaries for that year, with one dictionary for each single. Store this list in the variable `yearinfo`.\n",
    "\n",
    "The dictionaries **must** be of this form:\n",
    "\n",
    "```\n",
    "{'band_singer': ['Brandy', 'Monica'],\n",
    "  'ranking': 2,\n",
    "  'song': ['The Boy Is Mine'],\n",
    "  'songurl': ['/wiki/The_Boy_Is_Mine_(song)'],\n",
    "  'titletext': '\" The Boy Is Mine \"',\n",
    "  'url': ['/wiki/Brandy_Norwood', '/wiki/Monica_(entertainer)']}\n",
    "```"
   ]
  },
  {
   "cell_type": "markdown",
   "metadata": {},
   "source": [
    "The spec of this function is provided below:"
   ]
  },
  {
   "cell_type": "code",
   "execution_count": 64,
   "metadata": {},
   "outputs": [],
   "source": [
    "\"\"\"\n",
    "Function\n",
    "--------\n",
    "parse_year\n",
    "\n",
    "Inputs\n",
    "------\n",
    "the_year: the year you want the singles for\n",
    "yeartext_dict: a dictionary with keys as integer years and values the downloaded web pages \n",
    "    from wikipedia for that year.\n",
    "   \n",
    "Returns\n",
    "-------\n",
    "\n",
    "a list of dictionaries, each of which corresponds to a single and has the\n",
    "following data:\n",
    "\n",
    "Eg:\n",
    "\n",
    "{'band_singer': ['Brandy', 'Monica'],\n",
    "  'ranking': 2,\n",
    "  'song': ['The Boy Is Mine'],\n",
    "  'songurl': ['/wiki/The_Boy_Is_Mine_(song)'],\n",
    "  'titletext': '\" The Boy Is Mine \"',\n",
    "  'url': ['/wiki/Brandy_Norwood', '/wiki/Monica_(entertainer)']}\n",
    "  \n",
    "A dictionary with the following data:\n",
    "    band_singer: a list of bands/singers who made this single\n",
    "    song: a list of the titles of songs on this single\n",
    "    songurl: a list of the same size as song which has urls for the songs on the single \n",
    "        (see point 3 above)\n",
    "    ranking: ranking of the single\n",
    "    titletext: the contents of the table cell\n",
    "    band_singer: a list of bands or singers on this single\n",
    "    url: a list of wikipedia singer/band urls on this single: only put in the part \n",
    "        of the url from /wiki onwards\n",
    "    \n",
    "\n",
    "Notes\n",
    "-----\n",
    "See description and example above.\n",
    "\"\"\"\n",
    "def parse_year(the_year, yeartext_dict):\n",
    "    page =  yeartext_dict[the_year]\n",
    "    soup = BeautifulSoup(page, 'html.parser')\n",
    "    # Find the table with class-types 'sortable' and 'wikitable'\n",
    "    table_songs = soup.find_all(dfinder)\n",
    "    # Extract rows from table_demographics\n",
    "    rows = [row for row in table_songs[0].find_all(\"tr\")]\n",
    "    # Insert table data into dictionary\n",
    "    songs = []\n",
    "    counter = 0\n",
    "    for row in rows[1:]:\n",
    "        counter += 1\n",
    "        entries = row.find_all(\"td\")\n",
    "        # if song has URL\n",
    "        if entries[0].find(\"a\"):\n",
    "            songurl = list(map(lambda x: x.get(\"href\"), entries[0].find_all(\"a\")))\n",
    "            song = list(map(lambda x: x.text, entries[0].find_all(\"a\")))\n",
    "            titletext = functools.reduce((lambda x, y: x +\" / \"+ y), (list(map(lambda x: '\"'+ x.get(\"title\") +'\"', entries[0].find_all(\"a\")))))\n",
    "        else: \n",
    "            songurl = [None]\n",
    "            song = [entries[0].text.replace('\"', '')]\n",
    "            titletext = [entries[0].text]\n",
    "        # if artist has URL     \n",
    "        if entries[1].find(\"a\"):\n",
    "            url = list(map(lambda x: x.get(\"href\"), entries[1].find_all(\"a\")))\n",
    "            band_singer = list(map(lambda x: x.text, entries[1].find_all(\"a\")))\n",
    "        else: \n",
    "            url = [None]\n",
    "            band_singer = [entries[1].text]\n",
    "        songEntry = {'band_singer': band_singer,'ranking': counter,'song': song,'songurl': songurl,'titletext': titletext,'url': url}\n",
    "        songs.append(songEntry)\n",
    "    return songs\n",
    "    \n",
    "yearinfo = []\n",
    "\n",
    "for year in years:\n",
    "    info = parse_year(year, yearstext)\n",
    "    yearinfo.append(info)\n",
    "    \n"
   ]
  },
  {
   "cell_type": "markdown",
   "metadata": {},
   "source": [
    "#### Helpful notes\n",
    "\n",
    "Notice that some singles might have multiple songs:\n",
    "\n",
    "```\n",
    "{'band_singer': ['Jewel'],\n",
    "  'ranking': 2,\n",
    "  'song': ['Foolish Games', 'You Were Meant for Me'],\n",
    "  'songurl': ['/wiki/Foolish_Games',\n",
    "   '/wiki/You_Were_Meant_for_Me_(Jewel_song)'],\n",
    "  'titletext': '\" Foolish Games \" / \" You Were Meant for Me \"',\n",
    "  'url': ['/wiki/Jewel_(singer)']}\n",
    "```"
   ]
  },
  {
   "cell_type": "markdown",
   "metadata": {},
   "source": [
    "And some singles don't have a song URL:\n",
    "\n",
    "```\n",
    "{'band_singer': [u'Nu Flavor'],\n",
    "  'ranking': 91,\n",
    "  'song': [u'Heaven'],\n",
    "  'songurl': [None],\n",
    "  'titletext': u'\"Heaven\"',\n",
    "  'url': [u'/wiki/Nu_Flavor']}\n",
    "```"
   ]
  },
  {
   "cell_type": "markdown",
   "metadata": {},
   "source": [
    "Thus there are some issues this function must handle:\n",
    "\n",
    "1. There can be more than one  `band_singer` as can be seen above (sometimes with a comma, sometimes with \"featuring\" in between). The best way to parse these is to look for the urls.\n",
    "2. There can be two songs in a single, because of the way the industry works: there are two-sided singles. See https://en.wikipedia.org/wiki/Billboard_Year-End_Hot_100_singles_of_1997 for an example. You can find other examples in 1998 and 1999.\n",
    "3. The `titletext` is the contents of the table cell, and retains the quotes that Wikipedia puts on the single.\n",
    "4. If no song anchor is found (see the 24th song in the above url), assume there is one song in the single, set `songurl` to [`None`] and the song name to the contents of the table cell with the quotes stripped (ie `song` is a one-element list with this the `titletext` stripped of its quotes)."
   ]
  },
  {
   "cell_type": "markdown",
   "metadata": {},
   "source": [
    "As a check, we can do this for 1997. We'll print the first 5 outputs: `parse_year(1997, yearstext)[:5]`"
   ]
  },
  {
   "cell_type": "markdown",
   "metadata": {},
   "source": [
    "This should give the following. Notice that the year 1997 exercises the edge cases we talked about earlier."
   ]
  },
  {
   "cell_type": "markdown",
   "metadata": {},
   "source": [
    "```\n",
    "[{'band_singer': ['Elton John'],\n",
    "  'ranking': 1,\n",
    "  'song': ['Something About the Way You Look Tonight',\n",
    "   'Candle in the Wind 1997'],\n",
    "  'songurl': ['/wiki/Something_About_the_Way_You_Look_Tonight',\n",
    "   '/wiki/Candle_in_the_Wind_1997'],\n",
    "  'titletext': '\" Something About the Way You Look Tonight \" / \" Candle in the Wind 1997 \"',\n",
    "  'url': ['/wiki/Elton_John']},\n",
    " {'band_singer': ['Jewel'],\n",
    "  'ranking': 2,\n",
    "  'song': ['Foolish Games', 'You Were Meant for Me'],\n",
    "  'songurl': ['/wiki/Foolish_Games',\n",
    "   '/wiki/You_Were_Meant_for_Me_(Jewel_song)'],\n",
    "  'titletext': '\" Foolish Games \" / \" You Were Meant for Me \"',\n",
    "  'url': ['/wiki/Jewel_(singer)']},\n",
    " {'band_singer': ['Puff Daddy', 'Faith Evans', '112'],\n",
    "  'ranking': 3,\n",
    "  'song': [\"I'll Be Missing You\"],\n",
    "  'songurl': ['/wiki/I%27ll_Be_Missing_You'],\n",
    "  'titletext': '\" I\\'ll Be Missing You \"',\n",
    "  'url': ['/wiki/Sean_Combs', '/wiki/Faith_Evans', '/wiki/112_(band)']},\n",
    " {'band_singer': ['Toni Braxton'],\n",
    "  'ranking': 4,\n",
    "  'song': ['Un-Break My Heart'],\n",
    "  'songurl': ['/wiki/Un-Break_My_Heart'],\n",
    "  'titletext': '\" Un-Break My Heart \"',\n",
    "  'url': ['/wiki/Toni_Braxton']},\n",
    " {'band_singer': ['Puff Daddy', 'Mase'],\n",
    "  'ranking': 5,\n",
    "  'song': [\"Can't Nobody Hold Me Down\"],\n",
    "  'songurl': ['/wiki/Can%27t_Nobody_Hold_Me_Down'],\n",
    "  'titletext': '\" Can\\'t Nobody Hold Me Down \"',\n",
    "  'url': ['/wiki/Sean_Combs', '/wiki/Mase']}]\n",
    "```"
   ]
  },
  {
   "cell_type": "code",
   "execution_count": 40,
   "metadata": {},
   "outputs": [
    {
     "name": "stdout",
     "output_type": "stream",
     "text": [
      "1997\n"
     ]
    },
    {
     "data": {
      "text/plain": [
       "[{'band_singer': ['Elton John'],\n",
       "  'ranking': 1,\n",
       "  'song': ['Something About the Way You Look Tonight',\n",
       "   'Candle in the Wind 1997'],\n",
       "  'songurl': ['/wiki/Something_About_the_Way_You_Look_Tonight',\n",
       "   '/wiki/Candle_in_the_Wind_1997'],\n",
       "  'titletext': '\"Something About the Way You Look Tonight\" / \"Candle in the Wind 1997\"',\n",
       "  'url': ['/wiki/Elton_John']},\n",
       " {'band_singer': ['Jewel'],\n",
       "  'ranking': 2,\n",
       "  'song': ['Foolish Games', 'You Were Meant for Me'],\n",
       "  'songurl': ['/wiki/Foolish_Games',\n",
       "   '/wiki/You_Were_Meant_for_Me_(Jewel_song)'],\n",
       "  'titletext': '\"Foolish Games\" / \"You Were Meant for Me (Jewel song)\"',\n",
       "  'url': ['/wiki/Jewel_(singer)']},\n",
       " {'band_singer': ['Puff Daddy', 'Faith Evans', '112'],\n",
       "  'ranking': 3,\n",
       "  'song': [\"I'll Be Missing You\"],\n",
       "  'songurl': ['/wiki/I%27ll_Be_Missing_You'],\n",
       "  'titletext': '\"I\\'ll Be Missing You\"',\n",
       "  'url': ['/wiki/Sean_Combs', '/wiki/Faith_Evans', '/wiki/112_(band)']},\n",
       " {'band_singer': ['Toni Braxton'],\n",
       "  'ranking': 4,\n",
       "  'song': ['Un-Break My Heart'],\n",
       "  'songurl': ['/wiki/Un-Break_My_Heart'],\n",
       "  'titletext': '\"Un-Break My Heart\"',\n",
       "  'url': ['/wiki/Toni_Braxton']},\n",
       " {'band_singer': ['Puff Daddy', 'Mase'],\n",
       "  'ranking': 5,\n",
       "  'song': [\"Can't Nobody Hold Me Down\"],\n",
       "  'songurl': ['/wiki/Can%27t_Nobody_Hold_Me_Down'],\n",
       "  'titletext': '\"Can\\'t Nobody Hold Me Down\"',\n",
       "  'url': ['/wiki/Sean_Combs', '/wiki/Mase']}]"
      ]
     },
     "execution_count": 40,
     "metadata": {},
     "output_type": "execute_result"
    }
   ],
   "source": [
    "parse_year(1997, yearstext)[:5]"
   ]
  },
  {
   "cell_type": "markdown",
   "metadata": {},
   "source": [
    "#### Save a json file of information from the scraped files"
   ]
  },
  {
   "cell_type": "markdown",
   "metadata": {},
   "source": [
    "We do not want to lose all this work, so let's save the last data structure we created to disk. That way if you need to re-run from here, you don't need to redo all these requests and parsing. \n",
    "\n",
    "DO NOT RERUN THE HTTP REQUESTS TO WIKIPEDIA WHEN SUBMITTING.\n",
    "\n",
    "*We **DO NOT** need to see these JSON files in your submission!*"
   ]
  },
  {
   "cell_type": "code",
   "execution_count": 43,
   "metadata": {
    "collapsed": true
   },
   "outputs": [],
   "source": [
    "import json"
   ]
  },
  {
   "cell_type": "code",
   "execution_count": 45,
   "metadata": {
    "scrolled": false
   },
   "outputs": [],
   "source": [
    "# DO NOT RERUN THIS CELL WHEN SUBMITTING\n",
    "fd = open(\"yearinfo.json\",\"w\")\n",
    "json.dump(yearinfo, fd)\n",
    "fd.close()\n",
    "del yearinfo"
   ]
  },
  {
   "cell_type": "markdown",
   "metadata": {},
   "source": [
    "Now let's reload our JSON file into the yearinfo variable, just to be sure everything is working."
   ]
  },
  {
   "cell_type": "code",
   "execution_count": 47,
   "metadata": {
    "scrolled": true
   },
   "outputs": [],
   "source": [
    "# RERUN WHEN SUBMITTING\n",
    "# Another way to deal with files. Has the advantage of closing the file for you.\n",
    "with open(\"yearinfo.json\", \"r\") as fd:\n",
    "    yearinfo = json.load(fd)"
   ]
  },
  {
   "cell_type": "markdown",
   "metadata": {},
   "source": [
    "#### 1.4 Construct a year-song-singer dataframe from the yearly information"
   ]
  },
  {
   "cell_type": "markdown",
   "metadata": {},
   "source": [
    "Let's construct a dataframe `flatframe` from the `yearinfo`. The frame should be similar to the frame below.  Each row of the frame represents a song, and carries with it the chief properties of year, song, singer, and ranking.\n",
    "\n",
    "![](https://raw.githubusercontent.com/cs109/a-2017/master/hwassets/images/HW1SC1.png)"
   ]
  },
  {
   "cell_type": "markdown",
   "metadata": {},
   "source": [
    "To construct the dataframe, we'll need to iterate over the years and the singles per year. Notice how, above, the dataframe is ordered by ranking and then year. While the exact order is up to you, note that you will have to come up with a scheme to order the information.\n",
    "\n",
    "Check that the dataframe has sensible data types. You will also likely find that the year field has become an \"object\" (Pandas treats strings as generic objects): this is due to the conversion to and back from JSON. Such conversions need special care. Fix any data type issues with `flatframe`. (See Pandas [astype](http://pandas.pydata.org/pandas-docs/stable/generated/pandas.DataFrame.astype.html) function.) \n",
    "We will use this `flatframe` in the next question. \n",
    "\n",
    "(As an aside, we used the name `flatframe` to indicate that this dataframe is flattened from a hierarchical dictionary structure with the keys being the years.)"
   ]
  },
  {
   "cell_type": "code",
   "execution_count": 209,
   "metadata": {},
   "outputs": [],
   "source": [
    "# Rebuild yearinfo as a list of list of dictionaries that can be easily read into a data frame\n",
    "new_yearinfo = []\n",
    "# loop through every singer, for every song, of every year\n",
    "for year in range(len(yearinfo)): \n",
    "    yearEntry = []\n",
    "    for rank in range(len(yearinfo[1])):\n",
    "        counter = 0\n",
    "        for singer in yearinfo[year][rank]['band_singer']:\n",
    "            # rebuild dictionary entry in usable format for dataframe\n",
    "            date = year + 1992\n",
    "            ranking = rank + 1\n",
    "            song = yearinfo[year][rank]['song'][0]\n",
    "            url = yearinfo[year][rank]['url'][counter]\n",
    "            counter += 1\n",
    "            entry = {'year': date, 'band_singer': singer, 'song': song, 'url': url, 'ranking' : ranking}\n",
    "            yearEntry.append(entry)\n",
    "    new_yearinfo.append(yearEntry)\n",
    "\n",
    "# build base datframe from 1992\n",
    "df = pd.DataFrame.from_dict(new_yearinfo[0])\n",
    "# append to dataframe additional years\n",
    "for i in range(1, len(new_yearinfo)):\n",
    "    df = df.append(pd.DataFrame.from_dict(new_yearinfo[i]), ignore_index=True)\n",
    "    \n",
    "# sort by ranking and year, and re-index and change column order\n",
    "df=df.sort_values(by=['ranking', 'year']).reset_index(drop=True)\n",
    "flatframe = df\n",
    "flatframe = df[['year', 'band_singer', 'ranking', 'song', 'url']]"
   ]
  },
  {
   "cell_type": "markdown",
   "metadata": {},
   "source": [
    "### Who are the highest quality singers?"
   ]
  },
  {
   "cell_type": "markdown",
   "metadata": {},
   "source": [
    "Here we show the highest quality singers and plot them on a bar chart.\n",
    "\n",
    "#### 1.5 Find highest quality singers according to how prolific they are\n",
    "\n",
    "What do we mean by highest quality? This is of course open to interpretation, but let's define \"highest quality\" here as the number of times a singer appears in the top 100 over this time period. If a singer appears twice in a year (for different songs), this is counted as two appearances, not one. \n",
    "\n",
    "Make a bar-plot of the most prolific singers. Singers on this chart should have appeared at-least more than 15 times. (HINT: look at the docs for the pandas method `value_counts`.)\n"
   ]
  },
  {
   "cell_type": "code",
   "execution_count": 179,
   "metadata": {},
   "outputs": [
    {
     "data": {
      "text/plain": [
       "<matplotlib.axes._subplots.AxesSubplot at 0x1129de668>"
      ]
     },
     "execution_count": 179,
     "metadata": {},
     "output_type": "execute_result"
    },
    {
     "data": {
      "image/png": "[encoded data removed]",
      "text/plain": [
       "<matplotlib.figure.Figure at 0x112dd1860>"
      ]
     },
     "metadata": {},
     "output_type": "display_data"
    }
   ],
   "source": [
    "singers = flatframe.band_singer.value_counts()\n",
    "best_singers = singers[singers > 15]\n",
    "best_singers.plot(kind='bar')"
   ]
  },
  {
   "cell_type": "markdown",
   "metadata": {},
   "source": [
    "#### 1.6 What if we used a different metric?"
   ]
  },
  {
   "cell_type": "markdown",
   "metadata": {},
   "source": [
    "What we would like to capture is this: a singer should to be scored higher if the singer appears higher in the rankings. So we'd say that a singer who appeared once at a higher and once at a lower ranking is a \"higher quality\" singer than one who appeared twice at a lower ranking. \n",
    "\n",
    "To do this, group all of a singers songs together and assign each song a score `101 - ranking`. Order the singers by their total score and make a bar chart for the top 20.\n"
   ]
  },
  {
   "cell_type": "code",
   "execution_count": 207,
   "metadata": {},
   "outputs": [
    {
     "name": "stderr",
     "output_type": "stream",
     "text": [
      "/Users/Ali/anaconda/lib/python3.6/site-packages/ipykernel_launcher.py:1: SettingWithCopyWarning: \n",
      "A value is trying to be set on a copy of a slice from a DataFrame.\n",
      "Try using .loc[row_indexer,col_indexer] = value instead\n",
      "\n",
      "See the caveats in the documentation: http://pandas.pydata.org/pandas-docs/stable/indexing.html#indexing-view-versus-copy\n",
      "  \"\"\"Entry point for launching an IPython kernel.\n"
     ]
    },
    {
     "data": {
      "text/plain": [
       "<matplotlib.axes._subplots.AxesSubplot at 0x113744358>"
      ]
     },
     "execution_count": 207,
     "metadata": {},
     "output_type": "execute_result"
    },
    {
     "data": {
      "image/png": "[encoded data removed]",
      "text/plain": [
       "<matplotlib.figure.Figure at 0x11376b6d8>"
      ]
     },
     "metadata": {},
     "output_type": "display_data"
    }
   ],
   "source": [
    "flatframe['rankings101'] = 101 - flatframe['ranking']\n",
    "top20 = flatframe.groupby('band_singer').sum().sort_values('rankings101', ascending = False).rankings101.head(20)\n",
    "top20.plot(kind='bar')\n"
   ]
  },
  {
   "cell_type": "markdown",
   "metadata": {},
   "source": [
    "#### 1.7 Do you notice any major differences when you change the metric?\n",
    "\n",
    "How have the singers at the top shifted places? Why do you think this happens?"
   ]
  },
  {
   "cell_type": "markdown",
   "metadata": {},
   "source": [
    "Various artists have shifted ranking using the different methodologies. This happens because some artists produce a lot of good songs, but those songs are not necessirly the best songs for that year. Some artists like Rihanna who is at the top of both charts, produce many excellent songs that are at the top of the charts. On the other hand, R. Kelly and T.I produce a lot of songs on that make it on the top 100 list, but they are not all excellent songs at the top of the charts. Finally, artists like Bruno Mars have a few really excellent songs so they rank on the second methodology but they don't have many songs so they do not rank well on the first methodology. "
   ]
  },
  {
   "cell_type": "markdown",
   "metadata": {},
   "source": [
    "## Q2. Scraping and Constructing: Information about Artists, Bands and Genres from Wikipedia"
   ]
  },
  {
   "cell_type": "markdown",
   "metadata": {},
   "source": [
    "Our next job is to use those band/singer urls we collected under `flatframe.url` and get information about singers and/or bands."
   ]
  },
  {
   "cell_type": "markdown",
   "metadata": {},
   "source": [
    "### Scrape information about artists from wikipedia"
   ]
  },
  {
   "cell_type": "markdown",
   "metadata": {},
   "source": [
    "We wish to fetch information about the singers or groups for all the winning songs in a list of years.\n",
    "\n",
    "Here we show a function that fetches information about a singer or group from their url on wikipedia. We create a cache object `urlcache` that will avoid redundant HTTP requests (e.g. an artist might have multiple singles on a single year, or be on the list over a span of years). Once we have fetched information about an artist, we don't need to do it again. The caching also helps if the network goes down, or the target website is having some problems. You simply need to run the `get_page` function below again, and the `urlcache` dictionary will continue to be filled.\n",
    "\n",
    "If the request gets an HTTP return code different from 200, (such as a 404 not found or 500 Internal Server Error) the cells for that URL will have a value of 1; and if the request completely fails (e.g. no network connection) the cell will have a value of 2. This will allow you to analyse the failed requests.\n",
    "\n",
    "Notice that we have wrapped the call in whats called _an exception block_. We try to make the request. If it fails entirely, or returns a HTTP code thats not 200, we set the status to 2 and 1 respectively."
   ]
  },
  {
   "cell_type": "code",
   "execution_count": 9,
   "metadata": {
    "collapsed": true,
    "scrolled": true
   },
   "outputs": [],
   "source": [
    "urlcache={}\n"
   ]
  },
  {
   "cell_type": "code",
   "execution_count": 10,
   "metadata": {
    "collapsed": true,
    "scrolled": true
   },
   "outputs": [],
   "source": [
    "def get_page(url):\n",
    "    # Check if URL has already been visited.\n",
    "    if (url not in urlcache) or (urlcache[url]==1) or (urlcache[url]==2):\n",
    "        time.sleep(1)\n",
    "        # try/except blocks are used whenever the code could generate an exception (e.g. division by zero).\n",
    "        # In this case we don't know if the page really exists, or even if it does, if we'll be able to reach it.\n",
    "        try:\n",
    "            r = requests.get(\"http://en.wikipedia.org%s\" % url)\n",
    "\n",
    "            if r.status_code == 200:\n",
    "                urlcache[url] = r.text\n",
    "            else:\n",
    "                urlcache[url] = 1\n",
    "        except:\n",
    "            urlcache[url] = 2\n",
    "    return urlcache[url]\n"
   ]
  },
  {
   "cell_type": "markdown",
   "metadata": {},
   "source": [
    "We sort the `flatframe` by year, ascending, first. Think why."
   ]
  },
  {
   "cell_type": "code",
   "execution_count": null,
   "metadata": {
    "collapsed": true,
    "scrolled": true
   },
   "outputs": [],
   "source": [
    "flatframe=flatframe.sort_values('year')\n",
    "flatframe.head()"
   ]
  },
  {
   "cell_type": "markdown",
   "metadata": {},
   "source": [
    "#### Pulling and saving the data"
   ]
  },
  {
   "cell_type": "code",
   "execution_count": null,
   "metadata": {
    "collapsed": true,
    "scrolled": true
   },
   "outputs": [],
   "source": [
    "# DO NOT RERUN THIS CELL WHEN SUBMITTING\n",
    "# Here we are populating the url cache\n",
    "# subsequent calls to this cell should be very fast, since Python won't\n",
    "# need to fetch the page from the web server.\n",
    "# NOTE this function will take quite some time to run (about 30 mins for me), since we sleep 1 second before\n",
    "# making a request. If you run it again it will be almost instantaneous, save requests that might have failed\n",
    "# (you will need to run it again if requests fail..see cell below for how to test this)\n",
    "flatframe[\"url\"].apply(get_page)"
   ]
  },
  {
   "cell_type": "markdown",
   "metadata": {},
   "source": [
    "You may have to run this function again and again, in case there were network problems. Note that, because there is a \"global\" cache, it will take less time each time you run it. Also note that this function is designed to be run again and again: it attempts to make sure that there are no unresolved pages remaining. Let us make sure of this: *the sum below should be 0, and the boolean True.*"
   ]
  },
  {
   "cell_type": "code",
   "execution_count": null,
   "metadata": {
    "collapsed": true,
    "scrolled": true
   },
   "outputs": [],
   "source": [
    "# DO NOT RERUN THIS CELL WHEN SUBMITTING\n",
    "print(\"Number of bad requests:\",np.sum([(urlcache[k]==1) or (urlcache[k]==2) for k in urlcache])) # no one or 0's)\n",
    "print(\"Did we get all urls?\", len(flatframe.url.unique())==len(urlcache)) # we got all of the urls"
   ]
  },
  {
   "cell_type": "markdown",
   "metadata": {},
   "source": [
    "Let's save the `urlcache` to disk, just in case we need it again."
   ]
  },
  {
   "cell_type": "code",
   "execution_count": null,
   "metadata": {
    "collapsed": true
   },
   "outputs": [],
   "source": [
    "# DO NOT RERUN THIS CELL WHEN SUBMITTING\n",
    "with open(\"data/artistinfo.json\",\"w\") as fd:\n",
    "    json.dump(urlcache, fd)\n",
    "del urlcache"
   ]
  },
  {
   "cell_type": "code",
   "execution_count": null,
   "metadata": {
    "collapsed": true,
    "scrolled": false
   },
   "outputs": [],
   "source": [
    "# RERUN WHEN SUBMITTING\n",
    "with open(\"data/artistinfo.json\") as json_file:\n",
    "    urlcache = json.load(json_file)"
   ]
  },
  {
   "cell_type": "markdown",
   "metadata": {},
   "source": [
    "#### 2.1 Extract information about singers and bands"
   ]
  },
  {
   "cell_type": "markdown",
   "metadata": {},
   "source": [
    "From each page we collected about a singer or a band, extract the following information:\n",
    "\n",
    "1. If the page has the text \"Born\" in the sidebar on the right, extract the element with the class `.bday`. If the page doesn't contain \"Born\", store `False`.  Store either of these into the variable `born`. We want to analyze the artist's age.\n",
    "\n",
    "2. If the text \"Years active\" is found, but no \"born\", assume a band. Store into the variable `ya` the value of the next table cell corresponding to this, or `False` if the text is not found.\n",
    "\n",
    "Put this all into a function `singer_band_info` which takes the singer/band url as argument and returns a dictionary `dict(url=url, born=born, ya=ya)`.\n",
    "\n",
    "The information can be found on the sidebar on each such wikipedia page, as the example here shows:\n",
    "\n",
    "![sandg](https://raw.githubusercontent.com/cs109/a-2017/master/hwassets/images/sandg.png).\n",
    "\n"
   ]
  },
  {
   "cell_type": "markdown",
   "metadata": {},
   "source": [
    "Write the function `singer_band_info` according to the following specification:"
   ]
  },
  {
   "cell_type": "code",
   "execution_count": null,
   "metadata": {
    "collapsed": true
   },
   "outputs": [],
   "source": [
    "\"\"\"\n",
    "Function\n",
    "--------\n",
    "singer_band_info\n",
    "\n",
    "Inputs\n",
    "------\n",
    "url: the url\n",
    "page_text: the text associated with the url\n",
    "   \n",
    "Returns\n",
    "-------\n",
    "A dictionary with the following data:\n",
    "    url: copy the input argument url into this value\n",
    "    born: the artist's birthday\n",
    "    ya: years active variable\n",
    "\n",
    "Notes\n",
    "-----\n",
    "See description above. Also note that some of the genres urls might require a \n",
    "bit of care and special handling.\n",
    "\"\"\""
   ]
  },
  {
   "cell_type": "markdown",
   "metadata": {},
   "source": [
    "#### 2.2  Merging this information in"
   ]
  },
  {
   "cell_type": "markdown",
   "metadata": {},
   "source": [
    "Iterate over the items in the singer-group dictionary cache `urlcache`, run the above function, and create a dataframe from there with columns `url`, `born`, and `ya`. Merge this dataframe on the `url` key with `flatframe`, creating a rather wide dataframe that we shall call `largedf`. It should look something like this:\n",
    "\n",
    "![](https://raw.githubusercontent.com/cs109/a-2017/master/hwassets/images/HW1SC3.png)\n",
    "\n",
    "Notice how the `born` and `ya` and `url` are repeated every time a different song from a given band is represented in a row."
   ]
  },
  {
   "cell_type": "markdown",
   "metadata": {},
   "source": [
    "#### 2.3 What is the age at which singers achieve their top ranking?"
   ]
  },
  {
   "cell_type": "markdown",
   "metadata": {},
   "source": [
    "Plot a histogram of the age at which singers achieve their top ranking. What conclusions can you draw from this distribution of ages?\n",
    "\n",
    "*HINT: You will need to do some manipulation of the `born` column, and find the song for which a band or an artist achieves their top ranking. You will then need to put these rows together into another dataframe or array to make the plot.*"
   ]
  },
  {
   "cell_type": "markdown",
   "metadata": {},
   "source": [
    "#### 2.4 At what year since inception do bands reach their top rankings?"
   ]
  },
  {
   "cell_type": "markdown",
   "metadata": {},
   "source": [
    "Make a similar calculation to plot a histogram of the years since inception at which bands reach their top ranking. What conclusions can you draw?"
   ]
  }
 ],
 "metadata": {
  "kernelspec": {
   "display_name": "Python 3",
   "language": "python",
   "name": "python3"
  },
  "language_info": {
   "codemirror_mode": {
    "name": "ipython",
    "version": 3
   },
   "file_extension": ".py",
   "mimetype": "text/x-python",
   "name": "python",
   "nbconvert_exporter": "python",
   "pygments_lexer": "ipython3",
   "version": "3.6.1"
  }
 },
 "nbformat": 4,
 "nbformat_minor": 1
}
