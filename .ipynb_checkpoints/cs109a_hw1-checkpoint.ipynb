{
 "cells": [
  {
   "cell_type": "markdown",
   "metadata": {},
   "source": [
    "# CS 109A/STAT 121A/AC 209A/CSCI E-109A: Homework 1\n",
    "\n",
    "\n",
    "\n",
    "**Harvard University**<br/>\n",
    "**Fall 2017**<br/>\n",
    "**Instructors**: Pavlos Protopapas, Kevin Rader, Rahul Dave, Margo Levine\n",
    "\n",
    "---\n",
    "\n",
    "### INSTRUCTIONS\n",
    "\n",
    "**WARNING**: There is web page scraping in this homework. It takes about 40 minutes. **Do not wait till the last minute** to do this homework.\n",
    "\n",
    "- To submit your assignment follow the instructions given in canvas.\n",
    "- Restart the kernel and run the whole notebook again before you submit. There is an important CAVEAT to this. DO NOT run the web-page fetching cells again. (We have provided hints like `# DO NOT RERUN THIS CELL WHEN SUBMITTING` on some of the cells where we provide the code). Instead load your data structures from the JSON files we will ask you to save below. Otherwise you will be waiting for a long time. (Another reason to not wait until the last moment to submit.)\n",
    "\n",
    "- Do not include your name in the notebook.\n",
    "\n",
    "---"
   ]
  },
  {
   "cell_type": "markdown",
   "metadata": {},
   "source": [
    "# Homework 1: Rihanna or Mariah?"
   ]
  },
  {
   "cell_type": "markdown",
   "metadata": {},
   "source": [
    "Billboard Magazine puts out a top 100 list of \"singles\" every week. Information from this list, as well as that from music sales, radio, and other sources is used to determine a top-100 \"singles\" of the year list. A **single** is typically one song, but sometimes can be two songs which are on one \"single\" record.\n",
    "\n",
    "In this homework you will: \n",
    "\n",
    "1. Scrape Wikipedia to obtain infprmation about the best singers and groups from each year (distinguishing between the two groups) as determined by the Billboard top 100 charts. You will have to clean this data. Along the way you will learn how to save data in json files to avoid repeated scraping. \n",
    "2. Scrape Wikipedia to obtain information on these singers. You will have to scrape the web pages, this time using a cache to guard against network timeouts (or your laptop going to sleep). You will again clean the data, and save it to a json file.\n",
    "3. Use pandas to represent these two datasets and merge them.\n",
    "4. Use the individual and merged datasets to visualize the performance of the artists and their songs. We have kept the amount of analysis limited here for reasons of time; but you might enjoy exploring music genres and other aspects of the music business you can find on these wikipedia pages at your own leisure."
   ]
  },
  {
   "cell_type": "markdown",
   "metadata": {},
   "source": [
    "You should have worked through Lab0 and Lab 1, and Lecture 2.  Lab 2 will help as well."
   ]
  },
  {
   "cell_type": "markdown",
   "metadata": {},
   "source": [
    "As usual, first we import the necessary libraries.  In particular, we use [Seaborn](http://stanford.edu/~mwaskom/software/seaborn/) to give us a nicer default color palette, with our plots being of large (`poster`) size and with a white-grid background. "
   ]
  },
  {
   "cell_type": "code",
   "execution_count": 3,
   "metadata": {
    "collapsed": true,
    "scrolled": false
   },
   "outputs": [],
   "source": [
    "%matplotlib inline\n",
    "import numpy as np\n",
    "import scipy as sp\n",
    "import matplotlib as mpl\n",
    "import matplotlib.cm as cm\n",
    "import matplotlib.pyplot as plt\n",
    "import pandas as pd\n",
    "import time\n",
    "pd.set_option('display.width', 500)\n",
    "pd.set_option('display.max_columns', 100)\n",
    "pd.set_option('display.notebook_repr_html', True)\n",
    "import seaborn as sns\n",
    "sns.set_style(\"whitegrid\")\n",
    "sns.set_context(\"poster\")"
   ]
  },
  {
   "cell_type": "markdown",
   "metadata": {},
   "source": [
    "## Q1. Scraping Wikipedia for Billboard Top 100."
   ]
  },
  {
   "cell_type": "markdown",
   "metadata": {},
   "source": [
    "In this question you will scrape Wikipedia for the Billboard's top 100 singles."
   ]
  },
  {
   "cell_type": "markdown",
   "metadata": {},
   "source": [
    "### Scraping Wikipedia for Billboard singles"
   ]
  },
  {
   "cell_type": "markdown",
   "metadata": {},
   "source": [
    "We'll be using  [BeautifulSoup](http://www.crummy.com/software/BeautifulSoup/), and suggest that you use Python's built in `requests` library to fetch the web page."
   ]
  },
  {
   "cell_type": "markdown",
   "metadata": {},
   "source": [
    "#### 1.1 Parsing the Billboard Wikipedia page for 1970"
   ]
  },
  {
   "cell_type": "markdown",
   "metadata": {},
   "source": [
    "Obtain the web page at http://en.wikipedia.org/wiki/Billboard_Year-End_Hot_100_singles_of_1970 using a HTTP GET request. From this web page we'll extract the top 100 singles and their rankings. Create a list of dictionaries, 100 of them to be precise, with entries like \n",
    "\n",
    "`{'url': '/wiki/Sugarloaf_(band)', 'ranking': 30, 'band_singer': 'Sugarloaf', 'title': 'Green-Eyed Lady'}`. \n",
    "\n",
    "If you look at that web page, you'll see a link for every song, from which you can get the `url` of the singer or band. We will use these links later to scrape information about the singer or band. From the listing we can also get the band or singer name `band_singer`, and `title` of the song.\n",
    "\n",
    "*HINT: look for a table with class `wikitable`.*"
   ]
  },
  {
   "cell_type": "markdown",
   "metadata": {
    "scrolled": true
   },
   "source": [
    "You should get something similar to this (where songs is the aforementioned list):\n",
    "\n",
    "```\n",
    "songs[2:4]\n",
    "```\n",
    "\n",
    "```\n",
    "[{'band_singer': 'The Guess Who',\n",
    "  'ranking': 3,\n",
    "  'title': '\"American Woman\"',\n",
    "  'url': '/wiki/The_Guess_Who'},\n",
    " {'band_singer': 'B.J. Thomas',\n",
    "  'ranking': 4,\n",
    "  'title': '\"Raindrops Keep Fallin\\' on My Head\"',\n",
    "  'url': '/wiki/B.J._Thomas'}]\n",
    "```"
   ]
  },
  {
   "cell_type": "code",
   "execution_count": 2,
   "metadata": {
    "collapsed": true
   },
   "outputs": [],
   "source": [
    "import requests\n",
    "from bs4 import BeautifulSoup\n",
    "from IPython.display import IFrame, HTML\n",
    "import time"
   ]
  },
  {
   "cell_type": "code",
   "execution_count": 13,
   "metadata": {
    "collapsed": false
   },
   "outputs": [],
   "source": [
    "# Get Wiki padge for 1970's top 100\n",
    "req = requests.get(\" http://en.wikipedia.org/wiki/Billboard_Year-End_Hot_100_singles_of_1970\")\n",
    "page = req.text\n",
    "# Use Beautiful Soup to convert the HTML\n",
    "soup = BeautifulSoup(page, 'html.parser')\n",
    "# The classes of all tables that have a class sttribute set on them\n",
    "[t[\"class\"] for t in soup.find_all(\"table\") if t.get(\"class\")]\n",
    "# Find the table with class-types 'sortable' and 'wikitable'\n",
    "dfinder = lambda tag: tag.name=='table' and tag.get('class') == ['wikitable', 'sortable']\n",
    "table_songs = soup.find_all(dfinder)"
   ]
  },
  {
   "cell_type": "code",
   "execution_count": 141,
   "metadata": {
    "collapsed": false
   },
   "outputs": [
    {
     "data": {
      "text/plain": [
       "[{'band_singer': 'Simon & Garfunkel',\n",
       "  'ranking': 1,\n",
       "  'title': \"'Bridge over Troubled Water (song)'\",\n",
       "  'url': '/wiki/Simon_%26_Garfunkel'},\n",
       " {'band_singer': 'The Carpenters',\n",
       "  'ranking': 2,\n",
       "  'title': \"'(They Long to Be) Close to You'\",\n",
       "  'url': '/wiki/The_Carpenters'},\n",
       " {'band_singer': 'The Guess Who',\n",
       "  'ranking': 3,\n",
       "  'title': \"'American Woman'\",\n",
       "  'url': '/wiki/The_Guess_Who'},\n",
       " {'band_singer': 'B.J. Thomas',\n",
       "  'ranking': 4,\n",
       "  'title': \"'Raindrops Keep Fallin' on My Head'\",\n",
       "  'url': '/wiki/B.J._Thomas'},\n",
       " {'band_singer': 'Edwin Starr',\n",
       "  'ranking': 5,\n",
       "  'title': \"'War (The Temptations song)'\",\n",
       "  'url': '/wiki/Edwin_Starr'},\n",
       " {'band_singer': 'Diana Ross',\n",
       "  'ranking': 6,\n",
       "  'title': \"'Ain't No Mountain High Enough'\",\n",
       "  'url': '/wiki/Diana_Ross'},\n",
       " {'band_singer': 'The Jackson 5',\n",
       "  'ranking': 7,\n",
       "  'title': \"'I'll Be There (The Jackson 5 song)'\",\n",
       "  'url': '/wiki/The_Jackson_5'},\n",
       " {'band_singer': 'Rare Earth',\n",
       "  'ranking': 8,\n",
       "  'title': \"'Get Ready (The Temptations song)'\",\n",
       "  'url': '/wiki/Rare_Earth_(band)'},\n",
       " {'band_singer': 'The Beatles',\n",
       "  'ranking': 9,\n",
       "  'title': \"'Let It Be (song)'\",\n",
       "  'url': '/wiki/The_Beatles'},\n",
       " {'band_singer': 'Freda Payne',\n",
       "  'ranking': 10,\n",
       "  'title': \"'Band of Gold (Freda Payne song)'\",\n",
       "  'url': '/wiki/Freda_Payne'},\n",
       " {'band_singer': 'Three Dog Night',\n",
       "  'ranking': 11,\n",
       "  'title': \"'Mama Told Me Not to Come'\",\n",
       "  'url': '/wiki/Three_Dog_Night'},\n",
       " {'band_singer': 'Ray Stevens',\n",
       "  'ranking': 12,\n",
       "  'title': \"'Everything Is Beautiful'\",\n",
       "  'url': '/wiki/Ray_Stevens'},\n",
       " {'band_singer': 'Bread',\n",
       "  'ranking': 13,\n",
       "  'title': \"'Make It with You'\",\n",
       "  'url': '/wiki/Bread_(band)'},\n",
       " {'band_singer': 'Vanity Fare',\n",
       "  'ranking': 14,\n",
       "  'title': \"'Hitchin' a Ride (Vanity Fare song)'\",\n",
       "  'url': '/wiki/Vanity_Fare'},\n",
       " {'band_singer': 'The Jackson 5',\n",
       "  'ranking': 15,\n",
       "  'title': \"'ABC (The Jackson 5 song)'\",\n",
       "  'url': '/wiki/The_Jackson_5'},\n",
       " {'band_singer': 'The Jackson 5',\n",
       "  'ranking': 16,\n",
       "  'title': \"'The Love You Save'\",\n",
       "  'url': '/wiki/The_Jackson_5'},\n",
       " {'band_singer': 'Neil Diamond',\n",
       "  'ranking': 17,\n",
       "  'title': \"'Cracklin' Rosie'\",\n",
       "  'url': '/wiki/Neil_Diamond'},\n",
       " {'band_singer': 'Dawn',\n",
       "  'ranking': 18,\n",
       "  'title': \"'Candida (song)'\",\n",
       "  'url': '/wiki/Tony_Orlando_and_Dawn'},\n",
       " {'band_singer': 'Sly & the Family Stone',\n",
       "  'ranking': 19,\n",
       "  'title': \"'Thank You (Falettinme Be Mice Elf Agin)'\",\n",
       "  'url': '/wiki/Sly_%26_the_Family_Stone'},\n",
       " {'band_singer': 'Eric Burdon & War',\n",
       "  'ranking': 20,\n",
       "  'title': \"'Spill the Wine'\",\n",
       "  'url': '/wiki/Eric_Burdon'},\n",
       " {'band_singer': 'Five Stairsteps',\n",
       "  'ranking': 21,\n",
       "  'title': \"'O-o-h Child'\",\n",
       "  'url': '/wiki/Five_Stairsteps'},\n",
       " {'band_singer': 'Norman Greenbaum',\n",
       "  'ranking': 22,\n",
       "  'title': \"'Spirit in the Sky'\",\n",
       "  'url': '/wiki/Norman_Greenbaum'},\n",
       " {'band_singer': 'Melanie',\n",
       "  'ranking': 23,\n",
       "  'title': \"'Lay Down (Candles in the Rain)'\",\n",
       "  'url': '/wiki/Melanie_Safka'},\n",
       " {'band_singer': 'The Temptations',\n",
       "  'ranking': 24,\n",
       "  'title': \"'Ball of Confusion (That's What the World Is Today)'\",\n",
       "  'url': '/wiki/The_Temptations'},\n",
       " {'band_singer': 'The Moments',\n",
       "  'ranking': 25,\n",
       "  'title': \"'Love on a Two-Way Street'\",\n",
       "  'url': '/wiki/Ray,_Goodman_%26_Brown'},\n",
       " {'band_singer': 'The Poppy Family',\n",
       "  'ranking': 26,\n",
       "  'title': \"'Which Way You Goin' Billy? (song)'\",\n",
       "  'url': '/wiki/The_Poppy_Family'},\n",
       " {'band_singer': 'Free',\n",
       "  'ranking': 27,\n",
       "  'title': \"'All Right Now'\",\n",
       "  'url': '/wiki/Free_(band)'},\n",
       " {'band_singer': 'The Jackson 5',\n",
       "  'ranking': 28,\n",
       "  'title': \"'I Want You Back'\",\n",
       "  'url': '/wiki/The_Jackson_5'},\n",
       " {'band_singer': 'Bobby Sherman',\n",
       "  'ranking': 29,\n",
       "  'title': \"'Julie, Do Ya Love Me'\",\n",
       "  'url': '/wiki/Bobby_Sherman'},\n",
       " {'band_singer': 'Sugarloaf',\n",
       "  'ranking': 30,\n",
       "  'title': \"'Green-Eyed Lady'\",\n",
       "  'url': '/wiki/Sugarloaf_(band)'},\n",
       " {'band_singer': 'Stevie Wonder',\n",
       "  'ranking': 31,\n",
       "  'title': \"'Signed, Sealed, Delivered I'm Yours'\",\n",
       "  'url': '/wiki/Stevie_Wonder'},\n",
       " {'band_singer': 'Blues Image',\n",
       "  'ranking': 32,\n",
       "  'title': \"'Ride Captain Ride'\",\n",
       "  'url': '/wiki/Blues_Image'},\n",
       " {'band_singer': 'Shocking Blue',\n",
       "  'ranking': 33,\n",
       "  'title': \"'Venus (Shocking Blue song)'\",\n",
       "  'url': '/wiki/Shocking_Blue'},\n",
       " {'band_singer': 'John Lennon',\n",
       "  'ranking': 34,\n",
       "  'title': \"'Instant Karma!'\",\n",
       "  'url': '/wiki/John_Lennon'},\n",
       " {'band_singer': 'Clarence Carter',\n",
       "  'ranking': 35,\n",
       "  'title': \"'Patches (Chairmen of the Board song)'\",\n",
       "  'url': '/wiki/Clarence_Carter'},\n",
       " {'band_singer': 'Creedence Clearwater Revival',\n",
       "  'ranking': 36,\n",
       "  'title': \"'Lookin' out My Back Door'\",\n",
       "  'url': '/wiki/Creedence_Clearwater_Revival'},\n",
       " {'band_singer': 'Brook Benton',\n",
       "  'ranking': 37,\n",
       "  'title': \"'Rainy Night in Georgia'\",\n",
       "  'url': '/wiki/Brook_Benton'},\n",
       " {'band_singer': 'Kenny Rogers & The First Edition',\n",
       "  'ranking': 38,\n",
       "  'title': '\\'\"Something\\'s Burning\"\\'',\n",
       "  'url': '/wiki/Kenny_Rogers'},\n",
       " {'band_singer': 'Chairmen of the Board',\n",
       "  'ranking': 39,\n",
       "  'title': \"'Give Me Just a Little More Time'\",\n",
       "  'url': '/wiki/Chairmen_of_the_Board'},\n",
       " {'band_singer': 'Edison Lighthouse',\n",
       "  'ranking': 40,\n",
       "  'title': \"'Love Grows (Where My Rosemary Goes)'\",\n",
       "  'url': '/wiki/Edison_Lighthouse'},\n",
       " {'band_singer': 'The Beatles',\n",
       "  'ranking': 41,\n",
       "  'title': \"'The Long and Winding Road'\",\n",
       "  'url': '/wiki/The_Beatles'},\n",
       " {'band_singer': 'Anne Murray',\n",
       "  'ranking': 42,\n",
       "  'title': \"'Snowbird (song)'\",\n",
       "  'url': '/wiki/Anne_Murray'},\n",
       " {'band_singer': 'Marmalade',\n",
       "  'ranking': 43,\n",
       "  'title': \"'Reflections of My Life'\",\n",
       "  'url': '/wiki/Marmalade_(band)'},\n",
       " {'band_singer': 'Eddie Holman',\n",
       "  'ranking': 44,\n",
       "  'title': \"'Hey There Lonely Girl'\",\n",
       "  'url': '/wiki/Eddie_Holman'},\n",
       " {'band_singer': 'The Jaggerz',\n",
       "  'ranking': 45,\n",
       "  'title': \"'The Rapper'\",\n",
       "  'url': '/wiki/The_Jaggerz'},\n",
       " {'band_singer': 'The Hollies',\n",
       "  'ranking': 46,\n",
       "  'title': \"'He Ain't Heavy, He's My Brother'\",\n",
       "  'url': '/wiki/The_Hollies'},\n",
       " {'band_singer': \"Alive N Kickin'\",\n",
       "  'ranking': 47,\n",
       "  'title': \"'Tighter, Tighter'\",\n",
       "  'url': '/wiki/Alive_N_Kickin%27'},\n",
       " {'band_singer': 'Badfinger',\n",
       "  'ranking': 48,\n",
       "  'title': \"'Come and Get It (Badfinger song)'\",\n",
       "  'url': '/wiki/Badfinger'},\n",
       " {'band_singer': 'Simon & Garfunkel',\n",
       "  'ranking': 49,\n",
       "  'title': \"'Cecilia (Simon & Garfunkel song)'\",\n",
       "  'url': '/wiki/Simon_%26_Garfunkel'},\n",
       " {'band_singer': 'Charles Wright & the Watts 103rd Street Rhythm Band',\n",
       "  'ranking': 50,\n",
       "  'title': \"'Love Land (song)'\",\n",
       "  'url': '/wiki/Charles_Wright_%26_the_Watts_103rd_Street_Rhythm_Band'},\n",
       " {'band_singer': 'Tyrone Davis',\n",
       "  'ranking': 51,\n",
       "  'title': \"'Turn Back the Hands of Time (song)'\",\n",
       "  'url': '/wiki/Tyrone_Davis'},\n",
       " {'band_singer': 'The Kinks',\n",
       "  'ranking': 52,\n",
       "  'title': \"'Lola (song)'\",\n",
       "  'url': '/wiki/The_Kinks'},\n",
       " {'band_singer': 'Mungo Jerry',\n",
       "  'ranking': 53,\n",
       "  'title': \"'In the Summertime (Mungo Jerry song)'\",\n",
       "  'url': '/wiki/Mungo_Jerry'},\n",
       " {'band_singer': 'R. Dean Taylor',\n",
       "  'ranking': 54,\n",
       "  'title': \"'Indiana Wants Me'\",\n",
       "  'url': '/wiki/R._Dean_Taylor'},\n",
       " {'band_singer': 'Rare Earth',\n",
       "  'ranking': 55,\n",
       "  'title': \"'(I Know) I'm Losing You'\",\n",
       "  'url': '/wiki/Rare_Earth_(band)'},\n",
       " {'band_singer': 'Bobby Sherman',\n",
       "  'ranking': 56,\n",
       "  'title': \"'Easy Come, Easy Go (Bobby Sherman song)'\",\n",
       "  'url': '/wiki/Bobby_Sherman'},\n",
       " {'band_singer': 'Charles Wright & the Watts 103rd Street Rhythm Band',\n",
       "  'ranking': 57,\n",
       "  'title': \"'Express Yourself (Charles Wright & the Watts 103rd Street Rhythm Band song)'\",\n",
       "  'url': '/wiki/Charles_Wright_%26_the_Watts_103rd_Street_Rhythm_Band'},\n",
       " {'band_singer': 'The Four Tops',\n",
       "  'ranking': 58,\n",
       "  'title': \"'Still Water (Love)'\",\n",
       "  'url': '/wiki/The_Four_Tops'},\n",
       " {'band_singer': 'Chicago',\n",
       "  'ranking': 59,\n",
       "  'title': \"'Make Me Smile'\",\n",
       "  'url': '/wiki/Chicago_(band)'},\n",
       " {'band_singer': 'Frijid Pink',\n",
       "  'ranking': 60,\n",
       "  'title': \"'The House of the Rising Sun'\",\n",
       "  'url': '/wiki/Frijid_Pink'},\n",
       " {'band_singer': 'Chicago',\n",
       "  'ranking': 61,\n",
       "  'title': \"'25 or 6 to 4'\",\n",
       "  'url': '/wiki/Chicago_(band)'},\n",
       " {'band_singer': 'White Plains',\n",
       "  'ranking': 62,\n",
       "  'title': \"'My Baby Loves Lovin''\",\n",
       "  'url': '/wiki/White_Plains_(band)'},\n",
       " {'band_singer': 'The Friends of Distinction',\n",
       "  'ranking': 63,\n",
       "  'title': \"'Love or Let Me Be Lonely'\",\n",
       "  'url': '/wiki/The_Friends_of_Distinction'},\n",
       " {'band_singer': 'The Brotherhood of Man',\n",
       "  'ranking': 64,\n",
       "  'title': \"'United We Stand (song)'\",\n",
       "  'url': '/wiki/The_Brotherhood_of_Man'},\n",
       " {'band_singer': 'The Carpenters',\n",
       "  'ranking': 65,\n",
       "  'title': \"'We've Only Just Begun'\",\n",
       "  'url': '/wiki/The_Carpenters'},\n",
       " {'band_singer': 'Mark Lindsay',\n",
       "  'ranking': 66,\n",
       "  'title': \"'Arizona (song)'\",\n",
       "  'url': '/wiki/Mark_Lindsay'},\n",
       " {'band_singer': 'James Taylor',\n",
       "  'ranking': 67,\n",
       "  'title': \"'Fire and Rain (song)'\",\n",
       "  'url': '/wiki/James_Taylor'},\n",
       " {'band_singer': 'Gene Chandler',\n",
       "  'ranking': 68,\n",
       "  'title': \"'Groovy Situation'\",\n",
       "  'url': '/wiki/Gene_Chandler'},\n",
       " {'band_singer': 'Santana',\n",
       "  'ranking': 69,\n",
       "  'title': \"'Evil Ways'\",\n",
       "  'url': '/wiki/Santana_(band)'},\n",
       " {'band_singer': 'The Guess Who',\n",
       "  'ranking': 70,\n",
       "  'title': \"'No Time (The Guess Who song)'\",\n",
       "  'url': '/wiki/The_Guess_Who'},\n",
       " {'band_singer': 'The Delfonics',\n",
       "  'ranking': 71,\n",
       "  'title': \"'Didn't I (Blow Your Mind This Time)'\",\n",
       "  'url': '/wiki/The_Delfonics'},\n",
       " {'band_singer': 'Elvis Presley',\n",
       "  'ranking': 72,\n",
       "  'title': \"'The Wonder of You'\",\n",
       "  'url': '/wiki/Elvis_Presley'},\n",
       " {'band_singer': 'Creedence Clearwater Revival',\n",
       "  'ranking': 73,\n",
       "  'title': \"'Up Around the Bend'\",\n",
       "  'url': '/wiki/Creedence_Clearwater_Revival'},\n",
       " {'band_singer': 'Ronnie Dyson',\n",
       "  'ranking': 74,\n",
       "  'title': \"'(If You Let Me Make Love To You Then) Why Can't I Touch You?'\",\n",
       "  'url': '/wiki/Ronnie_Dyson'},\n",
       " {'band_singer': 'B.J. Thomas',\n",
       "  'ranking': 75,\n",
       "  'title': \"'I Just Can't Help Believing'\",\n",
       "  'url': '/wiki/B.J._Thomas'},\n",
       " {'band_singer': 'The Spinners',\n",
       "  'ranking': 76,\n",
       "  'title': \"'It's a Shame (The Spinners song)'\",\n",
       "  'url': '/wiki/The_Spinners_(American_band)'},\n",
       " {'band_singer': 'Bobbi Martin',\n",
       "  'ranking': 77,\n",
       "  'title': \"'For the Love of Him'\",\n",
       "  'url': '/wiki/Bobbi_Martin'},\n",
       " {'band_singer': 'Mountain',\n",
       "  'ranking': 78,\n",
       "  'title': \"'Mississippi Queen'\",\n",
       "  'url': '/wiki/Mountain_(band)'},\n",
       " {'band_singer': 'Ike & Tina Turner',\n",
       "  'ranking': 79,\n",
       "  'title': \"'I Want to Take You Higher'\",\n",
       "  'url': '/wiki/Ike_%26_Tina_Turner'},\n",
       " {'band_singer': 'Joe Cocker',\n",
       "  'ranking': 80,\n",
       "  'title': \"'The Letter (The Box Tops song)'\",\n",
       "  'url': '/wiki/Joe_Cocker'},\n",
       " {'band_singer': 'Tee Set',\n",
       "  'ranking': 81,\n",
       "  'title': \"'Ma Belle Amie'\",\n",
       "  'url': '/wiki/Tee_Set'},\n",
       " {'band_singer': 'The Originals',\n",
       "  'ranking': 82,\n",
       "  'title': \"'The Bells (The Originals song)'\",\n",
       "  'url': '/wiki/The_Originals_(band)'},\n",
       " {'band_singer': 'Christie',\n",
       "  'ranking': 83,\n",
       "  'title': \"'Yellow River (song)'\",\n",
       "  'url': '/wiki/Christie_(band)'},\n",
       " {'band_singer': '100 Proof (Aged in Soul)',\n",
       "  'ranking': 84,\n",
       "  'title': \"'Somebody's Been Sleeping'\",\n",
       "  'url': '/wiki/100_Proof_(Aged_in_Soul)'},\n",
       " {'band_singer': 'The Ides of March',\n",
       "  'ranking': 85,\n",
       "  'title': \"'Vehicle (song)'\",\n",
       "  'url': '/wiki/The_Ides_of_March_(band)'},\n",
       " {'band_singer': 'The Pipkins',\n",
       "  'ranking': 86,\n",
       "  'title': \"'Gimme Dat Ding (song)'\",\n",
       "  'url': '/wiki/The_Pipkins'},\n",
       " {'band_singer': 'Robin McNamara',\n",
       "  'ranking': 87,\n",
       "  'title': \"'Lay a Little Lovin' on Me'\",\n",
       "  'url': '/wiki/Robin_McNamara'},\n",
       " {'band_singer': 'The Supremes',\n",
       "  'ranking': 88,\n",
       "  'title': \"'Up the Ladder to the Roof'\",\n",
       "  'url': '/wiki/The_Supremes'},\n",
       " {'band_singer': 'Creedence Clearwater Revival',\n",
       "  'ranking': 89,\n",
       "  'title': \"'Travelin' Band'\",\n",
       "  'url': '/wiki/Creedence_Clearwater_Revival'},\n",
       " {'band_singer': 'The Sandpipers',\n",
       "  'ranking': 90,\n",
       "  'title': \"'Come Saturday Morning (song)'\",\n",
       "  'url': '/wiki/The_Sandpipers'},\n",
       " {'band_singer': 'The Temptations',\n",
       "  'ranking': 91,\n",
       "  'title': \"'Psychedelic Shack (song)'\",\n",
       "  'url': '/wiki/The_Temptations'},\n",
       " {'band_singer': 'Tom Jones',\n",
       "  'ranking': 92,\n",
       "  'title': \"'Without Love (There Is Nothing)'\",\n",
       "  'url': '/wiki/Tom_Jones_(singer)'},\n",
       " {'band_singer': 'Pacific Gas & Electric',\n",
       "  'ranking': 93,\n",
       "  'title': \"'Are You Ready? (Pacific Gas & Electric song)'\",\n",
       "  'url': '/wiki/Pacific_Gas_%26_Electric_(band)'},\n",
       " {'band_singer': 'Crosby, Stills, Nash & Young',\n",
       "  'ranking': 94,\n",
       "  'title': \"'Woodstock (song)'\",\n",
       "  'url': '/wiki/Crosby,_Stills,_Nash_%26_Young'},\n",
       " {'band_singer': 'Dionne Warwick',\n",
       "  'ranking': 95,\n",
       "  'title': \"'I'll Never Fall in Love Again'\",\n",
       "  'url': '/wiki/Dionne_Warwick'},\n",
       " {'band_singer': 'The New Seekers',\n",
       "  'ranking': 96,\n",
       "  'title': '\\'\"Look What They\\'ve Done to My Song Ma\"\\'',\n",
       "  'url': '/wiki/The_New_Seekers'},\n",
       " {'band_singer': 'Joe South',\n",
       "  'ranking': 97,\n",
       "  'title': \"'Walk A Mile In My Shoes'\",\n",
       "  'url': '/wiki/Joe_South'},\n",
       " {'band_singer': 'B.B. King',\n",
       "  'ranking': 98,\n",
       "  'title': \"'The Thrill Is Gone (1951 song)'\",\n",
       "  'url': '/wiki/B.B._King'},\n",
       " {'band_singer': 'Glen Campbell',\n",
       "  'ranking': 99,\n",
       "  'title': \"'It's Only Make Believe'\",\n",
       "  'url': '/wiki/Glen_Campbell'},\n",
       " {'band_singer': 'Aretha Franklin',\n",
       "  'ranking': 100,\n",
       "  'title': \"'Call Me (Aretha Franklin song)'\",\n",
       "  'url': '/wiki/Aretha_Franklin'}]"
      ]
     },
     "execution_count": 141,
     "metadata": {},
     "output_type": "execute_result"
    }
   ],
   "source": [
    "# Extract rows from table_demographics\n",
    "rows = [row for row in table_songs[0].find_all(\"tr\")]\n",
    "\n",
    "# Insert table data into dictionary\n",
    "songs = []\n",
    "for row in rows[1:]:\n",
    "    entries = row.find_all(\"td\")\n",
    "    if entries[1].find(\"a\"): \n",
    "        songEntry = {'band_singer': str(entries[2].text), 'ranking': int(entries[0].text), \n",
    "                 'title': (\"'\" + str(entries[1].find(\"a\").get(\"title\")) + \"'\"), 'url': str(entries[2].find(\"a\").get(\"href\"))}\n",
    "    # if song doesn't have URL\n",
    "    else:\n",
    "        songEntry = {'band_singer': str(entries[2].text), 'ranking': int(entries[0].text), \n",
    "                 'title': (\"'\" + str(entries[1].text) + \"'\"), 'url': str(entries[2].find(\"a\").get(\"href\"))}\n",
    "        \n",
    "    \n",
    "    songs.append(songEntry)\n",
    "songs"
   ]
  },
  {
   "cell_type": "code",
   "execution_count": 60,
   "metadata": {
    "collapsed": false
   },
   "outputs": [
    {
     "ename": "NameError",
     "evalue": "name 'shape' is not defined",
     "output_type": "error",
     "traceback": [
      "\u001b[0;31m---------------------------------------------------------------------------\u001b[0m",
      "\u001b[0;31mNameError\u001b[0m                                 Traceback (most recent call last)",
      "\u001b[0;32m<ipython-input-60-b2242d0f45c0>\u001b[0m in \u001b[0;36m<module>\u001b[0;34m()\u001b[0m\n\u001b[0;32m----> 1\u001b[0;31m \u001b[0mshape\u001b[0m\u001b[0;34m(\u001b[0m\u001b[0mrows\u001b[0m\u001b[0;34m)\u001b[0m\u001b[0;34m\u001b[0m\u001b[0m\n\u001b[0m",
      "\u001b[0;31mNameError\u001b[0m: name 'shape' is not defined"
     ]
    }
   ],
   "source": [
    "shape(rows)"
   ]
  },
  {
   "cell_type": "markdown",
   "metadata": {},
   "source": [
    "#### 1.2 Generalize the previous: scrape Wikipedia from 1992 to 2014"
   ]
  },
  {
   "cell_type": "markdown",
   "metadata": {},
   "source": [
    "By visiting the urls similar to the ones for 1970, we can obtain the billboard top 100 for the years 1992 to 2014. (We choose these later years rather than 1970 as you might find music from this era more interesting.) Download these using Python's `requests` module and store the text from those requests in a dictionary called `yearstext`. This dictionary ought to have as its keys the years (as integers from 1992 to 2014), and as values corresponding to these keys the text of the page being fetched.\n",
    "\n",
    "You ought to sleep a second (look up `time.sleep` in Python) at the very least in-between fetching each web page: you do not want Wikipedia to think you are a marauding bot attempting to mount a denial-of-service attack."
   ]
  },
  {
   "cell_type": "markdown",
   "metadata": {},
   "source": [
    "*HINT: you might find `range` and string-interpolation useful to construct the URLs *.\n"
   ]
  },
  {
   "cell_type": "code",
   "execution_count": 137,
   "metadata": {
    "collapsed": false
   },
   "outputs": [],
   "source": [
    "years = range(1992, 2015)\n",
    "text = []\n",
    "for year in range(1992, 2015):\n",
    "    req = requests.get(\" http://en.wikipedia.org/wiki/Billboard_Year-End_Hot_100_singles_of_\" + str(year))\n",
    "    text.append(req.text)\n",
    "    time.sleep(1)\n",
    "yearstext = dict(zip(years,text))"
   ]
  },
  {
   "cell_type": "code",
   "execution_count": 136,
   "metadata": {
    "collapsed": false
   },
   "outputs": [
    {
     "data": {
      "text/plain": [
       "u'<!DOCTYPE html>\\n<html class=\"client-nojs\" lang=\"en\" dir=\"ltr\">\\n<head>\\n<meta charset=\"UTF-8\"/>\\n<title>Billboard Year-End Hot 100 singles of 2014 - Wikipedia</title>\\n<script>document.documentElement.className = document.documentElement.className.replace( /(^|\\\\s)client-nojs(\\\\s|$)/, \"$1client-js$2\" );</script>\\n<script>(window.RLQ=window.RLQ||[]).push(function(){mw.config.set({\"wgCanonicalNamespace\":\"\",\"wgCanonicalSpecialPageName\":false,\"wgNamespaceNumber\":0,\"wgPageName\":\"Billboard_Year-End_Hot_100_singles_of_2014\",\"wgTitle\":\"Billboard Year-End Hot 100 singles of 2014\",\"wgCurRevisionId\":792958844,\"wgRevisionId\":792958844,\"wgArticleId\":44655089,\"wgIsArticle\":true,\"wgIsRedirect\":false,\"wgAction\":\"view\",\"wgUserName\":null,\"wgUserGroups\":[\"*\"],\"wgCategories\":[\"2014 record charts\",\"Billboard charts\"],\"wgBreakFrames\":false,\"wgPageContentLanguage\":\"en\",\"wgPageContentModel\":\"wikitext\",\"wgSeparatorTransformTable\":[\"\",\"\"],\"wgDigitTransformTable\":[\"\",\"\"],\"wgDefaultDateFormat\":\"dmy\",\"wgMonthNames\":[\"\",\"January\",\"February\",\"March\",\"April\",\"May\",\"June\",\"July\",\"August\",\"September\",\"October\",\"November\",\"December\"],\"wgMonthNamesShort\":[\"\",\"Jan\",\"Feb\",\"Mar\",\"Apr\",\"May\",\"Jun\",\"Jul\",\"Aug\",\"Sep\",\"Oct\",\"Nov\",\"Dec\"],\"wgRelevantPageName\":\"Billboard_Year-End_Hot_100_singles_of_2014\",\"wgRelevantArticleId\":44655089,\"wgRequestId\":\"WbyWSQpAEK0AAGzfdVIAAAAM\",\"wgIsProbablyEditable\":true,\"wgRelevantPageIsProbablyEditable\":true,\"wgRestrictionEdit\":[],\"wgRestrictionMove\":[],\"wgFlaggedRevsParams\":{\"tags\":{}},\"wgStableRevisionId\":null,\"wgWikiEditorEnabledModules\":{\"toolbar\":true,\"preview\":false,\"publish\":false},\"wgBetaFeaturesFeatures\":[],\"wgMediaViewerOnClick\":true,\"wgMediaViewerEnabledByDefault\":false,\"wgPopupsShouldSendModuleToUser\":true,\"wgPopupsConflictsWithNavPopupGadget\":false,\"wgVisualEditor\":{\"pageLanguageCode\":\"en\",\"pageLanguageDir\":\"ltr\",\"pageVariantFallbacks\":\"en\",\"usePageImages\":true,\"usePageDescriptions\":true},\"wgPreferredVariant\":\"en\",\"wgMFExpandAllSectionsUserOption\":false,\"wgMFDisplayWikibaseDescriptions\":{\"search\":true,\"nearby\":true,\"watchlist\":true,\"tagline\":false},\"wgRelatedArticles\":null,\"wgRelatedArticlesUseCirrusSearch\":true,\"wgRelatedArticlesOnlyUseCirrusSearch\":false,\"wgULSCurrentAutonym\":\"English\",\"wgNoticeProject\":\"wikipedia\",\"wgCentralNoticeCookiesToDelete\":[],\"wgCentralNoticeCategoriesUsingLegacy\":[\"Fundraising\",\"fundraising\"],\"wgCategoryTreePageCategoryOptions\":\"{\\\\\"mode\\\\\":0,\\\\\"hideprefix\\\\\":20,\\\\\"showcount\\\\\":true,\\\\\"namespaces\\\\\":false}\",\"wgWikibaseItemId\":\"Q18614607\",\"wgCentralAuthMobileDomain\":false,\"wgVisualEditorToolbarScrollOffset\":0,\"wgVisualEditorUnsupportedEditParams\":[\"preload\",\"preloadparams\",\"preloadtitle\",\"undo\",\"undoafter\",\"veswitched\"],\"wgEditSubmitButtonLabelPublish\":false});mw.loader.state({\"ext.gadget.charinsert-styles\":\"ready\",\"ext.globalCssJs.user.styles\":\"ready\",\"ext.globalCssJs.site.styles\":\"ready\",\"site.styles\":\"ready\",\"noscript\":\"ready\",\"user.styles\":\"ready\",\"user\":\"ready\",\"user.options\":\"loading\",\"user.tokens\":\"loading\",\"ext.cite.styles\":\"ready\",\"wikibase.client.init\":\"ready\",\"ext.visualEditor.desktopArticleTarget.noscript\":\"ready\",\"ext.uls.interlanguage\":\"ready\",\"ext.wikimediaBadges\":\"ready\",\"mediawiki.legacy.shared\":\"ready\",\"mediawiki.legacy.commonPrint\":\"ready\",\"mediawiki.sectionAnchor\":\"ready\",\"mediawiki.skinning.interface\":\"ready\",\"skins.vector.styles\":\"ready\",\"ext.globalCssJs.user\":\"ready\",\"ext.globalCssJs.site\":\"ready\"});mw.loader.implement(\"user.options@0bhc5ha\",function($,jQuery,require,module){mw.user.options.set([]);});mw.loader.implement(\"user.tokens@1dqfd7l\",function ( $, jQuery, require, module ) {\\nmw.user.tokens.set({\"editToken\":\"+\\\\\\\\\",\"patrolToken\":\"+\\\\\\\\\",\"watchToken\":\"+\\\\\\\\\",\"csrfToken\":\"+\\\\\\\\\"});/*@nomin*/\\n\\n});mw.loader.load([\"ext.cite.a11y\",\"site\",\"mediawiki.page.startup\",\"mediawiki.user\",\"mediawiki.hidpi\",\"mediawiki.page.ready\",\"jquery.tablesorter\",\"mediawiki.searchSuggest\",\"ext.gadget.teahouse\",\"ext.gadget.ReferenceTooltips\",\"ext.gadget.watchlist-notice\",\"ext.gadget.DRN-wizard\",\"ext.gadget.charinsert\",\"ext.gadget.refToolbar\",\"ext.gadget.extra-toolbar-buttons\",\"ext.gadget.switcher\",\"ext.centralauth.centralautologin\",\"mmv.head\",\"mmv.bootstrap.autostart\",\"ext.popups\",\"ext.visualEditor.desktopArticleTarget.init\",\"ext.visualEditor.targetLoader\",\"ext.eventLogging.subscriber\",\"ext.wikimediaEvents\",\"ext.navigationTiming\",\"ext.uls.eventlogger\",\"ext.uls.init\",\"ext.uls.interface\",\"ext.centralNotice.geoIP\",\"ext.centralNotice.startUp\",\"skins.vector.js\"]);});</script>\\n<link rel=\"stylesheet\" href=\"/w/load.php?debug=false&amp;lang=en&amp;modules=ext.cite.styles%7Cext.uls.interlanguage%7Cext.visualEditor.desktopArticleTarget.noscript%7Cext.wikimediaBadges%7Cmediawiki.legacy.commonPrint%2Cshared%7Cmediawiki.sectionAnchor%7Cmediawiki.skinning.interface%7Cskins.vector.styles%7Cwikibase.client.init&amp;only=styles&amp;skin=vector\"/>\\n<script async=\"\" src=\"/w/load.php?debug=false&amp;lang=en&amp;modules=startup&amp;only=scripts&amp;skin=vector\"></script>\\n<meta name=\"ResourceLoaderDynamicStyles\" content=\"\"/>\\n<link rel=\"stylesheet\" href=\"/w/load.php?debug=false&amp;lang=en&amp;modules=ext.gadget.charinsert-styles&amp;only=styles&amp;skin=vector\"/>\\n<link rel=\"stylesheet\" href=\"/w/load.php?debug=false&amp;lang=en&amp;modules=site.styles&amp;only=styles&amp;skin=vector\"/>\\n<meta name=\"generator\" content=\"MediaWiki 1.30.0-wmf.18\"/>\\n<meta name=\"referrer\" content=\"origin-when-cross-origin\"/>\\n<meta property=\"og:image\" content=\"https://upload.wikimedia.org/wikipedia/commons/thumb/b/b5/N.E.R.D_%40_Pori_Jazz_2010_-_Pharrell_Williams_7.jpg/1200px-N.E.R.D_%40_Pori_Jazz_2010_-_Pharrell_Williams_7.jpg\"/>\\n<link rel=\"alternate\" href=\"android-app://org.wikipedia/http/en.m.wikipedia.org/wiki/Billboard_Year-End_Hot_100_singles_of_2014\"/>\\n<link rel=\"alternate\" type=\"application/x-wiki\" title=\"Edit this page\" href=\"/w/index.php?title=Billboard_Year-End_Hot_100_singles_of_2014&amp;action=edit\"/>\\n<link rel=\"edit\" title=\"Edit this page\" href=\"/w/index.php?title=Billboard_Year-End_Hot_100_singles_of_2014&amp;action=edit\"/>\\n<link rel=\"apple-touch-icon\" href=\"/static/apple-touch/wikipedia.png\"/>\\n<link rel=\"shortcut icon\" href=\"/static/favicon/wikipedia.ico\"/>\\n<link rel=\"search\" type=\"application/opensearchdescription+xml\" href=\"/w/opensearch_desc.php\" title=\"Wikipedia (en)\"/>\\n<link rel=\"EditURI\" type=\"application/rsd+xml\" href=\"//en.wikipedia.org/w/api.php?action=rsd\"/>\\n<link rel=\"license\" href=\"//creativecommons.org/licenses/by-sa/3.0/\"/>\\n<link rel=\"canonical\" href=\"https://en.wikipedia.org/wiki/Billboard_Year-End_Hot_100_singles_of_2014\"/>\\n<link rel=\"dns-prefetch\" href=\"//login.wikimedia.org\"/>\\n<link rel=\"dns-prefetch\" href=\"//meta.wikimedia.org\" />\\n<!--[if lt IE 9]><script src=\"/resources/lib/html5shiv/html5shiv.min.js\"></script><![endif]-->\\n</head>\\n<body class=\"mediawiki ltr sitedir-ltr mw-hide-empty-elt ns-0 ns-subject page-Billboard_Year-End_Hot_100_singles_of_2014 rootpage-Billboard_Year-End_Hot_100_singles_of_2014 skin-vector action-view\">\\t\\t<div id=\"mw-page-base\" class=\"noprint\"></div>\\n\\t\\t<div id=\"mw-head-base\" class=\"noprint\"></div>\\n\\t\\t<div id=\"content\" class=\"mw-body\" role=\"main\">\\n\\t\\t\\t<a id=\"top\"></a>\\n\\n\\t\\t\\t\\t\\t\\t\\t<div id=\"siteNotice\" class=\"mw-body-content\"><!-- CentralNotice --></div>\\n\\t\\t\\t\\t\\t\\t<div class=\"mw-indicators mw-body-content\">\\n</div>\\n\\t\\t\\t<h1 id=\"firstHeading\" class=\"firstHeading\" lang=\"en\"><i>Billboard</i> Year-End Hot 100 singles of 2014</h1>\\n\\t\\t\\t\\t\\t\\t\\t\\t\\t<div id=\"bodyContent\" class=\"mw-body-content\">\\n\\t\\t\\t\\t\\t\\t\\t\\t\\t<div id=\"siteSub\" class=\"noprint\">From Wikipedia, the free encyclopedia</div>\\n\\t\\t\\t\\t\\t\\t\\t\\t<div id=\"contentSub\"></div>\\n\\t\\t\\t\\t\\t\\t\\t\\t\\t\\t\\t\\t<div id=\"jump-to-nav\" class=\"mw-jump\">\\n\\t\\t\\t\\t\\tJump to:\\t\\t\\t\\t\\t<a href=\"#mw-head\">navigation</a>, \\t\\t\\t\\t\\t<a href=\"#p-search\">search</a>\\n\\t\\t\\t\\t</div>\\n\\t\\t\\t\\t<div id=\"mw-content-text\" lang=\"en\" dir=\"ltr\" class=\"mw-content-ltr\"><div class=\"mw-parser-output\"><div class=\"thumb tright\">\\n<div class=\"thumbinner\" style=\"width:191px;\"><a href=\"/wiki/File:N.E.R.D_@_Pori_Jazz_2010_-_Pharrell_Williams_7.jpg\" class=\"image\"><img alt=\"\" src=\"//upload.wikimedia.org/wikipedia/commons/thumb/b/b5/N.E.R.D_%40_Pori_Jazz_2010_-_Pharrell_Williams_7.jpg/189px-N.E.R.D_%40_Pori_Jazz_2010_-_Pharrell_Williams_7.jpg\" width=\"189\" height=\"265\" class=\"thumbimage\" srcset=\"//upload.wikimedia.org/wikipedia/commons/thumb/b/b5/N.E.R.D_%40_Pori_Jazz_2010_-_Pharrell_Williams_7.jpg/284px-N.E.R.D_%40_Pori_Jazz_2010_-_Pharrell_Williams_7.jpg 1.5x, //upload.wikimedia.org/wikipedia/commons/thumb/b/b5/N.E.R.D_%40_Pori_Jazz_2010_-_Pharrell_Williams_7.jpg/378px-N.E.R.D_%40_Pori_Jazz_2010_-_Pharrell_Williams_7.jpg 2x\" data-file-width=\"1420\" data-file-height=\"1990\" /></a>\\n<div class=\"thumbcaption\">\\n<div class=\"magnify\"><a href=\"/wiki/File:N.E.R.D_@_Pori_Jazz_2010_-_Pharrell_Williams_7.jpg\" class=\"internal\" title=\"Enlarge\"></a></div>\\n\"<a href=\"/wiki/Happy_(Pharrell_Williams_song)\" title=\"Happy (Pharrell Williams song)\">Happy</a>\" by <a href=\"/wiki/Pharrell_Williams\" title=\"Pharrell Williams\">Pharrell Williams</a> came in at number one, spending a total of ten consecutive weeks at the top position of the <i>Billboard</i> Hot 100 throughout 2014.</div>\\n</div>\\n</div>\\n<p>The <a href=\"/wiki/Billboard_Hot_100\" title=\"Billboard Hot 100\"><i>Billboard</i> Hot 100</a> is a chart that ranks the best-performing <a href=\"/wiki/Single_(music)\" title=\"Single (music)\">singles</a> of the United States. Its data, published by <i><a href=\"/wiki/Billboard_(magazine)\" title=\"Billboard (magazine)\">Billboard</a></i> magazine and compiled by <a href=\"/wiki/Nielsen_SoundScan\" title=\"Nielsen SoundScan\">Nielsen SoundScan</a>, is based collectively on each single\\'s weekly <a href=\"/wiki/CD_single\" title=\"CD single\">physical</a> and <a href=\"/wiki/Digital_distribution\" title=\"Digital distribution\">digital</a> sales, as well as <a href=\"/wiki/Heavy_rotation\" class=\"mw-redirect\" title=\"Heavy rotation\">airplay</a> and <a href=\"/wiki/Streaming_media\" title=\"Streaming media\">streaming</a>. Throughout a year, <i>Billboard</i> will publish an annual list of the 100 most successful songs throughout that year on the Hot 100 chart based on the information. For 2014, the list was published on December 9, calculated with data from December 7, 2013 to November 29, 2014.<sup id=\"cite_ref-1\" class=\"reference\"><a href=\"#cite_note-1\">[1]</a></sup></p>\\n<p>This is the first time in eight years where a male artist tops the chart with a non-collaboration.</p>\\n<h2><span class=\"mw-headline\" id=\"List\">List</span><span class=\"mw-editsection\"><span class=\"mw-editsection-bracket\">[</span><a href=\"/w/index.php?title=Billboard_Year-End_Hot_100_singles_of_2014&amp;action=edit&amp;section=1\" title=\"Edit section: List\">edit</a><span class=\"mw-editsection-bracket\">]</span></span></h2>\\n<div class=\"thumb tright\">\\n<div class=\"thumbinner\" style=\"width:192px;\"><a href=\"/wiki/File:Iggy_Azalea_April_2014_(cropped).jpg\" class=\"image\"><img alt=\"\" src=\"//upload.wikimedia.org/wikipedia/commons/thumb/a/ab/Iggy_Azalea_April_2014_%28cropped%29.jpg/190px-Iggy_Azalea_April_2014_%28cropped%29.jpg\" width=\"190\" height=\"264\" class=\"thumbimage\" srcset=\"//upload.wikimedia.org/wikipedia/commons/thumb/a/ab/Iggy_Azalea_April_2014_%28cropped%29.jpg/285px-Iggy_Azalea_April_2014_%28cropped%29.jpg 1.5x, //upload.wikimedia.org/wikipedia/commons/a/ab/Iggy_Azalea_April_2014_%28cropped%29.jpg 2x\" data-file-width=\"357\" data-file-height=\"496\" /></a>\\n<div class=\"thumbcaption\">\\n<div class=\"magnify\"><a href=\"/wiki/File:Iggy_Azalea_April_2014_(cropped).jpg\" class=\"internal\" title=\"Enlarge\"></a></div>\\nAustralian rapper <a href=\"/wiki/Iggy_Azalea\" title=\"Iggy Azalea\">Iggy Azalea</a> has four songs, the most of all artists, on the list, her highest-charting being \"<a href=\"/wiki/Fancy_(Iggy_Azalea_song)\" title=\"Fancy (Iggy Azalea song)\">Fancy</a>\" (number 4).</div>\\n</div>\\n</div>\\n<div class=\"thumb tright\">\\n<div class=\"thumbinner\" style=\"width:192px;\"><a href=\"/wiki/File:Wetten_dass_20130323_6475.jpg\" class=\"image\"><img alt=\"\" src=\"//upload.wikimedia.org/wikipedia/commons/thumb/0/03/Wetten_dass_20130323_6475.jpg/190px-Wetten_dass_20130323_6475.jpg\" width=\"190\" height=\"126\" class=\"thumbimage\" srcset=\"//upload.wikimedia.org/wikipedia/commons/thumb/0/03/Wetten_dass_20130323_6475.jpg/285px-Wetten_dass_20130323_6475.jpg 1.5x, //upload.wikimedia.org/wikipedia/commons/thumb/0/03/Wetten_dass_20130323_6475.jpg/380px-Wetten_dass_20130323_6475.jpg 2x\" data-file-width=\"4256\" data-file-height=\"2832\" /></a>\\n<div class=\"thumbcaption\">\\n<div class=\"magnify\"><a href=\"/wiki/File:Wetten_dass_20130323_6475.jpg\" class=\"internal\" title=\"Enlarge\"></a></div>\\n<a href=\"/wiki/OneRepublic\" title=\"OneRepublic\">OneRepublic</a> is the highest-charting band on the list with their single \"<a href=\"/wiki/Counting_Stars\" title=\"Counting Stars\">Counting Stars</a>\" (number 5), which charted on the Hot 100 for 68 weeks and peaked at number 2.</div>\\n</div>\\n</div>\\n<div class=\"thumb tright\">\\n<div class=\"thumbinner\" style=\"width:192px;\"><a href=\"/wiki/File:93.3_FLZ_Jingle_Ball_Tampa_Florida_IMG_6850_(11490195453)_(cropped).jpg\" class=\"image\"><img alt=\"\" src=\"//upload.wikimedia.org/wikipedia/commons/thumb/c/cd/93.3_FLZ_Jingle_Ball_Tampa_Florida_IMG_6850_%2811490195453%29_%28cropped%29.jpg/190px-93.3_FLZ_Jingle_Ball_Tampa_Florida_IMG_6850_%2811490195453%29_%28cropped%29.jpg\" width=\"190\" height=\"300\" class=\"thumbimage\" srcset=\"//upload.wikimedia.org/wikipedia/commons/thumb/c/cd/93.3_FLZ_Jingle_Ball_Tampa_Florida_IMG_6850_%2811490195453%29_%28cropped%29.jpg/285px-93.3_FLZ_Jingle_Ball_Tampa_Florida_IMG_6850_%2811490195453%29_%28cropped%29.jpg 1.5x, //upload.wikimedia.org/wikipedia/commons/thumb/c/cd/93.3_FLZ_Jingle_Ball_Tampa_Florida_IMG_6850_%2811490195453%29_%28cropped%29.jpg/380px-93.3_FLZ_Jingle_Ball_Tampa_Florida_IMG_6850_%2811490195453%29_%28cropped%29.jpg 2x\" data-file-width=\"1885\" data-file-height=\"2980\" /></a>\\n<div class=\"thumbcaption\">\\n<div class=\"magnify\"><a href=\"/wiki/File:93.3_FLZ_Jingle_Ball_Tampa_Florida_IMG_6850_(11490195453)_(cropped).jpg\" class=\"internal\" title=\"Enlarge\"></a></div>\\n<a href=\"/wiki/Ariana_Grande\" title=\"Ariana Grande\">Ariana Grande</a> has three singles in the top 40, with \"<a href=\"/wiki/Problem_(Ariana_Grande_song)\" title=\"Problem (Ariana Grande song)\">Problem</a>\" featuring <a href=\"/wiki/Iggy_Azalea\" title=\"Iggy Azalea\">Iggy Azalea</a> (number 9), \"<a href=\"/wiki/Bang_Bang_(Jessie_J,_Ariana_Grande_and_Nicki_Minaj_song)\" title=\"Bang Bang (Jessie J, Ariana Grande and Nicki Minaj song)\">Bang Bang</a>\", a collaboration with <a href=\"/wiki/Jessie_J\" title=\"Jessie J\">Jessie J</a> and <a href=\"/wiki/Nicki_Minaj\" title=\"Nicki Minaj\">Nicki Minaj</a> (number 27), and \"<a href=\"/wiki/Break_Free_(Ariana_Grande_song)\" class=\"mw-redirect\" title=\"Break Free (Ariana Grande song)\">Break Free</a>\" featuring <a href=\"/wiki/Zedd_(musician)\" class=\"mw-redirect\" title=\"Zedd (musician)\">Zedd</a> (number 37).</div>\\n</div>\\n</div>\\n<div class=\"thumb tright\">\\n<div class=\"thumbinner\" style=\"width:192px;\"><a href=\"/wiki/File:Lorde_Laneway_8_(cropped).jpg\" class=\"image\"><img alt=\"\" src=\"//upload.wikimedia.org/wikipedia/commons/thumb/d/d4/Lorde_Laneway_8_%28cropped%29.jpg/190px-Lorde_Laneway_8_%28cropped%29.jpg\" width=\"190\" height=\"216\" class=\"thumbimage\" srcset=\"//upload.wikimedia.org/wikipedia/commons/thumb/d/d4/Lorde_Laneway_8_%28cropped%29.jpg/285px-Lorde_Laneway_8_%28cropped%29.jpg 1.5x, //upload.wikimedia.org/wikipedia/commons/thumb/d/d4/Lorde_Laneway_8_%28cropped%29.jpg/380px-Lorde_Laneway_8_%28cropped%29.jpg 2x\" data-file-width=\"603\" data-file-height=\"685\" /></a>\\n<div class=\"thumbcaption\">\\n<div class=\"magnify\"><a href=\"/wiki/File:Lorde_Laneway_8_(cropped).jpg\" class=\"internal\" title=\"Enlarge\"></a></div>\\nNew Zealand recording artist <a href=\"/wiki/Lorde\" title=\"Lorde\">Lorde</a> has two singles in the top 20, with \"<a href=\"/wiki/Team_(Lorde_song)\" title=\"Team (Lorde song)\">Team</a>\" (number 18) and \"<a href=\"/wiki/Royals_(song)\" title=\"Royals (song)\">Royals</a>\" (number 20). The latter song also made the top 20 on the 2013 year-end chart, ranking at number 15.</div>\\n</div>\\n</div>\\n<div class=\"thumb tright\">\\n<div class=\"thumbinner\" style=\"width:192px;\"><a href=\"/wiki/File:Idina_Menzel_Defense.gov_Crop.png\" class=\"image\"><img alt=\"\" src=\"//upload.wikimedia.org/wikipedia/commons/thumb/0/00/Idina_Menzel_Defense.gov_Crop.png/190px-Idina_Menzel_Defense.gov_Crop.png\" width=\"190\" height=\"249\" class=\"thumbimage\" srcset=\"//upload.wikimedia.org/wikipedia/commons/thumb/0/00/Idina_Menzel_Defense.gov_Crop.png/285px-Idina_Menzel_Defense.gov_Crop.png 1.5x, //upload.wikimedia.org/wikipedia/commons/thumb/0/00/Idina_Menzel_Defense.gov_Crop.png/380px-Idina_Menzel_Defense.gov_Crop.png 2x\" data-file-width=\"633\" data-file-height=\"829\" /></a>\\n<div class=\"thumbcaption\">\\n<div class=\"magnify\"><a href=\"/wiki/File:Idina_Menzel_Defense.gov_Crop.png\" class=\"internal\" title=\"Enlarge\"></a></div>\\n\"<a href=\"/wiki/Let_It_Go_(Disney_song)\" title=\"Let It Go (Disney song)\">Let It Go</a>\" from <a href=\"/wiki/Frozen_(2013_film)\" title=\"Frozen (2013 film)\"><i>Frozen</i></a> is number 21 on the 2014 year-end chart. It became the first song from a Disney animated musical to reach the top 10 of the Hot 100 since <a href=\"/wiki/Vanessa_L._Williams\" class=\"mw-redirect\" title=\"Vanessa L. Williams\">Vanessa L. Williams</a>\\'s \"<a href=\"/wiki/Colors_of_the_Wind\" title=\"Colors of the Wind\">Colors of the Wind</a>\" from <a href=\"/wiki/Pocahontas_(1995_film)\" title=\"Pocahontas (1995 film)\"><i>Pocahontas</i></a> in 1995 and is also the first top 10 hit by <a href=\"/wiki/Idina_Menzel\" title=\"Idina Menzel\">Idina Menzel</a>.</div>\\n</div>\\n</div>\\n<table class=\"wikitable sortable\" style=\"text-align: center\">\\n<caption>List of songs on <i><a href=\"/wiki/Billboard_(magazine)\" title=\"Billboard (magazine)\">Billboard</a></i><span class=\"nowrap\" style=\"padding-left:0.1em;\">\\'s</span> 2014 <a href=\"/wiki/Billboard_Year-End\" title=\"Billboard Year-End\">Year-End</a> <a href=\"/wiki/Billboard_Hot_100\" title=\"Billboard Hot 100\">Hot 100</a> chart<sup id=\"cite_ref-2\" class=\"reference\"><a href=\"#cite_note-2\">[2]</a></sup></caption>\\n<tr>\\n<th scope=\"col\" style=\"background:#dde;\">\\n<center>\\u2116</center>\\n</th>\\n<th scope=\"col\" style=\"background:#dde;\">Title</th>\\n<th scope=\"col\" style=\"background:#dde;\">Artist(s)</th>\\n</tr>\\n<tr>\\n<th scope=\"row\">1</th>\\n<td>\"<a href=\"/wiki/Happy_(Pharrell_Williams_song)\" title=\"Happy (Pharrell Williams song)\">Happy</a>\"</td>\\n<td><a href=\"/wiki/Pharrell_Williams\" title=\"Pharrell Williams\">Pharrell Williams</a></td>\\n</tr>\\n<tr>\\n<th scope=\"row\">2</th>\\n<td>\"<a href=\"/wiki/Dark_Horse_(Katy_Perry_song)\" title=\"Dark Horse (Katy Perry song)\">Dark Horse</a>\"</td>\\n<td><a href=\"/wiki/Katy_Perry\" title=\"Katy Perry\">Katy Perry</a> featuring <a href=\"/wiki/Juicy_J\" title=\"Juicy J\">Juicy J</a></td>\\n</tr>\\n<tr>\\n<th scope=\"row\">3</th>\\n<td>\"<a href=\"/wiki/All_of_Me_(John_Legend_song)\" title=\"All of Me (John Legend song)\">All of Me</a>\"</td>\\n<td><a href=\"/wiki/John_Legend\" title=\"John Legend\">John Legend</a></td>\\n</tr>\\n<tr>\\n<th scope=\"row\">4</th>\\n<td>\"<a href=\"/wiki/Fancy_(Iggy_Azalea_song)\" title=\"Fancy (Iggy Azalea song)\">Fancy</a>\"</td>\\n<td><a href=\"/wiki/Iggy_Azalea\" title=\"Iggy Azalea\">Iggy Azalea</a> featuring <a href=\"/wiki/Charli_XCX\" title=\"Charli XCX\">Charli XCX</a></td>\\n</tr>\\n<tr>\\n<th scope=\"row\">5</th>\\n<td>\"<a href=\"/wiki/Counting_Stars\" title=\"Counting Stars\">Counting Stars</a>\"</td>\\n<td><a href=\"/wiki/OneRepublic\" title=\"OneRepublic\">OneRepublic</a></td>\\n</tr>\\n<tr>\\n<th scope=\"row\">6</th>\\n<td>\"<a href=\"/wiki/Talk_Dirty_(Jason_Derulo_song)\" title=\"Talk Dirty (Jason Derulo song)\">Talk Dirty</a>\"</td>\\n<td><a href=\"/wiki/Jason_Derulo\" title=\"Jason Derulo\">Jason Derulo</a> featuring <a href=\"/wiki/2_Chainz\" title=\"2 Chainz\">2 Chainz</a></td>\\n</tr>\\n<tr>\\n<th scope=\"row\">7</th>\\n<td>\"<a href=\"/wiki/Rude_(song)\" title=\"Rude (song)\">Rude</a>\"</td>\\n<td><a href=\"/wiki/Magic!\" title=\"Magic!\">Magic!</a></td>\\n</tr>\\n<tr>\\n<th scope=\"row\">8</th>\\n<td>\"<a href=\"/wiki/All_About_That_Bass\" title=\"All About That Bass\">All About That Bass</a>\"</td>\\n<td><a href=\"/wiki/Meghan_Trainor\" title=\"Meghan Trainor\">Meghan Trainor</a></td>\\n</tr>\\n<tr>\\n<th scope=\"row\">9</th>\\n<td>\"<a href=\"/wiki/Problem_(Ariana_Grande_song)\" title=\"Problem (Ariana Grande song)\">Problem</a>\"</td>\\n<td><a href=\"/wiki/Ariana_Grande\" title=\"Ariana Grande\">Ariana Grande</a> featuring <a href=\"/wiki/Iggy_Azalea\" title=\"Iggy Azalea\">Iggy Azalea</a></td>\\n</tr>\\n<tr>\\n<th scope=\"row\">10</th>\\n<td>\"<a href=\"/wiki/Stay_with_Me_(Sam_Smith_song)\" title=\"Stay with Me (Sam Smith song)\">Stay with Me</a>\"</td>\\n<td><a href=\"/wiki/Sam_Smith_(singer)\" title=\"Sam Smith (singer)\">Sam Smith</a></td>\\n</tr>\\n<tr>\\n<th scope=\"row\">11</th>\\n<td>\"<a href=\"/wiki/Timber_(Pitbull_song)\" title=\"Timber (Pitbull song)\">Timber</a>\"</td>\\n<td><a href=\"/wiki/Pitbull_(rapper)\" title=\"Pitbull (rapper)\">Pitbull</a> featuring <a href=\"/wiki/Kesha\" title=\"Kesha\">Kesha</a></td>\\n</tr>\\n<tr>\\n<th scope=\"row\">12</th>\\n<td>\"<a href=\"/wiki/Pompeii_(Bastille_song)\" class=\"mw-redirect\" title=\"Pompeii (Bastille song)\">Pompeii</a>\"</td>\\n<td><a href=\"/wiki/Bastille_(band)\" title=\"Bastille (band)\">Bastille</a></td>\\n</tr>\\n<tr>\\n<th scope=\"row\">13</th>\\n<td>\"<a href=\"/wiki/Shake_It_Off_(Taylor_Swift_song)\" class=\"mw-redirect\" title=\"Shake It Off (Taylor Swift song)\">Shake It Off</a>\"</td>\\n<td><a href=\"/wiki/Taylor_Swift\" title=\"Taylor Swift\">Taylor Swift</a></td>\\n</tr>\\n<tr>\\n<th scope=\"row\">14</th>\\n<td>\"<a href=\"/wiki/Am_I_Wrong_(song)\" class=\"mw-redirect\" title=\"Am I Wrong (song)\">Am I Wrong</a>\"</td>\\n<td><a href=\"/wiki/Nico_%26_Vinz\" title=\"Nico &amp; Vinz\">Nico &amp; Vinz</a></td>\\n</tr>\\n<tr>\\n<th scope=\"row\">15</th>\\n<td>\"<a href=\"/wiki/Turn_Down_for_What\" title=\"Turn Down for What\">Turn Down for What</a>\"</td>\\n<td><a href=\"/wiki/DJ_Snake\" title=\"DJ Snake\">DJ Snake</a> and <a href=\"/wiki/Lil_Jon\" title=\"Lil Jon\">Lil Jon</a></td>\\n</tr>\\n<tr>\\n<th scope=\"row\">16</th>\\n<td>\"<a href=\"/wiki/The_Monster_(Eminem_song)\" class=\"mw-redirect\" title=\"The Monster (Eminem song)\">The Monster</a>\"</td>\\n<td><a href=\"/wiki/Eminem\" title=\"Eminem\">Eminem</a> featuring <a href=\"/wiki/Rihanna\" title=\"Rihanna\">Rihanna</a></td>\\n</tr>\\n<tr>\\n<th scope=\"row\">17</th>\\n<td>\"<a href=\"/wiki/Say_Something_(A_Great_Big_World_song)\" class=\"mw-redirect\" title=\"Say Something (A Great Big World song)\">Say Something</a>\"</td>\\n<td><a href=\"/wiki/A_Great_Big_World\" title=\"A Great Big World\">A Great Big World</a> and <a href=\"/wiki/Christina_Aguilera\" title=\"Christina Aguilera\">Christina Aguilera</a></td>\\n</tr>\\n<tr>\\n<th scope=\"row\">18</th>\\n<td>\"<a href=\"/wiki/Team_(Lorde_song)\" title=\"Team (Lorde song)\">Team</a>\"</td>\\n<td><a href=\"/wiki/Lorde\" title=\"Lorde\">Lorde</a></td>\\n</tr>\\n<tr>\\n<th scope=\"row\">19</th>\\n<td>\"<a href=\"/wiki/Let_Her_Go_(Passenger_song)\" class=\"mw-redirect\" title=\"Let Her Go (Passenger song)\">Let Her Go</a>\"</td>\\n<td><a href=\"/wiki/Passenger_(singer)\" title=\"Passenger (singer)\">Passenger</a></td>\\n</tr>\\n<tr>\\n<th scope=\"row\">20</th>\\n<td>\"<a href=\"/wiki/Royals_(song)\" title=\"Royals (song)\">Royals</a>\"</td>\\n<td><a href=\"/wiki/Lorde\" title=\"Lorde\">Lorde</a></td>\\n</tr>\\n<tr>\\n<th scope=\"row\">21</th>\\n<td>\"<a href=\"/wiki/Let_It_Go_(Disney_song)\" title=\"Let It Go (Disney song)\">Let It Go</a>\"</td>\\n<td><a href=\"/wiki/Idina_Menzel\" title=\"Idina Menzel\">Idina Menzel</a></td>\\n</tr>\\n<tr>\\n<th scope=\"row\">22</th>\\n<td>\"<a href=\"/wiki/Wake_Me_Up_(Avicii_song)\" title=\"Wake Me Up (Avicii song)\">Wake Me Up</a>\"</td>\\n<td><a href=\"/wiki/Avicii\" title=\"Avicii\">Avicii</a></td>\\n</tr>\\n<tr>\\n<th scope=\"row\">23</th>\\n<td>\"<a href=\"/wiki/Demons_(Imagine_Dragons_song)\" title=\"Demons (Imagine Dragons song)\">Demons</a>\"</td>\\n<td><a href=\"/wiki/Imagine_Dragons\" title=\"Imagine Dragons\">Imagine Dragons</a></td>\\n</tr>\\n<tr>\\n<th scope=\"row\">24</th>\\n<td>\"<a href=\"/wiki/Story_of_My_Life_(One_Direction_song)\" title=\"Story of My Life (One Direction song)\">Story of My Life</a>\"</td>\\n<td><a href=\"/wiki/One_Direction\" title=\"One Direction\">One Direction</a></td>\\n</tr>\\n<tr>\\n<th scope=\"row\">25</th>\\n<td>\"<a href=\"/wiki/Chandelier_(Sia_song)\" class=\"mw-redirect\" title=\"Chandelier (Sia song)\">Chandelier</a>\"</td>\\n<td><a href=\"/wiki/Sia_Furler\" class=\"mw-redirect\" title=\"Sia Furler\">Sia</a></td>\\n</tr>\\n<tr>\\n<th scope=\"row\">26</th>\\n<td>\"<a href=\"/wiki/Black_Widow_(song)\" title=\"Black Widow (song)\">Black Widow</a>\"</td>\\n<td><a href=\"/wiki/Iggy_Azalea\" title=\"Iggy Azalea\">Iggy Azalea</a> featuring <a href=\"/wiki/Rita_Ora\" title=\"Rita Ora\">Rita Ora</a></td>\\n</tr>\\n<tr>\\n<th scope=\"row\">27</th>\\n<td>\"<a href=\"/wiki/Bang_Bang_(Jessie_J,_Ariana_Grande_and_Nicki_Minaj_song)\" title=\"Bang Bang (Jessie J, Ariana Grande and Nicki Minaj song)\">Bang Bang</a>\"</td>\\n<td><a href=\"/wiki/Jessie_J\" title=\"Jessie J\">Jessie J</a>, <a href=\"/wiki/Ariana_Grande\" title=\"Ariana Grande\">Ariana Grande</a>, and <a href=\"/wiki/Nicki_Minaj\" title=\"Nicki Minaj\">Nicki Minaj</a></td>\\n</tr>\\n<tr>\\n<th scope=\"row\">28</th>\\n<td>\"<a href=\"/wiki/Latch_(song)\" title=\"Latch (song)\">Latch</a>\"</td>\\n<td><a href=\"/wiki/Disclosure_(band)\" title=\"Disclosure (band)\">Disclosure</a> featuring <a href=\"/wiki/Sam_Smith_(singer)\" title=\"Sam Smith (singer)\">Sam Smith</a></td>\\n</tr>\\n<tr>\\n<th scope=\"row\">29</th>\\n<td>\"<a href=\"/wiki/Maps_(Maroon_5_song)\" title=\"Maps (Maroon 5 song)\">Maps</a>\"</td>\\n<td><a href=\"/wiki/Maroon_5\" title=\"Maroon 5\">Maroon 5</a></td>\\n</tr>\\n<tr>\\n<th scope=\"row\">30</th>\\n<td>\"<a href=\"/wiki/Loyal_(Chris_Brown_song)\" title=\"Loyal (Chris Brown song)\">Loyal</a>\"</td>\\n<td><a href=\"/wiki/Chris_Brown\" title=\"Chris Brown\">Chris Brown</a> featuring <a href=\"/wiki/Lil_Wayne\" title=\"Lil Wayne\">Lil Wayne</a> and <a href=\"/wiki/French_Montana\" title=\"French Montana\">French Montana</a>, <a href=\"/wiki/Too_Short\" title=\"Too Short\">Too Short</a>, or <a href=\"/wiki/Tyga\" title=\"Tyga\">Tyga</a></td>\\n</tr>\\n<tr>\\n<th scope=\"row\">31</th>\\n<td>\"<a href=\"/wiki/Best_Day_of_My_Life\" title=\"Best Day of My Life\">Best Day of My Life</a>\"</td>\\n<td><a href=\"/wiki/American_Authors\" title=\"American Authors\">American Authors</a></td>\\n</tr>\\n<tr>\\n<th scope=\"row\">32</th>\\n<td>\"<a href=\"/wiki/Habits_(Stay_High)\" title=\"Habits (Stay High)\">Habits (Stay High)</a>\"</td>\\n<td><a href=\"/wiki/Tove_Lo\" title=\"Tove Lo\">Tove Lo</a></td>\\n</tr>\\n<tr>\\n<th scope=\"row\">33</th>\\n<td>\"<a href=\"/wiki/Summer_(Calvin_Harris_song)\" title=\"Summer (Calvin Harris song)\">Summer</a>\"</td>\\n<td><a href=\"/wiki/Calvin_Harris\" title=\"Calvin Harris\">Calvin Harris</a></td>\\n</tr>\\n<tr>\\n<th scope=\"row\">34</th>\\n<td>\"<a href=\"/wiki/Boom_Clap\" title=\"Boom Clap\">Boom Clap</a>\"</td>\\n<td><a href=\"/wiki/Charli_XCX\" title=\"Charli XCX\">Charli XCX</a></td>\\n</tr>\\n<tr>\\n<th scope=\"row\">35</th>\\n<td>\"<a href=\"/wiki/Drunk_in_Love\" title=\"Drunk in Love\">Drunk in Love</a>\"</td>\\n<td><a href=\"/wiki/Beyonc%C3%A9\" title=\"Beyonc\\xe9\">Beyonc\\xe9</a> featuring <a href=\"/wiki/Jay_Z\" class=\"mw-redirect\" title=\"Jay Z\">Jay Z</a></td>\\n</tr>\\n<tr>\\n<th scope=\"row\">36</th>\\n<td>\"<a href=\"/wiki/Anaconda_(Nicki_Minaj_song)\" title=\"Anaconda (Nicki Minaj song)\">Anaconda</a>\"</td>\\n<td><a href=\"/wiki/Nicki_Minaj\" title=\"Nicki Minaj\">Nicki Minaj</a></td>\\n</tr>\\n<tr>\\n<th scope=\"row\">37</th>\\n<td>\"<a href=\"/wiki/Break_Free_(Ariana_Grande_song)\" class=\"mw-redirect\" title=\"Break Free (Ariana Grande song)\">Break Free</a>\"</td>\\n<td><a href=\"/wiki/Ariana_Grande\" title=\"Ariana Grande\">Ariana Grande</a> featuring <a href=\"/wiki/Zedd_(musician)\" class=\"mw-redirect\" title=\"Zedd (musician)\">Zedd</a></td>\\n</tr>\\n<tr>\\n<th scope=\"row\">38</th>\\n<td>\"<a href=\"/wiki/Bailando_(Enrique_Iglesias_song)\" title=\"Bailando (Enrique Iglesias song)\">Bailando</a>\"</td>\\n<td><a href=\"/wiki/Enrique_Iglesias\" title=\"Enrique Iglesias\">Enrique Iglesias</a> featuring <a href=\"/wiki/Descemer_Bueno\" title=\"Descemer Bueno\">Descemer Bueno</a> and <a href=\"/wiki/Gente_de_Zona\" title=\"Gente de Zona\">Gente de Zona</a></td>\\n</tr>\\n<tr>\\n<th scope=\"row\">39</th>\\n<td>\"<a href=\"/wiki/Burn_(Ellie_Goulding_song)\" title=\"Burn (Ellie Goulding song)\">Burn</a>\"</td>\\n<td><a href=\"/wiki/Ellie_Goulding\" title=\"Ellie Goulding\">Ellie Goulding</a></td>\\n</tr>\\n<tr>\\n<th scope=\"row\">40</th>\\n<td>\"<a href=\"/wiki/Wiggle_(song)\" title=\"Wiggle (song)\">Wiggle</a>\"</td>\\n<td><a href=\"/wiki/Jason_Derulo\" title=\"Jason Derulo\">Jason Derulo</a> featuring <a href=\"/wiki/Snoop_Dogg\" title=\"Snoop Dogg\">Snoop Dogg</a></td>\\n</tr>\\n<tr>\\n<th scope=\"row\">41</th>\\n<td>\"<a href=\"/wiki/Rather_Be_(Clean_Bandit_song)\" class=\"mw-redirect\" title=\"Rather Be (Clean Bandit song)\">Rather Be</a>\"</td>\\n<td><a href=\"/wiki/Clean_Bandit\" title=\"Clean Bandit\">Clean Bandit</a> featuring <a href=\"/wiki/Jess_Glynne\" title=\"Jess Glynne\">Jess Glynne</a></td>\\n</tr>\\n<tr>\\n<th scope=\"row\">42</th>\\n<td>\"<a href=\"/wiki/Don%27t_Tell_%27Em\" title=\"Don\\'t Tell \\'Em\">Don\\'t Tell \\'Em</a>\"</td>\\n<td><a href=\"/wiki/Jeremih\" title=\"Jeremih\">Jeremih</a> featuring <a href=\"/wiki/YG_(rapper)\" title=\"YG (rapper)\">YG</a></td>\\n</tr>\\n<tr>\\n<th scope=\"row\">43</th>\\n<td>\"<a href=\"/wiki/Show_Me_(Kid_Ink_song)\" title=\"Show Me (Kid Ink song)\">Show Me</a>\"</td>\\n<td><a href=\"/wiki/Kid_Ink\" title=\"Kid Ink\">Kid Ink</a> featuring <a href=\"/wiki/Chris_Brown\" title=\"Chris Brown\">Chris Brown</a></td>\\n</tr>\\n<tr>\\n<th scope=\"row\">44</th>\\n<td>\"<a href=\"/wiki/Wrecking_Ball_(Miley_Cyrus_song)\" title=\"Wrecking Ball (Miley Cyrus song)\">Wrecking Ball</a>\"</td>\\n<td><a href=\"/wiki/Miley_Cyrus\" title=\"Miley Cyrus\">Miley Cyrus</a></td>\\n</tr>\\n<tr>\\n<th scope=\"row\">45</th>\\n<td>\"<a href=\"/wiki/Not_a_Bad_Thing\" title=\"Not a Bad Thing\">Not a Bad Thing</a>\"</td>\\n<td><a href=\"/wiki/Justin_Timberlake\" title=\"Justin Timberlake\">Justin Timberlake</a></td>\\n</tr>\\n<tr>\\n<th scope=\"row\">46</th>\\n<td>\"<a href=\"/wiki/Roar_(song)\" title=\"Roar (song)\">Roar</a>\"</td>\\n<td><a href=\"/wiki/Katy_Perry\" title=\"Katy Perry\">Katy Perry</a></td>\\n</tr>\\n<tr>\\n<th scope=\"row\">47</th>\\n<td>\"<a href=\"/wiki/Ain%27t_It_Fun_(Paramore_song)\" title=\"Ain\\'t It Fun (Paramore song)\">Ain\\'t It Fun</a>\"</td>\\n<td><a href=\"/wiki/Paramore\" title=\"Paramore\">Paramore</a></td>\\n</tr>\\n<tr>\\n<th scope=\"row\">48</th>\\n<td>\"<a href=\"/wiki/The_Man_(Aloe_Blacc_song)\" title=\"The Man (Aloe Blacc song)\">The Man</a>\"</td>\\n<td><a href=\"/wiki/Aloe_Blacc\" title=\"Aloe Blacc\">Aloe Blacc</a></td>\\n</tr>\\n<tr>\\n<th scope=\"row\">49</th>\\n<td>\"<a href=\"/wiki/This_Is_How_We_Roll\" title=\"This Is How We Roll\">This Is How We Roll</a>\"</td>\\n<td><a href=\"/wiki/Florida_Georgia_Line\" title=\"Florida Georgia Line\">Florida Georgia Line</a> featuring <a href=\"/wiki/Luke_Bryan\" title=\"Luke Bryan\">Luke Bryan</a></td>\\n</tr>\\n<tr>\\n<th scope=\"row\">50</th>\\n<td>\"<a href=\"/wiki/Classic_(MKTO_song)\" title=\"Classic (MKTO song)\">Classic</a>\"</td>\\n<td><a href=\"/wiki/MKTO\" title=\"MKTO\">MKTO</a></td>\\n</tr>\\n<tr>\\n<th scope=\"row\">51</th>\\n<td>\"<a href=\"/wiki/A_Sky_Full_of_Stars\" title=\"A Sky Full of Stars\">A Sky Full of Stars</a>\"</td>\\n<td><a href=\"/wiki/Coldplay\" title=\"Coldplay\">Coldplay</a></td>\\n</tr>\\n<tr>\\n<th scope=\"row\">52</th>\\n<td>\"<a href=\"/wiki/Don%27t_(Ed_Sheeran_song)\" title=\"Don\\'t (Ed Sheeran song)\">Don\\'t</a>\"</td>\\n<td><a href=\"/wiki/Ed_Sheeran\" title=\"Ed Sheeran\">Ed Sheeran</a></td>\\n</tr>\\n<tr>\\n<th scope=\"row\">53</th>\\n<td>\"<a href=\"/wiki/Na_Na_(song)\" title=\"Na Na (song)\">Na Na</a>\"</td>\\n<td><a href=\"/wiki/Trey_Songz\" title=\"Trey Songz\">Trey Songz</a></td>\\n</tr>\\n<tr>\\n<th scope=\"row\">54</th>\\n<td>\"<a href=\"/wiki/Hot_Nigga\" title=\"Hot Nigga\">Hot Boy</a>\"</td>\\n<td><a href=\"/wiki/Bobby_Shmurda\" title=\"Bobby Shmurda\">Bobby Shmurda</a></td>\\n</tr>\\n<tr>\\n<th scope=\"row\">55</th>\\n<td>\"<a href=\"/wiki/Hold_On,_We%27re_Going_Home\" title=\"Hold On, We\\'re Going Home\">Hold On, We\\'re Going Home</a>\"</td>\\n<td><a href=\"/wiki/Drake_(rapper)\" class=\"mw-redirect\" title=\"Drake (rapper)\">Drake</a> featuring <a href=\"/wiki/Majid_Jordan\" title=\"Majid Jordan\">Majid Jordan</a></td>\\n</tr>\\n<tr>\\n<th scope=\"row\">56</th>\\n<td>\"<a href=\"/wiki/Sing_(Ed_Sheeran_song)\" title=\"Sing (Ed Sheeran song)\">Sing</a>\"</td>\\n<td><a href=\"/wiki/Ed_Sheeran\" title=\"Ed Sheeran\">Ed Sheeran</a></td>\\n</tr>\\n<tr>\\n<th scope=\"row\">57</th>\\n<td>\"<a href=\"/wiki/Radioactive_(Imagine_Dragons_song)\" title=\"Radioactive (Imagine Dragons song)\">Radioactive</a>\"</td>\\n<td><a href=\"/wiki/Imagine_Dragons\" title=\"Imagine Dragons\">Imagine Dragons</a></td>\\n</tr>\\n<tr>\\n<th scope=\"row\">58</th>\\n<td>\"<a href=\"/wiki/My_Nigga\" title=\"My Nigga\">My Hitta</a>\"</td>\\n<td><a href=\"/wiki/YG_(rapper)\" title=\"YG (rapper)\">YG</a> featuring <a href=\"/wiki/Jeezy\" title=\"Jeezy\">Jeezy</a> and <a href=\"/wiki/Rich_Homie_Quan\" title=\"Rich Homie Quan\">Rich Homie Quan</a></td>\\n</tr>\\n<tr>\\n<th scope=\"row\">59</th>\\n<td>\"<a href=\"/wiki/Cool_Kids_(Echosmith_song)\" title=\"Cool Kids (Echosmith song)\">Cool Kids</a>\"</td>\\n<td><a href=\"/wiki/Echosmith\" title=\"Echosmith\">Echosmith</a></td>\\n</tr>\\n<tr>\\n<th scope=\"row\">60</th>\\n<td>\"<a href=\"/wiki/Hey_Brother\" title=\"Hey Brother\">Hey Brother</a>\"</td>\\n<td><a href=\"/wiki/Avicii\" title=\"Avicii\">Avicii</a></td>\\n</tr>\\n<tr>\\n<th scope=\"row\">61</th>\\n<td>\"<a href=\"/wiki/Trumpets_(Jason_Derulo_song)\" title=\"Trumpets (Jason Derulo song)\">Trumpets</a>\"</td>\\n<td><a href=\"/wiki/Jason_Derulo\" title=\"Jason Derulo\">Jason Derulo</a></td>\\n</tr>\\n<tr>\\n<th scope=\"row\">62</th>\\n<td>\"<a href=\"/wiki/Animals_(Maroon_5_song)\" title=\"Animals (Maroon 5 song)\">Animals</a>\"</td>\\n<td><a href=\"/wiki/Maroon_5\" title=\"Maroon 5\">Maroon 5</a></td>\\n</tr>\\n<tr>\\n<th scope=\"row\">63</th>\\n<td>\"<a href=\"/wiki/Burnin%27_It_Down\" title=\"Burnin\\' It Down\">Burnin\\' It Down</a>\"</td>\\n<td><a href=\"/wiki/Jason_Aldean\" title=\"Jason Aldean\">Jason Aldean</a></td>\\n</tr>\\n<tr>\\n<th scope=\"row\">64</th>\\n<td>\"<a href=\"/wiki/Play_It_Again_(Luke_Bryan_song)\" title=\"Play It Again (Luke Bryan song)\">Play It Again</a>\"</td>\\n<td><a href=\"/wiki/Luke_Bryan\" title=\"Luke Bryan\">Luke Bryan</a></td>\\n</tr>\\n<tr>\\n<th scope=\"row\">65</th>\\n<td>\"<a href=\"/wiki/2_On\" title=\"2 On\">2 On</a>\"</td>\\n<td><a href=\"/wiki/Tinashe\" title=\"Tinashe\">Tinashe</a> featuring <a href=\"/wiki/ScHoolboy_Q\" class=\"mw-redirect\" title=\"ScHoolboy Q\">ScHoolboy Q</a></td>\\n</tr>\\n<tr>\\n<th scope=\"row\">66</th>\\n<td>\"<a href=\"/wiki/Dirt_(Florida_Georgia_Line_song)\" title=\"Dirt (Florida Georgia Line song)\">Dirt</a>\"</td>\\n<td><a href=\"/wiki/Florida_Georgia_Line\" title=\"Florida Georgia Line\">Florida Georgia Line</a></td>\\n</tr>\\n<tr>\\n<th scope=\"row\">67</th>\\n<td>\"<a href=\"/wiki/Love_Runs_Out\" title=\"Love Runs Out\">Love Runs Out</a>\"</td>\\n<td><a href=\"/wiki/OneRepublic\" title=\"OneRepublic\">OneRepublic</a></td>\\n</tr>\\n<tr>\\n<th scope=\"row\">68</th>\\n<td>\"<a href=\"/wiki/Bottoms_Up_(Brantley_Gilbert_song)\" title=\"Bottoms Up (Brantley Gilbert song)\">Bottoms Up</a>\"</td>\\n<td><a href=\"/wiki/Brantley_Gilbert\" title=\"Brantley Gilbert\">Brantley Gilbert</a></td>\\n</tr>\\n<tr>\\n<th scope=\"row\">69</th>\\n<td>\"<a href=\"/wiki/Shower_(song)\" title=\"Shower (song)\">Shower</a>\"</td>\\n<td><a href=\"/wiki/Becky_G\" title=\"Becky G\">Becky G</a></td>\\n</tr>\\n<tr>\\n<th scope=\"row\">70</th>\\n<td>\"<a href=\"/wiki/Me_and_My_Broken_Heart\" title=\"Me and My Broken Heart\">Me and My Broken Heart</a>\"</td>\\n<td><a href=\"/wiki/Rixton_(band)\" title=\"Rixton (band)\">Rixton</a></td>\\n</tr>\\n<tr>\\n<th scope=\"row\">71</th>\\n<td>\"<a href=\"/wiki/Animals_(Martin_Garrix_composition)\" class=\"mw-redirect\" title=\"Animals (Martin Garrix composition)\">Animals</a>\"</td>\\n<td><a href=\"/wiki/Martin_Garrix\" title=\"Martin Garrix\">Martin Garrix</a></td>\\n</tr>\\n<tr>\\n<th scope=\"row\">72</th>\\n<td>\"<a href=\"/wiki/Lifestyle_(song)\" title=\"Lifestyle (song)\">Lifestyle</a>\"</td>\\n<td><a href=\"/wiki/Rich_Gang\" class=\"mw-redirect\" title=\"Rich Gang\">Rich Gang</a> featuring <a href=\"/wiki/Young_Thug\" title=\"Young Thug\">Young Thug</a> and <a href=\"/wiki/Rich_Homie_Quan\" title=\"Rich Homie Quan\">Rich Homie Quan</a></td>\\n</tr>\\n<tr>\\n<th scope=\"row\">73</th>\\n<td>\"<a href=\"/wiki/American_Kids\" title=\"American Kids\">American Kids</a>\"</td>\\n<td><a href=\"/wiki/Kenny_Chesney\" title=\"Kenny Chesney\">Kenny Chesney</a></td>\\n</tr>\\n<tr>\\n<th scope=\"row\">74</th>\\n<td>\"<a href=\"/wiki/Brave_(Sara_Bareilles_song)\" title=\"Brave (Sara Bareilles song)\">Brave</a>\"</td>\\n<td><a href=\"/wiki/Sara_Bareilles\" title=\"Sara Bareilles\">Sara Bareilles</a></td>\\n</tr>\\n<tr>\\n<th scope=\"row\">75</th>\\n<td>\"<a href=\"/wiki/Sweater_Weather\" title=\"Sweater Weather\">Sweater Weather</a>\"</td>\\n<td><a href=\"/wiki/The_Neighbourhood\" title=\"The Neighbourhood\">The Neighbourhood</a></td>\\n</tr>\\n<tr>\\n<th scope=\"row\">76</th>\\n<td>\"<a href=\"/wiki/Leave_the_Night_On\" title=\"Leave the Night On\">Leave the Night On</a>\"</td>\\n<td><a href=\"/wiki/Sam_Hunt_(musician)\" class=\"mw-redirect\" title=\"Sam Hunt (musician)\">Sam Hunt</a></td>\\n</tr>\\n<tr>\\n<th scope=\"row\">77</th>\\n<td>\"<a href=\"/wiki/New_Flame\" title=\"New Flame\">New Flame</a>\"</td>\\n<td><a href=\"/wiki/Chris_Brown\" title=\"Chris Brown\">Chris Brown</a> featuring <a href=\"/wiki/Usher_(entertainer)\" class=\"mw-redirect\" title=\"Usher (entertainer)\">Usher</a> and <a href=\"/wiki/Rick_Ross\" title=\"Rick Ross\">Rick Ross</a></td>\\n</tr>\\n<tr>\\n<th scope=\"row\">78</th>\\n<td>\"<a href=\"/wiki/Love_Never_Felt_So_Good\" title=\"Love Never Felt So Good\">Love Never Felt So Good</a>\"</td>\\n<td><a href=\"/wiki/Michael_Jackson\" title=\"Michael Jackson\">Michael Jackson</a> and <a href=\"/wiki/Justin_Timberlake\" title=\"Justin Timberlake\">Justin Timberlake</a></td>\\n</tr>\\n<tr>\\n<th scope=\"row\">79</th>\\n<td>\"<a href=\"/wiki/Drunk_on_a_Plane\" title=\"Drunk on a Plane\">Drunk on a Plane</a>\"</td>\\n<td><a href=\"/wiki/Dierks_Bentley\" title=\"Dierks Bentley\">Dierks Bentley</a></td>\\n</tr>\\n<tr>\\n<th scope=\"row\">80</th>\\n<td>\"<a href=\"/wiki/Birthday_(Katy_Perry_song)\" title=\"Birthday (Katy Perry song)\">Birthday</a>\"</td>\\n<td><a href=\"/wiki/Katy_Perry\" title=\"Katy Perry\">Katy Perry</a></td>\\n</tr>\\n<tr>\\n<th scope=\"row\">81</th>\\n<td>\"<a href=\"/wiki/Bartender_(Lady_Antebellum_song)\" title=\"Bartender (Lady Antebellum song)\">Bartender</a>\"</td>\\n<td><a href=\"/wiki/Lady_Antebellum\" title=\"Lady Antebellum\">Lady Antebellum</a></td>\\n</tr>\\n<tr>\\n<th scope=\"row\">82</th>\\n<td>\"<a href=\"/wiki/La_La_La_(Naughty_Boy_song)\" title=\"La La La (Naughty Boy song)\">La La La</a>\"</td>\\n<td><a href=\"/wiki/Naughty_Boy\" title=\"Naughty Boy\">Naughty Boy</a> featuring <a href=\"/wiki/Sam_Smith_(singer)\" title=\"Sam Smith (singer)\">Sam Smith</a></td>\\n</tr>\\n<tr>\\n<th scope=\"row\">83</th>\\n<td>\"<a href=\"/wiki/Blurred_Lines\" title=\"Blurred Lines\">Blurred Lines</a>\"</td>\\n<td><a href=\"/wiki/Robin_Thicke\" title=\"Robin Thicke\">Robin Thicke</a> featuring <a href=\"/wiki/T.I.\" title=\"T.I.\">T.I.</a> and <a href=\"/wiki/Pharrell_Williams\" title=\"Pharrell Williams\">Pharrell Williams</a></td>\\n</tr>\\n<tr>\\n<th scope=\"row\">84</th>\\n<td>\"<a href=\"/wiki/Do_What_U_Want\" title=\"Do What U Want\">Do What U Want</a>\"</td>\\n<td><a href=\"/wiki/Lady_Gaga\" title=\"Lady Gaga\">Lady Gaga</a> featuring <a href=\"/wiki/R._Kelly\" title=\"R. Kelly\">R. Kelly</a></td>\\n</tr>\\n<tr>\\n<th scope=\"row\">85</th>\\n<td>\"<a href=\"/wiki/Can%27t_Remember_to_Forget_You\" title=\"Can\\'t Remember to Forget You\">Can\\'t Remember to Forget You</a>\"</td>\\n<td><a href=\"/wiki/Shakira\" title=\"Shakira\">Shakira</a> featuring <a href=\"/wiki/Rihanna\" title=\"Rihanna\">Rihanna</a></td>\\n</tr>\\n<tr>\\n<th scope=\"row\">86</th>\\n<td>\"<a href=\"/wiki/Amnesia_(5_Seconds_of_Summer_song)\" title=\"Amnesia (5 Seconds of Summer song)\">Amnesia</a>\"</td>\\n<td><a href=\"/wiki/5_Seconds_of_Summer\" title=\"5 Seconds of Summer\">5 Seconds of Summer</a></td>\\n</tr>\\n<tr>\\n<th scope=\"row\">87</th>\\n<td>\"<a href=\"/wiki/No_Mediocre\" title=\"No Mediocre\">No Mediocre</a>\"</td>\\n<td><a href=\"/wiki/T.I.\" title=\"T.I.\">T.I.</a> featuring <a href=\"/wiki/Iggy_Azalea\" title=\"Iggy Azalea\">Iggy Azalea</a></td>\\n</tr>\\n<tr>\\n<th scope=\"row\">88</th>\\n<td>\"<a href=\"/wiki/Come_with_Me_Now\" title=\"Come with Me Now\">Come with Me Now</a>\"</td>\\n<td><a href=\"/wiki/Kongos_(band)\" title=\"Kongos (band)\">KONGOS</a></td>\\n</tr>\\n<tr>\\n<th scope=\"row\">89</th>\\n<td>\"<a href=\"/wiki/Believe_Me_(Lil_Wayne_song)\" title=\"Believe Me (Lil Wayne song)\">Believe Me</a>\"</td>\\n<td><a href=\"/wiki/Lil_Wayne\" title=\"Lil Wayne\">Lil Wayne</a> featuring <a href=\"/wiki/Drake_(rapper)\" class=\"mw-redirect\" title=\"Drake (rapper)\">Drake</a></td>\\n</tr>\\n<tr>\\n<th scope=\"row\">90</th>\\n<td>\"<a href=\"/wiki/23_(song)\" title=\"23 (song)\">23</a>\"</td>\\n<td><a href=\"/wiki/Mike_WiLL_Made-It\" class=\"mw-redirect\" title=\"Mike WiLL Made-It\">Mike WiLL Made-It</a> featuring <a href=\"/wiki/Miley_Cyrus\" title=\"Miley Cyrus\">Miley Cyrus</a>, <a href=\"/wiki/Wiz_Khalifa\" title=\"Wiz Khalifa\">Wiz Khalifa</a>, and <a href=\"/wiki/Juicy_J\" title=\"Juicy J\">Juicy J</a></td>\\n</tr>\\n<tr>\\n<th scope=\"row\">91</th>\\n<td>\"<a href=\"/wiki/Beachin%27\" title=\"Beachin\\'\">Beachin\\'</a>\"</td>\\n<td><a href=\"/wiki/Jake_Owen\" title=\"Jake Owen\">Jake Owen</a></td>\\n</tr>\\n<tr>\\n<th scope=\"row\">92</th>\\n<td>\"<a href=\"/wiki/White_Walls\" title=\"White Walls\">White Walls</a>\"</td>\\n<td><a href=\"/wiki/Macklemore_%26_Ryan_Lewis\" title=\"Macklemore &amp; Ryan Lewis\">Macklemore &amp; Ryan Lewis</a> featuring <a href=\"/wiki/ScHoolboy_Q\" class=\"mw-redirect\" title=\"ScHoolboy Q\">ScHoolboy Q</a> and <a href=\"/wiki/Hollis_(singer)\" title=\"Hollis (singer)\">Hollis</a></td>\\n</tr>\\n<tr>\\n<th scope=\"row\">93</th>\\n<td>\"<a href=\"/wiki/She_Looks_So_Perfect\" title=\"She Looks So Perfect\">She Looks So Perfect</a>\"</td>\\n<td><a href=\"/wiki/5_Seconds_of_Summer\" title=\"5 Seconds of Summer\">5 Seconds of Summer</a></td>\\n</tr>\\n<tr>\\n<th scope=\"row\">94</th>\\n<td>\"<a href=\"/wiki/Stay_the_Night_(Zedd_song)\" title=\"Stay the Night (Zedd song)\">Stay the Night</a>\"</td>\\n<td><a href=\"/wiki/Zedd_(musician)\" class=\"mw-redirect\" title=\"Zedd (musician)\">Zedd</a> featuring <a href=\"/wiki/Hayley_Williams\" title=\"Hayley Williams\">Hayley Williams</a></td>\\n</tr>\\n<tr>\\n<th scope=\"row\">95</th>\\n<td>\"<a href=\"/wiki/Partition_(song)\" title=\"Partition (song)\">Partition</a>\"</td>\\n<td><a href=\"/wiki/Beyonc%C3%A9\" title=\"Beyonc\\xe9\">Beyonc\\xe9</a></td>\\n</tr>\\n<tr>\\n<th scope=\"row\">96</th>\\n<td>\"<a href=\"/wiki/Studio_(song)\" title=\"Studio (song)\">Studio</a>\"</td>\\n<td><a href=\"/wiki/ScHoolboy_Q\" class=\"mw-redirect\" title=\"ScHoolboy Q\">ScHoolboy Q</a> featuring <a href=\"/wiki/BJ_the_Chicago_Kid\" title=\"BJ the Chicago Kid\">BJ the Chicago Kid</a></td>\\n</tr>\\n<tr>\\n<th scope=\"row\">97</th>\\n<td>\"<a href=\"/wiki/0_to_100_/_The_Catch_Up\" title=\"0 to 100 / The Catch Up\">0 to 100 / The Catch Up</a>\"</td>\\n<td><a href=\"/wiki/Drake_(rapper)\" class=\"mw-redirect\" title=\"Drake (rapper)\">Drake</a></td>\\n</tr>\\n<tr>\\n<th scope=\"row\">98</th>\\n<td>\"<a href=\"/wiki/I_Don%27t_Dance_(Lee_Brice_song)\" title=\"I Don\\'t Dance (Lee Brice song)\">I Don\\'t Dance</a>\"</td>\\n<td><a href=\"/wiki/Lee_Brice\" title=\"Lee Brice\">Lee Brice</a></td>\\n</tr>\\n<tr>\\n<th scope=\"row\">99</th>\\n<td>\"<a href=\"/wiki/Somethin%27_Bad\" title=\"Somethin\\' Bad\">Somethin\\' Bad</a>\"</td>\\n<td><a href=\"/wiki/Miranda_Lambert\" title=\"Miranda Lambert\">Miranda Lambert</a> and <a href=\"/wiki/Carrie_Underwood\" title=\"Carrie Underwood\">Carrie Underwood</a></td>\\n</tr>\\n<tr>\\n<th scope=\"row\">100</th>\\n<td>\"<a href=\"/wiki/Adore_You\" title=\"Adore You\">Adore You</a>\"</td>\\n<td><a href=\"/wiki/Miley_Cyrus\" title=\"Miley Cyrus\">Miley Cyrus</a></td>\\n</tr>\\n</table>\\n<h2><span class=\"mw-headline\" id=\"See_also\">See also</span><span class=\"mw-editsection\"><span class=\"mw-editsection-bracket\">[</span><a href=\"/w/index.php?title=Billboard_Year-End_Hot_100_singles_of_2014&amp;action=edit&amp;section=2\" title=\"Edit section: See also\">edit</a><span class=\"mw-editsection-bracket\">]</span></span></h2>\\n<ul>\\n<li><a href=\"/wiki/2014_in_American_music\" title=\"2014 in American music\">2014 in American music</a></li>\\n<li><a href=\"/wiki/List_of_Hot_100_number-one_singles_of_2014_(U.S.)\" class=\"mw-redirect\" title=\"List of Hot 100 number-one singles of 2014 (U.S.)\">List of Hot 100 number-one singles of 2014 (U.S.)</a></li>\\n</ul>\\n<h2><span class=\"mw-headline\" id=\"References\">References</span><span class=\"mw-editsection\"><span class=\"mw-editsection-bracket\">[</span><a href=\"/w/index.php?title=Billboard_Year-End_Hot_100_singles_of_2014&amp;action=edit&amp;section=3\" title=\"Edit section: References\">edit</a><span class=\"mw-editsection-bracket\">]</span></span></h2>\\n<div class=\"reflist\" style=\"list-style-type: decimal;\">\\n<div class=\"mw-references-wrap\">\\n<ol class=\"references\">\\n<li id=\"cite_note-1\"><span class=\"mw-cite-backlink\"><b><a href=\"#cite_ref-1\">^</a></b></span> <span class=\"reference-text\"><cite class=\"citation news\">Caulfield, Keith (December 9, 2014). <a rel=\"nofollow\" class=\"external text\" href=\"http://www.billboard.com/articles/events/year-in-music-2014/6386043/the-year-in-pop-2014-one-direction-frozen-pharrell\">\"The Year In Pop 2014\"</a>. <i><a href=\"/wiki/Billboard_(magazine)\" title=\"Billboard (magazine)\">Billboard</a></i>. <a href=\"/wiki/Prometheus_Global_Media\" title=\"Prometheus Global Media\">Prometheus Global Media</a><span class=\"reference-accessdate\">. Retrieved <span class=\"nowrap\">December 10,</span> 2014</span>.</cite><span title=\"ctx_ver=Z39.88-2004&amp;rfr_id=info%3Asid%2Fen.wikipedia.org%3ABillboard+Year-End+Hot+100+singles+of+2014&amp;rft.atitle=The+Year+In+Pop+2014&amp;rft.aufirst=Keith&amp;rft.aulast=Caulfield&amp;rft.date=2014-12-09&amp;rft.genre=article&amp;rft.jtitle=Billboard&amp;rft_id=http%3A%2F%2Fwww.billboard.com%2Farticles%2Fevents%2Fyear-in-music-2014%2F6386043%2Fthe-year-in-pop-2014-one-direction-frozen-pharrell&amp;rft_val_fmt=info%3Aofi%2Ffmt%3Akev%3Amtx%3Ajournal\" class=\"Z3988\"><span style=\"display:none;\">&#160;</span></span></span></li>\\n<li id=\"cite_note-2\"><span class=\"mw-cite-backlink\"><b><a href=\"#cite_ref-2\">^</a></b></span> <span class=\"reference-text\"><cite class=\"citation web\"><a rel=\"nofollow\" class=\"external text\" href=\"http://www.billboard.com/charts/year-end/2014/hot-100-songs\">\"Hot 100 Songs Music Chart\"</a>. <i><a href=\"/wiki/Billboard_(magazine)\" title=\"Billboard (magazine)\">Billboard</a></i>. <a href=\"/wiki/Prometheus_Global_Media\" title=\"Prometheus Global Media\">Prometheus Global Media</a>. 2014<span class=\"reference-accessdate\">. Retrieved <span class=\"nowrap\">December 11,</span> 2014</span>.</cite><span title=\"ctx_ver=Z39.88-2004&amp;rfr_id=info%3Asid%2Fen.wikipedia.org%3ABillboard+Year-End+Hot+100+singles+of+2014&amp;rft.atitle=Hot+100+Songs+Music+Chart&amp;rft.date=2014&amp;rft.genre=unknown&amp;rft.jtitle=Billboard&amp;rft_id=http%3A%2F%2Fwww.billboard.com%2Fcharts%2Fyear-end%2F2014%2Fhot-100-songs&amp;rft_val_fmt=info%3Aofi%2Ffmt%3Akev%3Amtx%3Ajournal\" class=\"Z3988\"><span style=\"display:none;\">&#160;</span></span></span></li>\\n</ol>\\n</div>\\n</div>\\n<div role=\"navigation\" class=\"navbox\" aria-labelledby=\"Billboard_Year-End_charts\" style=\"padding:3px\">\\n<table class=\"nowraplinks collapsible autocollapse navbox-inner\" style=\"border-spacing:0;background:transparent;color:inherit\">\\n<tr>\\n<th scope=\"col\" class=\"navbox-title\" colspan=\"2\">\\n<div class=\"plainlinks hlist navbar mini\">\\n<ul>\\n<li class=\"nv-view\"><a href=\"/wiki/Template:Hot_100_year-end_charts\" title=\"Template:Hot 100 year-end charts\"><abbr title=\"View this template\" style=\";;background:none transparent;border:none;-moz-box-shadow:none;-webkit-box-shadow:none;box-shadow:none;\">v</abbr></a></li>\\n<li class=\"nv-talk\"><a href=\"/wiki/Template_talk:Hot_100_year-end_charts\" title=\"Template talk:Hot 100 year-end charts\"><abbr title=\"Discuss this template\" style=\";;background:none transparent;border:none;-moz-box-shadow:none;-webkit-box-shadow:none;box-shadow:none;\">t</abbr></a></li>\\n<li class=\"nv-edit\"><a class=\"external text\" href=\"//en.wikipedia.org/w/index.php?title=Template:Hot_100_year-end_charts&amp;action=edit\"><abbr title=\"Edit this template\" style=\";;background:none transparent;border:none;-moz-box-shadow:none;-webkit-box-shadow:none;box-shadow:none;\">e</abbr></a></li>\\n</ul>\\n</div>\\n<div id=\"Billboard_Year-End_charts\" style=\"font-size:114%;margin:0 4em\"><a href=\"/wiki/Billboard_(magazine)\" title=\"Billboard (magazine)\"><i>Billboard</i></a> <a href=\"/wiki/Billboard_Year-End\" title=\"Billboard Year-End\">Year-End charts</a></div>\\n</th>\\n</tr>\\n<tr>\\n<th scope=\"row\" class=\"navbox-group\" style=\"width:1%\">1950\\u20131969</th>\\n<td class=\"navbox-list navbox-odd hlist\" style=\"text-align:left;border-left-width:2px;border-left-style:solid;width:100%;padding:0px\">\\n<div style=\"padding:0em 0.25em\">\\n<ul>\\n<li><a href=\"/wiki/Billboard_year-end_top_30_singles_of_1950\" title=\"Billboard year-end top 30 singles of 1950\">1950</a></li>\\n<li><a href=\"/wiki/Billboard_year-end_top_30_singles_of_1951\" title=\"Billboard year-end top 30 singles of 1951\">1951</a></li>\\n<li><a href=\"/wiki/Billboard_year-end_top_30_singles_of_1952\" title=\"Billboard year-end top 30 singles of 1952\">1952</a></li>\\n<li><a href=\"/wiki/Billboard_year-end_top_30_singles_of_1953\" title=\"Billboard year-end top 30 singles of 1953\">1953</a></li>\\n<li><a href=\"/wiki/Billboard_year-end_top_30_singles_of_1954\" title=\"Billboard year-end top 30 singles of 1954\">1954</a></li>\\n<li><a href=\"/wiki/Billboard_year-end_top_30_singles_of_1955\" title=\"Billboard year-end top 30 singles of 1955\">1955</a></li>\\n<li><a href=\"/wiki/Billboard_year-end_top_50_singles_of_1956\" title=\"Billboard year-end top 50 singles of 1956\">1956</a></li>\\n<li><a href=\"/wiki/Billboard_year-end_top_50_singles_of_1957\" title=\"Billboard year-end top 50 singles of 1957\">1957</a></li>\\n<li><a href=\"/wiki/Billboard_year-end_top_50_singles_of_1958\" title=\"Billboard year-end top 50 singles of 1958\">1958</a></li>\\n<li><a href=\"/wiki/Billboard_Year-End_Hot_100_singles_of_1959\" title=\"Billboard Year-End Hot 100 singles of 1959\">1959</a></li>\\n<li><a href=\"/wiki/Billboard_Year-End_Hot_100_singles_of_1960\" title=\"Billboard Year-End Hot 100 singles of 1960\">1960</a></li>\\n<li><a href=\"/wiki/Billboard_Year-End_Hot_100_singles_of_1961\" title=\"Billboard Year-End Hot 100 singles of 1961\">1961</a></li>\\n<li><a href=\"/wiki/Billboard_Year-End_Hot_100_singles_of_1962\" title=\"Billboard Year-End Hot 100 singles of 1962\">1962</a></li>\\n<li><a href=\"/wiki/Billboard_Year-End_Hot_100_singles_of_1963\" title=\"Billboard Year-End Hot 100 singles of 1963\">1963</a></li>\\n<li><a href=\"/wiki/Billboard_Year-End_Hot_100_singles_of_1964\" title=\"Billboard Year-End Hot 100 singles of 1964\">1964</a></li>\\n<li><a href=\"/wiki/Billboard_Year-End_Hot_100_singles_of_1965\" title=\"Billboard Year-End Hot 100 singles of 1965\">1965</a></li>\\n<li><a href=\"/wiki/Billboard_Year-End_Hot_100_singles_of_1966\" title=\"Billboard Year-End Hot 100 singles of 1966\">1966</a></li>\\n<li><a href=\"/wiki/Billboard_Year-End_Hot_100_singles_of_1967\" title=\"Billboard Year-End Hot 100 singles of 1967\">1967</a></li>\\n<li><a href=\"/wiki/Billboard_Year-End_Hot_100_singles_of_1968\" title=\"Billboard Year-End Hot 100 singles of 1968\">1968</a></li>\\n<li><a href=\"/wiki/Billboard_Year-End_Hot_100_singles_of_1969\" title=\"Billboard Year-End Hot 100 singles of 1969\">1969</a></li>\\n</ul>\\n</div>\\n</td>\\n</tr>\\n<tr>\\n<th scope=\"row\" class=\"navbox-group\" style=\"width:1%\">1970\\u20131989</th>\\n<td class=\"navbox-list navbox-even hlist\" style=\"text-align:left;border-left-width:2px;border-left-style:solid;width:100%;padding:0px\">\\n<div style=\"padding:0em 0.25em\">\\n<ul>\\n<li><a href=\"/wiki/Billboard_Year-End_Hot_100_singles_of_1970\" title=\"Billboard Year-End Hot 100 singles of 1970\">1970</a></li>\\n<li><a href=\"/wiki/Billboard_Year-End_Hot_100_singles_of_1971\" title=\"Billboard Year-End Hot 100 singles of 1971\">1971</a></li>\\n<li><a href=\"/wiki/Billboard_Year-End_Hot_100_singles_of_1972\" title=\"Billboard Year-End Hot 100 singles of 1972\">1972</a></li>\\n<li><a href=\"/wiki/Billboard_Year-End_Hot_100_singles_of_1973\" title=\"Billboard Year-End Hot 100 singles of 1973\">1973</a></li>\\n<li><a href=\"/wiki/Billboard_Year-End_Hot_100_singles_of_1974\" title=\"Billboard Year-End Hot 100 singles of 1974\">1974</a></li>\\n<li><a href=\"/wiki/Billboard_Year-End_Hot_100_singles_of_1975\" title=\"Billboard Year-End Hot 100 singles of 1975\">1975</a></li>\\n<li><a href=\"/wiki/Billboard_Year-End_Hot_100_singles_of_1976\" title=\"Billboard Year-End Hot 100 singles of 1976\">1976</a></li>\\n<li><a href=\"/wiki/Billboard_Year-End_Hot_100_singles_of_1977\" title=\"Billboard Year-End Hot 100 singles of 1977\">1977</a></li>\\n<li><a href=\"/wiki/Billboard_Year-End_Hot_100_singles_of_1978\" title=\"Billboard Year-End Hot 100 singles of 1978\">1978</a></li>\\n<li><a href=\"/wiki/Billboard_Year-End_Hot_100_singles_of_1979\" title=\"Billboard Year-End Hot 100 singles of 1979\">1979</a></li>\\n<li><a href=\"/wiki/Billboard_Year-End_Hot_100_singles_of_1980\" title=\"Billboard Year-End Hot 100 singles of 1980\">1980</a></li>\\n<li><a href=\"/wiki/Billboard_Year-End_Hot_100_singles_of_1981\" title=\"Billboard Year-End Hot 100 singles of 1981\">1981</a></li>\\n<li><a href=\"/wiki/Billboard_Year-End_Hot_100_singles_of_1982\" title=\"Billboard Year-End Hot 100 singles of 1982\">1982</a></li>\\n<li><a href=\"/wiki/Billboard_Year-End_Hot_100_singles_of_1983\" title=\"Billboard Year-End Hot 100 singles of 1983\">1983</a></li>\\n<li><a href=\"/wiki/Billboard_Year-End_Hot_100_singles_of_1984\" title=\"Billboard Year-End Hot 100 singles of 1984\">1984</a></li>\\n<li><a href=\"/wiki/Billboard_Year-End_Hot_100_singles_of_1985\" title=\"Billboard Year-End Hot 100 singles of 1985\">1985</a></li>\\n<li><a href=\"/wiki/Billboard_Year-End_Hot_100_singles_of_1986\" title=\"Billboard Year-End Hot 100 singles of 1986\">1986</a></li>\\n<li><a href=\"/wiki/Billboard_Year-End_Hot_100_singles_of_1987\" title=\"Billboard Year-End Hot 100 singles of 1987\">1987</a></li>\\n<li><a href=\"/wiki/Billboard_Year-End_Hot_100_singles_of_1988\" title=\"Billboard Year-End Hot 100 singles of 1988\">1988</a></li>\\n<li><a href=\"/wiki/Billboard_Year-End_Hot_100_singles_of_1989\" title=\"Billboard Year-End Hot 100 singles of 1989\">1989</a></li>\\n</ul>\\n</div>\\n</td>\\n</tr>\\n<tr>\\n<th scope=\"row\" class=\"navbox-group\" style=\"width:1%\">1990\\u20132009</th>\\n<td class=\"navbox-list navbox-odd hlist\" style=\"text-align:left;border-left-width:2px;border-left-style:solid;width:100%;padding:0px\">\\n<div style=\"padding:0em 0.25em\">\\n<ul>\\n<li><a href=\"/wiki/Billboard_Year-End_Hot_100_singles_of_1990\" title=\"Billboard Year-End Hot 100 singles of 1990\">1990</a></li>\\n<li><a href=\"/wiki/Billboard_Year-End_Hot_100_singles_of_1991\" title=\"Billboard Year-End Hot 100 singles of 1991\">1991</a></li>\\n<li><a href=\"/wiki/Billboard_Year-End_Hot_100_singles_of_1992\" title=\"Billboard Year-End Hot 100 singles of 1992\">1992</a></li>\\n<li><a href=\"/wiki/Billboard_Year-End_Hot_100_singles_of_1993\" title=\"Billboard Year-End Hot 100 singles of 1993\">1993</a></li>\\n<li><a href=\"/wiki/Billboard_Year-End_Hot_100_singles_of_1994\" title=\"Billboard Year-End Hot 100 singles of 1994\">1994</a></li>\\n<li><a href=\"/wiki/Billboard_Year-End_Hot_100_singles_of_1995\" title=\"Billboard Year-End Hot 100 singles of 1995\">1995</a></li>\\n<li><a href=\"/wiki/Billboard_Year-End_Hot_100_singles_of_1996\" title=\"Billboard Year-End Hot 100 singles of 1996\">1996</a></li>\\n<li><a href=\"/wiki/Billboard_Year-End_Hot_100_singles_of_1997\" title=\"Billboard Year-End Hot 100 singles of 1997\">1997</a></li>\\n<li><a href=\"/wiki/Billboard_Year-End_Hot_100_singles_of_1998\" title=\"Billboard Year-End Hot 100 singles of 1998\">1998</a></li>\\n<li><a href=\"/wiki/Billboard_Year-End_Hot_100_singles_of_1999\" title=\"Billboard Year-End Hot 100 singles of 1999\">1999</a></li>\\n<li><a href=\"/wiki/Billboard_Year-End_Hot_100_singles_of_2000\" title=\"Billboard Year-End Hot 100 singles of 2000\">2000</a></li>\\n<li><a href=\"/wiki/Billboard_Year-End_Hot_100_singles_of_2001\" title=\"Billboard Year-End Hot 100 singles of 2001\">2001</a></li>\\n<li><a href=\"/wiki/Billboard_Year-End_Hot_100_singles_of_2002\" title=\"Billboard Year-End Hot 100 singles of 2002\">2002</a></li>\\n<li><a href=\"/wiki/Billboard_Year-End_Hot_100_singles_of_2003\" title=\"Billboard Year-End Hot 100 singles of 2003\">2003</a></li>\\n<li><a href=\"/wiki/Billboard_Year-End_Hot_100_singles_of_2004\" title=\"Billboard Year-End Hot 100 singles of 2004\">2004</a></li>\\n<li><a href=\"/wiki/Billboard_Year-End_Hot_100_singles_of_2005\" title=\"Billboard Year-End Hot 100 singles of 2005\">2005</a></li>\\n<li><a href=\"/wiki/Billboard_Year-End_Hot_100_singles_of_2006\" title=\"Billboard Year-End Hot 100 singles of 2006\">2006</a></li>\\n<li><a href=\"/wiki/Billboard_Year-End_Hot_100_singles_of_2007\" title=\"Billboard Year-End Hot 100 singles of 2007\">2007</a></li>\\n<li><a href=\"/wiki/Billboard_Year-End_Hot_100_singles_of_2008\" title=\"Billboard Year-End Hot 100 singles of 2008\">2008</a></li>\\n<li><a href=\"/wiki/Billboard_Year-End_Hot_100_singles_of_2009\" title=\"Billboard Year-End Hot 100 singles of 2009\">2009</a></li>\\n</ul>\\n</div>\\n</td>\\n</tr>\\n<tr>\\n<th scope=\"row\" class=\"navbox-group\" style=\"width:1%\">2010\\u2013present</th>\\n<td class=\"navbox-list navbox-even hlist\" style=\"text-align:left;border-left-width:2px;border-left-style:solid;width:100%;padding:0px\">\\n<div style=\"padding:0em 0.25em\">\\n<ul>\\n<li><a href=\"/wiki/Billboard_Year-End_Hot_100_singles_of_2010\" title=\"Billboard Year-End Hot 100 singles of 2010\">2010</a></li>\\n<li><a href=\"/wiki/Billboard_Year-End_Hot_100_singles_of_2011\" title=\"Billboard Year-End Hot 100 singles of 2011\">2011</a></li>\\n<li><a href=\"/wiki/Billboard_Year-End_Hot_100_singles_of_2012\" title=\"Billboard Year-End Hot 100 singles of 2012\">2012</a></li>\\n<li><a href=\"/wiki/Billboard_Year-End_Hot_100_singles_of_2013\" title=\"Billboard Year-End Hot 100 singles of 2013\">2013</a></li>\\n<li><a class=\"mw-selflink selflink\">2014</a></li>\\n<li><a href=\"/wiki/Billboard_Year-End_Hot_100_singles_of_2015\" title=\"Billboard Year-End Hot 100 singles of 2015\">2015</a></li>\\n<li><a href=\"/wiki/Billboard_Year-End_Hot_100_singles_of_2016\" title=\"Billboard Year-End Hot 100 singles of 2016\">2016</a></li>\\n</ul>\\n</div>\\n</td>\\n</tr>\\n</table>\\n</div>\\n\\n\\n<!-- \\nNewPP limit report\\nParsed by mw1247\\nCached time: 20170904142740\\nCache expiry: 1900800\\nDynamic content: false\\nCPU time usage: 0.100 seconds\\nReal time usage: 0.145 seconds\\nPreprocessor visited node count: 474/1000000\\nPreprocessor generated node count: 0/1500000\\nPost\\u2010expand include size: 21218/2097152 bytes\\nTemplate argument size: 106/2097152 bytes\\nHighest expansion depth: 7/40\\nExpensive parser function count: 0/500\\nLua time usage: 0.024/10.000 seconds\\nLua memory usage: 1.62 MB/50 MB\\n-->\\n<!--\\nTransclusion expansion time report (%,ms,calls,template)\\n100.00%   63.862      1 -total\\n 76.01%   48.539      1 Template:Reflist\\n 53.73%   34.313      1 Template:Cite_news\\n 21.33%   13.623      1 Template:Top_Hot_100_Hits\\n 16.90%   10.793      1 Template:Navbox\\n  7.72%    4.928      1 Template:Cite_web\\n  3.67%    2.345      1 Template:Main_other\\n  1.65%    1.053      1 Template:\\'s\\n-->\\n</div>\\n<!-- Saved in parser cache with key enwiki:pcache:idhash:44655089-0!canonical and timestamp 20170904142740 and revision id 792958844\\n -->\\n<noscript><img src=\"//en.wikipedia.org/wiki/Special:CentralAutoLogin/start?type=1x1\" alt=\"\" title=\"\" width=\"1\" height=\"1\" style=\"border: none; position: absolute;\" /></noscript></div>\\t\\t\\t\\t\\t<div class=\"printfooter\">\\n\\t\\t\\t\\t\\t\\tRetrieved from \"<a dir=\"ltr\" href=\"https://en.wikipedia.org/w/index.php?title=Billboard_Year-End_Hot_100_singles_of_2014&amp;oldid=792958844\">https://en.wikipedia.org/w/index.php?title=Billboard_Year-End_Hot_100_singles_of_2014&amp;oldid=792958844</a>\"\\t\\t\\t\\t\\t</div>\\n\\t\\t\\t\\t<div id=\"catlinks\" class=\"catlinks\" data-mw=\"interface\"><div id=\"mw-normal-catlinks\" class=\"mw-normal-catlinks\"><a href=\"/wiki/Help:Category\" title=\"Help:Category\">Categories</a>: <ul><li><a href=\"/wiki/Category:2014_record_charts\" title=\"Category:2014 record charts\">2014 record charts</a></li><li><a href=\"/wiki/Category:Billboard_charts\" title=\"Category:Billboard charts\">Billboard charts</a></li></ul></div></div>\\t\\t\\t\\t<div class=\"visualClear\"></div>\\n\\t\\t\\t\\t\\t\\t\\t</div>\\n\\t\\t</div>\\n\\t\\t<div id=\"mw-navigation\">\\n\\t\\t\\t<h2>Navigation menu</h2>\\n\\n\\t\\t\\t<div id=\"mw-head\">\\n\\t\\t\\t\\t\\t\\t\\t\\t\\t<div id=\"p-personal\" role=\"navigation\" class=\"\" aria-labelledby=\"p-personal-label\">\\n\\t\\t\\t\\t\\t\\t<h3 id=\"p-personal-label\">Personal tools</h3>\\n\\t\\t\\t\\t\\t\\t<ul>\\n\\t\\t\\t\\t\\t\\t\\t<li id=\"pt-anonuserpage\">Not logged in</li><li id=\"pt-anontalk\"><a href=\"/wiki/Special:MyTalk\" title=\"Discussion about edits from this IP address [n]\" accesskey=\"n\">Talk</a></li><li id=\"pt-anoncontribs\"><a href=\"/wiki/Special:MyContributions\" title=\"A list of edits made from this IP address [y]\" accesskey=\"y\">Contributions</a></li><li id=\"pt-createaccount\"><a href=\"/w/index.php?title=Special:CreateAccount&amp;returnto=Billboard+Year-End+Hot+100+singles+of+2014\" title=\"You are encouraged to create an account and log in; however, it is not mandatory\">Create account</a></li><li id=\"pt-login\"><a href=\"/w/index.php?title=Special:UserLogin&amp;returnto=Billboard+Year-End+Hot+100+singles+of+2014\" title=\"You\\'re encouraged to log in; however, it\\'s not mandatory. [o]\" accesskey=\"o\">Log in</a></li>\\t\\t\\t\\t\\t\\t</ul>\\n\\t\\t\\t\\t\\t</div>\\n\\t\\t\\t\\t\\t\\t\\t\\t\\t<div id=\"left-navigation\">\\n\\t\\t\\t\\t\\t\\t\\t\\t\\t\\t<div id=\"p-namespaces\" role=\"navigation\" class=\"vectorTabs\" aria-labelledby=\"p-namespaces-label\">\\n\\t\\t\\t\\t\\t\\t<h3 id=\"p-namespaces-label\">Namespaces</h3>\\n\\t\\t\\t\\t\\t\\t<ul>\\n\\t\\t\\t\\t\\t\\t\\t\\t\\t\\t\\t\\t\\t\\t<li id=\"ca-nstab-main\" class=\"selected\"><span><a href=\"/wiki/Billboard_Year-End_Hot_100_singles_of_2014\" title=\"View the content page [c]\" accesskey=\"c\">Article</a></span></li>\\n\\t\\t\\t\\t\\t\\t\\t<li id=\"ca-talk\"><span><a href=\"/wiki/Talk:Billboard_Year-End_Hot_100_singles_of_2014\" rel=\"discussion\" title=\"Discussion about the content page [t]\" accesskey=\"t\">Talk</a></span></li>\\n\\t\\t\\t\\t\\t\\t</ul>\\n\\t\\t\\t\\t\\t</div>\\n\\t\\t\\t\\t\\t\\t\\t\\t\\t\\t<div id=\"p-variants\" role=\"navigation\" class=\"vectorMenu emptyPortlet\" aria-labelledby=\"p-variants-label\">\\n\\t\\t\\t\\t\\t\\t\\t\\t\\t\\t\\t\\t<h3 id=\"p-variants-label\">\\n\\t\\t\\t\\t\\t\\t\\t<span>Variants</span>\\n\\t\\t\\t\\t\\t\\t</h3>\\n\\n\\t\\t\\t\\t\\t\\t<div class=\"menu\">\\n\\t\\t\\t\\t\\t\\t\\t<ul>\\n\\t\\t\\t\\t\\t\\t\\t\\t\\t\\t\\t\\t\\t\\t\\t</ul>\\n\\t\\t\\t\\t\\t\\t</div>\\n\\t\\t\\t\\t\\t</div>\\n\\t\\t\\t\\t\\t\\t\\t\\t\\t</div>\\n\\t\\t\\t\\t<div id=\"right-navigation\">\\n\\t\\t\\t\\t\\t\\t\\t\\t\\t\\t<div id=\"p-views\" role=\"navigation\" class=\"vectorTabs\" aria-labelledby=\"p-views-label\">\\n\\t\\t\\t\\t\\t\\t<h3 id=\"p-views-label\">Views</h3>\\n\\t\\t\\t\\t\\t\\t<ul>\\n\\t\\t\\t\\t\\t\\t\\t\\t\\t\\t\\t\\t\\t\\t<li id=\"ca-view\" class=\"selected\"><span><a href=\"/wiki/Billboard_Year-End_Hot_100_singles_of_2014\">Read</a></span></li>\\n\\t\\t\\t\\t\\t\\t\\t<li id=\"ca-edit\"><span><a href=\"/w/index.php?title=Billboard_Year-End_Hot_100_singles_of_2014&amp;action=edit\" title=\"Edit this page [e]\" accesskey=\"e\">Edit</a></span></li>\\n\\t\\t\\t\\t\\t\\t\\t<li id=\"ca-history\" class=\"collapsible\"><span><a href=\"/w/index.php?title=Billboard_Year-End_Hot_100_singles_of_2014&amp;action=history\" title=\"Past revisions of this page [h]\" accesskey=\"h\">View history</a></span></li>\\n\\t\\t\\t\\t\\t\\t</ul>\\n\\t\\t\\t\\t\\t</div>\\n\\t\\t\\t\\t\\t\\t\\t\\t\\t\\t<div id=\"p-cactions\" role=\"navigation\" class=\"vectorMenu emptyPortlet\" aria-labelledby=\"p-cactions-label\">\\n\\t\\t\\t\\t\\t\\t<h3 id=\"p-cactions-label\"><span>More</span></h3>\\n\\n\\t\\t\\t\\t\\t\\t<div class=\"menu\">\\n\\t\\t\\t\\t\\t\\t\\t<ul>\\n\\t\\t\\t\\t\\t\\t\\t\\t\\t\\t\\t\\t\\t\\t\\t</ul>\\n\\t\\t\\t\\t\\t\\t</div>\\n\\t\\t\\t\\t\\t</div>\\n\\t\\t\\t\\t\\t\\t\\t\\t\\t\\t<div id=\"p-search\" role=\"search\">\\n\\t\\t\\t\\t\\t\\t<h3>\\n\\t\\t\\t\\t\\t\\t\\t<label for=\"searchInput\">Search</label>\\n\\t\\t\\t\\t\\t\\t</h3>\\n\\n\\t\\t\\t\\t\\t\\t<form action=\"/w/index.php\" id=\"searchform\">\\n\\t\\t\\t\\t\\t\\t\\t<div id=\"simpleSearch\">\\n\\t\\t\\t\\t\\t\\t\\t<input type=\"search\" name=\"search\" placeholder=\"Search Wikipedia\" title=\"Search Wikipedia [f]\" accesskey=\"f\" id=\"searchInput\"/><input type=\"hidden\" value=\"Special:Search\" name=\"title\"/><input type=\"submit\" name=\"fulltext\" value=\"Search\" title=\"Search Wikipedia for this text\" id=\"mw-searchButton\" class=\"searchButton mw-fallbackSearchButton\"/><input type=\"submit\" name=\"go\" value=\"Go\" title=\"Go to a page with this exact name if it exists\" id=\"searchButton\" class=\"searchButton\"/>\\t\\t\\t\\t\\t\\t\\t</div>\\n\\t\\t\\t\\t\\t\\t</form>\\n\\t\\t\\t\\t\\t</div>\\n\\t\\t\\t\\t\\t\\t\\t\\t\\t</div>\\n\\t\\t\\t</div>\\n\\t\\t\\t<div id=\"mw-panel\">\\n\\t\\t\\t\\t<div id=\"p-logo\" role=\"banner\"><a class=\"mw-wiki-logo\" href=\"/wiki/Main_Page\"  title=\"Visit the main page\"></a></div>\\n\\t\\t\\t\\t\\t\\t<div class=\"portal\" role=\"navigation\" id=\\'p-navigation\\' aria-labelledby=\\'p-navigation-label\\'>\\n\\t\\t\\t<h3 id=\\'p-navigation-label\\'>Navigation</h3>\\n\\n\\t\\t\\t<div class=\"body\">\\n\\t\\t\\t\\t\\t\\t\\t\\t\\t<ul>\\n\\t\\t\\t\\t\\t\\t<li id=\"n-mainpage-description\"><a href=\"/wiki/Main_Page\" title=\"Visit the main page [z]\" accesskey=\"z\">Main page</a></li><li id=\"n-contents\"><a href=\"/wiki/Portal:Contents\" title=\"Guides to browsing Wikipedia\">Contents</a></li><li id=\"n-featuredcontent\"><a href=\"/wiki/Portal:Featured_content\" title=\"Featured content \\u2013 the best of Wikipedia\">Featured content</a></li><li id=\"n-currentevents\"><a href=\"/wiki/Portal:Current_events\" title=\"Find background information on current events\">Current events</a></li><li id=\"n-randompage\"><a href=\"/wiki/Special:Random\" title=\"Load a random article [x]\" accesskey=\"x\">Random article</a></li><li id=\"n-sitesupport\"><a href=\"https://donate.wikimedia.org/wiki/Special:FundraiserRedirector?utm_source=donate&amp;utm_medium=sidebar&amp;utm_campaign=C13_en.wikipedia.org&amp;uselang=en\" title=\"Support us\">Donate to Wikipedia</a></li><li id=\"n-shoplink\"><a href=\"//shop.wikimedia.org\" title=\"Visit the Wikipedia store\">Wikipedia store</a></li>\\t\\t\\t\\t\\t</ul>\\n\\t\\t\\t\\t\\t\\t\\t</div>\\n\\t\\t</div>\\n\\t\\t\\t<div class=\"portal\" role=\"navigation\" id=\\'p-interaction\\' aria-labelledby=\\'p-interaction-label\\'>\\n\\t\\t\\t<h3 id=\\'p-interaction-label\\'>Interaction</h3>\\n\\n\\t\\t\\t<div class=\"body\">\\n\\t\\t\\t\\t\\t\\t\\t\\t\\t<ul>\\n\\t\\t\\t\\t\\t\\t<li id=\"n-help\"><a href=\"/wiki/Help:Contents\" title=\"Guidance on how to use and edit Wikipedia\">Help</a></li><li id=\"n-aboutsite\"><a href=\"/wiki/Wikipedia:About\" title=\"Find out about Wikipedia\">About Wikipedia</a></li><li id=\"n-portal\"><a href=\"/wiki/Wikipedia:Community_portal\" title=\"About the project, what you can do, where to find things\">Community portal</a></li><li id=\"n-recentchanges\"><a href=\"/wiki/Special:RecentChanges\" title=\"A list of recent changes in the wiki [r]\" accesskey=\"r\">Recent changes</a></li><li id=\"n-contactpage\"><a href=\"//en.wikipedia.org/wiki/Wikipedia:Contact_us\" title=\"How to contact Wikipedia\">Contact page</a></li>\\t\\t\\t\\t\\t</ul>\\n\\t\\t\\t\\t\\t\\t\\t</div>\\n\\t\\t</div>\\n\\t\\t\\t<div class=\"portal\" role=\"navigation\" id=\\'p-tb\\' aria-labelledby=\\'p-tb-label\\'>\\n\\t\\t\\t<h3 id=\\'p-tb-label\\'>Tools</h3>\\n\\n\\t\\t\\t<div class=\"body\">\\n\\t\\t\\t\\t\\t\\t\\t\\t\\t<ul>\\n\\t\\t\\t\\t\\t\\t<li id=\"t-whatlinkshere\"><a href=\"/wiki/Special:WhatLinksHere/Billboard_Year-End_Hot_100_singles_of_2014\" title=\"List of all English Wikipedia pages containing links to this page [j]\" accesskey=\"j\">What links here</a></li><li id=\"t-recentchangeslinked\"><a href=\"/wiki/Special:RecentChangesLinked/Billboard_Year-End_Hot_100_singles_of_2014\" rel=\"nofollow\" title=\"Recent changes in pages linked from this page [k]\" accesskey=\"k\">Related changes</a></li><li id=\"t-upload\"><a href=\"/wiki/Wikipedia:File_Upload_Wizard\" title=\"Upload files [u]\" accesskey=\"u\">Upload file</a></li><li id=\"t-specialpages\"><a href=\"/wiki/Special:SpecialPages\" title=\"A list of all special pages [q]\" accesskey=\"q\">Special pages</a></li><li id=\"t-permalink\"><a href=\"/w/index.php?title=Billboard_Year-End_Hot_100_singles_of_2014&amp;oldid=792958844\" title=\"Permanent link to this revision of the page\">Permanent link</a></li><li id=\"t-info\"><a href=\"/w/index.php?title=Billboard_Year-End_Hot_100_singles_of_2014&amp;action=info\" title=\"More information about this page\">Page information</a></li><li id=\"t-wikibase\"><a href=\"https://www.wikidata.org/wiki/Special:EntityPage/Q18614607\" title=\"Link to connected data repository item [g]\" accesskey=\"g\">Wikidata item</a></li><li id=\"t-cite\"><a href=\"/w/index.php?title=Special:CiteThisPage&amp;page=Billboard_Year-End_Hot_100_singles_of_2014&amp;id=792958844\" title=\"Information on how to cite this page\">Cite this page</a></li>\\t\\t\\t\\t\\t</ul>\\n\\t\\t\\t\\t\\t\\t\\t</div>\\n\\t\\t</div>\\n\\t\\t\\t<div class=\"portal\" role=\"navigation\" id=\\'p-coll-print_export\\' aria-labelledby=\\'p-coll-print_export-label\\'>\\n\\t\\t\\t<h3 id=\\'p-coll-print_export-label\\'>Print/export</h3>\\n\\n\\t\\t\\t<div class=\"body\">\\n\\t\\t\\t\\t\\t\\t\\t\\t\\t<ul>\\n\\t\\t\\t\\t\\t\\t<li id=\"coll-create_a_book\"><a href=\"/w/index.php?title=Special:Book&amp;bookcmd=book_creator&amp;referer=Billboard+Year-End+Hot+100+singles+of+2014\">Create a book</a></li><li id=\"coll-download-as-rdf2latex\"><a href=\"/w/index.php?title=Special:ElectronPdf&amp;page=Billboard+Year-End+Hot+100+singles+of+2014&amp;action=show-selection-screen&amp;coll-download-url=%2Fw%2Findex.php%3Ftitle%3DSpecial%3ABook%26bookcmd%3Drender_article%26arttitle%3DBillboard%2BYear-End%2BHot%2B100%2Bsingles%2Bof%2B2014%26returnto%3DBillboard%2BYear-End%2BHot%2B100%2Bsingles%2Bof%2B2014%26oldid%3D792958844%26writer%3Drdf2latex\">Download as PDF</a></li><li id=\"t-print\"><a href=\"/w/index.php?title=Billboard_Year-End_Hot_100_singles_of_2014&amp;printable=yes\" title=\"Printable version of this page [p]\" accesskey=\"p\">Printable version</a></li>\\t\\t\\t\\t\\t</ul>\\n\\t\\t\\t\\t\\t\\t\\t</div>\\n\\t\\t</div>\\n\\t\\t\\t<div class=\"portal\" role=\"navigation\" id=\\'p-lang\\' aria-labelledby=\\'p-lang-label\\'>\\n\\t\\t\\t<h3 id=\\'p-lang-label\\'>Languages</h3>\\n\\n\\t\\t\\t<div class=\"body\">\\n\\t\\t\\t\\t\\t\\t\\t\\t\\t<ul>\\n\\t\\t\\t\\t\\t\\t<li class=\"interlanguage-link interwiki-hu\"><a href=\"https://hu.wikipedia.org/wiki/2014_100_legnagyobb_sl%C3%A1gere\" title=\"2014 100 legnagyobb sl\\xe1gere \\u2013 Hungarian\" lang=\"hu\" hreflang=\"hu\" class=\"interlanguage-link-target\">Magyar</a></li><li class=\"interlanguage-link interwiki-ru\"><a href=\"https://ru.wikipedia.org/wiki/%D0%9B%D1%83%D1%87%D1%88%D0%B8%D0%B5_%D1%81%D0%B8%D0%BD%D0%B3%D0%BB%D1%8B_%D0%A1%D0%A8%D0%90_2014_%D0%B3%D0%BE%D0%B4%D0%B0_%D0%BF%D0%BE_%D0%B2%D0%B5%D1%80%D1%81%D0%B8%D0%B8_Billboard\" title=\"\\u041b\\u0443\\u0447\\u0448\\u0438\\u0435 \\u0441\\u0438\\u043d\\u0433\\u043b\\u044b \\u0421\\u0428\\u0410 2014 \\u0433\\u043e\\u0434\\u0430 \\u043f\\u043e \\u0432\\u0435\\u0440\\u0441\\u0438\\u0438 Billboard \\u2013 Russian\" lang=\"ru\" hreflang=\"ru\" class=\"interlanguage-link-target\">\\u0420\\u0443\\u0441\\u0441\\u043a\\u0438\\u0439</a></li><li class=\"interlanguage-link interwiki-vi\"><a href=\"https://vi.wikipedia.org/wiki/Billboard_Hot_100_cu%E1%BB%91i_n%C4%83m_2014\" title=\"Billboard Hot 100 cu\\u1ed1i n\\u0103m 2014 \\u2013 Vietnamese\" lang=\"vi\" hreflang=\"vi\" class=\"interlanguage-link-target\">Ti\\u1ebfng Vi\\u1ec7t</a></li><li class=\"interlanguage-link interwiki-zh\"><a href=\"https://zh.wikipedia.org/wiki/2014%E5%B9%B4%E7%BE%8E%E5%9C%8B%E5%91%8A%E7%A4%BA%E7%89%8C%E5%B9%B4%E7%B5%82%E7%99%BE%E5%BC%B7%E5%96%AE%E6%9B%B2%E6%A6%9C\" title=\"2014\\u5e74\\u7f8e\\u570b\\u544a\\u793a\\u724c\\u5e74\\u7d42\\u767e\\u5f37\\u55ae\\u66f2\\u699c \\u2013 Chinese\" lang=\"zh\" hreflang=\"zh\" class=\"interlanguage-link-target\">\\u4e2d\\u6587</a></li>\\t\\t\\t\\t\\t</ul>\\n\\t\\t\\t\\t<div class=\"after-portlet after-portlet-lang\"><span class=\"wb-langlinks-edit wb-langlinks-link\"><a href=\"https://www.wikidata.org/wiki/Special:EntityPage/Q18614607#sitelinks-wikipedia\" title=\"Edit interlanguage links\" class=\"wbc-editpage\">Edit links</a></span></div>\\t\\t\\t</div>\\n\\t\\t</div>\\n\\t\\t\\t\\t</div>\\n\\t\\t</div>\\n\\t\\t<div id=\"footer\" role=\"contentinfo\">\\n\\t\\t\\t\\t\\t\\t\\t<ul id=\"footer-info\">\\n\\t\\t\\t\\t\\t\\t\\t\\t\\t\\t\\t<li id=\"footer-info-lastmod\"> This page was last edited on 29 July 2017, at 20:58.</li>\\n\\t\\t\\t\\t\\t\\t\\t\\t\\t\\t\\t<li id=\"footer-info-copyright\">Text is available under the <a rel=\"license\" href=\"//en.wikipedia.org/wiki/Wikipedia:Text_of_Creative_Commons_Attribution-ShareAlike_3.0_Unported_License\">Creative Commons Attribution-ShareAlike License</a><a rel=\"license\" href=\"//creativecommons.org/licenses/by-sa/3.0/\" style=\"display:none;\"></a>;\\nadditional terms may apply.  By using this site, you agree to the <a href=\"//wikimediafoundation.org/wiki/Terms_of_Use\">Terms of Use</a> and <a href=\"//wikimediafoundation.org/wiki/Privacy_policy\">Privacy Policy</a>. Wikipedia\\xae is a registered trademark of the <a href=\"//www.wikimediafoundation.org/\">Wikimedia Foundation, Inc.</a>, a non-profit organization.</li>\\n\\t\\t\\t\\t\\t\\t\\t\\t\\t</ul>\\n\\t\\t\\t\\t\\t\\t\\t<ul id=\"footer-places\">\\n\\t\\t\\t\\t\\t\\t\\t\\t\\t\\t\\t<li id=\"footer-places-privacy\"><a href=\"https://wikimediafoundation.org/wiki/Privacy_policy\" class=\"extiw\" title=\"wmf:Privacy policy\">Privacy policy</a></li>\\n\\t\\t\\t\\t\\t\\t\\t\\t\\t\\t\\t<li id=\"footer-places-about\"><a href=\"/wiki/Wikipedia:About\" title=\"Wikipedia:About\">About Wikipedia</a></li>\\n\\t\\t\\t\\t\\t\\t\\t\\t\\t\\t\\t<li id=\"footer-places-disclaimer\"><a href=\"/wiki/Wikipedia:General_disclaimer\" title=\"Wikipedia:General disclaimer\">Disclaimers</a></li>\\n\\t\\t\\t\\t\\t\\t\\t\\t\\t\\t\\t<li id=\"footer-places-contact\"><a href=\"//en.wikipedia.org/wiki/Wikipedia:Contact_us\">Contact Wikipedia</a></li>\\n\\t\\t\\t\\t\\t\\t\\t\\t\\t\\t\\t<li id=\"footer-places-developers\"><a href=\"https://www.mediawiki.org/wiki/Special:MyLanguage/How_to_contribute\">Developers</a></li>\\n\\t\\t\\t\\t\\t\\t\\t\\t\\t\\t\\t<li id=\"footer-places-cookiestatement\"><a href=\"https://wikimediafoundation.org/wiki/Cookie_statement\">Cookie statement</a></li>\\n\\t\\t\\t\\t\\t\\t\\t\\t\\t\\t\\t<li id=\"footer-places-mobileview\"><a href=\"//en.m.wikipedia.org/w/index.php?title=Billboard_Year-End_Hot_100_singles_of_2014&amp;mobileaction=toggle_view_mobile\" class=\"noprint stopMobileRedirectToggle\">Mobile view</a></li>\\n\\t\\t\\t\\t\\t\\t\\t\\t\\t</ul>\\n\\t\\t\\t\\t\\t\\t\\t\\t\\t\\t<ul id=\"footer-icons\" class=\"noprint\">\\n\\t\\t\\t\\t\\t\\t\\t\\t\\t\\t\\t<li id=\"footer-copyrightico\">\\n\\t\\t\\t\\t\\t\\t\\t<a href=\"https://wikimediafoundation.org/\"><img src=\"/static/images/wikimedia-button.png\" srcset=\"/static/images/wikimedia-button-1.5x.png 1.5x, /static/images/wikimedia-button-2x.png 2x\" width=\"88\" height=\"31\" alt=\"Wikimedia Foundation\"/></a>\\t\\t\\t\\t\\t\\t</li>\\n\\t\\t\\t\\t\\t\\t\\t\\t\\t\\t\\t<li id=\"footer-poweredbyico\">\\n\\t\\t\\t\\t\\t\\t\\t<a href=\"//www.mediawiki.org/\"><img src=\"/static/images/poweredby_mediawiki_88x31.png\" alt=\"Powered by MediaWiki\" srcset=\"/static/images/poweredby_mediawiki_132x47.png 1.5x, /static/images/poweredby_mediawiki_176x62.png 2x\" width=\"88\" height=\"31\"/></a>\\t\\t\\t\\t\\t\\t</li>\\n\\t\\t\\t\\t\\t\\t\\t\\t\\t</ul>\\n\\t\\t\\t\\t\\t\\t<div style=\"clear:both\"></div>\\n\\t\\t</div>\\n\\t\\t<script>(window.RLQ=window.RLQ||[]).push(function(){mw.config.set({\"wgPageParseReport\":{\"limitreport\":{\"cputime\":\"0.100\",\"walltime\":\"0.145\",\"ppvisitednodes\":{\"value\":474,\"limit\":1000000},\"ppgeneratednodes\":{\"value\":0,\"limit\":1500000},\"postexpandincludesize\":{\"value\":21218,\"limit\":2097152},\"templateargumentsize\":{\"value\":106,\"limit\":2097152},\"expansiondepth\":{\"value\":7,\"limit\":40},\"expensivefunctioncount\":{\"value\":0,\"limit\":500},\"entityaccesscount\":{\"value\":0,\"limit\":400},\"timingprofile\":[\"100.00%   63.862      1 -total\",\" 76.01%   48.539      1 Template:Reflist\",\" 53.73%   34.313      1 Template:Cite_news\",\" 21.33%   13.623      1 Template:Top_Hot_100_Hits\",\" 16.90%   10.793      1 Template:Navbox\",\"  7.72%    4.928      1 Template:Cite_web\",\"  3.67%    2.345      1 Template:Main_other\",\"  1.65%    1.053      1 Template:\\'s\"]},\"scribunto\":{\"limitreport-timeusage\":{\"value\":\"0.024\",\"limit\":\"10.000\"},\"limitreport-memusage\":{\"value\":1703108,\"limit\":52428800}},\"cachereport\":{\"origin\":\"mw1247\",\"timestamp\":\"20170904142740\",\"ttl\":1900800,\"transientcontent\":false}}});});</script><script>(window.RLQ=window.RLQ||[]).push(function(){mw.config.set({\"wgBackendResponseTime\":74,\"wgHostname\":\"mw1218\"});});</script>\\n\\t</body>\\n</html>\\n'"
      ]
     },
     "execution_count": 136,
     "metadata": {},
     "output_type": "execute_result"
    }
   ],
   "source": [
    "yearstext[1997]"
   ]
  },
  {
   "cell_type": "markdown",
   "metadata": {},
   "source": [
    "#### 1.3 Parse and Clean data "
   ]
  },
  {
   "cell_type": "markdown",
   "metadata": {},
   "source": [
    "Remember the code you wrote to get data from 1970 which produces a list of dictionaries, one corresponding to each single.  Now write a function `parse_year(the_year, yeartext_dict)` which takes the year, prints it out, gets the text for the year from the just created `yearstext` dictionary, and return a list of dictionaries for that year, with one dictionary for each single. Store this list in the variable `yearinfo`.\n",
    "\n",
    "The dictionaries **must** be of this form:\n",
    "\n",
    "```\n",
    "{'band_singer': ['Brandy', 'Monica'],\n",
    "  'ranking': 2,\n",
    "  'song': ['The Boy Is Mine'],\n",
    "  'songurl': ['/wiki/The_Boy_Is_Mine_(song)'],\n",
    "  'titletext': '\" The Boy Is Mine \"',\n",
    "  'url': ['/wiki/Brandy_Norwood', '/wiki/Monica_(entertainer)']}\n",
    "```"
   ]
  },
  {
   "cell_type": "markdown",
   "metadata": {},
   "source": [
    "The spec of this function is provided below:"
   ]
  },
  {
   "cell_type": "code",
   "execution_count": 138,
   "metadata": {
    "collapsed": true
   },
   "outputs": [],
   "source": [
    "\"\"\"\n",
    "Function\n",
    "--------\n",
    "parse_year\n",
    "\n",
    "Inputs\n",
    "------\n",
    "the_year: the year you want the singles for\n",
    "yeartext_dict: a dictionary with keys as integer years and values the downloaded web pages \n",
    "    from wikipedia for that year.\n",
    "   \n",
    "Returns\n",
    "-------\n",
    "\n",
    "a list of dictionaries, each of which corresponds to a single and has the\n",
    "following data:\n",
    "\n",
    "Eg:\n",
    "\n",
    "{'band_singer': ['Brandy', 'Monica'],\n",
    "  'ranking': 2,\n",
    "  'song': ['The Boy Is Mine'],\n",
    "  'songurl': ['/wiki/The_Boy_Is_Mine_(song)'],\n",
    "  'titletext': '\" The Boy Is Mine \"',\n",
    "  'url': ['/wiki/Brandy_Norwood', '/wiki/Monica_(entertainer)']}\n",
    "  \n",
    "A dictionary with the following data:\n",
    "    band_singer: a list of bands/singers who made this single\n",
    "    song: a list of the titles of songs on this single\n",
    "    songurl: a list of the same size as song which has urls for the songs on the single \n",
    "        (see point 3 above)\n",
    "    ranking: ranking of the single\n",
    "    titletext: the contents of the table cell\n",
    "    band_singer: a list of bands or singers on this single\n",
    "    url: a list of wikipedia singer/band urls on this single: only put in the part \n",
    "        of the url from /wiki onwards\n",
    "    \n",
    "\n",
    "Notes\n",
    "-----\n",
    "See description and example above.\n",
    "\"\"\"\n",
    "def parse_year(the_year, yeartext_dict):\n",
    "    print(the_year)\n",
    "    page =  yeartext_dict[the_year]\n",
    "    # Use Beautiful Soup to convert the HTML\n",
    "    soup = BeautifulSoup(page, 'html.parser')\n",
    "    # Find the table with class-types 'sortable' and 'wikitable'\n",
    "    table_songs = soup.find_all(dfinder)\n",
    "    # Extract rows from table_demographics\n",
    "    rows = [row for row in table_songs[0].find_all(\"tr\")]\n",
    "    # Insert table data into dictionary\n",
    "    songs = []\n",
    "    for row in rows[1:]:\n",
    "        print(row)\n",
    "        entries = row.find_all(\"td\")\n",
    "        if entries[1].find(\"a\"): \n",
    "            songEntry = {'band_singer': str(entries[2].text), 'ranking': int(entries[0].text), \n",
    "                     'title': (\"'\" + str(entries[1].find(\"a\").get(\"title\")) + \"'\"), 'url': str(entries[2].find(\"a\").get(\"href\"))}\n",
    "        # if song doesn't have URL\n",
    "        else:\n",
    "            songEntry = {'band_singer': str(entries[2].text), 'ranking': int(entries[0].text), \n",
    "                     'title': (\"'\" + str(entries[1].text) + \"'\"), 'url': str(entries[2].find(\"a\").get(\"href\"))}\n",
    "\n",
    "        songs.append(songEntry)\n",
    "    return songs\n",
    "    \n",
    "    \n",
    "    \n",
    "\n"
   ]
  },
  {
   "cell_type": "markdown",
   "metadata": {},
   "source": [
    "#### Helpful notes\n",
    "\n",
    "Notice that some singles might have multiple songs:\n",
    "\n",
    "```\n",
    "{'band_singer': ['Jewel'],\n",
    "  'ranking': 2,\n",
    "  'song': ['Foolish Games', 'You Were Meant for Me'],\n",
    "  'songurl': ['/wiki/Foolish_Games',\n",
    "   '/wiki/You_Were_Meant_for_Me_(Jewel_song)'],\n",
    "  'titletext': '\" Foolish Games \" / \" You Were Meant for Me \"',\n",
    "  'url': ['/wiki/Jewel_(singer)']}\n",
    "```"
   ]
  },
  {
   "cell_type": "markdown",
   "metadata": {},
   "source": [
    "And some singles don't have a song URL:\n",
    "\n",
    "```\n",
    "{'band_singer': [u'Nu Flavor'],\n",
    "  'ranking': 91,\n",
    "  'song': [u'Heaven'],\n",
    "  'songurl': [None],\n",
    "  'titletext': u'\"Heaven\"',\n",
    "  'url': [u'/wiki/Nu_Flavor']}\n",
    "```"
   ]
  },
  {
   "cell_type": "markdown",
   "metadata": {},
   "source": [
    "Thus there are some issues this function must handle:\n",
    "\n",
    "1. There can be more than one  `band_singer` as can be seen above (sometimes with a comma, sometimes with \"featuring\" in between). The best way to parse these is to look for the urls.\n",
    "2. There can be two songs in a single, because of the way the industry works: there are two-sided singles. See https://en.wikipedia.org/wiki/Billboard_Year-End_Hot_100_singles_of_1997 for an example. You can find other examples in 1998 and 1999.\n",
    "3. The `titletext` is the contents of the table cell, and retains the quotes that Wikipedia puts on the single.\n",
    "4. If no song anchor is found (see the 24th song in the above url), assume there is one song in the single, set `songurl` to [`None`] and the song name to the contents of the table cell with the quotes stripped (ie `song` is a one-element list with this the `titletext` stripped of its quotes)."
   ]
  },
  {
   "cell_type": "markdown",
   "metadata": {},
   "source": [
    "As a check, we can do this for 1997. We'll print the first 5 outputs: `parse_year(1997, yearstext)[:5]`"
   ]
  },
  {
   "cell_type": "markdown",
   "metadata": {},
   "source": [
    "This should give the following. Notice that the year 1997 exercises the edge cases we talked about earlier."
   ]
  },
  {
   "cell_type": "markdown",
   "metadata": {},
   "source": [
    "```\n",
    "[{'band_singer': ['Elton John'],\n",
    "  'ranking': 1,\n",
    "  'song': ['Something About the Way You Look Tonight',\n",
    "   'Candle in the Wind 1997'],\n",
    "  'songurl': ['/wiki/Something_About_the_Way_You_Look_Tonight',\n",
    "   '/wiki/Candle_in_the_Wind_1997'],\n",
    "  'titletext': '\" Something About the Way You Look Tonight \" / \" Candle in the Wind 1997 \"',\n",
    "  'url': ['/wiki/Elton_John']},\n",
    " {'band_singer': ['Jewel'],\n",
    "  'ranking': 2,\n",
    "  'song': ['Foolish Games', 'You Were Meant for Me'],\n",
    "  'songurl': ['/wiki/Foolish_Games',\n",
    "   '/wiki/You_Were_Meant_for_Me_(Jewel_song)'],\n",
    "  'titletext': '\" Foolish Games \" / \" You Were Meant for Me \"',\n",
    "  'url': ['/wiki/Jewel_(singer)']},\n",
    " {'band_singer': ['Puff Daddy', 'Faith Evans', '112'],\n",
    "  'ranking': 3,\n",
    "  'song': [\"I'll Be Missing You\"],\n",
    "  'songurl': ['/wiki/I%27ll_Be_Missing_You'],\n",
    "  'titletext': '\" I\\'ll Be Missing You \"',\n",
    "  'url': ['/wiki/Sean_Combs', '/wiki/Faith_Evans', '/wiki/112_(band)']},\n",
    " {'band_singer': ['Toni Braxton'],\n",
    "  'ranking': 4,\n",
    "  'song': ['Un-Break My Heart'],\n",
    "  'songurl': ['/wiki/Un-Break_My_Heart'],\n",
    "  'titletext': '\" Un-Break My Heart \"',\n",
    "  'url': ['/wiki/Toni_Braxton']},\n",
    " {'band_singer': ['Puff Daddy', 'Mase'],\n",
    "  'ranking': 5,\n",
    "  'song': [\"Can't Nobody Hold Me Down\"],\n",
    "  'songurl': ['/wiki/Can%27t_Nobody_Hold_Me_Down'],\n",
    "  'titletext': '\" Can\\'t Nobody Hold Me Down \"',\n",
    "  'url': ['/wiki/Sean_Combs', '/wiki/Mase']}]\n",
    "```"
   ]
  },
  {
   "cell_type": "code",
   "execution_count": 155,
   "metadata": {
    "collapsed": false
   },
   "outputs": [
    {
     "name": "stdout",
     "output_type": "stream",
     "text": [
      "1\n",
      "2\n",
      "3\n",
      "4\n",
      "5\n",
      "6\n",
      "7\n",
      "8\n",
      "9\n",
      "10\n",
      "11\n",
      "12\n",
      "13\n",
      "14\n",
      "15\n",
      "16\n",
      "17\n",
      "18\n",
      "19\n",
      "20\n",
      "21\n",
      "22\n",
      "23\n",
      "24\n",
      "25\n",
      "26\n",
      "27\n",
      "28\n",
      "29\n",
      "30\n",
      "31\n",
      "32\n",
      "33\n",
      "34\n",
      "35\n",
      "36\n",
      "37\n",
      "38\n",
      "39\n",
      "40\n",
      "41\n",
      "42\n",
      "43\n",
      "44\n",
      "45\n",
      "46\n",
      "47\n",
      "48\n",
      "49\n",
      "50\n",
      "51\n",
      "52\n",
      "53\n",
      "54\n",
      "55\n",
      "56\n",
      "57\n",
      "58\n",
      "59\n",
      "60\n",
      "61\n",
      "62\n",
      "63\n",
      "64\n",
      "65\n",
      "66\n",
      "67\n",
      "68\n",
      "69\n",
      "70\n",
      "71\n",
      "72\n"
     ]
    },
    {
     "ename": "AttributeError",
     "evalue": "'NoneType' object has no attribute 'get'",
     "output_type": "error",
     "traceback": [
      "\u001b[0;31m---------------------------------------------------------------------------\u001b[0m",
      "\u001b[0;31mAttributeError\u001b[0m                            Traceback (most recent call last)",
      "\u001b[0;32m<ipython-input-155-599bd7b3ccf1>\u001b[0m in \u001b[0;36m<module>\u001b[0;34m()\u001b[0m\n\u001b[1;32m     15\u001b[0m     \u001b[0;32mif\u001b[0m \u001b[0mentries\u001b[0m\u001b[0;34m[\u001b[0m\u001b[0;36m0\u001b[0m\u001b[0;34m]\u001b[0m\u001b[0;34m.\u001b[0m\u001b[0mfind\u001b[0m\u001b[0;34m(\u001b[0m\u001b[0;34m\"a\"\u001b[0m\u001b[0;34m)\u001b[0m\u001b[0;34m:\u001b[0m\u001b[0;34m\u001b[0m\u001b[0m\n\u001b[1;32m     16\u001b[0m         songEntry = {'band_singer': str(entries[1].text), 'ranking': counter, \n\u001b[0;32m---> 17\u001b[0;31m                  'title': (\"'\" + str(entries[0].find(\"a\").get(\"title\")) + \"'\"), 'url': str(entries[1].find(\"a\").get(\"href\"))}\n\u001b[0m\u001b[1;32m     18\u001b[0m     \u001b[0;31m# if song doesn't have URL\u001b[0m\u001b[0;34m\u001b[0m\u001b[0;34m\u001b[0m\u001b[0m\n\u001b[1;32m     19\u001b[0m     \u001b[0;32melse\u001b[0m\u001b[0;34m:\u001b[0m\u001b[0;34m\u001b[0m\u001b[0m\n",
      "\u001b[0;31mAttributeError\u001b[0m: 'NoneType' object has no attribute 'get'"
     ]
    }
   ],
   "source": [
    "page =  yearstext[1997]\n",
    "# Use Beautiful Soup to convert the HTML\n",
    "soup = BeautifulSoup(page, 'html.parser')\n",
    "# Find the table with class-types 'sortable' and 'wikitable'\n",
    "table_songs = soup.find_all(dfinder)\n",
    "# Extract rows from table_demographics\n",
    "rows = [row for row in table_songs[0].find_all(\"tr\")]\n",
    "# Insert table data into dictionary\n",
    "songs = []\n",
    "counter = 0\n",
    "for row in rows[1:]:\n",
    "    counter += 1\n",
    "    print (counter)\n",
    "    entries = row.find_all(\"td\")\n",
    "    if entries[0].find(\"a\"): \n",
    "        songEntry = {'band_singer': str(entries[1].text), 'ranking': counter, \n",
    "                 'title': (\"'\" + str(entries[0].find(\"a\").get(\"title\")) + \"'\"), 'url': str(entries[1].find(\"a\").get(\"href\"))}\n",
    "    # if song doesn't have URL\n",
    "    else:\n",
    "        songEntry = {'band_singer': str(entries[1].text), 'ranking': counter, \n",
    "                 'title': (\"'\" + str(entries[0].text) + \"'\"), 'url': str(entries[1].find(\"a\").get(\"href\"))}\n",
    "\n",
    "    songs.append(songEntry)"
   ]
  },
  {
   "cell_type": "code",
   "execution_count": 152,
   "metadata": {
    "collapsed": false
   },
   "outputs": [
    {
     "data": {
      "text/plain": [
       "<td>\"<a href=\"/wiki/Something_About_the_Way_You_Look_Tonight\" title=\"Something About the Way You Look Tonight\">Something About the Way You Look Tonight</a>\" / \"<a href=\"/wiki/Candle_in_the_Wind_1997\" title=\"Candle in the Wind 1997\">Candle in the Wind 1997</a>\"</td>"
      ]
     },
     "execution_count": 152,
     "metadata": {},
     "output_type": "execute_result"
    }
   ],
   "source": [
    "rows[1].find_all(\"td\")[0]"
   ]
  },
  {
   "cell_type": "raw",
   "metadata": {},
   "source": []
  },
  {
   "cell_type": "markdown",
   "metadata": {},
   "source": [
    "#### Save a json file of information from the scraped files"
   ]
  },
  {
   "cell_type": "markdown",
   "metadata": {},
   "source": [
    "We do not want to lose all this work, so let's save the last data structure we created to disk. That way if you need to re-run from here, you don't need to redo all these requests and parsing. \n",
    "\n",
    "DO NOT RERUN THE HTTP REQUESTS TO WIKIPEDIA WHEN SUBMITTING.\n",
    "\n",
    "*We **DO NOT** need to see these JSON files in your submission!*"
   ]
  },
  {
   "cell_type": "code",
   "execution_count": null,
   "metadata": {
    "collapsed": true
   },
   "outputs": [],
   "source": [
    "import json"
   ]
  },
  {
   "cell_type": "code",
   "execution_count": null,
   "metadata": {
    "collapsed": true,
    "scrolled": false
   },
   "outputs": [],
   "source": [
    "# DO NOT RERUN THIS CELL WHEN SUBMITTING\n",
    "fd = open(\"data/yearinfo.json\",\"w\")\n",
    "json.dump(yearinfo, fd)\n",
    "fd.close()\n",
    "del yearinfo"
   ]
  },
  {
   "cell_type": "markdown",
   "metadata": {},
   "source": [
    "Now let's reload our JSON file into the yearinfo variable, just to be sure everything is working."
   ]
  },
  {
   "cell_type": "code",
   "execution_count": null,
   "metadata": {
    "collapsed": true,
    "scrolled": true
   },
   "outputs": [],
   "source": [
    "# RERUN WHEN SUBMITTING\n",
    "# Another way to deal with files. Has the advantage of closing the file for you.\n",
    "with open(\"data/yearinfo.json\", \"r\") as fd:\n",
    "    yearinfo = json.load(fd)"
   ]
  },
  {
   "cell_type": "markdown",
   "metadata": {},
   "source": [
    "#### 1.4 Construct a year-song-singer dataframe from the yearly information"
   ]
  },
  {
   "cell_type": "markdown",
   "metadata": {},
   "source": [
    "Let's construct a dataframe `flatframe` from the `yearinfo`. The frame should be similar to the frame below.  Each row of the frame represents a song, and carries with it the chief properties of year, song, singer, and ranking.\n",
    "\n",
    "![](https://raw.githubusercontent.com/cs109/a-2017/master/hwassets/images/HW1SC1.png)"
   ]
  },
  {
   "cell_type": "markdown",
   "metadata": {},
   "source": [
    "To construct the dataframe, we'll need to iterate over the years and the singles per year. Notice how, above, the dataframe is ordered by ranking and then year. While the exact order is up to you, note that you will have to come up with a scheme to order the information.\n",
    "\n",
    "Check that the dataframe has sensible data types. You will also likely find that the year field has become an \"object\" (Pandas treats strings as generic objects): this is due to the conversion to and back from JSON. Such conversions need special care. Fix any data type issues with `flatframe`. (See Pandas [astype](http://pandas.pydata.org/pandas-docs/stable/generated/pandas.DataFrame.astype.html) function.) \n",
    "We will use this `flatframe` in the next question. \n",
    "\n",
    "(As an aside, we used the name `flatframe` to indicate that this dataframe is flattened from a hierarchical dictionary structure with the keys being the years.)"
   ]
  },
  {
   "cell_type": "markdown",
   "metadata": {},
   "source": [
    "### Who are the highest quality singers?"
   ]
  },
  {
   "cell_type": "markdown",
   "metadata": {},
   "source": [
    "Here we show the highest quality singers and plot them on a bar chart.\n",
    "\n",
    "#### 1.5 Find highest quality singers according to how prolific they are\n",
    "\n",
    "What do we mean by highest quality? This is of course open to interpretation, but let's define \"highest quality\" here as the number of times a singer appears in the top 100 over this time period. If a singer appears twice in a year (for different songs), this is counted as two appearances, not one. \n",
    "\n",
    "Make a bar-plot of the most prolific singers. Singers on this chart should have appeared at-least more than 15 times. (HINT: look at the docs for the pandas method `value_counts`.)\n"
   ]
  },
  {
   "cell_type": "markdown",
   "metadata": {},
   "source": [
    "#### 1.6 What if we used a different metric?"
   ]
  },
  {
   "cell_type": "markdown",
   "metadata": {},
   "source": [
    "What we would like to capture is this: a singer should to be scored higher if the singer appears higher in the rankings. So we'd say that a singer who appeared once at a higher and once at a lower ranking is a \"higher quality\" singer than one who appeared twice at a lower ranking. \n",
    "\n",
    "To do this, group all of a singers songs together and assign each song a score `101 - ranking`. Order the singers by their total score and make a bar chart for the top 20.\n"
   ]
  },
  {
   "cell_type": "markdown",
   "metadata": {},
   "source": [
    "#### 1.7 Do you notice any major differences when you change the metric?\n",
    "\n",
    "How have the singers at the top shifted places? Why do you think this happens?"
   ]
  },
  {
   "cell_type": "markdown",
   "metadata": {},
   "source": [
    "## Q2. Scraping and Constructing: Information about Artists, Bands and Genres from Wikipedia"
   ]
  },
  {
   "cell_type": "markdown",
   "metadata": {},
   "source": [
    "Our next job is to use those band/singer urls we collected under `flatframe.url` and get information about singers and/or bands."
   ]
  },
  {
   "cell_type": "markdown",
   "metadata": {},
   "source": [
    "### Scrape information about artists from wikipedia"
   ]
  },
  {
   "cell_type": "markdown",
   "metadata": {},
   "source": [
    "We wish to fetch information about the singers or groups for all the winning songs in a list of years.\n",
    "\n",
    "Here we show a function that fetches information about a singer or group from their url on wikipedia. We create a cache object `urlcache` that will avoid redundant HTTP requests (e.g. an artist might have multiple singles on a single year, or be on the list over a span of years). Once we have fetched information about an artist, we don't need to do it again. The caching also helps if the network goes down, or the target website is having some problems. You simply need to run the `get_page` function below again, and the `urlcache` dictionary will continue to be filled.\n",
    "\n",
    "If the request gets an HTTP return code different from 200, (such as a 404 not found or 500 Internal Server Error) the cells for that URL will have a value of 1; and if the request completely fails (e.g. no network connection) the cell will have a value of 2. This will allow you to analyse the failed requests.\n",
    "\n",
    "Notice that we have wrapped the call in whats called _an exception block_. We try to make the request. If it fails entirely, or returns a HTTP code thats not 200, we set the status to 2 and 1 respectively."
   ]
  },
  {
   "cell_type": "code",
   "execution_count": 9,
   "metadata": {
    "collapsed": true,
    "scrolled": true
   },
   "outputs": [],
   "source": [
    "urlcache={}\n"
   ]
  },
  {
   "cell_type": "code",
   "execution_count": 10,
   "metadata": {
    "collapsed": true,
    "scrolled": true
   },
   "outputs": [],
   "source": [
    "def get_page(url):\n",
    "    # Check if URL has already been visited.\n",
    "    if (url not in urlcache) or (urlcache[url]==1) or (urlcache[url]==2):\n",
    "        time.sleep(1)\n",
    "        # try/except blocks are used whenever the code could generate an exception (e.g. division by zero).\n",
    "        # In this case we don't know if the page really exists, or even if it does, if we'll be able to reach it.\n",
    "        try:\n",
    "            r = requests.get(\"http://en.wikipedia.org%s\" % url)\n",
    "\n",
    "            if r.status_code == 200:\n",
    "                urlcache[url] = r.text\n",
    "            else:\n",
    "                urlcache[url] = 1\n",
    "        except:\n",
    "            urlcache[url] = 2\n",
    "    return urlcache[url]\n"
   ]
  },
  {
   "cell_type": "markdown",
   "metadata": {},
   "source": [
    "We sort the `flatframe` by year, ascending, first. Think why."
   ]
  },
  {
   "cell_type": "code",
   "execution_count": null,
   "metadata": {
    "collapsed": true,
    "scrolled": true
   },
   "outputs": [],
   "source": [
    "flatframe=flatframe.sort_values('year')\n",
    "flatframe.head()"
   ]
  },
  {
   "cell_type": "markdown",
   "metadata": {},
   "source": [
    "#### Pulling and saving the data"
   ]
  },
  {
   "cell_type": "code",
   "execution_count": null,
   "metadata": {
    "collapsed": true,
    "scrolled": true
   },
   "outputs": [],
   "source": [
    "# DO NOT RERUN THIS CELL WHEN SUBMITTING\n",
    "# Here we are populating the url cache\n",
    "# subsequent calls to this cell should be very fast, since Python won't\n",
    "# need to fetch the page from the web server.\n",
    "# NOTE this function will take quite some time to run (about 30 mins for me), since we sleep 1 second before\n",
    "# making a request. If you run it again it will be almost instantaneous, save requests that might have failed\n",
    "# (you will need to run it again if requests fail..see cell below for how to test this)\n",
    "flatframe[\"url\"].apply(get_page)"
   ]
  },
  {
   "cell_type": "markdown",
   "metadata": {},
   "source": [
    "You may have to run this function again and again, in case there were network problems. Note that, because there is a \"global\" cache, it will take less time each time you run it. Also note that this function is designed to be run again and again: it attempts to make sure that there are no unresolved pages remaining. Let us make sure of this: *the sum below should be 0, and the boolean True.*"
   ]
  },
  {
   "cell_type": "code",
   "execution_count": null,
   "metadata": {
    "collapsed": true,
    "scrolled": true
   },
   "outputs": [],
   "source": [
    "# DO NOT RERUN THIS CELL WHEN SUBMITTING\n",
    "print(\"Number of bad requests:\",np.sum([(urlcache[k]==1) or (urlcache[k]==2) for k in urlcache])) # no one or 0's)\n",
    "print(\"Did we get all urls?\", len(flatframe.url.unique())==len(urlcache)) # we got all of the urls"
   ]
  },
  {
   "cell_type": "markdown",
   "metadata": {},
   "source": [
    "Let's save the `urlcache` to disk, just in case we need it again."
   ]
  },
  {
   "cell_type": "code",
   "execution_count": null,
   "metadata": {
    "collapsed": true
   },
   "outputs": [],
   "source": [
    "# DO NOT RERUN THIS CELL WHEN SUBMITTING\n",
    "with open(\"data/artistinfo.json\",\"w\") as fd:\n",
    "    json.dump(urlcache, fd)\n",
    "del urlcache"
   ]
  },
  {
   "cell_type": "code",
   "execution_count": null,
   "metadata": {
    "collapsed": true,
    "scrolled": false
   },
   "outputs": [],
   "source": [
    "# RERUN WHEN SUBMITTING\n",
    "with open(\"data/artistinfo.json\") as json_file:\n",
    "    urlcache = json.load(json_file)"
   ]
  },
  {
   "cell_type": "markdown",
   "metadata": {},
   "source": [
    "#### 2.1 Extract information about singers and bands"
   ]
  },
  {
   "cell_type": "markdown",
   "metadata": {},
   "source": [
    "From each page we collected about a singer or a band, extract the following information:\n",
    "\n",
    "1. If the page has the text \"Born\" in the sidebar on the right, extract the element with the class `.bday`. If the page doesn't contain \"Born\", store `False`.  Store either of these into the variable `born`. We want to analyze the artist's age.\n",
    "\n",
    "2. If the text \"Years active\" is found, but no \"born\", assume a band. Store into the variable `ya` the value of the next table cell corresponding to this, or `False` if the text is not found.\n",
    "\n",
    "Put this all into a function `singer_band_info` which takes the singer/band url as argument and returns a dictionary `dict(url=url, born=born, ya=ya)`.\n",
    "\n",
    "The information can be found on the sidebar on each such wikipedia page, as the example here shows:\n",
    "\n",
    "![sandg](https://raw.githubusercontent.com/cs109/a-2017/master/hwassets/images/sandg.png).\n",
    "\n"
   ]
  },
  {
   "cell_type": "markdown",
   "metadata": {},
   "source": [
    "Write the function `singer_band_info` according to the following specification:"
   ]
  },
  {
   "cell_type": "code",
   "execution_count": null,
   "metadata": {
    "collapsed": true
   },
   "outputs": [],
   "source": [
    "\"\"\"\n",
    "Function\n",
    "--------\n",
    "singer_band_info\n",
    "\n",
    "Inputs\n",
    "------\n",
    "url: the url\n",
    "page_text: the text associated with the url\n",
    "   \n",
    "Returns\n",
    "-------\n",
    "A dictionary with the following data:\n",
    "    url: copy the input argument url into this value\n",
    "    born: the artist's birthday\n",
    "    ya: years active variable\n",
    "\n",
    "Notes\n",
    "-----\n",
    "See description above. Also note that some of the genres urls might require a \n",
    "bit of care and special handling.\n",
    "\"\"\""
   ]
  },
  {
   "cell_type": "markdown",
   "metadata": {},
   "source": [
    "#### 2.2  Merging this information in"
   ]
  },
  {
   "cell_type": "markdown",
   "metadata": {},
   "source": [
    "Iterate over the items in the singer-group dictionary cache `urlcache`, run the above function, and create a dataframe from there with columns `url`, `born`, and `ya`. Merge this dataframe on the `url` key with `flatframe`, creating a rather wide dataframe that we shall call `largedf`. It should look something like this:\n",
    "\n",
    "![](https://raw.githubusercontent.com/cs109/a-2017/master/hwassets/images/HW1SC3.png)\n",
    "\n",
    "Notice how the `born` and `ya` and `url` are repeated every time a different song from a given band is represented in a row."
   ]
  },
  {
   "cell_type": "markdown",
   "metadata": {},
   "source": [
    "#### 2.3 What is the age at which singers achieve their top ranking?"
   ]
  },
  {
   "cell_type": "markdown",
   "metadata": {},
   "source": [
    "Plot a histogram of the age at which singers achieve their top ranking. What conclusions can you draw from this distribution of ages?\n",
    "\n",
    "*HINT: You will need to do some manipulation of the `born` column, and find the song for which a band or an artist achieves their top ranking. You will then need to put these rows together into another dataframe or array to make the plot.*"
   ]
  },
  {
   "cell_type": "markdown",
   "metadata": {},
   "source": [
    "#### 2.4 At what year since inception do bands reach their top rankings?"
   ]
  },
  {
   "cell_type": "markdown",
   "metadata": {},
   "source": [
    "Make a similar calculation to plot a histogram of the years since inception at which bands reach their top ranking. What conclusions can you draw?"
   ]
  }
 ],
 "metadata": {
  "kernelspec": {
   "display_name": "Python 2",
   "language": "python",
   "name": "python2"
  },
  "language_info": {
   "codemirror_mode": {
    "name": "ipython",
    "version": 2
   },
   "file_extension": ".py",
   "mimetype": "text/x-python",
   "name": "python",
   "nbconvert_exporter": "python",
   "pygments_lexer": "ipython2",
   "version": "2.7.13"
  }
 },
 "nbformat": 4,
 "nbformat_minor": 1
}
