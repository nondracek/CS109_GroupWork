{
 "cells": [
  {
   "cell_type": "markdown",
   "metadata": {},
   "source": [
    "# CS 109A/STAT 121A/AC 209A/CSCI E-109A: Homework 1\n",
    "\n",
    "\n",
    "\n",
    "**Harvard University**<br/>\n",
    "**Fall 2017**<br/>\n",
    "**Instructors**: Pavlos Protopapas, Kevin Rader, Rahul Dave, Margo Levine\n",
    "\n",
    "---\n",
    "\n",
    "### INSTRUCTIONS\n",
    "\n",
    "**WARNING**: There is web page scraping in this homework. It takes about 40 minutes. **Do not wait till the last minute** to do this homework.\n",
    "\n",
    "- To submit your assignment follow the instructions given in canvas.\n",
    "- Restart the kernel and run the whole notebook again before you submit. There is an important CAVEAT to this. DO NOT run the web-page fetching cells again. (We have provided hints like `# DO NOT RERUN THIS CELL WHEN SUBMITTING` on some of the cells where we provide the code). Instead load your data structures from the JSON files we will ask you to save below. Otherwise you will be waiting for a long time. (Another reason to not wait until the last moment to submit.)\n",
    "\n",
    "- Do not include your name in the notebook.\n",
    "\n",
    "---"
   ]
  },
  {
   "cell_type": "markdown",
   "metadata": {},
   "source": [
    "# Homework 1: Rihanna or Mariah?"
   ]
  },
  {
   "cell_type": "markdown",
   "metadata": {},
   "source": [
    "Billboard Magazine puts out a top 100 list of \"singles\" every week. Information from this list, as well as that from music sales, radio, and other sources is used to determine a top-100 \"singles\" of the year list. A **single** is typically one song, but sometimes can be two songs which are on one \"single\" record.\n",
    "\n",
    "In this homework you will: \n",
    "\n",
    "1. Scrape Wikipedia to obtain infprmation about the best singers and groups from each year (distinguishing between the two groups) as determined by the Billboard top 100 charts. You will have to clean this data. Along the way you will learn how to save data in json files to avoid repeated scraping. \n",
    "2. Scrape Wikipedia to obtain information on these singers. You will have to scrape the web pages, this time using a cache to guard against network timeouts (or your laptop going to sleep). You will again clean the data, and save it to a json file.\n",
    "3. Use pandas to represent these two datasets and merge them.\n",
    "4. Use the individual and merged datasets to visualize the performance of the artists and their songs. We have kept the amount of analysis limited here for reasons of time; but you might enjoy exploring music genres and other aspects of the music business you can find on these wikipedia pages at your own leisure."
   ]
  },
  {
   "cell_type": "markdown",
   "metadata": {},
   "source": [
    "You should have worked through Lab0 and Lab 1, and Lecture 2.  Lab 2 will help as well."
   ]
  },
  {
   "cell_type": "markdown",
   "metadata": {},
   "source": [
    "As usual, first we import the necessary libraries.  In particular, we use [Seaborn](http://stanford.edu/~mwaskom/software/seaborn/) to give us a nicer default color palette, with our plots being of large (`poster`) size and with a white-grid background. "
   ]
  },
  {
   "cell_type": "code",
   "execution_count": 2,
   "metadata": {
    "collapsed": true,
    "scrolled": false
   },
   "outputs": [],
   "source": [
    "%matplotlib inline\n",
    "import functools\n",
    "import numpy as np\n",
    "import scipy as sp\n",
    "import matplotlib as mpl\n",
    "import matplotlib.cm as cm\n",
    "import matplotlib.pyplot as plt\n",
    "import pandas as pd\n",
    "import time\n",
    "pd.set_option('display.width', 500)\n",
    "pd.set_option('display.max_columns', 100)\n",
    "pd.set_option('display.notebook_repr_html', True)\n",
    "import seaborn as sns"
   ]
  },
  {
   "cell_type": "markdown",
   "metadata": {},
   "source": [
    "## Q1. Scraping Wikipedia for Billboard Top 100."
   ]
  },
  {
   "cell_type": "markdown",
   "metadata": {},
   "source": [
    "In this question you will scrape Wikipedia for the Billboard's top 100 singles."
   ]
  },
  {
   "cell_type": "markdown",
   "metadata": {},
   "source": [
    "### Scraping Wikipedia for Billboard singles"
   ]
  },
  {
   "cell_type": "markdown",
   "metadata": {},
   "source": [
    "We'll be using  [BeautifulSoup](http://www.crummy.com/software/BeautifulSoup/), and suggest that you use Python's built in `requests` library to fetch the web page."
   ]
  },
  {
   "cell_type": "markdown",
   "metadata": {},
   "source": [
    "#### 1.1 Parsing the Billboard Wikipedia page for 1970"
   ]
  },
  {
   "cell_type": "markdown",
   "metadata": {},
   "source": [
    "Obtain the web page at http://en.wikipedia.org/wiki/Billboard_Year-End_Hot_100_singles_of_1970 using a HTTP GET request. From this web page we'll extract the top 100 singles and their rankings. Create a list of dictionaries, 100 of them to be precise, with entries like \n",
    "\n",
    "`{'url': '/wiki/Sugarloaf_(band)', 'ranking': 30, 'band_singer': 'Sugarloaf', 'title': 'Green-Eyed Lady'}`. \n",
    "\n",
    "If you look at that web page, you'll see a link for every song, from which you can get the `url` of the singer or band. We will use these links later to scrape information about the singer or band. From the listing we can also get the band or singer name `band_singer`, and `title` of the song.\n",
    "\n",
    "*HINT: look for a table with class `wikitable`.*"
   ]
  },
  {
   "cell_type": "markdown",
   "metadata": {
    "scrolled": true
   },
   "source": [
    "You should get something similar to this (where songs is the aforementioned list):\n",
    "\n",
    "```\n",
    "songs[2:4]\n",
    "```\n",
    "\n",
    "```\n",
    "[{'band_singer': 'The Guess Who',\n",
    "  'ranking': 3,\n",
    "  'title': '\"American Woman\"',\n",
    "  'url': '/wiki/The_Guess_Who'},\n",
    " {'band_singer': 'B.J. Thomas',\n",
    "  'ranking': 4,\n",
    "  'title': '\"Raindrops Keep Fallin\\' on My Head\"',\n",
    "  'url': '/wiki/B.J._Thomas'}]\n",
    "```"
   ]
  },
  {
   "cell_type": "code",
   "execution_count": 3,
   "metadata": {
    "collapsed": true
   },
   "outputs": [],
   "source": [
    "import requests\n",
    "from bs4 import BeautifulSoup\n",
    "from IPython.display import IFrame, HTML\n",
    "import time"
   ]
  },
  {
   "cell_type": "code",
   "execution_count": 4,
   "metadata": {
    "collapsed": true
   },
   "outputs": [],
   "source": [
    "# Get Wiki padge for 1970's top 100\n",
    "req = requests.get(\" http://en.wikipedia.org/wiki/Billboard_Year-End_Hot_100_singles_of_1970\")\n",
    "page = req.text\n",
    "# Use Beautiful Soup to convert the HTML\n",
    "soup = BeautifulSoup(page, 'html.parser')\n",
    "# The classes of all tables that have a class sttribute set on them\n",
    "[t[\"class\"] for t in soup.find_all(\"table\") if t.get(\"class\")]\n",
    "# Find the table with class-types 'sortable' and 'wikitable'\n",
    "dfinder = lambda tag: tag.name=='table' and tag.get('class') == ['wikitable', 'sortable']\n",
    "table_songs = soup.find_all(dfinder)"
   ]
  },
  {
   "cell_type": "code",
   "execution_count": 5,
   "metadata": {},
   "outputs": [
    {
     "data": {
      "text/plain": [
       "[{'band_singer': 'The Guess Who',\n",
       "  'ranking': 3,\n",
       "  'title': '\"American Woman\"',\n",
       "  'url': '/wiki/The_Guess_Who'},\n",
       " {'band_singer': 'B.J. Thomas',\n",
       "  'ranking': 4,\n",
       "  'title': '\"Raindrops Keep Fallin\\' on My Head\"',\n",
       "  'url': '/wiki/B.J._Thomas'}]"
      ]
     },
     "execution_count": 5,
     "metadata": {},
     "output_type": "execute_result"
    }
   ],
   "source": [
    "# Extract rows from table_demographics\n",
    "rows = [row for row in table_songs[0].find_all(\"tr\")]\n",
    "\n",
    "# Insert table data into dictionary\n",
    "songs = []\n",
    "for row in rows[1:]:\n",
    "    entries = row.find_all(\"td\")\n",
    "    if entries[1].find(\"a\"): \n",
    "        songEntry = {'band_singer': entries[2].text, 'ranking': int(entries[0].text), \n",
    "                 'title': ('\"' + entries[1].find(\"a\").get(\"title\") + '\"'), 'url': entries[2].find(\"a\").get(\"href\")}\n",
    "    # if song doesn't have URL\n",
    "    else:\n",
    "        songEntry = {'band_singer': entries[2].text, 'ranking': int(entries[0].text), \n",
    "                 'title': (\"'\" + entries[1].text + \"'\"), 'url': entries[2].find(\"a\").get(\"href\")}\n",
    "    songs.append(songEntry)\n",
    "songs[2:4]"
   ]
  },
  {
   "cell_type": "markdown",
   "metadata": {},
   "source": [
    "#### 1.2 Generalize the previous: scrape Wikipedia from 1992 to 2014"
   ]
  },
  {
   "cell_type": "markdown",
   "metadata": {},
   "source": [
    "By visiting the urls similar to the ones for 1970, we can obtain the billboard top 100 for the years 1992 to 2014. (We choose these later years rather than 1970 as you might find music from this era more interesting.) Download these using Python's `requests` module and store the text from those requests in a dictionary called `yearstext`. This dictionary ought to have as its keys the years (as integers from 1992 to 2014), and as values corresponding to these keys the text of the page being fetched.\n",
    "\n",
    "You ought to sleep a second (look up `time.sleep` in Python) at the very least in-between fetching each web page: you do not want Wikipedia to think you are a marauding bot attempting to mount a denial-of-service attack."
   ]
  },
  {
   "cell_type": "markdown",
   "metadata": {},
   "source": [
    "*HINT: you might find `range` and string-interpolation useful to construct the URLs *.\n"
   ]
  },
  {
   "cell_type": "code",
   "execution_count": 5,
   "metadata": {
    "collapsed": true
   },
   "outputs": [],
   "source": [
    "years = range(1992, 2015)\n",
    "text = []\n",
    "for year in range(1992, 2015):\n",
    "    req = requests.get(\" http://en.wikipedia.org/wiki/Billboard_Year-End_Hot_100_singles_of_\" + str(year))\n",
    "    text.append(req.text)\n",
    "    time.sleep(1)\n",
    "yearstext = dict(zip(years,text))"
   ]
  },
  {
   "cell_type": "markdown",
   "metadata": {},
   "source": [
    "#### 1.3 Parse and Clean data "
   ]
  },
  {
   "cell_type": "markdown",
   "metadata": {},
   "source": [
    "Remember the code you wrote to get data from 1970 which produces a list of dictionaries, one corresponding to each single.  Now write a function `parse_year(the_year, yeartext_dict)` which takes the year, prints it out, gets the text for the year from the just created `yearstext` dictionary, and return a list of dictionaries for that year, with one dictionary for each single. Store this list in the variable `yearinfo`.\n",
    "\n",
    "The dictionaries **must** be of this form:\n",
    "\n",
    "```\n",
    "{'band_singer': ['Brandy', 'Monica'],\n",
    "  'ranking': 2,\n",
    "  'song': ['The Boy Is Mine'],\n",
    "  'songurl': ['/wiki/The_Boy_Is_Mine_(song)'],\n",
    "  'titletext': '\" The Boy Is Mine \"',\n",
    "  'url': ['/wiki/Brandy_Norwood', '/wiki/Monica_(entertainer)']}\n",
    "```"
   ]
  },
  {
   "cell_type": "markdown",
   "metadata": {},
   "source": [
    "The spec of this function is provided below:"
   ]
  },
  {
   "cell_type": "code",
   "execution_count": 6,
   "metadata": {
    "collapsed": true
   },
   "outputs": [],
   "source": [
    "\"\"\"\n",
    "Function\n",
    "--------\n",
    "parse_year\n",
    "\n",
    "Inputs\n",
    "------\n",
    "the_year: the year you want the singles for\n",
    "yeartext_dict: a dictionary with keys as integer years and values the downloaded web pages \n",
    "    from wikipedia for that year.\n",
    "   \n",
    "Returns\n",
    "-------\n",
    "\n",
    "a list of dictionaries, each of which corresponds to a single and has the\n",
    "following data:\n",
    "\n",
    "Eg:\n",
    "\n",
    "{'band_singer': ['Brandy', 'Monica'],\n",
    "  'ranking': 2,\n",
    "  'song': ['The Boy Is Mine'],\n",
    "  'songurl': ['/wiki/The_Boy_Is_Mine_(song)'],\n",
    "  'titletext': '\" The Boy Is Mine \"',\n",
    "  'url': ['/wiki/Brandy_Norwood', '/wiki/Monica_(entertainer)']}\n",
    "  \n",
    "A dictionary with the following data:\n",
    "    band_singer: a list of bands/singers who made this single\n",
    "    song: a list of the titles of songs on this single\n",
    "    songurl: a list of the same size as song which has urls for the songs on the single \n",
    "        (see point 3 above)\n",
    "    ranking: ranking of the single\n",
    "    titletext: the contents of the table cell\n",
    "    band_singer: a list of bands or singers on this single\n",
    "    url: a list of wikipedia singer/band urls on this single: only put in the part \n",
    "        of the url from /wiki onwards\n",
    "    \n",
    "\n",
    "Notes\n",
    "-----\n",
    "See description and example above.\n",
    "\"\"\"\n",
    "def parse_year(the_year, yeartext_dict):\n",
    "    page =  yeartext_dict[the_year]\n",
    "    soup = BeautifulSoup(page, 'html.parser')\n",
    "    # Find the table with class-types 'sortable' and 'wikitable'\n",
    "    table_songs = soup.find_all(dfinder)\n",
    "    # Extract rows from table_demographics\n",
    "    rows = [row for row in table_songs[0].find_all(\"tr\")]\n",
    "    # Insert table data into dictionary\n",
    "    songs = []\n",
    "    counter = 0\n",
    "    for row in rows[1:]:\n",
    "        counter += 1\n",
    "        entries = row.find_all(\"td\")\n",
    "        # if song has URL\n",
    "        if entries[0].find(\"a\"):\n",
    "            songurl = list(map(lambda x: x.get(\"href\"), entries[0].find_all(\"a\")))\n",
    "            song = list(map(lambda x: x.text, entries[0].find_all(\"a\")))\n",
    "            titletext = functools.reduce((lambda x, y: x +\" / \"+ y), (list(map(lambda x: '\"'+ x.get(\"title\") +'\"', entries[0].find_all(\"a\")))))\n",
    "        else: \n",
    "            songurl = [None]\n",
    "            song = [entries[0].text.replace('\"', '')]\n",
    "            titletext = [entries[0].text]\n",
    "        # if artist has URL     \n",
    "        if entries[1].find(\"a\"):\n",
    "            url = list(map(lambda x: x.get(\"href\"), entries[1].find_all(\"a\")))\n",
    "            band_singer = list(map(lambda x: x.text, entries[1].find_all(\"a\")))\n",
    "        else: \n",
    "            url = [None]\n",
    "            band_singer = [entries[1].text]\n",
    "        songEntry = {'band_singer': band_singer,'ranking': counter,'song': song,'songurl': songurl,'titletext': titletext,'url': url}\n",
    "        songs.append(songEntry)\n",
    "    return songs\n",
    "    \n",
    "yearinfo = []\n",
    "\n",
    "for year in years:\n",
    "    info = parse_year(year, yearstext)\n",
    "    yearinfo.append(info)\n",
    "    \n"
   ]
  },
  {
   "cell_type": "markdown",
   "metadata": {},
   "source": [
    "#### Helpful notes\n",
    "\n",
    "Notice that some singles might have multiple songs:\n",
    "\n",
    "```\n",
    "{'band_singer': ['Jewel'],\n",
    "  'ranking': 2,\n",
    "  'song': ['Foolish Games', 'You Were Meant for Me'],\n",
    "  'songurl': ['/wiki/Foolish_Games',\n",
    "   '/wiki/You_Were_Meant_for_Me_(Jewel_song)'],\n",
    "  'titletext': '\" Foolish Games \" / \" You Were Meant for Me \"',\n",
    "  'url': ['/wiki/Jewel_(singer)']}\n",
    "```"
   ]
  },
  {
   "cell_type": "markdown",
   "metadata": {},
   "source": [
    "And some singles don't have a song URL:\n",
    "\n",
    "```\n",
    "{'band_singer': [u'Nu Flavor'],\n",
    "  'ranking': 91,\n",
    "  'song': [u'Heaven'],\n",
    "  'songurl': [None],\n",
    "  'titletext': u'\"Heaven\"',\n",
    "  'url': [u'/wiki/Nu_Flavor']}\n",
    "```"
   ]
  },
  {
   "cell_type": "markdown",
   "metadata": {},
   "source": [
    "Thus there are some issues this function must handle:\n",
    "\n",
    "1. There can be more than one  `band_singer` as can be seen above (sometimes with a comma, sometimes with \"featuring\" in between). The best way to parse these is to look for the urls.\n",
    "2. There can be two songs in a single, because of the way the industry works: there are two-sided singles. See https://en.wikipedia.org/wiki/Billboard_Year-End_Hot_100_singles_of_1997 for an example. You can find other examples in 1998 and 1999.\n",
    "3. The `titletext` is the contents of the table cell, and retains the quotes that Wikipedia puts on the single.\n",
    "4. If no song anchor is found (see the 24th song in the above url), assume there is one song in the single, set `songurl` to [`None`] and the song name to the contents of the table cell with the quotes stripped (ie `song` is a one-element list with this the `titletext` stripped of its quotes)."
   ]
  },
  {
   "cell_type": "markdown",
   "metadata": {},
   "source": [
    "As a check, we can do this for 1997. We'll print the first 5 outputs: `parse_year(1997, yearstext)[:5]`"
   ]
  },
  {
   "cell_type": "markdown",
   "metadata": {},
   "source": [
    "This should give the following. Notice that the year 1997 exercises the edge cases we talked about earlier."
   ]
  },
  {
   "cell_type": "markdown",
   "metadata": {},
   "source": [
    "```\n",
    "[{'band_singer': ['Elton John'],\n",
    "  'ranking': 1,\n",
    "  'song': ['Something About the Way You Look Tonight',\n",
    "   'Candle in the Wind 1997'],\n",
    "  'songurl': ['/wiki/Something_About_the_Way_You_Look_Tonight',\n",
    "   '/wiki/Candle_in_the_Wind_1997'],\n",
    "  'titletext': '\" Something About the Way You Look Tonight \" / \" Candle in the Wind 1997 \"',\n",
    "  'url': ['/wiki/Elton_John']},\n",
    " {'band_singer': ['Jewel'],\n",
    "  'ranking': 2,\n",
    "  'song': ['Foolish Games', 'You Were Meant for Me'],\n",
    "  'songurl': ['/wiki/Foolish_Games',\n",
    "   '/wiki/You_Were_Meant_for_Me_(Jewel_song)'],\n",
    "  'titletext': '\" Foolish Games \" / \" You Were Meant for Me \"',\n",
    "  'url': ['/wiki/Jewel_(singer)']},\n",
    " {'band_singer': ['Puff Daddy', 'Faith Evans', '112'],\n",
    "  'ranking': 3,\n",
    "  'song': [\"I'll Be Missing You\"],\n",
    "  'songurl': ['/wiki/I%27ll_Be_Missing_You'],\n",
    "  'titletext': '\" I\\'ll Be Missing You \"',\n",
    "  'url': ['/wiki/Sean_Combs', '/wiki/Faith_Evans', '/wiki/112_(band)']},\n",
    " {'band_singer': ['Toni Braxton'],\n",
    "  'ranking': 4,\n",
    "  'song': ['Un-Break My Heart'],\n",
    "  'songurl': ['/wiki/Un-Break_My_Heart'],\n",
    "  'titletext': '\" Un-Break My Heart \"',\n",
    "  'url': ['/wiki/Toni_Braxton']},\n",
    " {'band_singer': ['Puff Daddy', 'Mase'],\n",
    "  'ranking': 5,\n",
    "  'song': [\"Can't Nobody Hold Me Down\"],\n",
    "  'songurl': ['/wiki/Can%27t_Nobody_Hold_Me_Down'],\n",
    "  'titletext': '\" Can\\'t Nobody Hold Me Down \"',\n",
    "  'url': ['/wiki/Sean_Combs', '/wiki/Mase']}]\n",
    "```"
   ]
  },
  {
   "cell_type": "code",
   "execution_count": 7,
   "metadata": {},
   "outputs": [
    {
     "data": {
      "text/plain": [
       "[{'band_singer': ['Elton John'],\n",
       "  'ranking': 1,\n",
       "  'song': ['Something About the Way You Look Tonight',\n",
       "   'Candle in the Wind 1997'],\n",
       "  'songurl': ['/wiki/Something_About_the_Way_You_Look_Tonight',\n",
       "   '/wiki/Candle_in_the_Wind_1997'],\n",
       "  'titletext': '\"Something About the Way You Look Tonight\" / \"Candle in the Wind 1997\"',\n",
       "  'url': ['/wiki/Elton_John']},\n",
       " {'band_singer': ['Jewel'],\n",
       "  'ranking': 2,\n",
       "  'song': ['Foolish Games', 'You Were Meant for Me'],\n",
       "  'songurl': ['/wiki/Foolish_Games',\n",
       "   '/wiki/You_Were_Meant_for_Me_(Jewel_song)'],\n",
       "  'titletext': '\"Foolish Games\" / \"You Were Meant for Me (Jewel song)\"',\n",
       "  'url': ['/wiki/Jewel_(singer)']},\n",
       " {'band_singer': ['Puff Daddy', 'Faith Evans', '112'],\n",
       "  'ranking': 3,\n",
       "  'song': [\"I'll Be Missing You\"],\n",
       "  'songurl': ['/wiki/I%27ll_Be_Missing_You'],\n",
       "  'titletext': '\"I\\'ll Be Missing You\"',\n",
       "  'url': ['/wiki/Sean_Combs', '/wiki/Faith_Evans', '/wiki/112_(band)']},\n",
       " {'band_singer': ['Toni Braxton'],\n",
       "  'ranking': 4,\n",
       "  'song': ['Un-Break My Heart'],\n",
       "  'songurl': ['/wiki/Un-Break_My_Heart'],\n",
       "  'titletext': '\"Un-Break My Heart\"',\n",
       "  'url': ['/wiki/Toni_Braxton']},\n",
       " {'band_singer': ['Puff Daddy', 'Mase'],\n",
       "  'ranking': 5,\n",
       "  'song': [\"Can't Nobody Hold Me Down\"],\n",
       "  'songurl': ['/wiki/Can%27t_Nobody_Hold_Me_Down'],\n",
       "  'titletext': '\"Can\\'t Nobody Hold Me Down\"',\n",
       "  'url': ['/wiki/Sean_Combs', '/wiki/Mase']}]"
      ]
     },
     "execution_count": 7,
     "metadata": {},
     "output_type": "execute_result"
    }
   ],
   "source": [
    "parse_year(1997, yearstext)[:5]"
   ]
  },
  {
   "cell_type": "markdown",
   "metadata": {},
   "source": [
    "#### Save a json file of information from the scraped files"
   ]
  },
  {
   "cell_type": "markdown",
   "metadata": {},
   "source": [
    "We do not want to lose all this work, so let's save the last data structure we created to disk. That way if you need to re-run from here, you don't need to redo all these requests and parsing. \n",
    "\n",
    "DO NOT RERUN THE HTTP REQUESTS TO WIKIPEDIA WHEN SUBMITTING.\n",
    "\n",
    "*We **DO NOT** need to see these JSON files in your submission!*"
   ]
  },
  {
   "cell_type": "code",
   "execution_count": 8,
   "metadata": {
    "collapsed": true
   },
   "outputs": [],
   "source": [
    "import json"
   ]
  },
  {
   "cell_type": "code",
   "execution_count": 8,
   "metadata": {
    "collapsed": true,
    "scrolled": false
   },
   "outputs": [],
   "source": [
    "# DO NOT RERUN THIS CELL WHEN SUBMITTING\n",
    "# fd = open(\"yearinfo.json\",\"w\")\n",
    "# json.dump(yearinfo, fd)\n",
    "# fd.close()\n",
    "# del yearinfo"
   ]
  },
  {
   "cell_type": "markdown",
   "metadata": {},
   "source": [
    "Now let's reload our JSON file into the yearinfo variable, just to be sure everything is working."
   ]
  },
  {
   "cell_type": "code",
   "execution_count": 56,
   "metadata": {
    "collapsed": true,
    "scrolled": true
   },
   "outputs": [],
   "source": [
    "# RERUN WHEN SUBMITTING\n",
    "# Another way to deal with files. Has the advantage of closing the file for you.\n",
    "with open(\"yearinfo.json\", \"r\") as fd:\n",
    "    yearinfo = json.load(fd)"
   ]
  },
  {
   "cell_type": "markdown",
   "metadata": {},
   "source": [
    "#### 1.4 Construct a year-song-singer dataframe from the yearly information"
   ]
  },
  {
   "cell_type": "markdown",
   "metadata": {},
   "source": [
    "Let's construct a dataframe `flatframe` from the `yearinfo`. The frame should be similar to the frame below.  Each row of the frame represents a song, and carries with it the chief properties of year, song, singer, and ranking.\n",
    "\n",
    "![](https://raw.githubusercontent.com/cs109/a-2017/master/hwassets/images/HW1SC1.png)"
   ]
  },
  {
   "cell_type": "markdown",
   "metadata": {},
   "source": [
    "To construct the dataframe, we'll need to iterate over the years and the singles per year. Notice how, above, the dataframe is ordered by ranking and then year. While the exact order is up to you, note that you will have to come up with a scheme to order the information.\n",
    "\n",
    "Check that the dataframe has sensible data types. You will also likely find that the year field has become an \"object\" (Pandas treats strings as generic objects): this is due to the conversion to and back from JSON. Such conversions need special care. Fix any data type issues with `flatframe`. (See Pandas [astype](http://pandas.pydata.org/pandas-docs/stable/generated/pandas.DataFrame.astype.html) function.) \n",
    "We will use this `flatframe` in the next question. \n",
    "\n",
    "(As an aside, we used the name `flatframe` to indicate that this dataframe is flattened from a hierarchical dictionary structure with the keys being the years.)"
   ]
  },
  {
   "cell_type": "code",
   "execution_count": 10,
   "metadata": {
    "collapsed": true
   },
   "outputs": [],
   "source": [
    "# Rebuild yearinfo as a list of list of dictionaries that can be easily read into a data frame\n",
    "new_yearinfo = []\n",
    "# loop through every singer, for every song, of every year\n",
    "for year in range(len(yearinfo)): \n",
    "    yearEntry = []\n",
    "    for rank in range(len(yearinfo[1])):\n",
    "        counter = 0\n",
    "        for singer in yearinfo[year][rank]['band_singer']:\n",
    "            # rebuild dictionary entry in usable format for dataframe\n",
    "            date = year + 1992\n",
    "            ranking = rank + 1\n",
    "            song = yearinfo[year][rank]['song'][0]\n",
    "            url = yearinfo[year][rank]['url'][counter]\n",
    "            counter += 1\n",
    "            entry = {'year': date, 'band_singer': singer, 'song': song, 'url': url, 'ranking' : ranking}\n",
    "            yearEntry.append(entry)\n",
    "    new_yearinfo.append(yearEntry)\n",
    "\n",
    "# build base datframe from 1992\n",
    "flatframe = pd.DataFrame.from_dict(new_yearinfo[0])\n",
    "# append to dataframe additional years\n",
    "for i in range(1, len(new_yearinfo)):\n",
    "    flatframe = flatframe.append(pd.DataFrame.from_dict(new_yearinfo[i]), ignore_index=True)\n",
    "    \n",
    "# sort by ranking and year, and re-index and change column order\n",
    "flatframe = flatframe.sort_values(by=['ranking', 'year']).reset_index(drop=True)[\n",
    "    ['year', 'band_singer', 'ranking', 'song', 'url']]"
   ]
  },
  {
   "cell_type": "markdown",
   "metadata": {},
   "source": [
    "### Who are the highest quality singers?"
   ]
  },
  {
   "cell_type": "markdown",
   "metadata": {},
   "source": [
    "Here we show the highest quality singers and plot them on a bar chart.\n",
    "\n",
    "#### 1.5 Find highest quality singers according to how prolific they are\n",
    "\n",
    "What do we mean by highest quality? This is of course open to interpretation, but let's define \"highest quality\" here as the number of times a singer appears in the top 100 over this time period. If a singer appears twice in a year (for different songs), this is counted as two appearances, not one. \n",
    "\n",
    "Make a bar-plot of the most prolific singers. Singers on this chart should have appeared at-least more than 15 times. (HINT: look at the docs for the pandas method `value_counts`.)\n"
   ]
  },
  {
   "cell_type": "code",
   "execution_count": 11,
   "metadata": {},
   "outputs": [
    {
     "data": {
      "image/png": "[encoded data removed]",
      "text/plain": [
       "<matplotlib.figure.Figure at 0x11042d160>"
      ]
     },
     "metadata": {},
     "output_type": "display_data"
    }
   ],
   "source": [
    "#Creates a series of the top 15 ranked singers/bands\n",
    "singers = flatframe.band_singer.value_counts()\n",
    "best_singers = singers[singers > 15]\n",
    "\n",
    "#Reset the defaults to be safe and plot graph\n",
    "sns.reset_defaults()\n",
    "with sns.plotting_context(\"poster\"):\n",
    "    ax = plt.gca()\n",
    "    best_singers.plot(kind=\"barh\")\n",
    "    plt.grid(axis = 'x', color ='white', linestyle='-')\n",
    "    ax.tick_params(axis='both', which='both',length=0)\n",
    "    sns.despine(left=True, bottom=True)\n",
    "    plt.title(\"Top Singers from 1992 to 2014\")\n",
    "    plt.ylabel(\"Artist\")\n",
    "    plt.xlabel(\"# of Top 100 Hits\")\n",
    "    plt.show()"
   ]
  },
  {
   "cell_type": "markdown",
   "metadata": {},
   "source": [
    "#### 1.6 What if we used a different metric?"
   ]
  },
  {
   "cell_type": "markdown",
   "metadata": {},
   "source": [
    "What we would like to capture is this: a singer should to be scored higher if the singer appears higher in the rankings. So we'd say that a singer who appeared once at a higher and once at a lower ranking is a \"higher quality\" singer than one who appeared twice at a lower ranking. \n",
    "\n",
    "To do this, group all of a singers songs together and assign each song a score `101 - ranking`. Order the singers by their total score and make a bar chart for the top 20.\n"
   ]
  },
  {
   "cell_type": "code",
   "execution_count": 12,
   "metadata": {},
   "outputs": [
    {
     "data": {
      "image/png": "[encoded data removed]",
      "text/plain": [
       "<matplotlib.figure.Figure at 0x10fbab198>"
      ]
     },
     "metadata": {},
     "output_type": "display_data"
    }
   ],
   "source": [
    "#Create the rankings 101 column\n",
    "flatframe['rankings101'] = flatframe['ranking'].map(lambda x: 101 -x)\n",
    "#Series of each band/singers ranking sum\n",
    "top20 = flatframe.groupby('band_singer').sum().sort_values('rankings101', ascending = False).rankings101[:20]\n",
    "\n",
    "#Reset defaults to be safe and plot the graph\n",
    "sns.reset_defaults()\n",
    "with sns.plotting_context(\"poster\"):\n",
    "    ax = plt.gca()\n",
    "    top20.plot(kind=\"barh\")\n",
    "    plt.grid(axis = 'x', color ='white', linestyle='-')\n",
    "    ax.tick_params(axis='both', which='both',length=0)\n",
    "    sns.despine(left=True, bottom=True)\n",
    "    plt.title(\"Top 20 Singers from 1992 to 2014\")\n",
    "    plt.ylabel(\"Artist\")\n",
    "    plt.xlabel(\"Ranking Score\")\n",
    "    plt.show()"
   ]
  },
  {
   "cell_type": "markdown",
   "metadata": {},
   "source": [
    "#### 1.7 Do you notice any major differences when you change the metric?\n",
    "\n",
    "How have the singers at the top shifted places? Why do you think this happens?"
   ]
  },
  {
   "cell_type": "markdown",
   "metadata": {},
   "source": [
    "Various artists have shifted ranking using the different methodologies. This happens because some artists produce a lot of good songs, but those songs are not necessirly the best songs for that year. Some artists like Rihanna who is at the top of both charts, produce many excellent songs that are at the top of the charts. On the other hand, R. Kelly and T.I produce a lot of songs on that make it on the top 100 list, but they are not all excellent songs at the top of the charts. Finally, artists like Bruno Mars have a few really excellent songs so they rank on the second methodology but they don't have many songs so they do not rank well on the first methodology. "
   ]
  },
  {
   "cell_type": "markdown",
   "metadata": {},
   "source": [
    "## Q2. Scraping and Constructing: Information about Artists, Bands and Genres from Wikipedia"
   ]
  },
  {
   "cell_type": "markdown",
   "metadata": {},
   "source": [
    "Our next job is to use those band/singer urls we collected under `flatframe.url` and get information about singers and/or bands."
   ]
  },
  {
   "cell_type": "markdown",
   "metadata": {},
   "source": [
    "### Scrape information about artists from wikipedia"
   ]
  },
  {
   "cell_type": "markdown",
   "metadata": {},
   "source": [
    "We wish to fetch information about the singers or groups for all the winning songs in a list of years.\n",
    "\n",
    "Here we show a function that fetches information about a singer or group from their url on wikipedia. We create a cache object `urlcache` that will avoid redundant HTTP requests (e.g. an artist might have multiple singles on a single year, or be on the list over a span of years). Once we have fetched information about an artist, we don't need to do it again. The caching also helps if the network goes down, or the target website is having some problems. You simply need to run the `get_page` function below again, and the `urlcache` dictionary will continue to be filled.\n",
    "\n",
    "If the request gets an HTTP return code different from 200, (such as a 404 not found or 500 Internal Server Error) the cells for that URL will have a value of 1; and if the request completely fails (e.g. no network connection) the cell will have a value of 2. This will allow you to analyse the failed requests.\n",
    "\n",
    "Notice that we have wrapped the call in whats called _an exception block_. We try to make the request. If it fails entirely, or returns a HTTP code thats not 200, we set the status to 2 and 1 respectively."
   ]
  },
  {
   "cell_type": "code",
   "execution_count": 9,
   "metadata": {
    "collapsed": true,
    "scrolled": true
   },
   "outputs": [],
   "source": [
    "urlcache={}\n"
   ]
  },
  {
   "cell_type": "code",
   "execution_count": 10,
   "metadata": {
    "collapsed": true,
    "scrolled": true
   },
   "outputs": [],
   "source": [
    "def get_page(url):\n",
    "    # Check if URL has already been visited.\n",
    "    if (url not in urlcache) or (urlcache[url]==1) or (urlcache[url]==2):\n",
    "        time.sleep(1)\n",
    "        # try/except blocks are used whenever the code could generate an exception (e.g. division by zero).\n",
    "        # In this case we don't know if the page really exists, or even if it does, if we'll be able to reach it.\n",
    "        try:\n",
    "            r = requests.get(\"http://en.wikipedia.org%s\" % url)\n",
    "\n",
    "            if r.status_code == 200:\n",
    "                urlcache[url] = r.text\n",
    "            else:\n",
    "                urlcache[url] = 1\n",
    "        except:\n",
    "            urlcache[url] = 2\n",
    "    return urlcache[url]\n"
   ]
  },
  {
   "cell_type": "markdown",
   "metadata": {},
   "source": [
    "We sort the `flatframe` by year, ascending, first. Think why."
   ]
  },
  {
   "cell_type": "code",
   "execution_count": 13,
   "metadata": {
    "scrolled": true
   },
   "outputs": [
    {
     "data": {
      "text/html": [
       "<div>\n",
       "<style>\n",
       "    .dataframe thead tr:only-child th {\n",
       "        text-align: right;\n",
       "    }\n",
       "\n",
       "    .dataframe thead th {\n",
       "        text-align: left;\n",
       "    }\n",
       "\n",
       "    .dataframe tbody tr th {\n",
       "        vertical-align: top;\n",
       "    }\n",
       "</style>\n",
       "<table border=\"1\" class=\"dataframe\">\n",
       "  <thead>\n",
       "    <tr style=\"text-align: right;\">\n",
       "      <th></th>\n",
       "      <th>year</th>\n",
       "      <th>band_singer</th>\n",
       "      <th>ranking</th>\n",
       "      <th>song</th>\n",
       "      <th>url</th>\n",
       "      <th>rankings101</th>\n",
       "    </tr>\n",
       "  </thead>\n",
       "  <tbody>\n",
       "    <tr>\n",
       "      <th>0</th>\n",
       "      <td>1992</td>\n",
       "      <td>Boyz II Men</td>\n",
       "      <td>1</td>\n",
       "      <td>End of the Road</td>\n",
       "      <td>/wiki/Boyz_II_Men</td>\n",
       "      <td>100</td>\n",
       "    </tr>\n",
       "    <tr>\n",
       "      <th>1879</th>\n",
       "      <td>1992</td>\n",
       "      <td>Karyn White</td>\n",
       "      <td>63</td>\n",
       "      <td>The Way I Feel About You</td>\n",
       "      <td>/wiki/Karyn_White</td>\n",
       "      <td>38</td>\n",
       "    </tr>\n",
       "    <tr>\n",
       "      <th>1849</th>\n",
       "      <td>1992</td>\n",
       "      <td>Genesis</td>\n",
       "      <td>62</td>\n",
       "      <td>Hold on My Heart</td>\n",
       "      <td>/wiki/Genesis_(band)</td>\n",
       "      <td>39</td>\n",
       "    </tr>\n",
       "    <tr>\n",
       "      <th>1824</th>\n",
       "      <td>1992</td>\n",
       "      <td>CeCe Peniston</td>\n",
       "      <td>61</td>\n",
       "      <td>Keep on Walkin'</td>\n",
       "      <td>/wiki/CeCe_Peniston</td>\n",
       "      <td>40</td>\n",
       "    </tr>\n",
       "    <tr>\n",
       "      <th>187</th>\n",
       "      <td>1992</td>\n",
       "      <td>En Vogue</td>\n",
       "      <td>7</td>\n",
       "      <td>My Lovin' (You're Never Gonna Get It)</td>\n",
       "      <td>/wiki/En_Vogue</td>\n",
       "      <td>94</td>\n",
       "    </tr>\n",
       "  </tbody>\n",
       "</table>\n",
       "</div>"
      ],
      "text/plain": [
       "      year    band_singer  ranking                                   song                   url  rankings101\n",
       "0     1992    Boyz II Men        1                        End of the Road     /wiki/Boyz_II_Men          100\n",
       "1879  1992    Karyn White       63               The Way I Feel About You     /wiki/Karyn_White           38\n",
       "1849  1992        Genesis       62                       Hold on My Heart  /wiki/Genesis_(band)           39\n",
       "1824  1992  CeCe Peniston       61                        Keep on Walkin'   /wiki/CeCe_Peniston           40\n",
       "187   1992       En Vogue        7  My Lovin' (You're Never Gonna Get It)        /wiki/En_Vogue           94"
      ]
     },
     "execution_count": 13,
     "metadata": {},
     "output_type": "execute_result"
    }
   ],
   "source": [
    "flatframe=flatframe.sort_values('year')\n",
    "flatframe.head()"
   ]
  },
  {
   "cell_type": "markdown",
   "metadata": {},
   "source": [
    "#### Pulling and saving the data"
   ]
  },
  {
   "cell_type": "code",
   "execution_count": null,
   "metadata": {
    "collapsed": true,
    "scrolled": true
   },
   "outputs": [],
   "source": [
    "# DO NOT RERUN THIS CELL WHEN SUBMITTING\n",
    "# Here we are populating the url cache\n",
    "# subsequent calls to this cell should be very fast, since Python won't\n",
    "# need to fetch the page from the web server.\n",
    "# NOTE this function will take quite some time to run (about 30 mins for me), since we sleep 1 second before\n",
    "# making a request. If you run it again it will be almost instantaneous, save requests that might have failed\n",
    "# (you will need to run it again if requests fail..see cell below for how to test this)\n",
    "# flatframe[\"url\"].apply(get_page)"
   ]
  },
  {
   "cell_type": "markdown",
   "metadata": {},
   "source": [
    "You may have to run this function again and again, in case there were network problems. Note that, because there is a \"global\" cache, it will take less time each time you run it. Also note that this function is designed to be run again and again: it attempts to make sure that there are no unresolved pages remaining. Let us make sure of this: *the sum below should be 0, and the boolean True.*"
   ]
  },
  {
   "cell_type": "code",
   "execution_count": null,
   "metadata": {
    "collapsed": true,
    "scrolled": true
   },
   "outputs": [],
   "source": [
    "# DO NOT RERUN THIS CELL WHEN SUBMITTING\n",
    "# print(\"Number of bad requests:\",np.sum([(urlcache[k]==1) or (urlcache[k]==2) for k in urlcache])) # no one or 0's)\n",
    "# print(\"Did we get all urls?\", len(flatframe.url.unique())==len(urlcache)) # we got all of the urls"
   ]
  },
  {
   "cell_type": "markdown",
   "metadata": {},
   "source": [
    "Let's save the `urlcache` to disk, just in case we need it again."
   ]
  },
  {
   "cell_type": "code",
   "execution_count": null,
   "metadata": {
    "collapsed": true
   },
   "outputs": [],
   "source": [
    "# DO NOT RERUN THIS CELL WHEN SUBMITTING\n",
    "# with open(\"data/artistinfo.json\",\"w\") as fd:\n",
    "#     json.dump(urlcache, fd)\n",
    "# del urlcache"
   ]
  },
  {
   "cell_type": "code",
   "execution_count": 14,
   "metadata": {
    "collapsed": true,
    "scrolled": false
   },
   "outputs": [],
   "source": [
    "# RERUN WHEN SUBMITTING\n",
    "with open(\"artistinfo.json\") as json_file:\n",
    "    urlcache = json.load(json_file)"
   ]
  },
  {
   "cell_type": "markdown",
   "metadata": {},
   "source": [
    "#### 2.1 Extract information about singers and bands"
   ]
  },
  {
   "cell_type": "markdown",
   "metadata": {},
   "source": [
    "From each page we collected about a singer or a band, extract the following information:\n",
    "\n",
    "1. If the page has the text \"Born\" in the sidebar on the right, extract the element with the class `.bday`. If the page doesn't contain \"Born\", store `False`.  Store either of these into the variable `born`. We want to analyze the artist's age.\n",
    "\n",
    "2. If the text \"Years active\" is found, but no \"born\", assume a band. Store into the variable `ya` the value of the next table cell corresponding to this, or `False` if the text is not found.\n",
    "\n",
    "Put this all into a function `singer_band_info` which takes the singer/band url as argument and returns a dictionary `dict(url=url, born=born, ya=ya)`.\n",
    "\n",
    "The information can be found on the sidebar on each such wikipedia page, as the example here shows:\n",
    "\n",
    "![sandg](https://raw.githubusercontent.com/cs109/a-2017/master/hwassets/images/sandg.png).\n",
    "\n"
   ]
  },
  {
   "cell_type": "markdown",
   "metadata": {},
   "source": [
    "Write the function `singer_band_info` according to the following specification:"
   ]
  },
  {
   "cell_type": "code",
   "execution_count": 15,
   "metadata": {
    "collapsed": true
   },
   "outputs": [],
   "source": [
    "\"\"\"\n",
    "Function\n",
    "--------\n",
    "singer_band_info\n",
    "\n",
    "Inputs\n",
    "------\n",
    "url: the url\n",
    "page_text: the text associated with the url\n",
    "   \n",
    "Returns\n",
    "-------\n",
    "A dictionary with the following data:\n",
    "    url: copy the input argument url into this value\n",
    "    born: the artist's birthday\n",
    "    ya: years active variable\n",
    "\n",
    "Notes\n",
    "-----\n",
    "See description above. Also note that some of the genres urls might require a \n",
    "bit of care and special handling.\n",
    "\"\"\"\n",
    "\n",
    "def singer_band_info (url, page_text):\n",
    "    if page_text == 2: \n",
    "        return \n",
    "    soup = BeautifulSoup(page_text, 'html.parser')\n",
    "    bday = soup.find_all(lambda tag: tag.name=='span' and tag.get('class') == ['bday'])\n",
    "    if bday:\n",
    "        born = bday[0].text\n",
    "        ya = False\n",
    "    else: \n",
    "        table = soup.find_all(lambda tag: tag.name=='table' and tag.get('class') == ['infobox', 'vcard', 'plainlist'])\n",
    "        if table: \n",
    "            yearsActive = [row.find('td').text for row in table[0].find_all(lambda tag: tag.name=='tr' and 'Years active' in tag.text)]\n",
    "            if yearsActive:\n",
    "                ya = yearsActive[0]\n",
    "            else:\n",
    "                ya = False\n",
    "            born = False\n",
    "        else: \n",
    "            return\n",
    "    return {'url':url, 'born':born,'ya': ya }\n"
   ]
  },
  {
   "cell_type": "markdown",
   "metadata": {},
   "source": [
    "#### 2.2  Merging this information in"
   ]
  },
  {
   "cell_type": "markdown",
   "metadata": {},
   "source": [
    "Iterate over the items in the singer-group dictionary cache `urlcache`, run the above function, and create a dataframe from there with columns `url`, `born`, and `ya`. Merge this dataframe on the `url` key with `flatframe`, creating a rather wide dataframe that we shall call `largedf`. It should look something like this:\n",
    "\n",
    "![](https://raw.githubusercontent.com/cs109/a-2017/master/hwassets/images/HW1SC3.png)\n",
    "\n",
    "Notice how the `born` and `ya` and `url` are repeated every time a different song from a given band is represented in a row."
   ]
  },
  {
   "cell_type": "code",
   "execution_count": 16,
   "metadata": {
    "collapsed": true
   },
   "outputs": [],
   "source": [
    "#Makes a dataFrame of the url, born, and ya to append to flatframe\n",
    "dicCreated = False\n",
    "for key in urlcache:\n",
    "    if not dicCreated:\n",
    "        df = pd.DataFrame([singer_band_info(key, urlcache[key])])\n",
    "        dicCreated = True\n",
    "    else:\n",
    "        df = df.append([singer_band_info(key, urlcache[key])])\n",
    "del df[0]\n",
    "df = df.dropna(axis=0)"
   ]
  },
  {
   "cell_type": "code",
   "execution_count": 17,
   "metadata": {},
   "outputs": [
    {
     "data": {
      "text/html": [
       "<div>\n",
       "<style>\n",
       "    .dataframe thead tr:only-child th {\n",
       "        text-align: right;\n",
       "    }\n",
       "\n",
       "    .dataframe thead th {\n",
       "        text-align: left;\n",
       "    }\n",
       "\n",
       "    .dataframe tbody tr th {\n",
       "        vertical-align: top;\n",
       "    }\n",
       "</style>\n",
       "<table border=\"1\" class=\"dataframe\">\n",
       "  <thead>\n",
       "    <tr style=\"text-align: right;\">\n",
       "      <th></th>\n",
       "      <th>year</th>\n",
       "      <th>band_singer</th>\n",
       "      <th>ranking</th>\n",
       "      <th>song</th>\n",
       "      <th>url</th>\n",
       "      <th>rankings101</th>\n",
       "      <th>born</th>\n",
       "      <th>ya</th>\n",
       "    </tr>\n",
       "  </thead>\n",
       "  <tbody>\n",
       "    <tr>\n",
       "      <th>0</th>\n",
       "      <td>1992</td>\n",
       "      <td>Boyz II Men</td>\n",
       "      <td>1</td>\n",
       "      <td>End of the Road</td>\n",
       "      <td>/wiki/Boyz_II_Men</td>\n",
       "      <td>100</td>\n",
       "      <td>False</td>\n",
       "      <td>1985–present</td>\n",
       "    </tr>\n",
       "    <tr>\n",
       "      <th>1879</th>\n",
       "      <td>1992</td>\n",
       "      <td>Karyn White</td>\n",
       "      <td>63</td>\n",
       "      <td>The Way I Feel About You</td>\n",
       "      <td>/wiki/Karyn_White</td>\n",
       "      <td>38</td>\n",
       "      <td>1965-10-14</td>\n",
       "      <td>False</td>\n",
       "    </tr>\n",
       "    <tr>\n",
       "      <th>1849</th>\n",
       "      <td>1992</td>\n",
       "      <td>Genesis</td>\n",
       "      <td>62</td>\n",
       "      <td>Hold on My Heart</td>\n",
       "      <td>/wiki/Genesis_(band)</td>\n",
       "      <td>39</td>\n",
       "      <td>False</td>\n",
       "      <td>\\n\\n\\n1967–1998[4][5]\\n2006–2007\\n\\n\\n</td>\n",
       "    </tr>\n",
       "    <tr>\n",
       "      <th>1824</th>\n",
       "      <td>1992</td>\n",
       "      <td>CeCe Peniston</td>\n",
       "      <td>61</td>\n",
       "      <td>Keep on Walkin'</td>\n",
       "      <td>/wiki/CeCe_Peniston</td>\n",
       "      <td>40</td>\n",
       "      <td>1969-09-06</td>\n",
       "      <td>False</td>\n",
       "    </tr>\n",
       "    <tr>\n",
       "      <th>187</th>\n",
       "      <td>1992</td>\n",
       "      <td>En Vogue</td>\n",
       "      <td>7</td>\n",
       "      <td>My Lovin' (You're Never Gonna Get It)</td>\n",
       "      <td>/wiki/En_Vogue</td>\n",
       "      <td>94</td>\n",
       "      <td>False</td>\n",
       "      <td>1989–present</td>\n",
       "    </tr>\n",
       "    <tr>\n",
       "      <th>1794</th>\n",
       "      <td>1992</td>\n",
       "      <td>U2</td>\n",
       "      <td>60</td>\n",
       "      <td>One</td>\n",
       "      <td>/wiki/U2</td>\n",
       "      <td>41</td>\n",
       "      <td>False</td>\n",
       "      <td>1976–present</td>\n",
       "    </tr>\n",
       "    <tr>\n",
       "      <th>1765</th>\n",
       "      <td>1992</td>\n",
       "      <td>The Heights</td>\n",
       "      <td>59</td>\n",
       "      <td>How Do You Talk to an Angel</td>\n",
       "      <td>/wiki/The_Heights_(TV_series)</td>\n",
       "      <td>42</td>\n",
       "      <td>NaN</td>\n",
       "      <td>NaN</td>\n",
       "    </tr>\n",
       "    <tr>\n",
       "      <th>1734</th>\n",
       "      <td>1992</td>\n",
       "      <td>George Michael</td>\n",
       "      <td>58</td>\n",
       "      <td>Too Funky</td>\n",
       "      <td>/wiki/George_Michael</td>\n",
       "      <td>43</td>\n",
       "      <td>1963-06-25</td>\n",
       "      <td>False</td>\n",
       "    </tr>\n",
       "    <tr>\n",
       "      <th>1678</th>\n",
       "      <td>1992</td>\n",
       "      <td>Richard Marx</td>\n",
       "      <td>56</td>\n",
       "      <td>Hazard</td>\n",
       "      <td>/wiki/Richard_Marx</td>\n",
       "      <td>45</td>\n",
       "      <td>1963-09-16</td>\n",
       "      <td>False</td>\n",
       "    </tr>\n",
       "    <tr>\n",
       "      <th>1644</th>\n",
       "      <td>1992</td>\n",
       "      <td>Genesis</td>\n",
       "      <td>55</td>\n",
       "      <td>I Can't Dance</td>\n",
       "      <td>/wiki/Genesis_(band)</td>\n",
       "      <td>46</td>\n",
       "      <td>False</td>\n",
       "      <td>\\n\\n\\n1967–1998[4][5]\\n2006–2007\\n\\n\\n</td>\n",
       "    </tr>\n",
       "    <tr>\n",
       "      <th>215</th>\n",
       "      <td>1992</td>\n",
       "      <td>Red Hot Chili Peppers</td>\n",
       "      <td>8</td>\n",
       "      <td>Under the Bridge</td>\n",
       "      <td>/wiki/Red_Hot_Chili_Peppers</td>\n",
       "      <td>93</td>\n",
       "      <td>False</td>\n",
       "      <td>1983 (1983)–present</td>\n",
       "    </tr>\n",
       "    <tr>\n",
       "      <th>1612</th>\n",
       "      <td>1992</td>\n",
       "      <td>Michael Bolton</td>\n",
       "      <td>54</td>\n",
       "      <td>When a Man Loves a Woman</td>\n",
       "      <td>/wiki/Michael_Bolton</td>\n",
       "      <td>47</td>\n",
       "      <td>1953-02-26</td>\n",
       "      <td>False</td>\n",
       "    </tr>\n",
       "    <tr>\n",
       "      <th>1579</th>\n",
       "      <td>1992</td>\n",
       "      <td>Toad the Wet Sprocket</td>\n",
       "      <td>53</td>\n",
       "      <td>All I Want</td>\n",
       "      <td>/wiki/Toad_the_Wet_Sprocket</td>\n",
       "      <td>48</td>\n",
       "      <td>False</td>\n",
       "      <td>1986–1998, 2002, 2006–present</td>\n",
       "    </tr>\n",
       "    <tr>\n",
       "      <th>1548</th>\n",
       "      <td>1992</td>\n",
       "      <td>Amy Grant</td>\n",
       "      <td>52</td>\n",
       "      <td>Good for Me</td>\n",
       "      <td>/wiki/Amy_Grant</td>\n",
       "      <td>49</td>\n",
       "      <td>1960-11-25</td>\n",
       "      <td>False</td>\n",
       "    </tr>\n",
       "    <tr>\n",
       "      <th>1518</th>\n",
       "      <td>1992</td>\n",
       "      <td>P.M. Dawn</td>\n",
       "      <td>51</td>\n",
       "      <td>I'd Die Without You</td>\n",
       "      <td>/wiki/P.M._Dawn</td>\n",
       "      <td>50</td>\n",
       "      <td>False</td>\n",
       "      <td>1988–June 2016</td>\n",
       "    </tr>\n",
       "    <tr>\n",
       "      <th>1490</th>\n",
       "      <td>1992</td>\n",
       "      <td>Hi-Five</td>\n",
       "      <td>50</td>\n",
       "      <td>She's Playing Hard to Get</td>\n",
       "      <td>/wiki/Hi-Five</td>\n",
       "      <td>51</td>\n",
       "      <td>False</td>\n",
       "      <td>1989–1994\\n2012–present</td>\n",
       "    </tr>\n",
       "    <tr>\n",
       "      <th>1460</th>\n",
       "      <td>1992</td>\n",
       "      <td>The Cover Girls</td>\n",
       "      <td>49</td>\n",
       "      <td>Wishing on a Star</td>\n",
       "      <td>/wiki/The_Cover_Girls</td>\n",
       "      <td>52</td>\n",
       "      <td>False</td>\n",
       "      <td>1986–1996, 2001–present</td>\n",
       "    </tr>\n",
       "    <tr>\n",
       "      <th>246</th>\n",
       "      <td>1992</td>\n",
       "      <td>Color Me Badd</td>\n",
       "      <td>9</td>\n",
       "      <td>All 4 Love</td>\n",
       "      <td>/wiki/Color_Me_Badd</td>\n",
       "      <td>92</td>\n",
       "      <td>False</td>\n",
       "      <td>1985 (1985)–1998\\n2010–present</td>\n",
       "    </tr>\n",
       "    <tr>\n",
       "      <th>1908</th>\n",
       "      <td>1992</td>\n",
       "      <td>Celine Dion</td>\n",
       "      <td>64</td>\n",
       "      <td>Beauty and the Beast</td>\n",
       "      <td>/wiki/Celine_Dion</td>\n",
       "      <td>37</td>\n",
       "      <td>1968-03-30</td>\n",
       "      <td>False</td>\n",
       "    </tr>\n",
       "    <tr>\n",
       "      <th>1432</th>\n",
       "      <td>1992</td>\n",
       "      <td>Mint Condition</td>\n",
       "      <td>48</td>\n",
       "      <td>Breakin' My Heart (Pretty Brown Eyes)</td>\n",
       "      <td>/wiki/Mint_Condition</td>\n",
       "      <td>53</td>\n",
       "      <td>False</td>\n",
       "      <td>1984–present</td>\n",
       "    </tr>\n",
       "    <tr>\n",
       "      <th>1909</th>\n",
       "      <td>1992</td>\n",
       "      <td>Peabo Bryson</td>\n",
       "      <td>64</td>\n",
       "      <td>Beauty and the Beast</td>\n",
       "      <td>/wiki/Peabo_Bryson</td>\n",
       "      <td>37</td>\n",
       "      <td>1951-04-13</td>\n",
       "      <td>False</td>\n",
       "    </tr>\n",
       "    <tr>\n",
       "      <th>1969</th>\n",
       "      <td>1992</td>\n",
       "      <td>Michael Jackson</td>\n",
       "      <td>66</td>\n",
       "      <td>In the Closet</td>\n",
       "      <td>/wiki/Michael_Jackson</td>\n",
       "      <td>35</td>\n",
       "      <td>1958-08-29</td>\n",
       "      <td>False</td>\n",
       "    </tr>\n",
       "    <tr>\n",
       "      <th>92</th>\n",
       "      <td>1992</td>\n",
       "      <td>Vanessa Williams</td>\n",
       "      <td>4</td>\n",
       "      <td>Save the Best for Last</td>\n",
       "      <td>/wiki/Vanessa_L._Williams</td>\n",
       "      <td>97</td>\n",
       "      <td>1963-03-18</td>\n",
       "      <td>False</td>\n",
       "    </tr>\n",
       "    <tr>\n",
       "      <th>2379</th>\n",
       "      <td>1992</td>\n",
       "      <td>Def Leppard</td>\n",
       "      <td>80</td>\n",
       "      <td>Have You Ever Needed Someone So Bad</td>\n",
       "      <td>/wiki/Def_Leppard</td>\n",
       "      <td>21</td>\n",
       "      <td>False</td>\n",
       "      <td>1977–present</td>\n",
       "    </tr>\n",
       "    <tr>\n",
       "      <th>2347</th>\n",
       "      <td>1992</td>\n",
       "      <td>Kathy Troccoli</td>\n",
       "      <td>79</td>\n",
       "      <td>Everything Changes</td>\n",
       "      <td>/wiki/Kathy_Troccoli</td>\n",
       "      <td>22</td>\n",
       "      <td>1958-06-24</td>\n",
       "      <td>False</td>\n",
       "    </tr>\n",
       "    <tr>\n",
       "      <th>2319</th>\n",
       "      <td>1992</td>\n",
       "      <td>N2Deep</td>\n",
       "      <td>78</td>\n",
       "      <td>Back to the Hotel</td>\n",
       "      <td>/wiki/N2Deep</td>\n",
       "      <td>23</td>\n",
       "      <td>False</td>\n",
       "      <td>1990–2001\\n2008–present</td>\n",
       "    </tr>\n",
       "    <tr>\n",
       "      <th>2288</th>\n",
       "      <td>1992</td>\n",
       "      <td>Michael Bolton</td>\n",
       "      <td>77</td>\n",
       "      <td>Missing You Now</td>\n",
       "      <td>/wiki/Michael_Bolton</td>\n",
       "      <td>24</td>\n",
       "      <td>1953-02-26</td>\n",
       "      <td>False</td>\n",
       "    </tr>\n",
       "    <tr>\n",
       "      <th>2260</th>\n",
       "      <td>1992</td>\n",
       "      <td>Hammer</td>\n",
       "      <td>76</td>\n",
       "      <td>Addams Groove</td>\n",
       "      <td>/wiki/MC_Hammer</td>\n",
       "      <td>25</td>\n",
       "      <td>1962-03-30</td>\n",
       "      <td>False</td>\n",
       "    </tr>\n",
       "    <tr>\n",
       "      <th>2231</th>\n",
       "      <td>1992</td>\n",
       "      <td>Snap!</td>\n",
       "      <td>75</td>\n",
       "      <td>Rhythm Is a Dancer</td>\n",
       "      <td>/wiki/Snap!</td>\n",
       "      <td>26</td>\n",
       "      <td>False</td>\n",
       "      <td>1989–1996; 2000–present</td>\n",
       "    </tr>\n",
       "    <tr>\n",
       "      <th>2206</th>\n",
       "      <td>1992</td>\n",
       "      <td>Bryan Adams</td>\n",
       "      <td>74</td>\n",
       "      <td>Thought I'd Died and Gone to Heaven</td>\n",
       "      <td>/wiki/Bryan_Adams</td>\n",
       "      <td>27</td>\n",
       "      <td>1959-11-05</td>\n",
       "      <td>False</td>\n",
       "    </tr>\n",
       "    <tr>\n",
       "      <th>...</th>\n",
       "      <td>...</td>\n",
       "      <td>...</td>\n",
       "      <td>...</td>\n",
       "      <td>...</td>\n",
       "      <td>...</td>\n",
       "      <td>...</td>\n",
       "      <td>...</td>\n",
       "      <td>...</td>\n",
       "    </tr>\n",
       "    <tr>\n",
       "      <th>2767</th>\n",
       "      <td>2014</td>\n",
       "      <td>ScHoolboy Q</td>\n",
       "      <td>92</td>\n",
       "      <td>White Walls</td>\n",
       "      <td>/wiki/ScHoolboy_Q</td>\n",
       "      <td>9</td>\n",
       "      <td>1986-10-26</td>\n",
       "      <td>False</td>\n",
       "    </tr>\n",
       "    <tr>\n",
       "      <th>2766</th>\n",
       "      <td>2014</td>\n",
       "      <td>Macklemore &amp; Ryan Lewis</td>\n",
       "      <td>92</td>\n",
       "      <td>White Walls</td>\n",
       "      <td>/wiki/Macklemore_%26_Ryan_Lewis</td>\n",
       "      <td>9</td>\n",
       "      <td>False</td>\n",
       "      <td>2008–2017 (on hiatus)[1]</td>\n",
       "    </tr>\n",
       "    <tr>\n",
       "      <th>2704</th>\n",
       "      <td>2014</td>\n",
       "      <td>Mike WiLL Made-It</td>\n",
       "      <td>90</td>\n",
       "      <td>23</td>\n",
       "      <td>/wiki/Mike_WiLL_Made-It</td>\n",
       "      <td>11</td>\n",
       "      <td>1989-03-23</td>\n",
       "      <td>False</td>\n",
       "    </tr>\n",
       "    <tr>\n",
       "      <th>2705</th>\n",
       "      <td>2014</td>\n",
       "      <td>Miley Cyrus</td>\n",
       "      <td>90</td>\n",
       "      <td>23</td>\n",
       "      <td>/wiki/Miley_Cyrus</td>\n",
       "      <td>11</td>\n",
       "      <td>1992-11-23</td>\n",
       "      <td>False</td>\n",
       "    </tr>\n",
       "    <tr>\n",
       "      <th>2706</th>\n",
       "      <td>2014</td>\n",
       "      <td>Wiz Khalifa</td>\n",
       "      <td>90</td>\n",
       "      <td>23</td>\n",
       "      <td>/wiki/Wiz_Khalifa</td>\n",
       "      <td>11</td>\n",
       "      <td>1987-09-08</td>\n",
       "      <td>False</td>\n",
       "    </tr>\n",
       "    <tr>\n",
       "      <th>2707</th>\n",
       "      <td>2014</td>\n",
       "      <td>Juicy J</td>\n",
       "      <td>90</td>\n",
       "      <td>23</td>\n",
       "      <td>/wiki/Juicy_J</td>\n",
       "      <td>11</td>\n",
       "      <td>1975-04-05</td>\n",
       "      <td>False</td>\n",
       "    </tr>\n",
       "    <tr>\n",
       "      <th>1578</th>\n",
       "      <td>2014</td>\n",
       "      <td>Ed Sheeran</td>\n",
       "      <td>52</td>\n",
       "      <td>Don't</td>\n",
       "      <td>/wiki/Ed_Sheeran</td>\n",
       "      <td>49</td>\n",
       "      <td>1991-02-17</td>\n",
       "      <td>False</td>\n",
       "    </tr>\n",
       "    <tr>\n",
       "      <th>906</th>\n",
       "      <td>2014</td>\n",
       "      <td>Tyga</td>\n",
       "      <td>30</td>\n",
       "      <td>Loyal</td>\n",
       "      <td>/wiki/Tyga</td>\n",
       "      <td>71</td>\n",
       "      <td>1989-11-19</td>\n",
       "      <td>False</td>\n",
       "    </tr>\n",
       "    <tr>\n",
       "      <th>905</th>\n",
       "      <td>2014</td>\n",
       "      <td>Too Short</td>\n",
       "      <td>30</td>\n",
       "      <td>Loyal</td>\n",
       "      <td>/wiki/Too_Short</td>\n",
       "      <td>71</td>\n",
       "      <td>1966-04-28</td>\n",
       "      <td>False</td>\n",
       "    </tr>\n",
       "    <tr>\n",
       "      <th>904</th>\n",
       "      <td>2014</td>\n",
       "      <td>French Montana</td>\n",
       "      <td>30</td>\n",
       "      <td>Loyal</td>\n",
       "      <td>/wiki/French_Montana</td>\n",
       "      <td>71</td>\n",
       "      <td>1984-11-09</td>\n",
       "      <td>False</td>\n",
       "    </tr>\n",
       "    <tr>\n",
       "      <th>903</th>\n",
       "      <td>2014</td>\n",
       "      <td>Lil Wayne</td>\n",
       "      <td>30</td>\n",
       "      <td>Loyal</td>\n",
       "      <td>/wiki/Lil_Wayne</td>\n",
       "      <td>71</td>\n",
       "      <td>1982-09-27</td>\n",
       "      <td>False</td>\n",
       "    </tr>\n",
       "    <tr>\n",
       "      <th>902</th>\n",
       "      <td>2014</td>\n",
       "      <td>Chris Brown</td>\n",
       "      <td>30</td>\n",
       "      <td>Loyal</td>\n",
       "      <td>/wiki/Chris_Brown</td>\n",
       "      <td>71</td>\n",
       "      <td>1989-05-05</td>\n",
       "      <td>False</td>\n",
       "    </tr>\n",
       "    <tr>\n",
       "      <th>1611</th>\n",
       "      <td>2014</td>\n",
       "      <td>Trey Songz</td>\n",
       "      <td>53</td>\n",
       "      <td>Na Na</td>\n",
       "      <td>/wiki/Trey_Songz</td>\n",
       "      <td>48</td>\n",
       "      <td>1984-11-28</td>\n",
       "      <td>False</td>\n",
       "    </tr>\n",
       "    <tr>\n",
       "      <th>2287</th>\n",
       "      <td>2014</td>\n",
       "      <td>Sam Hunt</td>\n",
       "      <td>76</td>\n",
       "      <td>Leave the Night On</td>\n",
       "      <td>/wiki/Sam_Hunt_(musician)</td>\n",
       "      <td>25</td>\n",
       "      <td>1984-12-08</td>\n",
       "      <td>False</td>\n",
       "    </tr>\n",
       "    <tr>\n",
       "      <th>2177</th>\n",
       "      <td>2014</td>\n",
       "      <td>Rich Homie Quan</td>\n",
       "      <td>72</td>\n",
       "      <td>Lifestyle</td>\n",
       "      <td>/wiki/Rich_Homie_Quan</td>\n",
       "      <td>29</td>\n",
       "      <td>1989-10-04</td>\n",
       "      <td>False</td>\n",
       "    </tr>\n",
       "    <tr>\n",
       "      <th>330</th>\n",
       "      <td>2014</td>\n",
       "      <td>Pitbull</td>\n",
       "      <td>11</td>\n",
       "      <td>Timber</td>\n",
       "      <td>/wiki/Pitbull_(rapper)</td>\n",
       "      <td>90</td>\n",
       "      <td>1981-01-15</td>\n",
       "      <td>False</td>\n",
       "    </tr>\n",
       "    <tr>\n",
       "      <th>875</th>\n",
       "      <td>2014</td>\n",
       "      <td>Maroon 5</td>\n",
       "      <td>29</td>\n",
       "      <td>Maps</td>\n",
       "      <td>/wiki/Maroon_5</td>\n",
       "      <td>72</td>\n",
       "      <td>False</td>\n",
       "      <td>1994–present</td>\n",
       "    </tr>\n",
       "    <tr>\n",
       "      <th>2737</th>\n",
       "      <td>2014</td>\n",
       "      <td>Jake Owen</td>\n",
       "      <td>91</td>\n",
       "      <td>Beachin'</td>\n",
       "      <td>/wiki/Jake_Owen</td>\n",
       "      <td>10</td>\n",
       "      <td>1981-08-28</td>\n",
       "      <td>False</td>\n",
       "    </tr>\n",
       "    <tr>\n",
       "      <th>2489</th>\n",
       "      <td>2014</td>\n",
       "      <td>Robin Thicke</td>\n",
       "      <td>83</td>\n",
       "      <td>Blurred Lines</td>\n",
       "      <td>/wiki/Robin_Thicke</td>\n",
       "      <td>18</td>\n",
       "      <td>1977-03-10</td>\n",
       "      <td>False</td>\n",
       "    </tr>\n",
       "    <tr>\n",
       "      <th>1643</th>\n",
       "      <td>2014</td>\n",
       "      <td>Bobby Shmurda</td>\n",
       "      <td>54</td>\n",
       "      <td>Hot Boy</td>\n",
       "      <td>/wiki/Bobby_Shmurda</td>\n",
       "      <td>47</td>\n",
       "      <td>1994-08-04</td>\n",
       "      <td>False</td>\n",
       "    </tr>\n",
       "    <tr>\n",
       "      <th>214</th>\n",
       "      <td>2014</td>\n",
       "      <td>Magic!</td>\n",
       "      <td>7</td>\n",
       "      <td>Rude</td>\n",
       "      <td>/wiki/Magic!</td>\n",
       "      <td>94</td>\n",
       "      <td>False</td>\n",
       "      <td>2012 (2012)–present</td>\n",
       "    </tr>\n",
       "    <tr>\n",
       "      <th>847</th>\n",
       "      <td>2014</td>\n",
       "      <td>Sam Smith</td>\n",
       "      <td>28</td>\n",
       "      <td>Latch</td>\n",
       "      <td>/wiki/Sam_Smith_(singer)</td>\n",
       "      <td>73</td>\n",
       "      <td>1992-05-19</td>\n",
       "      <td>False</td>\n",
       "    </tr>\n",
       "    <tr>\n",
       "      <th>846</th>\n",
       "      <td>2014</td>\n",
       "      <td>Disclosure</td>\n",
       "      <td>28</td>\n",
       "      <td>Latch</td>\n",
       "      <td>/wiki/Disclosure_(band)</td>\n",
       "      <td>73</td>\n",
       "      <td>False</td>\n",
       "      <td>2010–present (hiatus)[1]</td>\n",
       "    </tr>\n",
       "    <tr>\n",
       "      <th>822</th>\n",
       "      <td>2014</td>\n",
       "      <td>Nicki Minaj</td>\n",
       "      <td>27</td>\n",
       "      <td>Bang Bang</td>\n",
       "      <td>/wiki/Nicki_Minaj</td>\n",
       "      <td>74</td>\n",
       "      <td>1982-12-08</td>\n",
       "      <td>False</td>\n",
       "    </tr>\n",
       "    <tr>\n",
       "      <th>821</th>\n",
       "      <td>2014</td>\n",
       "      <td>Ariana Grande</td>\n",
       "      <td>27</td>\n",
       "      <td>Bang Bang</td>\n",
       "      <td>/wiki/Ariana_Grande</td>\n",
       "      <td>74</td>\n",
       "      <td>1993-06-26</td>\n",
       "      <td>False</td>\n",
       "    </tr>\n",
       "    <tr>\n",
       "      <th>820</th>\n",
       "      <td>2014</td>\n",
       "      <td>Jessie J</td>\n",
       "      <td>27</td>\n",
       "      <td>Bang Bang</td>\n",
       "      <td>/wiki/Jessie_J</td>\n",
       "      <td>74</td>\n",
       "      <td>1988-03-27</td>\n",
       "      <td>False</td>\n",
       "    </tr>\n",
       "    <tr>\n",
       "      <th>1676</th>\n",
       "      <td>2014</td>\n",
       "      <td>Drake</td>\n",
       "      <td>55</td>\n",
       "      <td>Hold On, We're Going Home</td>\n",
       "      <td>/wiki/Drake_(rapper)</td>\n",
       "      <td>46</td>\n",
       "      <td>1986-10-24</td>\n",
       "      <td>False</td>\n",
       "    </tr>\n",
       "    <tr>\n",
       "      <th>1677</th>\n",
       "      <td>2014</td>\n",
       "      <td>Majid Jordan</td>\n",
       "      <td>55</td>\n",
       "      <td>Hold On, We're Going Home</td>\n",
       "      <td>/wiki/Majid_Jordan</td>\n",
       "      <td>46</td>\n",
       "      <td>False</td>\n",
       "      <td>2011–present</td>\n",
       "    </tr>\n",
       "    <tr>\n",
       "      <th>331</th>\n",
       "      <td>2014</td>\n",
       "      <td>Kesha</td>\n",
       "      <td>11</td>\n",
       "      <td>Timber</td>\n",
       "      <td>/wiki/Kesha</td>\n",
       "      <td>90</td>\n",
       "      <td>1987-03-01</td>\n",
       "      <td>False</td>\n",
       "    </tr>\n",
       "    <tr>\n",
       "      <th>2986</th>\n",
       "      <td>2014</td>\n",
       "      <td>Miley Cyrus</td>\n",
       "      <td>100</td>\n",
       "      <td>Adore You</td>\n",
       "      <td>/wiki/Miley_Cyrus</td>\n",
       "      <td>1</td>\n",
       "      <td>1992-11-23</td>\n",
       "      <td>False</td>\n",
       "    </tr>\n",
       "  </tbody>\n",
       "</table>\n",
       "<p>2987 rows × 8 columns</p>\n",
       "</div>"
      ],
      "text/plain": [
       "      year              band_singer  ranking                                   song                              url  rankings101        born                                      ya\n",
       "0     1992              Boyz II Men        1                        End of the Road                /wiki/Boyz_II_Men          100       False                            1985–present\n",
       "1879  1992              Karyn White       63               The Way I Feel About You                /wiki/Karyn_White           38  1965-10-14                                   False\n",
       "1849  1992                  Genesis       62                       Hold on My Heart             /wiki/Genesis_(band)           39       False  \\n\\n\\n1967–1998[4][5]\\n2006–2007\\n\\n\\n\n",
       "1824  1992            CeCe Peniston       61                        Keep on Walkin'              /wiki/CeCe_Peniston           40  1969-09-06                                   False\n",
       "187   1992                 En Vogue        7  My Lovin' (You're Never Gonna Get It)                   /wiki/En_Vogue           94       False                            1989–present\n",
       "1794  1992                       U2       60                                    One                         /wiki/U2           41       False                            1976–present\n",
       "1765  1992              The Heights       59            How Do You Talk to an Angel    /wiki/The_Heights_(TV_series)           42         NaN                                     NaN\n",
       "1734  1992           George Michael       58                              Too Funky             /wiki/George_Michael           43  1963-06-25                                   False\n",
       "1678  1992             Richard Marx       56                                 Hazard               /wiki/Richard_Marx           45  1963-09-16                                   False\n",
       "1644  1992                  Genesis       55                          I Can't Dance             /wiki/Genesis_(band)           46       False  \\n\\n\\n1967–1998[4][5]\\n2006–2007\\n\\n\\n\n",
       "215   1992    Red Hot Chili Peppers        8                       Under the Bridge      /wiki/Red_Hot_Chili_Peppers           93       False                     1983 (1983)–present\n",
       "1612  1992           Michael Bolton       54               When a Man Loves a Woman             /wiki/Michael_Bolton           47  1953-02-26                                   False\n",
       "1579  1992    Toad the Wet Sprocket       53                             All I Want      /wiki/Toad_the_Wet_Sprocket           48       False           1986–1998, 2002, 2006–present\n",
       "1548  1992                Amy Grant       52                            Good for Me                  /wiki/Amy_Grant           49  1960-11-25                                   False\n",
       "1518  1992                P.M. Dawn       51                    I'd Die Without You                  /wiki/P.M._Dawn           50       False                          1988–June 2016\n",
       "1490  1992                  Hi-Five       50              She's Playing Hard to Get                    /wiki/Hi-Five           51       False                 1989–1994\\n2012–present\n",
       "1460  1992          The Cover Girls       49                      Wishing on a Star            /wiki/The_Cover_Girls           52       False                 1986–1996, 2001–present\n",
       "246   1992            Color Me Badd        9                             All 4 Love              /wiki/Color_Me_Badd           92       False          1985 (1985)–1998\\n2010–present\n",
       "1908  1992              Celine Dion       64                   Beauty and the Beast                /wiki/Celine_Dion           37  1968-03-30                                   False\n",
       "1432  1992           Mint Condition       48  Breakin' My Heart (Pretty Brown Eyes)             /wiki/Mint_Condition           53       False                            1984–present\n",
       "1909  1992             Peabo Bryson       64                   Beauty and the Beast               /wiki/Peabo_Bryson           37  1951-04-13                                   False\n",
       "1969  1992          Michael Jackson       66                          In the Closet            /wiki/Michael_Jackson           35  1958-08-29                                   False\n",
       "92    1992         Vanessa Williams        4                 Save the Best for Last        /wiki/Vanessa_L._Williams           97  1963-03-18                                   False\n",
       "2379  1992              Def Leppard       80    Have You Ever Needed Someone So Bad                /wiki/Def_Leppard           21       False                            1977–present\n",
       "2347  1992           Kathy Troccoli       79                     Everything Changes             /wiki/Kathy_Troccoli           22  1958-06-24                                   False\n",
       "2319  1992                   N2Deep       78                      Back to the Hotel                     /wiki/N2Deep           23       False                 1990–2001\\n2008–present\n",
       "2288  1992           Michael Bolton       77                        Missing You Now             /wiki/Michael_Bolton           24  1953-02-26                                   False\n",
       "2260  1992                   Hammer       76                          Addams Groove                  /wiki/MC_Hammer           25  1962-03-30                                   False\n",
       "2231  1992                    Snap!       75                     Rhythm Is a Dancer                      /wiki/Snap!           26       False                 1989–1996; 2000–present\n",
       "2206  1992              Bryan Adams       74    Thought I'd Died and Gone to Heaven                /wiki/Bryan_Adams           27  1959-11-05                                   False\n",
       "...    ...                      ...      ...                                    ...                              ...          ...         ...                                     ...\n",
       "2767  2014              ScHoolboy Q       92                            White Walls                /wiki/ScHoolboy_Q            9  1986-10-26                                   False\n",
       "2766  2014  Macklemore & Ryan Lewis       92                            White Walls  /wiki/Macklemore_%26_Ryan_Lewis            9       False                2008–2017 (on hiatus)[1]\n",
       "2704  2014        Mike WiLL Made-It       90                                     23          /wiki/Mike_WiLL_Made-It           11  1989-03-23                                   False\n",
       "2705  2014              Miley Cyrus       90                                     23                /wiki/Miley_Cyrus           11  1992-11-23                                   False\n",
       "2706  2014              Wiz Khalifa       90                                     23                /wiki/Wiz_Khalifa           11  1987-09-08                                   False\n",
       "2707  2014                  Juicy J       90                                     23                    /wiki/Juicy_J           11  1975-04-05                                   False\n",
       "1578  2014               Ed Sheeran       52                                  Don't                 /wiki/Ed_Sheeran           49  1991-02-17                                   False\n",
       "906   2014                     Tyga       30                                  Loyal                       /wiki/Tyga           71  1989-11-19                                   False\n",
       "905   2014                Too Short       30                                  Loyal                  /wiki/Too_Short           71  1966-04-28                                   False\n",
       "904   2014           French Montana       30                                  Loyal             /wiki/French_Montana           71  1984-11-09                                   False\n",
       "903   2014                Lil Wayne       30                                  Loyal                  /wiki/Lil_Wayne           71  1982-09-27                                   False\n",
       "902   2014              Chris Brown       30                                  Loyal                /wiki/Chris_Brown           71  1989-05-05                                   False\n",
       "1611  2014               Trey Songz       53                                  Na Na                 /wiki/Trey_Songz           48  1984-11-28                                   False\n",
       "2287  2014                 Sam Hunt       76                     Leave the Night On        /wiki/Sam_Hunt_(musician)           25  1984-12-08                                   False\n",
       "2177  2014          Rich Homie Quan       72                              Lifestyle            /wiki/Rich_Homie_Quan           29  1989-10-04                                   False\n",
       "330   2014                  Pitbull       11                                 Timber           /wiki/Pitbull_(rapper)           90  1981-01-15                                   False\n",
       "875   2014                 Maroon 5       29                                   Maps                   /wiki/Maroon_5           72       False                            1994–present\n",
       "2737  2014                Jake Owen       91                               Beachin'                  /wiki/Jake_Owen           10  1981-08-28                                   False\n",
       "2489  2014             Robin Thicke       83                          Blurred Lines               /wiki/Robin_Thicke           18  1977-03-10                                   False\n",
       "1643  2014            Bobby Shmurda       54                                Hot Boy              /wiki/Bobby_Shmurda           47  1994-08-04                                   False\n",
       "214   2014                   Magic!        7                                   Rude                     /wiki/Magic!           94       False                     2012 (2012)–present\n",
       "847   2014                Sam Smith       28                                  Latch         /wiki/Sam_Smith_(singer)           73  1992-05-19                                   False\n",
       "846   2014               Disclosure       28                                  Latch          /wiki/Disclosure_(band)           73       False                2010–present (hiatus)[1]\n",
       "822   2014              Nicki Minaj       27                              Bang Bang                /wiki/Nicki_Minaj           74  1982-12-08                                   False\n",
       "821   2014            Ariana Grande       27                              Bang Bang              /wiki/Ariana_Grande           74  1993-06-26                                   False\n",
       "820   2014                 Jessie J       27                              Bang Bang                   /wiki/Jessie_J           74  1988-03-27                                   False\n",
       "1676  2014                    Drake       55              Hold On, We're Going Home             /wiki/Drake_(rapper)           46  1986-10-24                                   False\n",
       "1677  2014             Majid Jordan       55              Hold On, We're Going Home               /wiki/Majid_Jordan           46       False                            2011–present\n",
       "331   2014                    Kesha       11                                 Timber                      /wiki/Kesha           90  1987-03-01                                   False\n",
       "2986  2014              Miley Cyrus      100                              Adore You                /wiki/Miley_Cyrus            1  1992-11-23                                   False\n",
       "\n",
       "[2987 rows x 8 columns]"
      ]
     },
     "execution_count": 17,
     "metadata": {},
     "output_type": "execute_result"
    }
   ],
   "source": [
    "#Join flatframe and df to create largedf\n",
    "largedf = flatframe.join(df.set_index('url'), on='url')\n",
    "largedf"
   ]
  },
  {
   "cell_type": "markdown",
   "metadata": {},
   "source": [
    "#### 2.3 What is the age at which singers achieve their top ranking?"
   ]
  },
  {
   "cell_type": "markdown",
   "metadata": {},
   "source": [
    "Plot a histogram of the age at which singers achieve their top ranking. What conclusions can you draw from this distribution of ages?\n",
    "\n",
    "*HINT: You will need to do some manipulation of the `born` column, and find the song for which a band or an artist achieves their top ranking. You will then need to put these rows together into another dataframe or array to make the plot.*"
   ]
  },
  {
   "cell_type": "code",
   "execution_count": 19,
   "metadata": {
    "collapsed": true
   },
   "outputs": [],
   "source": [
    "#Get earch artists top hit in a list topHits\n",
    "singerGroups = largedf.groupby('band_singer')\n",
    "topHitsFrame = False\n",
    "for group, data in singerGroups:\n",
    "    if not topHitsFrame:\n",
    "        topHits = data.sort_values('ranking').head(1)\n",
    "        topHitsFrame = True\n",
    "    else:\n",
    "        topHits = topHits.append(data.sort_values('ranking').head(1))"
   ]
  },
  {
   "cell_type": "code",
   "execution_count": 52,
   "metadata": {},
   "outputs": [
    {
     "data": {
      "image/png": "[encoded data removed]",
      "text/plain": [
       "<matplotlib.figure.Figure at 0x10fd3fb70>"
      ]
     },
     "metadata": {},
     "output_type": "display_data"
    }
   ],
   "source": [
    "#clear NaN's and calculate age of artist at top hit\n",
    "artistAge = topHits[['year','born']]\n",
    "artistAge = artistAge[artistAge['born'] != False].dropna(axis=0)\n",
    "artistAge['born'] = artistAge['born'].map(lambda x: int(x[:4]))\n",
    "artistAge['age'] = artistAge['year'].astype(int) - artistAge['born']\n",
    "\n",
    "\n",
    "#Plot graph\n",
    "with sns.axes_style(\"whitegrid\"):\n",
    "    plt.hist(artistAge['age'], bins=20)\n",
    "    plt.xlim(0, 75)\n",
    "    plt.axvline(artistAge['age'].mean(), 0, 0.75, color='r', label='Mean')\n",
    "    plt.xlabel(\"Artist Age at Top Hit\")\n",
    "    plt.ylabel(\"Counts\")\n",
    "    plt.title(\"Artist Age Until Popular Histogram\")\n",
    "    plt.legend()\n",
    "    plt.show()\n",
    "    \n"
   ]
  },
  {
   "cell_type": "markdown",
   "metadata": {},
   "source": [
    "From the distribution, it is quite apparent that artists tend to have their first hit at 30 years old, on average. It also shows the the majority of popular artists are fairly young (in their late teens to 30's), and as an artist gets older, thy are much less statistically likely to have a popular song."
   ]
  },
  {
   "cell_type": "markdown",
   "metadata": {},
   "source": [
    "#### 2.4 At what year since inception do bands reach their top rankings?"
   ]
  },
  {
   "cell_type": "markdown",
   "metadata": {},
   "source": [
    "Make a similar calculation to plot a histogram of the years since inception at which bands reach their top ranking. What conclusions can you draw?"
   ]
  },
  {
   "cell_type": "code",
   "execution_count": 51,
   "metadata": {},
   "outputs": [
    {
     "data": {
      "image/png": "[encoded data removed]",
      "text/plain": [
       "<matplotlib.figure.Figure at 0x10fd3f1d0>"
      ]
     },
     "metadata": {},
     "output_type": "display_data"
    }
   ],
   "source": [
    "# function to parse starting year of bands\n",
    "def yearFinder(string):\n",
    "    index = string.find('19')\n",
    "    # if pre 2000s\n",
    "    if index != -1:\n",
    "        return int(string[index:(index+4)])\n",
    "    else: \n",
    "        index = string.find('20')\n",
    "        return int(string[index:(index+4)])\n",
    "    \n",
    "#clear NaN's and calculate age of artist at top hit\n",
    "bandAge = topHits[['year','ya']]\n",
    "bandAge = bandAge[bandAge['ya'] != False].dropna(axis=0)\n",
    "bandAge['ya'] = bandAge['ya'].map(yearFinder)\n",
    "bandAge['age'] = bandAge['year'].astype(int) - bandAge['ya']\n",
    "\n",
    "#Plot graph\n",
    "with sns.axes_style(\"whitegrid\"):\n",
    "    plt.hist(bandAge['age'], bins=20)\n",
    "    plt.xlim(0, 50)\n",
    "    plt.axvline(bandAge['age'].mean(), 0, .75, color='r', label='Mean')\n",
    "    plt.xlabel(\"Band Age at Top Hit\")\n",
    "    plt.ylabel(\"Counts\")\n",
    "    plt.title(\"Band Age Until Popular Histogram\")\n",
    "    plt.legend()\n",
    "    plt.show()"
   ]
  },
  {
   "cell_type": "markdown",
   "metadata": {},
   "source": [
    "Contrary to what we found with the artists, bands tend to become popular (or at least have a popular song) at a much younger age. In fact, on average, bands become popular in about 7 years and are much less likely to become popular as they get older. So, in conclusion, bands become popular very quickly after creation."
   ]
  }
 ],
 "metadata": {
  "kernelspec": {
   "display_name": "Python 3",
   "language": "python",
   "name": "python3"
  },
  "language_info": {
   "codemirror_mode": {
    "name": "ipython",
    "version": 3
   },
   "file_extension": ".py",
   "mimetype": "text/x-python",
   "name": "python",
   "nbconvert_exporter": "python",
   "pygments_lexer": "ipython3",
   "version": "3.6.1"
  }
 },
 "nbformat": 4,
 "nbformat_minor": 1
}
