{
 "cells": [
  {
   "cell_type": "code",
   "execution_count": null,
   "metadata": {
    "collapsed": true
   },
   "outputs": [],
   "source": [
    "def singer_band_info (url, page_text):\n",
    "    soup = BeautifulSoup(page_text, 'html.parser')\n",
    "    # Find the table with class-types 'sortable' and 'wikitable'\n",
    "    dfinder = lambda tag: tag.name=='table' and tag.get('class') == ['wikitable', 'sortable']\n",
    "    table_songs = soup.find_all(dfinder)\n",
    "    # Extract rows from table_demographics\n",
    "    rows = [row for row in table_songs[0].find_all(\"tr\")]"
   ]
  },
  {
   "cell_type": "code",
   "execution_count": null,
   "metadata": {
    "collapsed": true
   },
   "outputs": [],
   "source": [
    "page_text = urlcache['/wiki/Celine_Dion']\n",
    "soup = BeautifulSoup(page_text, 'html.parser')\n",
    "# Find the table with class-types 'sortable' and 'wikitable'\n",
    "dfinder = lambda tag: tag.name=='span' and tag.get('class') == ['bday']\n",
    "table_songs = soup.find_all(dfinder)\n",
    "# Extract rows from table_demographics\n",
    "#rows = [ table_songs[0].find_all(lambda tag: tag.name=='span' and tag.get('class') == ['bday'])]\n",
    "#rows.find(lambda tag: tag.name=='span' and tag.get('class') == ['bday'])\n",
    "table_songs"
   ]
  },
  {
   "cell_type": "code",
   "execution_count": null,
   "metadata": {
    "collapsed": true
   },
   "outputs": [],
   "source": [
    "page_text = urlcache['/wiki/Journey_(band)']\n",
    "soup = BeautifulSoup(page_text, 'html.parser')\n",
    "dfinder = lambda tag: tag.name=='table' and tag.get('class') == ['infobox', 'vcard', 'plainlist']\n",
    "table_songs = soup.find_all(dfinder)\n",
    "rows = [row.find('td').text for row in table_songs[0].find_all(lambda tag: tag.name=='tr' and 'Years active' in tag.text)][0]\n",
    "rows"
   ]
  }
 ],
 "metadata": {
  "kernelspec": {
   "display_name": "Python 3",
   "language": "python",
   "name": "python3"
  },
  "language_info": {
   "codemirror_mode": {
    "name": "ipython",
    "version": 3
   },
   "file_extension": ".py",
   "mimetype": "text/x-python",
   "name": "python",
   "nbconvert_exporter": "python",
   "pygments_lexer": "ipython3",
   "version": "3.6.1"
  }
 },
 "nbformat": 4,
 "nbformat_minor": 2
}
