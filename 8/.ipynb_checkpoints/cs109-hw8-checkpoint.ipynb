{
 "cells": [
  {
   "cell_type": "markdown",
   "metadata": {},
   "source": [
    "# CS 109A/STAT 121A/AC 209A/CSCI E-109A: Homework 8\n",
    "# Ensemble methods\n",
    "\n",
    "**Harvard University**<br/>\n",
    "**Fall 2017**<br/>\n",
    "**Instructors**: Pavlos Protopapas, Kevin Rader, Rahul Dave\n"
   ]
  },
  {
   "cell_type": "markdown",
   "metadata": {},
   "source": [
    "Import libraries:"
   ]
  },
  {
   "cell_type": "code",
   "execution_count": 306,
   "metadata": {},
   "outputs": [],
   "source": [
    "import numpy as np\n",
    "import pandas as pd\n",
    "import matplotlib\n",
    "import matplotlib.pyplot as plt\n",
    "import sklearn.metrics as metrics\n",
    "from sklearn.model_selection import cross_val_score\n",
    "from sklearn import tree\n",
    "from sklearn.tree import DecisionTreeClassifier\n",
    "from sklearn.ensemble import RandomForestClassifier\n",
    "from sklearn.ensemble import AdaBoostClassifier\n",
    "from sklearn.linear_model import LogisticRegressionCV\n",
    "from sklearn.model_selection import GridSearchCV\n",
    "from sklearn.ensemble import VotingClassifier\n",
    "from sklearn.metrics import accuracy_score\n",
    "from sklearn.model_selection import ParameterGrid\n",
    "from sklearn.model_selection import KFold\n",
    "from sklearn.model_selection import cross_val_score\n",
    "%matplotlib inline"
   ]
  },
  {
   "cell_type": "markdown",
   "metadata": {},
   "source": [
    "# Higgs Boson Discovery\n",
    "\n",
    "The discovery of the Higgs boson in July 2012 marked a fundamental breakthrough in particle physics. The Higgs boson particle was discovered through experiments at the Large Hadron Collider at CERN, by colliding beams of protons at high energy. A key challenge in analyzing the results of these experiments is to differentiate between a collision that produces Higgs bosons and collisions thats produce only background noise. We shall explore the use of ensemble methods for this classification task.\n",
    "\n",
    "You are provided with data from Monte-Carlo simulations of collisions of particles in a particle collider experiment. The training set is available in `Higgs_train.csv` and the test set is in `Higgs_test.csv`. Each row in these files corresponds to a particle colision described by 28 features (columns 1-28), of which the first 21 features are kinematic properties measured by the particle detectors in the accelerator, and the remaining features are derived by physicists from the the first 21 features. The class label is provided in the last column, with a label of 1 indicating that the collision produces Higgs bosons (signal), and a label of 0 indicating that the collision produces other particles (background). \n",
    "\n",
    "The data set provided to you is a small subset of the HIGGS data set in the UCI machine learning repository. The following paper contains further details about the data set and the predictors used: <a href = \"https://www.nature.com/articles/ncomms5308\">Baldi et al., Nature Communications 5, 2014</a>.\n"
   ]
  },
  {
   "cell_type": "markdown",
   "metadata": {},
   "source": [
    "## Question 1 (2pt): Single Decision Tree\n",
    "We start by building a basic model which we will use as our base model for comparison. \n",
    "\n",
    "1. Fit a decision tree model to the training set and report the classification accuracy of the model on the test set. Use 5-fold cross-validation to choose the (maximum) depth for the tree. You will use the max_depth you find here throughout the homework. \n"
   ]
  },
  {
   "cell_type": "code",
   "execution_count": 218,
   "metadata": {},
   "outputs": [],
   "source": [
    "train = pd.read_csv('Higgs_train.csv')\n",
    "test = pd.read_csv('Higgs_test.csv')\n",
    "x = list(train.columns)\n",
    "x.remove(' class')\n",
    "X_train = train[x]\n",
    "X_test = test[x]\n",
    "y_train = train[' class']\n",
    "y_test = test[' class']"
   ]
  },
  {
   "cell_type": "code",
   "execution_count": 16,
   "metadata": {},
   "outputs": [
    {
     "data": {
      "text/plain": [
       "GridSearchCV(cv=5, error_score='raise',\n",
       "       estimator=DecisionTreeClassifier(class_weight=None, criterion='gini', max_depth=None,\n",
       "            max_features=None, max_leaf_nodes=None,\n",
       "            min_impurity_split=1e-07, min_samples_leaf=1,\n",
       "            min_samples_split=2, min_weight_fraction_leaf=0.0,\n",
       "            presort=False, random_state=None, splitter='best'),\n",
       "       fit_params={}, iid=True, n_jobs=1,\n",
       "       param_grid={'max_depth': [2, 3, 4, 5, 6, 7, 8, 9, 10, 11, 12, 13, 14, 15, 16, 17, 18, 19, 20, 21, 22, 23, 24, 25, 26, 27, 28, 29, 30, 31, 32, 33, 34, 35, 36, 37, 38, 39, 40, 41, 42, 43, 44, 45, 46, 47, 48, 49, 50, 51, 52, 53, 54, 55, 56, 57, 58, 59, 60, 61, 62, 63, 64, 65, 66, 67, 68, 69, 70, 71, 72, 73, 74, 75, 76, 77, 78, 79, 80, 81, 82, 83, 84, 85, 86, 87, 88, 89, 90, 91, 92, 93, 94, 95, 96, 97, 98, 99]},\n",
       "       pre_dispatch='2*n_jobs', refit=True, return_train_score=True,\n",
       "       scoring=None, verbose=0)"
      ]
     },
     "execution_count": 16,
     "metadata": {},
     "output_type": "execute_result"
    }
   ],
   "source": [
    "tree = DecisionTreeClassifier()\n",
    "# Use 5 fold cross validation to pick optimal tree depth\n",
    "parameter = {'max_depth': list(range(2,100))}\n",
    "tree_cv = GridSearchCV(tree, parameter, cv = 5)\n",
    "tree_cv.fit(X_train, y_train)"
   ]
  },
  {
   "cell_type": "code",
   "execution_count": 21,
   "metadata": {},
   "outputs": [
    {
     "data": {
      "text/plain": [
       "DecisionTreeClassifier(class_weight=None, criterion='gini', max_depth=5,\n",
       "            max_features=None, max_leaf_nodes=None,\n",
       "            min_impurity_split=1e-07, min_samples_leaf=1,\n",
       "            min_samples_split=2, min_weight_fraction_leaf=0.0,\n",
       "            presort=False, random_state=None, splitter='best')"
      ]
     },
     "execution_count": 21,
     "metadata": {},
     "output_type": "execute_result"
    }
   ],
   "source": [
    "tree_cv.best_estimator_"
   ]
  },
  {
   "cell_type": "code",
   "execution_count": 22,
   "metadata": {
    "collapsed": true
   },
   "outputs": [],
   "source": [
    "max_depth = 5"
   ]
  },
  {
   "cell_type": "code",
   "execution_count": 269,
   "metadata": {},
   "outputs": [
    {
     "name": "stdout",
     "output_type": "stream",
     "text": [
      "Train Score 0.682000\n",
      "Test Score 0.645400\n"
     ]
    }
   ],
   "source": [
    "print('Train Score %f' %tree_cv.score(X_train, y_train))\n",
    "print('Test Score %f' %tree_cv.score(X_test, y_test))"
   ]
  },
  {
   "cell_type": "markdown",
   "metadata": {},
   "source": [
    "## Question 2 (15pt): Dropout-based Approach\n",
    "We start with a simple method inspired from the idea of 'dropout' in machine learning, where we fit multiple decision trees on random subsets of predictors, and combine them through a majority vote. The procedure is described below.\n",
    "\n",
    "- For each predictor in the training sample, set the predictor values to 0 with probability $p$  (i.e. drop the predictor by setting it to 0). Repeat this for $B$ trials to create $B$ separate training sets.\n",
    "\n",
    "\n",
    "- Fit decision tree models $\\hat{h}^1(x), \\ldots, \\hat{h}^B(x) \\in \\{0,1\\}$ to the $B$ training sets. You may allow the trees to have unrestricted depth.\n",
    "\n",
    "- Combine the decision tree models into a single classifier by taking a majority vote:\n",
    "$$\n",
    "\\hat{H}_{maj}(x) \\,=\\, majority\\Big(\\hat{h}^1(x), \\ldots, \\hat{h}^B(x)\\Big).\n",
    "$$\n",
    "\n",
    "\n",
    "We shall refer to the combined classifier as an ** *ensemble classifier* **. Implement the described dropout approach, and answer the following questions:\n",
    "1. Apply the dropout procedure with $p = 0.5$ for different number of trees (say $2, 4, 8, 16, \\ldots, 256$), and evaluate the training and test accuracy of the combined classifier. Does an increase in the number of trees improve the training and test performance? Explain your observations in terms of the bias-variance trade-off for the classifier.\n",
    "- Fix the number of trees to 64 and apply the dropout procedure with different dropout rates $p = 0.1, 0.3, 0.5, 0.7, 0.9$. Based on your results, explain how the dropout rate influences the bias and variance of the combined classifier.\n",
    "- Apply 5-fold cross-validation to choose the optimal combination of the dropout rate and number of trees. How does the test performance of an ensemble of trees fitted with the optimal dropout rate and number of trees compare with the single decision tree model in Question 1?\n",
    "[hint: Training with large number of trees can take long time. You may need to restrict the max number of trees.]"
   ]
  },
  {
   "cell_type": "code",
   "execution_count": 214,
   "metadata": {},
   "outputs": [],
   "source": [
    "def ensemble_classifier (p , b , X_train = X_train  , y_train = y_train, X_test= X_test, y_test=y_test):\n",
    "    predictions_train = []\n",
    "    predictions_test = []\n",
    "    for i in range(b):\n",
    "        X_train_drop = X_train.applymap(lambda x: 0 if np.random.random() < p else x)\n",
    "        model = DecisionTreeClassifier(max_depth=max_depth)\n",
    "        model.fit(X_train_drop, y_train)\n",
    "        predictions_train.append(model.predict(X_train))\n",
    "        predictions_test.append(model.predict(X_test))\n",
    "    predictions_train = np.mean(predictions_train, axis=0).round()\n",
    "    predictions_test = np.mean(predictions_test, axis=0).round()\n",
    "    return (accuracy_score(y_train,predictions_train), accuracy_score(y_test,predictions_test))"
   ]
  },
  {
   "cell_type": "code",
   "execution_count": 215,
   "metadata": {},
   "outputs": [
    {
     "data": {
      "image/png": "[encoded data removed]",
      "text/plain": [
       "<matplotlib.figure.Figure at 0x11bbe92b0>"
      ]
     },
     "metadata": {},
     "output_type": "display_data"
    }
   ],
   "source": [
    "train_score = []\n",
    "test_score = []\n",
    "for i in np.power(2, list(range(1,9))):\n",
    "    train, test = ensemble_classifier(.5, i)\n",
    "    train_score.append(train)\n",
    "    test_score.append(test)\n",
    "plt.figure(figsize = (15,8))\n",
    "plt.plot(np.power(2, list(range(1,9))), train_score, label = 'train')\n",
    "plt.plot(np.power(2, list(range(1,9))), test_score, label = 'test')\n",
    "plt.title('Score VS Number of training sets')\n",
    "plt.xlabel('Number of training sets B')\n",
    "plt.ylabel('Classification accuracy')\n",
    "plt.legend()\n",
    "plt.show()"
   ]
  },
  {
   "cell_type": "markdown",
   "metadata": {},
   "source": [
    "#### 1. Does an increase in the number of trees improve the training and test performance? Explain your observations in terms of the bias-variance trade-off for the classifier.\n",
    "\n",
    "An increase in the number of trees increases variance, but reduces bias. There is very little difference that occurs past 50 trees. "
   ]
  },
  {
   "cell_type": "code",
   "execution_count": 216,
   "metadata": {},
   "outputs": [
    {
     "data": {
      "image/png": "[encoded data removed]",
      "text/plain": [
       "<matplotlib.figure.Figure at 0x11bb5c6d8>"
      ]
     },
     "metadata": {},
     "output_type": "display_data"
    }
   ],
   "source": [
    "train_score = []\n",
    "test_score = []\n",
    "for i in [0.1,0.3,0.5,0.7,0.9]:\n",
    "    train, test = ensemble_classifier(i, 64)\n",
    "    train_score.append(train)\n",
    "    test_score.append(test)   \n",
    "plt.figure(figsize = (15,8))\n",
    "plt.plot([0.1,0.3,0.5,0.7,0.9], train_score, label = 'train')\n",
    "plt.plot([0.1,0.3,0.5,0.7,0.9], test_score, label = 'test')\n",
    "plt.title('Score VS Dropout rate')\n",
    "plt.xlabel('Dropout rate p')\n",
    "plt.ylabel('Classification accuracy')\n",
    "plt.legend()\n",
    "plt.show()"
   ]
  },
  {
   "cell_type": "markdown",
   "metadata": {},
   "source": [
    "#### 2. explain how the dropout rate influences the bias and variance of the combined classifier.\n",
    "\n",
    "An increase in the dropout rate decreases variance but increases bias. This effect seems to increase in a faster non-linearly fashion as the dropout rate increases. "
   ]
  },
  {
   "cell_type": "code",
   "execution_count": 219,
   "metadata": {},
   "outputs": [
    {
     "name": "stdout",
     "output_type": "stream",
     "text": [
      "{'b': 2, 'p': 0.1, 'score': 0.64000000000000001}\n",
      "{'b': 2, 'p': 0.3, 'score': 0.63100000000000001}\n",
      "{'b': 2, 'p': 0.5, 'score': 0.61619999999999997}\n",
      "{'b': 2, 'p': 0.7, 'score': 0.59119999999999995}\n",
      "{'b': 2, 'p': 0.9, 'score': 0.51239999999999997}\n",
      "{'b': 4, 'p': 0.1, 'score': 0.64500000000000002}\n",
      "{'b': 4, 'p': 0.3, 'score': 0.6452}\n",
      "{'b': 4, 'p': 0.5, 'score': 0.63180000000000003}\n",
      "{'b': 4, 'p': 0.7, 'score': 0.61459999999999992}\n",
      "{'b': 4, 'p': 0.9, 'score': 0.51300000000000012}\n",
      "{'b': 8, 'p': 0.1, 'score': 0.64459999999999995}\n",
      "{'b': 8, 'p': 0.3, 'score': 0.64440000000000008}\n",
      "{'b': 8, 'p': 0.5, 'score': 0.63}\n",
      "{'b': 8, 'p': 0.7, 'score': 0.62840000000000007}\n",
      "{'b': 8, 'p': 0.9, 'score': 0.53220000000000012}\n",
      "{'b': 16, 'p': 0.1, 'score': 0.64660000000000006}\n",
      "{'b': 16, 'p': 0.3, 'score': 0.65080000000000005}\n",
      "{'b': 16, 'p': 0.5, 'score': 0.64300000000000002}\n",
      "{'b': 16, 'p': 0.7, 'score': 0.63200000000000001}\n",
      "{'b': 16, 'p': 0.9, 'score': 0.54120000000000001}\n",
      "{'b': 32, 'p': 0.1, 'score': 0.65180000000000005}\n",
      "{'b': 32, 'p': 0.3, 'score': 0.64759999999999995}\n",
      "{'b': 32, 'p': 0.5, 'score': 0.64939999999999998}\n",
      "{'b': 32, 'p': 0.7, 'score': 0.62560000000000004}\n",
      "{'b': 32, 'p': 0.9, 'score': 0.54420000000000002}\n",
      "{'b': 64, 'p': 0.1, 'score': 0.64739999999999998}\n",
      "{'b': 64, 'p': 0.3, 'score': 0.65180000000000005}\n",
      "{'b': 64, 'p': 0.5, 'score': 0.64359999999999995}\n",
      "{'b': 64, 'p': 0.7, 'score': 0.63100000000000001}\n",
      "{'b': 64, 'p': 0.9, 'score': 0.54679999999999995}\n",
      "{'b': 128, 'p': 0.1, 'score': 0.64820000000000011}\n",
      "{'b': 128, 'p': 0.3, 'score': 0.65100000000000002}\n",
      "{'b': 128, 'p': 0.5, 'score': 0.64279999999999993}\n",
      "{'b': 128, 'p': 0.7, 'score': 0.63}\n",
      "{'b': 128, 'p': 0.9, 'score': 0.53479999999999994}\n",
      "{'b': 256, 'p': 0.1, 'score': 0.64879999999999993}\n",
      "{'b': 256, 'p': 0.3, 'score': 0.65100000000000002}\n",
      "{'b': 256, 'p': 0.5, 'score': 0.64700000000000002}\n",
      "{'b': 256, 'p': 0.7, 'score': 0.63080000000000003}\n",
      "{'b': 256, 'p': 0.9, 'score': 0.53080000000000005}\n"
     ]
    }
   ],
   "source": [
    "kf = KFold(n_splits=5)\n",
    "parameters = {'p':[0.1,0.3,0.5,0.7,0.9], 'b':np.power(2, list(range(1,9)))}\n",
    "results = []\n",
    "for i in ParameterGrid(parameters):\n",
    "    scores = []\n",
    "    for train_index, test_index in kf.split(train):\n",
    "        train_set = train.iloc[train_index]\n",
    "        test_set = train.iloc[test_index]\n",
    "        yK = train_set[' class']\n",
    "        yK_test = test_set[' class']\n",
    "        xK = list(train_set.columns)\n",
    "        xK.remove(' class')\n",
    "        XK = train_set[xK]\n",
    "        XK_test = test_set[xK]\n",
    "        tr, score = ensemble_classifier(**i, X_train =XK, y_train = yK, X_test= XK_test, y_test=yK_test)\n",
    "        scores.append(score)\n",
    "    i['score'] = np.mean(scores)\n",
    "    print(i)\n",
    "    results.append(i)"
   ]
  },
  {
   "cell_type": "code",
   "execution_count": 233,
   "metadata": {},
   "outputs": [
    {
     "data": {
      "text/html": [
       "<div>\n",
       "<style>\n",
       "    .dataframe thead tr:only-child th {\n",
       "        text-align: right;\n",
       "    }\n",
       "\n",
       "    .dataframe thead th {\n",
       "        text-align: left;\n",
       "    }\n",
       "\n",
       "    .dataframe tbody tr th {\n",
       "        vertical-align: top;\n",
       "    }\n",
       "</style>\n",
       "<table border=\"1\" class=\"dataframe\">\n",
       "  <thead>\n",
       "    <tr style=\"text-align: right;\">\n",
       "      <th></th>\n",
       "      <th>b</th>\n",
       "      <th>p</th>\n",
       "      <th>score</th>\n",
       "    </tr>\n",
       "  </thead>\n",
       "  <tbody>\n",
       "    <tr>\n",
       "      <th>20</th>\n",
       "      <td>32</td>\n",
       "      <td>0.1</td>\n",
       "      <td>0.6518</td>\n",
       "    </tr>\n",
       "  </tbody>\n",
       "</table>\n",
       "</div>"
      ],
      "text/plain": [
       "     b    p   score\n",
       "20  32  0.1  0.6518"
      ]
     },
     "execution_count": 233,
     "metadata": {},
     "output_type": "execute_result"
    }
   ],
   "source": [
    "data = pd.DataFrame(results)\n",
    "data.sort_values('score', ascending = False).head(1)"
   ]
  },
  {
   "cell_type": "code",
   "execution_count": 234,
   "metadata": {},
   "outputs": [],
   "source": [
    "train_score, test_score = ensemble_classifier(.1,32)"
   ]
  },
  {
   "cell_type": "code",
   "execution_count": 235,
   "metadata": {},
   "outputs": [
    {
     "name": "stdout",
     "output_type": "stream",
     "text": [
      "Train Score 0.688000\n",
      "Test Score 0.659000\n"
     ]
    }
   ],
   "source": [
    "print('Train Score %f' %train_score)\n",
    "print('Test Score %f' %test_score)"
   ]
  },
  {
   "cell_type": "markdown",
   "metadata": {},
   "source": [
    "#### 3. Apply 5-fold cross-validation to choose the optimal combination of the dropout rate and number of trees. How does the test performance of an ensemble of trees fitted with the optimal dropout rate and number of trees compare with the single decision tree model in Question 1?\n",
    "\n",
    "Using 5-fold cross-validation we see that a $B = 32, p = 0.1$ is optimal. This model has a better train score (very small difference) and test score (comparitvely larger effect than train). "
   ]
  },
  {
   "cell_type": "markdown",
   "metadata": {},
   "source": [
    "## Question 3 (15pt): Random Forests\n",
    "\n",
    "We now move to a more sophisticated ensemble technique, namely random forest:\n",
    "1. How does a random forest approach differ from the dropout procedure described in Question 2? \n",
    " \n",
    "- Fit random forest models to the training set for different number of trees (say $2, 4, 8, 16, \\ldots, 256$), and evaluate the training and test accuracies of the models. You may set the number of predictors for each tree in the random forest model to $\\sqrt{p}$, where $p$ is the total number of predictors. \n",
    "\n",
    "- Based on your results, do you find that a larger number of trees necessarily improves the test accuracy of a random forest model? Explain how the number of trees effects the training and test accuracy of a random forest classifier, and how this relates to the bias-variance trade-off for the classifier. \n",
    "  \n",
    "- Fixing the number of trees to a reasonable value, apply 5-fold cross-validation to choose the optimal value for the  number of predictors. How does the test performance of random forest model fitted with the optimal number of trees compare with the dropout approach in Question 2?  \n",
    "\n",
    "\n",
    "\n"
   ]
  },
  {
   "cell_type": "markdown",
   "metadata": {},
   "source": [
    "#### 1. How does a random forest approach differ from the dropout procedure described in Question 2? \n",
    "In two ways 1. It uses bagging, so a bootstrap method is used for data selection rather than randomly dropping a precentage of the data 2. to decorollate trees, random forests then selects a random subset of the predictors to use in the creation of the tree that is then aggregated. "
   ]
  },
  {
   "cell_type": "code",
   "execution_count": 236,
   "metadata": {},
   "outputs": [
    {
     "data": {
      "image/png": "[encoded data removed]",
      "text/plain": [
       "<matplotlib.figure.Figure at 0x11bbde5f8>"
      ]
     },
     "metadata": {},
     "output_type": "display_data"
    }
   ],
   "source": [
    "train_score = []\n",
    "test_score = []\n",
    "for i in np.power(2, list(range(1,9))):\n",
    "    forest = RandomForestClassifier(i)\n",
    "    forest.fit(X_train, y_train)\n",
    "    train_score.append(forest.score(X_train, y_train))\n",
    "    test_score.append(forest.score(X_test, y_test))\n",
    "plt.figure(figsize = (15,8))\n",
    "plt.plot(np.power(2, list(range(1,9))), train_score, label = 'train')\n",
    "plt.plot(np.power(2, list(range(1,9))), test_score, label = 'test')\n",
    "plt.title('Score VS Number of trees')\n",
    "plt.xlabel('Number of Trees')\n",
    "plt.ylabel('Classification accuracy')\n",
    "plt.legend()\n",
    "plt.show()"
   ]
  },
  {
   "cell_type": "markdown",
   "metadata": {},
   "source": [
    "#### 3. Based on your results, do you find that a larger number of trees necessarily improves the test accuracy of a random forest model? Explain how the number of trees effects the training and test accuracy of a random forest classifier, and how this relates to the bias-variance trade-off for the classifier.\n",
    "\n",
    "It increases the test accuracy with more trees but to a point (more than 50 has very little return). Increased trees lowers bias with little apparant increase in variance. "
   ]
  },
  {
   "cell_type": "code",
   "execution_count": 238,
   "metadata": {},
   "outputs": [
    {
     "data": {
      "text/plain": [
       "GridSearchCV(cv=5, error_score='raise',\n",
       "       estimator=RandomForestClassifier(bootstrap=True, class_weight=None, criterion='gini',\n",
       "            max_depth=None, max_features='auto', max_leaf_nodes=None,\n",
       "            min_impurity_split=1e-07, min_samples_leaf=1,\n",
       "            min_samples_split=2, min_weight_fraction_leaf=0.0,\n",
       "            n_estimators=50, n_jobs=1, oob_score=False, random_state=None,\n",
       "            verbose=0, warm_start=False),\n",
       "       fit_params={}, iid=True, n_jobs=1,\n",
       "       param_grid={'max_features': [1, 2, 3, 4, 5, 6, 7, 8, 9, 10, 11, 12, 13, 14, 15, 16, 17, 18, 19, 20, 21, 22, 23, 24, 25, 26, 27, 28]},\n",
       "       pre_dispatch='2*n_jobs', refit=True, return_train_score=True,\n",
       "       scoring=None, verbose=0)"
      ]
     },
     "execution_count": 238,
     "metadata": {},
     "output_type": "execute_result"
    }
   ],
   "source": [
    "# Use 5 fold cross validation to number of predictors\n",
    "forest = RandomForestClassifier(50)\n",
    "parameter = {'max_features': list(range(1,29))}\n",
    "forest_cv = GridSearchCV(forest, parameter, cv = 5)\n",
    "forest_cv.fit(X_train, y_train)"
   ]
  },
  {
   "cell_type": "code",
   "execution_count": 239,
   "metadata": {},
   "outputs": [
    {
     "data": {
      "text/plain": [
       "RandomForestClassifier(bootstrap=True, class_weight=None, criterion='gini',\n",
       "            max_depth=None, max_features=7, max_leaf_nodes=None,\n",
       "            min_impurity_split=1e-07, min_samples_leaf=1,\n",
       "            min_samples_split=2, min_weight_fraction_leaf=0.0,\n",
       "            n_estimators=50, n_jobs=1, oob_score=False, random_state=None,\n",
       "            verbose=0, warm_start=False)"
      ]
     },
     "execution_count": 239,
     "metadata": {},
     "output_type": "execute_result"
    }
   ],
   "source": [
    "forest_cv.best_estimator_"
   ]
  },
  {
   "cell_type": "code",
   "execution_count": 241,
   "metadata": {},
   "outputs": [
    {
     "name": "stdout",
     "output_type": "stream",
     "text": [
      "Train Score = 0.999800\n",
      "Test Score = 0.695400\n"
     ]
    }
   ],
   "source": [
    "print('Train Score = %f'%forest_cv.score(X_train, y_train))\n",
    "print('Test Score = %f'%forest_cv.score(X_test, y_test))"
   ]
  },
  {
   "cell_type": "markdown",
   "metadata": {},
   "source": [
    "#### 4.Fixing the number of trees to a reasonable value, apply 5-fold cross-validation to choose the optimal value for the number of predictors. How does the test performance of random forest model fitted with the optimal number of trees compare with the dropout approach in Question 2?\n",
    "\n",
    "The optimal values for number of predictors is 7, and this model has a much better train and test score when compared to the drop out approach"
   ]
  },
  {
   "cell_type": "markdown",
   "metadata": {},
   "source": [
    "## Question 4 (15pt): Boosting\n",
    "\n",
    "We next compare the random forest model with the approach of boosting:\n",
    "\n",
    "\n",
    "1. Apply the AdaBoost algorithm to fit an ensemble of decision trees. Set the learning rate to 0.05, and try out different tree depths for the base learners: 1, 2, 10, and unrestricted depth.  Make a plot of the training accuracy of the ensemble classifier as a function of tree depths. Make a similar plot of the test accuracies as a function of number of trees (say $2, 4, 8, 16, \\ldots, 256$).\n",
    "- How does the number of trees influence the training and test performance? Compare and contrast between the trends you see in the training and test performance of AdaBoost and that of the random forest models in Question 3. Give an explanation for your observations.\n",
    "- How does the tree depth of the base learner impact the training and test performance? Recall that with random forests, we allow the depth of the individual trees to be unrestricted. Would you recommend the same strategy for boosting? Explain your answer.\n",
    "- Apply 5-fold cross-validation to choose the optimal number of trees $B$ for the ensemble and the optimal tree depth for the base learners. How does an ensemble classifier fitted with the optimal number of trees and the optimal tree depth compare with the random forest model fitted in Question 3.4? \n",
    "\n"
   ]
  },
  {
   "cell_type": "code",
   "execution_count": 261,
   "metadata": {},
   "outputs": [],
   "source": [
    "train_score = []\n",
    "test_score = []\n",
    "for i in [1,2,3,4,5,10,15,20,25,None]:\n",
    "    adaboost = AdaBoostClassifier(DecisionTreeClassifier(max_depth=i), learning_rate=0.05)\n",
    "    adaboost.fit(X_train, y_train)\n",
    "    train_score.append(adaboost.score(X_train, y_train))\n",
    "    test_score.append(adaboost.score(X_test, y_test))"
   ]
  },
  {
   "cell_type": "code",
   "execution_count": 264,
   "metadata": {},
   "outputs": [
    {
     "data": {
      "image/png": "[encoded data removed]",
      "text/plain": [
       "<matplotlib.figure.Figure at 0x112f36668>"
      ]
     },
     "metadata": {},
     "output_type": "display_data"
    }
   ],
   "source": [
    "plt.figure(figsize = (15,8))\n",
    "plt.plot([1,2,3,4,5,10,15,20,25,30], train_score, label = 'train')\n",
    "plt.plot([1,2,3,4,5,10,15,20,25,30], test_score, label = 'test')\n",
    "plt.title('Score VS Max Tree Depth')\n",
    "plt.xlabel('Max Depth')\n",
    "plt.xticks([1,2,3,4,5,10,15,20,25,30], [1,2,3,4,5,10,15,20,25,'Unrestricted'])\n",
    "plt.ylabel('Classification accuracy')\n",
    "plt.legend()\n",
    "plt.show()"
   ]
  },
  {
   "cell_type": "code",
   "execution_count": 272,
   "metadata": {},
   "outputs": [
    {
     "data": {
      "image/png": "[encoded data removed]",
      "text/plain": [
       "<matplotlib.figure.Figure at 0x11b67dd30>"
      ]
     },
     "metadata": {},
     "output_type": "display_data"
    }
   ],
   "source": [
    "train_score = []\n",
    "test_score = []\n",
    "for i in np.power(2, list(range(1,9))):\n",
    "    adaboost = AdaBoostClassifier(DecisionTreeClassifier(max_depth = max_depth), learning_rate=0.05, n_estimators=i)\n",
    "    adaboost.fit(X_train, y_train)\n",
    "    train_score.append(adaboost.score(X_train, y_train))\n",
    "    test_score.append(adaboost.score(X_test, y_test))\n",
    "plt.figure(figsize = (15,8))\n",
    "plt.plot(np.power(2, list(range(1,9))), train_score, label = 'train')\n",
    "plt.plot(np.power(2, list(range(1,9))), test_score, label = 'test')\n",
    "plt.title('Score VS Number of trees')\n",
    "plt.xlabel('Number of Trees')\n",
    "plt.ylabel('Classification accuracy')\n",
    "plt.legend()\n",
    "plt.show()"
   ]
  },
  {
   "cell_type": "markdown",
   "metadata": {},
   "source": [
    "#### 2. How does the number of trees influence the training and test performance? Compare and contrast between the trends you see in the training and test performance of AdaBoost and that of the random forest models in Question 3. Give an explanation for your observations.\n",
    "\n",
    "Increasd number of trees decreases bias to a point (around 75) whilst increasing variance. The adaboost model has much lower variance at low numbers of trees (less than 50) compared to the random forests model, but the training model has much higher bias. The test performance for the adaboost and random forest model seems very similar. "
   ]
  },
  {
   "cell_type": "markdown",
   "metadata": {},
   "source": [
    "#### 3. How does the tree depth of the base learner impact the training and test performance? Recall that with random forests, we allow the depth of the individual trees to be unrestricted. Would you recommend the same strategy for boosting? Explain your answer.\n",
    "\n",
    "Tree depth improves training and test performance but only up to a point (around 3) afterwhich the variance increase dramatically and so does the bias. I would not recommend unrestricting tree depth as this is causing overfitting to the training data. Fitting to residuals with unrestricted depths starts to fit the model to the variance, causing overfitting."
   ]
  },
  {
   "cell_type": "code",
   "execution_count": 265,
   "metadata": {},
   "outputs": [
    {
     "data": {
      "text/plain": [
       "GridSearchCV(cv=5, error_score='raise',\n",
       "       estimator=AdaBoostClassifier(algorithm='SAMME.R',\n",
       "          base_estimator=DecisionTreeClassifier(class_weight=None, criterion='gini', max_depth=None,\n",
       "            max_features=None, max_leaf_nodes=None,\n",
       "            min_impurity_split=1e-07, min_samples_leaf=1,\n",
       "            min_samples_split=2, min_weight_fraction_leaf=0.0,\n",
       "            presort=False, random_state=None, splitter='best'),\n",
       "          learning_rate=0.05, n_estimators=50, random_state=None),\n",
       "       fit_params={}, iid=True, n_jobs=1,\n",
       "       param_grid={'base_estimator__max_depth': [1, 2, 3, 4, 5, 6, 7, 8, 9], 'n_estimators': array([  2,   4,   8,  16,  32,  64, 128, 256])},\n",
       "       pre_dispatch='2*n_jobs', refit=True, return_train_score=True,\n",
       "       scoring=None, verbose=0)"
      ]
     },
     "execution_count": 265,
     "metadata": {},
     "output_type": "execute_result"
    }
   ],
   "source": [
    "# Use 5 fold cross validation to pick number of trees and tree depth\n",
    "adaboost = AdaBoostClassifier(DecisionTreeClassifier(), learning_rate=0.05)\n",
    "parameter = {'base_estimator__max_depth':list(range(1,10)), 'n_estimators': np.power(2, list(range(1,9))) }\n",
    "adaboost_cv = GridSearchCV(adaboost, parameter, cv = 5)\n",
    "adaboost_cv.fit(X_train, y_train)"
   ]
  },
  {
   "cell_type": "code",
   "execution_count": 267,
   "metadata": {},
   "outputs": [
    {
     "data": {
      "text/plain": [
       "AdaBoostClassifier(algorithm='SAMME.R',\n",
       "          base_estimator=DecisionTreeClassifier(class_weight=None, criterion='gini', max_depth=2,\n",
       "            max_features=None, max_leaf_nodes=None,\n",
       "            min_impurity_split=1e-07, min_samples_leaf=1,\n",
       "            min_samples_split=2, min_weight_fraction_leaf=0.0,\n",
       "            presort=False, random_state=None, splitter='best'),\n",
       "          learning_rate=0.05, n_estimators=256, random_state=None)"
      ]
     },
     "execution_count": 267,
     "metadata": {},
     "output_type": "execute_result"
    }
   ],
   "source": [
    "adaboost_cv.best_estimator_"
   ]
  },
  {
   "cell_type": "code",
   "execution_count": 280,
   "metadata": {},
   "outputs": [
    {
     "name": "stdout",
     "output_type": "stream",
     "text": [
      "Train Score = 0.740200\n",
      "Test Score = 0.694000\n"
     ]
    }
   ],
   "source": [
    "print('Train Score = %f'%adaboost_cv.score(X_train, y_train))\n",
    "print('Test Score = %f'%adaboost_cv.score(X_test, y_test))"
   ]
  },
  {
   "cell_type": "markdown",
   "metadata": {},
   "source": [
    "#### 4. Apply 5-fold cross-validation to choose the optimal number of trees  B for the ensemble and the optimal tree depth for the base learners. How does an ensemble classifier fitted with the optimal number of trees and the optimal tree depth compare with the random forest model fitted in Question 3.4?\n",
    "\n",
    "The optimal number of trees is $B = 256$ and the optimal max_depth is 2. This model has a worse training performance and a very slightly worse test preformance which is strange as our expectation would be improved performance with adaboosting"
   ]
  },
  {
   "cell_type": "markdown",
   "metadata": {},
   "source": [
    "## Question 5 (3pt): Meta-classifier\n",
    "\n",
    "We have so far explored techniques that grow a collection of trees either by creating multiple copies of the original training set, or through a sequential procedure, and then combines these trees into a single classifier. Consider an alternate scenario where you are provided with a pre-trained collection of trees, say from different participants of a data science competition for Higgs boson discovery. What would be a good strategy to combine these pre-fitted trees into a single powerful classifier? Of course, a simple approach would be to take the majority vote from the individual trees. Can we do better than this simple combination strategy?\n",
    "\n",
    "A collection of 100 decision tree classifiers is provided in the file `models.npy` and can be loaded into an array by executing:\n",
    "\n",
    "`models = np.load('models.npy')`\n",
    "\n",
    "You can make predictions using the $i^\\text{th}$ model on an array of predictors `x` by executing:\n",
    "\n",
    "`model[i].predict(x)`  &nbsp;&nbsp;&nbsp;\n",
    "or &nbsp;&nbsp;&nbsp;\n",
    "`model[i].predict_proba(x)`\n",
    "\n",
    "and score the model on predictors `x` and labels `y` by using:\n",
    "\n",
    "`model[i].score(x, y)`.\n",
    "\n",
    "1. Implement a strategy to combine the provided decision tree classifiers, and compare the test perfomance of your approach with the majority vote classifier. Explain your strategy/algorithm.\n",
    "\n"
   ]
  },
  {
   "cell_type": "code",
   "execution_count": 286,
   "metadata": {},
   "outputs": [],
   "source": [
    "models = np.load('models.npy', encoding='latin1')"
   ]
  },
  {
   "cell_type": "code",
   "execution_count": 304,
   "metadata": {},
   "outputs": [],
   "source": [
    "scores = list(map(lambda x: x.score(X_train, y_train), models))\n",
    "weights = list(map(lambda x:(x-min(scores))/(max(scores)-min(scores)), scores)) "
   ]
  },
  {
   "cell_type": "code",
   "execution_count": 343,
   "metadata": {},
   "outputs": [],
   "source": [
    "predictions_train = []\n",
    "predictions_test = []\n",
    "for model in models:\n",
    "    predictions_train.append(model.predict(X_train))\n",
    "    predictions_test.append(model.predict(X_test))\n",
    "X_train_meta = np.matrix(predictions_train).T\n",
    "X_test_meta = np.matrix(predictions_test).T"
   ]
  },
  {
   "cell_type": "code",
   "execution_count": 389,
   "metadata": {},
   "outputs": [
    {
     "name": "stdout",
     "output_type": "stream",
     "text": [
      "Majority vote Train Score = 0.657800\n",
      "Majority vote Test Score = 0.664600\n"
     ]
    }
   ],
   "source": [
    "print('Majority vote Train Score = %f'%accuracy_score(y_train,np.mean(predictions_train, axis = 0).round()))\n",
    "print('Majority vote Test Score = %f'%accuracy_score(y_test,np.mean(predictions_test, axis = 0).round()))"
   ]
  },
  {
   "cell_type": "code",
   "execution_count": 374,
   "metadata": {},
   "outputs": [
    {
     "data": {
      "text/plain": [
       "GridSearchCV(cv=3, error_score='raise',\n",
       "       estimator=AdaBoostClassifier(algorithm='SAMME.R',\n",
       "          base_estimator=DecisionTreeClassifier(class_weight=None, criterion='gini', max_depth=None,\n",
       "            max_features=None, max_leaf_nodes=None,\n",
       "            min_impurity_split=1e-07, min_samples_leaf=1,\n",
       "            min_samples_split=2, min_weight_fraction_leaf=0.0,\n",
       "            presort=False, random_state=None, splitter='best'),\n",
       "          learning_rate=0.05, n_estimators=50, random_state=None),\n",
       "       fit_params={}, iid=True, n_jobs=1,\n",
       "       param_grid={'base_estimator__max_depth': [1, 2, 3, 4], 'n_estimators': array([  2,   4,   8,  16,  32,  64, 128, 256])},\n",
       "       pre_dispatch='2*n_jobs', refit=True, return_train_score=True,\n",
       "       scoring=None, verbose=0)"
      ]
     },
     "execution_count": 374,
     "metadata": {},
     "output_type": "execute_result"
    }
   ],
   "source": [
    "adaboost = AdaBoostClassifier(DecisionTreeClassifier(), learning_rate=0.05)\n",
    "parameter = {'base_estimator__max_depth':list(range(1,5)), 'n_estimators': np.power(2, list(range(1,9))) }\n",
    "adaboost_cv = GridSearchCV(adaboost, parameter, cv = 3)\n",
    "adaboost_cv.fit(X_train_meta, y_train)"
   ]
  },
  {
   "cell_type": "code",
   "execution_count": 390,
   "metadata": {},
   "outputs": [
    {
     "name": "stdout",
     "output_type": "stream",
     "text": [
      "Meta Classifier Train Score = 0.697600\n",
      "Meta Classifier Test Score = 0.686000\n"
     ]
    }
   ],
   "source": [
    "print('Meta Classifier Train Score = %f'%adaboost_cv.score(X_train_meta, y_train))\n",
    "print('Meta Classifier Test Score = %f'%adaboost_cv.score(X_test_meta, y_test))"
   ]
  },
  {
   "cell_type": "markdown",
   "metadata": {},
   "source": [
    "The stacked method performs better than the majority vote for both the training and test set. The stacked method I chose takes the predicted classifications of all of the models and builds predictors out of them. A random forests model with adaboosting which has its tree depth and number of trees tuned using cross validation is then used on the new set of predictors to create the final stacked model. "
   ]
  }
 ],
 "metadata": {
  "anaconda-cloud": {},
  "kernelspec": {
   "display_name": "Python 3",
   "language": "python",
   "name": "python3"
  },
  "language_info": {
   "codemirror_mode": {
    "name": "ipython",
    "version": 3
   },
   "file_extension": ".py",
   "mimetype": "text/x-python",
   "name": "python",
   "nbconvert_exporter": "python",
   "pygments_lexer": "ipython3",
   "version": "3.6.1"
  },
  "latex_envs": {
   "bibliofile": "biblio.bib",
   "cite_by": "apalike",
   "current_citInitial": 1,
   "eqLabelWithNumbers": true,
   "eqNumInitial": 0
  }
 },
 "nbformat": 4,
 "nbformat_minor": 1
}
